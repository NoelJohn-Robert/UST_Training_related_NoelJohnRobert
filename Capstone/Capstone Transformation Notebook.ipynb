{
 "cells": [
  {
   "cell_type": "code",
   "execution_count": null,
   "metadata": {
    "application/vnd.databricks.v1+cell": {
     "cellMetadata": {
      "byteLimit": 2048000,
      "rowLimit": 10000
     },
     "inputWidgets": {},
     "nuid": "0cbcbdf8-deab-43c1-b104-e46e908e73ba",
     "showTitle": false,
     "tableResultSettingsMap": {},
     "title": ""
    }
   },
   "outputs": [],
   "source": [
    "from pyspark.sql.types import *\n",
    "from pyspark.sql.functions import *"
   ]
  },
  {
   "cell_type": "code",
   "execution_count": null,
   "metadata": {
    "application/vnd.databricks.v1+cell": {
     "cellMetadata": {
      "byteLimit": 2048000,
      "rowLimit": 10000
     },
     "inputWidgets": {},
     "nuid": "bb1bbf80-85f1-429d-abf0-5cc2ef3bb479",
     "showTitle": false,
     "tableResultSettingsMap": {},
     "title": ""
    }
   },
   "outputs": [],
   "source": [
    "from pyspark.sql import SparkSession\n",
    "\n",
    "# Create a Spark session with case sensitivity enabled\n",
    "spark = SparkSession.builder \\\n",
    "    .appName(\"Capstone Project\") \\\n",
    "    .config(\"spark.sql.caseSensitive\", \"true\") \\\n",
    "    .getOrCreate()"
   ]
  },
  {
   "cell_type": "code",
   "execution_count": null,
   "metadata": {
    "application/vnd.databricks.v1+cell": {
     "cellMetadata": {
      "byteLimit": 2048000,
      "rowLimit": 10000
     },
     "inputWidgets": {},
     "nuid": "bfa82aa0-d237-4662-9e8d-46b2d5d547ab",
     "showTitle": false,
     "tableResultSettingsMap": {},
     "title": ""
    }
   },
   "outputs": [],
   "source": [
    "cosmos_endpoint = \"https://capstone-cosmosdb-noel.documents.azure.com:443/\"\n",
    "cosmos_master_key = \"\"\n",
    "database_name = \"capstone_cosmos_database\"\n",
    "zomato_delivery_operational_analytics_container = \"zomato_delivery_operational_analytics_container\"\n",
    "zomato_dataset_metropolitan_container = \"zomato_dataset_metropolitan_container\"\n",
    "\n",
    "\n",
    "spark.conf.set(\"spark.cosmos.accountEndpoint\", cosmos_endpoint)\n",
    "spark.conf.set(\"spark.cosmos.accountKey\", cosmos_master_key)\n",
    "spark.conf.set(\"spark.cosmos.database\", database_name)"
   ]
  },
  {
   "cell_type": "code",
   "execution_count": null,
   "metadata": {
    "application/vnd.databricks.v1+cell": {
     "cellMetadata": {
      "byteLimit": 2048000,
      "rowLimit": 10000
     },
     "inputWidgets": {},
     "nuid": "48ec8ea7-e96f-4a88-a7b3-4d146cd8fd3b",
     "showTitle": false,
     "tableResultSettingsMap": {},
     "title": ""
    }
   },
   "outputs": [
    {
     "name": "stdout",
     "output_type": "stream",
     "text": [
      "8\n"
     ]
    }
   ],
   "source": [
    "num_partition = spark.sparkContext.defaultParallelism\n",
    "print(num_partition)"
   ]
  },
  {
   "cell_type": "markdown",
   "metadata": {
    "application/vnd.databricks.v1+cell": {
     "cellMetadata": {
      "byteLimit": 2048000,
      "rowLimit": 10000
     },
     "inputWidgets": {},
     "nuid": "0df4dd6d-6c5d-42aa-a59d-ab271bcb8f2c",
     "showTitle": false,
     "tableResultSettingsMap": {},
     "title": ""
    }
   },
   "source": [
    "### retreiving data from zomato_delivery_operational_analytics_container"
   ]
  },
  {
   "cell_type": "code",
   "execution_count": null,
   "metadata": {
    "application/vnd.databricks.v1+cell": {
     "cellMetadata": {
      "byteLimit": 2048000,
      "rowLimit": 10000
     },
     "inputWidgets": {},
     "nuid": "9e6ed6ce-cfb0-4ced-929a-c0d7a01be1d0",
     "showTitle": false,
     "tableResultSettingsMap": {},
     "title": ""
    }
   },
   "outputs": [
    {
     "name": "stdout",
     "output_type": "stream",
     "text": [
      "+------+-----------------+-----------+-------------------+--------------------+---------------------------+-----------------------+-----------------+-------------------+--------------------------+--------------------+--------------------+-------------+-------------+----------------+------------------+----------------+----------+-------------------+------------------+--------+\n",
      "|    ID|Time_Order_picked|Time_Orderd|Restaurant_latitude|Restaurant_longitude|Delivery_location_longitude|Delivery_person_Ratings|Vehicle_condition|Delivery_person_Age|Delivery_location_latitude|Road_traffic_density|                  id|Type_of_order|         City|Time_taken (min)|Delivery_person_ID| Type_of_vehicle|Order_Date|multiple_deliveries|Weather_conditions|Festival|\n",
      "+------+-----------------+-----------+-------------------+--------------------+---------------------------+-----------------------+-----------------+-------------------+--------------------------+--------------------+--------------------+-------------+-------------+----------------+------------------+----------------+----------+-------------------+------------------+--------+\n",
      "|0xd255|            10:30|      10:20|          25.449659|           81.839744|                  81.859744|                    4.8|                2|                 21|                 25.469659|                 Low|6e9a8aed-e56d-4e3...|         Meal|Metropolitian|              14|     ALHRES07DEL02|electric_scooter|15-02-2022|                  0|        Sandstorms|      No|\n",
      "|0x144d|            10:05|0.416666667|          22.753839|           75.897429|                  75.917429|                    4.8|                2|                 22|                 22.773839|                 Low|e7a39189-1754-4b4...|       Drinks|          NaN|              19|    INDORES18DEL02|      motorcycle|01-04-2022|                  1|            Stormy|      No|\n",
      "|0xd27b|            22:40|      22:30|          19.876106|           75.340775|                  75.470775|                    4.5|                2|                 29|                 20.006106|                 Low|251dbcd5-793f-46f...|         Meal|Metropolitian|              15|    AURGRES04DEL02|      motorcycle|18-02-2022|                  1|        Sandstorms|      No|\n",
      "|0x9e5a|            22:30|      22:20|          26.911927|           75.797282|                  75.857282|                    4.5|                2|                 29|                 26.971927|                 Low|df0e9f0d-1cfd-46a...|         Meal|          NaN|              12|     JAPRES06DEL03|         scooter|05-04-2022|                  0|               Fog|      No|\n",
      "|0x59e5|            23:35|      23:30|          21.170096|           72.789122|                  72.839122|                    4.5|                0|                 37|                 21.220096|                 Low|b42ee758-9f0b-49d...|       Buffet|        Urban|              26|     SURRES13DEL02|      motorcycle|11-03-2022|                  1|               Fog|      No|\n",
      "|0x8de9|            23:30|      23:20|          21.157729|           72.768726|                  72.858726|                    4.9|                2|                 21|                 21.247729|                 Low|78b5e4ae-d837-454...|       Buffet|          NaN|              21|     SURRES14DEL03|         scooter|20-03-2022|                  1|               Fog|      No|\n",
      "|0x77b5|            08:40|      08:25|          17.428294|           78.404423|                  78.424423|                    4.8|                0|                 28|                 17.448294|                 Low|91e6b801-4426-431...|       Buffet|Metropolitian|              23|    HYDRES010DEL02|      motorcycle|01-03-2022|                  1|               Fog|      No|\n",
      "|0xbe78|            22:40|      22:25|          12.975377|           77.696664|                  77.776664|                    4.5|                1|                 29|                 13.055377|                 Low|2934a431-318c-4c7...|        Snack|        Urban|              13|    BANGRES15DEL02|         scooter|31-03-2022|                  0|             Windy|      No|\n",
      "|0xa4eb|            09:45|      09:40|          12.933284|           77.615428|                  77.635428|                    4.8|                1|                 22|                 12.953284|                 Low|3700e399-2e9e-406...|       Drinks|Metropolitian|              18|    BANGRES01DEL02|      motorcycle|26-03-2022|                  1|             Sunny|      No|\n",
      "|0x8366|            23:05|0.958333333|          12.297954|           76.665169|                  76.695169|                    4.6|                1|                 22|                 12.327954|                 Low|fbeebba7-4ad9-40a...|       Buffet|Metropolitian|              19|     MYSRES08DEL03|      motorcycle|05-03-2022|                  1|             Windy|      No|\n",
      "|0x8f58|            10:55|      10:40|          22.308096|           73.167753|                  73.177753|                    4.6|                0|                 30|                 22.318096|                 Low|c7d39f61-1712-43d...|       Buffet|        Urban|              24|     VADRES11DEL01|      motorcycle|13-03-2022|                  0|            Cloudy|      No|\n",
      "|0x1b40|            23:15|      23:10|          12.304569|           76.643622|                  76.703622|                    4.2|                0|                 34|                 12.364569|                 Low|92d8a5d4-f45d-4ce...|        Snack|        Urban|              24|     MYSRES02DEL03|      motorcycle|13-03-2022|                  0|             Windy|      No|\n",
      "|0x3376|            09:45|      09:30|          19.003517|            72.82765|                   72.83765|                    4.8|                1|                 20|                 19.013517|                 Low|0b062eae-e767-43d...|        Snack|        Urban|              16|    MUMRES010DEL01|      motorcycle|09-03-2022|                  1|            Cloudy|      No|\n",
      "|0xbecb|            22:50|      22:40|          21.160522|           72.771477|                  72.821477|                    4.9|                1|                 33|                 21.210522|                 Low|b84228e4-73d6-4ed...|       Drinks|Metropolitian|              26|     SURRES15DEL02|      motorcycle|05-04-2022|                  1|             Windy|      No|\n",
      "|0x26d4|         24:10:00|      23:55|          17.433809|           78.386744|                  78.476744|                    4.9|                1|                 32|                 17.523809|                 Low|4d1800ee-deeb-433...|       Buffet|Metropolitian|              24|     HYDRES05DEL03|         scooter|18-03-2022|                  1|        Sandstorms|      No|\n",
      "|0x2a01|            09:10|      0.375|          13.026286|           80.275235|                  80.295235|                    4.7|                0|                 32|                 13.046286|                 Low|b3a3f155-4f7d-42b...|       Drinks|Metropolitian|              26|    CHENRES15DEL02|      motorcycle|26-03-2022|                  0|            Cloudy|      No|\n",
      "| 0x73c|            22:40|        NaN|                  0|                   0|                       0.03|                    NaN|                0|                NaN|                      0.03|                 Low|4be6c058-e88d-4db...|         Meal|Metropolitian|              26|     VADRES12DEL03|      motorcycle|05-03-2022|                  1|               Fog|      No|\n",
      "|0x9c2a|            08:25|      08:20|          26.849596|           75.800512|                  75.810512|                      5|                2|                 36|                 26.859596|                 Low|16ee9030-20ba-4b2...|         Meal|        Urban|              15|     JAPRES16DEL01|         scooter|15-03-2022|                  1|               Fog|      No|\n",
      "|0x31bd|            11:05|0.458333333|          12.934179|           77.615797|                  77.635797|                    4.8|                1|                 28|                 12.954179|                 Low|cae757bc-cb9d-405...|       Buffet|        Urban|              18|    BANGRES09DEL02|         scooter|17-03-2022|                  1|             Sunny|      No|\n",
      "|0xa200|            22:30|      22:25|          21.170798|           72.790489|                  72.900489|                    4.7|                0|                 30|                 21.280798|                 Low|896abd97-765e-42a...|       Drinks|Metropolitian|              24|     SURRES07DEL01|      motorcycle|29-03-2022|                  1|             Windy|      No|\n",
      "+------+-----------------+-----------+-------------------+--------------------+---------------------------+-----------------------+-----------------+-------------------+--------------------------+--------------------+--------------------+-------------+-------------+----------------+------------------+----------------+----------+-------------------+------------------+--------+\n",
      "only showing top 20 rows\n",
      "\n"
     ]
    }
   ],
   "source": [
    "spark.conf.set(\"spark.cosmos.container\", zomato_delivery_operational_analytics_container)\n",
    "\n",
    "zomato_delivery_operational_analytics_df = spark.read.format(\"cosmos.oltp\") \\\n",
    "    .option(\"spark.cosmos.accountEndpoint\", cosmos_endpoint) \\\n",
    "    .option(\"spark.cosmos.accountKey\", cosmos_master_key) \\\n",
    "    .option(\"spark.cosmos.database\", database_name) \\\n",
    "    .option(\"spark.cosmos.container\", zomato_delivery_operational_analytics_container) \\\n",
    "    .load()\n",
    " \n",
    "zomato_delivery_operational_analytics_df.show()"
   ]
  },
  {
   "cell_type": "code",
   "execution_count": null,
   "metadata": {
    "application/vnd.databricks.v1+cell": {
     "cellMetadata": {
      "byteLimit": 2048000,
      "rowLimit": 10000
     },
     "inputWidgets": {},
     "nuid": "3108bcca-213c-4ae4-b466-ef953a95a9c3",
     "showTitle": false,
     "tableResultSettingsMap": {},
     "title": ""
    }
   },
   "outputs": [
    {
     "name": "stdout",
     "output_type": "stream",
     "text": [
      "Out[6]: 44983"
     ]
    }
   ],
   "source": [
    "zomato_delivery_operational_analytics_df_modified = zomato_delivery_operational_analytics_df.repartition(num_partition)\n",
    "zomato_delivery_operational_analytics_df_modified.cache()\n",
    "zomato_delivery_operational_analytics_df_modified.count()"
   ]
  },
  {
   "cell_type": "code",
   "execution_count": null,
   "metadata": {
    "application/vnd.databricks.v1+cell": {
     "cellMetadata": {
      "byteLimit": 2048000,
      "rowLimit": 10000
     },
     "inputWidgets": {},
     "nuid": "642f8b48-2436-4633-b754-c6eec78a05cf",
     "showTitle": false,
     "tableResultSettingsMap": {},
     "title": ""
    }
   },
   "outputs": [
    {
     "name": "stdout",
     "output_type": "stream",
     "text": [
      "+---+-----------------+-----------+-------------------+--------------------+---------------------------+-----------------------+-----------------+-------------------+--------------------------+--------------------+---+-------------+----+----------------+------------------+---------------+----------+-------------------+------------------+--------+\n",
      "| ID|Time_Order_picked|Time_Orderd|Restaurant_latitude|Restaurant_longitude|Delivery_location_longitude|Delivery_person_Ratings|Vehicle_condition|Delivery_person_Age|Delivery_location_latitude|Road_traffic_density| id|Type_of_order|City|Time_taken (min)|Delivery_person_ID|Type_of_vehicle|Order_Date|multiple_deliveries|Weather_conditions|Festival|\n",
      "+---+-----------------+-----------+-------------------+--------------------+---------------------------+-----------------------+-----------------+-------------------+--------------------------+--------------------+---+-------------+----+----------------+------------------+---------------+----------+-------------------+------------------+--------+\n",
      "|  0|                0|          0|                  0|                   0|                          0|                      0|                0|                  0|                         0|                   0|  0|            0|   0|               0|                 0|              0|         0|                  0|                 0|       0|\n",
      "+---+-----------------+-----------+-------------------+--------------------+---------------------------+-----------------------+-----------------+-------------------+--------------------------+--------------------+---+-------------+----+----------------+------------------+---------------+----------+-------------------+------------------+--------+\n",
      "\n"
     ]
    }
   ],
   "source": [
    "zomato_delivery_operational_analytics_df_modified.select([count(when(isnull(col), col)).alias(col) for col in zomato_delivery_operational_analytics_df_modified.columns]).show()"
   ]
  },
  {
   "cell_type": "markdown",
   "metadata": {
    "application/vnd.databricks.v1+cell": {
     "cellMetadata": {
      "byteLimit": 2048000,
      "rowLimit": 10000
     },
     "inputWidgets": {},
     "nuid": "c358b704-b079-443c-a994-f6c3385132df",
     "showTitle": false,
     "tableResultSettingsMap": {},
     "title": ""
    }
   },
   "source": [
    "### retreiving data from zomato_dataset_metropolitan_container"
   ]
  },
  {
   "cell_type": "code",
   "execution_count": null,
   "metadata": {
    "application/vnd.databricks.v1+cell": {
     "cellMetadata": {
      "byteLimit": 2048000,
      "rowLimit": 10000
     },
     "inputWidgets": {},
     "nuid": "c427e869-e13f-4242-8e8d-31b12965ddce",
     "showTitle": false,
     "tableResultSettingsMap": {},
     "title": ""
    }
   },
   "outputs": [
    {
     "name": "stdout",
     "output_type": "stream",
     "text": [
      "+---------------+--------------------+-------------+------------+-------------+-----+------+------------+--------------+--------------------+----------+--------------------+--------------+\n",
      "|Delivery Rating|           Item Name|Dining Rating|    Cuisine |   Place Name|Votes|Prices|Dining Votes|Delivery Votes|                  id|      City|     Restaurant Name|   Best Seller|\n",
      "+---------------+--------------------+-------------+------------+-------------+-----+------+------------+--------------+--------------------+----------+--------------------+--------------+\n",
      "|            3.8|   Chicken Sandwhich|          3.7|       Shake|      Chembur|    0|   129|          16|           330|ae8cbb7b-b8d5-4a8...|    Mumbai|        Shivsu Pizza|          null|\n",
      "|            3.8|Chilli Cheese Toa...|          3.7|       Shake|      Chembur|    0|   139|          16|           330|af779ee1-9310-4ae...|    Mumbai|        Shivsu Pizza|          null|\n",
      "|            3.8|      Pepper Chicken|          3.7|       Shake|      Chembur|    0|   229|          16|           330|025fd56a-4229-43f...|    Mumbai|        Shivsu Pizza|          null|\n",
      "|            3.8|Paneer Schezwan P...|          3.7|       Shake|      Chembur|    0|   199|          16|           330|94e31327-e8e4-4c4...|    Mumbai|        Shivsu Pizza|          null|\n",
      "|            3.9|    Nutella Sea Salt|         null|   Fast Food|        Worli|    0|   129|           0|           333|4d7c8267-0688-4ca...|    Mumbai|Cheelizza - India...|          null|\n",
      "|            3.8|Sizzling Jalapeno...|          3.8|   Beverages|     Malakpet|    0| 28.57|         113|             0|b330bf44-1bb1-4e5...| Hyderabad|              Subway|          null|\n",
      "|            3.9|Cottage Cheese Ga...|         null|   Fast Food|        Worli|    5|   159|           0|           333|e3ec833b-0a03-43c...|    Mumbai|Cheelizza - India...|          null|\n",
      "|            3.9|Margherita Jain P...|         null|   Fast Food|        Worli|   14|   189|           0|           333|d0eeeaeb-9453-4f3...|    Mumbai|Cheelizza - India...|          null|\n",
      "|            3.8|Chilli Bean Patty...|          3.8|   Beverages|     Malakpet|    0|   273|         113|             0|a3a075ba-3a56-4fb...| Hyderabad|              Subway|          null|\n",
      "|            4.1|Smoked Butter Chi...|         null|       Rolls|   Dadar East|    7|   799|           0|             0|8aba262b-4c45-49f...|    Mumbai|Charcoal Eats - B...|CHEF'S SPECIAL|\n",
      "|            3.8|Chatpata Chana Ch...|          3.8|   Beverages|     Malakpet|    0|   255|         113|             0|c2ccf335-f12f-40e...| Hyderabad|              Subway|          null|\n",
      "|            4.1| Koyla Chicken Tikka|         null|       Rolls|   Dadar East|   13|   379|           0|             0|f5fb0b13-012c-49e...|    Mumbai|Charcoal Eats - B...|CHEF'S SPECIAL|\n",
      "|            3.7|        Soft Noodles|          3.7|     Biryani|Ghansi Bazaar|    9|    70|          64|             0|003128e0-46f0-4ac...| Hyderabad|Chotu's The Food ...|          null|\n",
      "|            4.1|Lucknowi Chicken ...|         null|       Rolls|   Dadar East|   12|   389|           0|             0|260db3fc-353b-42d...|    Mumbai|Charcoal Eats - B...|      MUST TRY|\n",
      "|            3.7|       Ginger Paneer|          3.7|     Biryani|Ghansi Bazaar|    0|   130|          64|             0|e60375d2-dc9a-4ec...| Hyderabad|Chotu's The Food ...|          null|\n",
      "|              4|Potato Wedges (Me...|         null|North Indian|       Wadala|   10|    99|           0|             0|192d6a11-6fda-4c2...|    Mumbai|Faasos - Wraps & ...|          null|\n",
      "|            3.7| Paneer Tikka Masala|          3.7|     Biryani|Ghansi Bazaar|    9|   140|          64|             0|0025d786-5468-4c6...| Hyderabad|Chotu's The Food ...|          null|\n",
      "|              4|Mutton Bhuna Rice...|         null|North Indian|       Wadala|    0|   299|           0|             0|10fe25c2-47e6-4cd...|    Mumbai|Faasos - Wraps & ...|    BESTSELLER|\n",
      "|            3.7|         Rumali Roti|          4.2|North Indian|  Mehdipatnam|  167|    20|         129|             0|37591a60-70bd-4b1...| Hyderabad|         Amfah Hotel|      MUST TRY|\n",
      "|              4|Veg Rice Bowl (Ju...|         null|North Indian|       Wadala|    0|   255|           0|             0|4ae43313-2014-412...|    Mumbai|Faasos - Wraps & ...|          null|\n",
      "+---------------+--------------------+-------------+------------+-------------+-----+------+------------+--------------+--------------------+----------+--------------------+--------------+\n",
      "only showing top 20 rows\n",
      "\n"
     ]
    }
   ],
   "source": [
    "spark.conf.set(\"spark.cosmos.container\", zomato_dataset_metropolitan_container)\n",
    "\n",
    "zomato_dataset_metropolitan_df = spark.read.format(\"cosmos.oltp\") \\\n",
    "    .option(\"spark.cosmos.accountEndpoint\", cosmos_endpoint) \\\n",
    "    .option(\"spark.cosmos.accountKey\", cosmos_master_key) \\\n",
    "    .option(\"spark.cosmos.database\", database_name) \\\n",
    "    .option(\"spark.cosmos.container\", zomato_dataset_metropolitan_container) \\\n",
    "    .load()\n",
    " \n",
    "zomato_dataset_metropolitan_df.show()"
   ]
  },
  {
   "cell_type": "code",
   "execution_count": null,
   "metadata": {
    "application/vnd.databricks.v1+cell": {
     "cellMetadata": {
      "byteLimit": 2048000,
      "rowLimit": 10000
     },
     "inputWidgets": {},
     "nuid": "5d4b776e-9bc3-4818-a9b9-b7613c9afc8a",
     "showTitle": false,
     "tableResultSettingsMap": {},
     "title": ""
    }
   },
   "outputs": [
    {
     "name": "stdout",
     "output_type": "stream",
     "text": [
      "Out[10]: 123651"
     ]
    }
   ],
   "source": [
    "zomato_dataset_metropolitan_df_modified = zomato_dataset_metropolitan_df.repartition(num_partition)\n",
    "zomato_dataset_metropolitan_df_modified.cache()\n",
    "zomato_dataset_metropolitan_df_modified.count()"
   ]
  },
  {
   "cell_type": "code",
   "execution_count": null,
   "metadata": {
    "application/vnd.databricks.v1+cell": {
     "cellMetadata": {
      "byteLimit": 2048000,
      "rowLimit": 10000
     },
     "inputWidgets": {},
     "nuid": "717d1265-f5b0-47f1-981a-34f106f4a360",
     "showTitle": false,
     "tableResultSettingsMap": {},
     "title": ""
    }
   },
   "outputs": [
    {
     "name": "stdout",
     "output_type": "stream",
     "text": [
      "+---------------+---------+-------------+--------+----------+-----+------+------------+--------------+---+----+---------------+-----------+\n",
      "|Delivery Rating|Item Name|Dining Rating|Cuisine |Place Name|Votes|Prices|Dining Votes|Delivery Votes| id|City|Restaurant Name|Best Seller|\n",
      "+---------------+---------+-------------+--------+----------+-----+------+------------+--------------+---+----+---------------+-----------+\n",
      "|           1280|        0|        32236|       0|         0|    0|     0|           0|             0|  0|   0|              0|      95709|\n",
      "+---------------+---------+-------------+--------+----------+-----+------+------------+--------------+---+----+---------------+-----------+\n",
      "\n"
     ]
    }
   ],
   "source": [
    "zomato_dataset_metropolitan_df_modified.select([count(when(isnull(col), col)).alias(col) for col in zomato_dataset_metropolitan_df_modified.columns]).show()"
   ]
  },
  {
   "cell_type": "markdown",
   "metadata": {
    "application/vnd.databricks.v1+cell": {
     "cellMetadata": {
      "byteLimit": 2048000,
      "rowLimit": 10000
     },
     "inputWidgets": {},
     "nuid": "86dfa58f-0324-49d2-adc8-d1a8033c920b",
     "showTitle": false,
     "tableResultSettingsMap": {},
     "title": ""
    }
   },
   "source": [
    "# Transformations"
   ]
  },
  {
   "cell_type": "code",
   "execution_count": null,
   "metadata": {
    "application/vnd.databricks.v1+cell": {
     "cellMetadata": {
      "byteLimit": 2048000,
      "rowLimit": 10000
     },
     "inputWidgets": {},
     "nuid": "e52cd961-762f-4d51-850f-77b368a5d3c9",
     "showTitle": false,
     "tableResultSettingsMap": {},
     "title": ""
    }
   },
   "outputs": [],
   "source": [
    "from pyspark.sql.types import *\n",
    "from pyspark.sql.functions import *"
   ]
  },
  {
   "cell_type": "code",
   "execution_count": null,
   "metadata": {
    "application/vnd.databricks.v1+cell": {
     "cellMetadata": {
      "byteLimit": 2048000,
      "rowLimit": 10000
     },
     "inputWidgets": {},
     "nuid": "060a744b-448d-4f13-8b41-126f784a8cc6",
     "showTitle": false,
     "tableResultSettingsMap": {},
     "title": ""
    }
   },
   "outputs": [
    {
     "name": "stdout",
     "output_type": "stream",
     "text": [
      "+---------------+--------------------+-------------+----------+--------------+-----+------+------------+--------------+--------------------+----------+--------------------+--------------+\n",
      "|Delivery_Rating|           Item_Name|Dining_Rating|   Cuisine|    Place_Name|Votes|Prices|Dining_Votes|Delivery_Votes|       unique_row_id|      City|     Restaurant_Name|   Best_Seller|\n",
      "+---------------+--------------------+-------------+----------+--------------+-----+------+------------+--------------+--------------------+----------+--------------------+--------------+\n",
      "|            4.2|       Sandesh Plain|          3.8|  Desserts|      C Scheme|    0|120.48|         872|             0|5baa741c-05e5-45f...|    Jaipur|               Kanha|          null|\n",
      "|            4.0|Paneer Grilled Sa...|         null| Beverages|   RTC X roads|    0| 100.0|           0|            15|3dc7bf49-f3e5-44f...| Hyderabad| Yashwanth Pizza Den|    BESTSELLER|\n",
      "|            4.0|Chicken Pepperoni...|         null|  Desserts|          Sion|   10| 445.0|           0|             0|cecfdbe4-2943-450...|    Mumbai|       1441 Pizzeria|          null|\n",
      "|            3.9|Veg Chilli Garlic...|         null|     Momos| Khurram Nagar|  218| 120.0|           0|             0|326a88f2-d670-459...|   Lucknow|             Alibaba|    BESTSELLER|\n",
      "|            4.3|Singapore Style N...|          4.2| Beverages|   Gomti Nagar|    0| 330.0|         779|             0|b5388e9a-add6-41b...|   Lucknow|    Neelkanth Sweets|          null|\n",
      "|            3.4|        Mutton Chaap|          3.3|     Pizza|      Sector 4|   15| 119.0|          34|             0|812eb420-a3bf-417...|   Kolkata|Super Star Hazi B...|          null|\n",
      "|            3.6|        Kadai Paneer|          2.9|  Shawarma|   Kadavanthra|    0| 180.0|          11|             0|0646d299-38ce-41c...|     Kochi|      Arabian Dreams|          null|\n",
      "|            3.9| Classic Cold Coffee|         null| Fast Food|         Worli|    0| 229.0|           0|           333|3dc616aa-9ff0-4cb...|    Mumbai|Cheelizza - India...|          null|\n",
      "|            3.5|       Chicken Korma|          3.8|Hyderabadi|   Karve Nagar|    5| 309.0|          74|             0|e2ad9747-d113-493...|      Pune|    Hyderabadi Laziz|          null|\n",
      "|            4.2|     Chole with Rice|          3.8|  Desserts|      C Scheme|   31| 192.5|         872|             0|25403b9e-c95b-4ef...|    Jaipur|               Kanha|          null|\n",
      "|            3.9|     Peri Peri Fries|         null| Beverages|     Raja Park|   14|180.58|           0|             0|311848d4-8f5c-4ed...|    Jaipur|       Burgs & Fries|          null|\n",
      "|            4.1|    Butter Tawa Roti|         null|   Chinese|       Aliganj|   39|  22.0|           0|           878|d913c2a2-324c-416...|   Lucknow|    The Garam Chulha|          null|\n",
      "|            4.2|Chicken Cheese Mo...|          3.7| Fast Food|  Sealdah Area|   32| 139.0|          66|             0|75be8c02-c788-419...|   Kolkata|           WOW! Momo|          null|\n",
      "|            4.1|New Peri Peri Chi...|          3.1| Beverages|       FC Road|   27|242.86|         310|             0|8c3caad5-3c32-4cd...|      Pune|              Subway|    BESTSELLER|\n",
      "|            4.3|Baked Strawberry ...|          4.6|  Desserts|St. Marks Road|   14|180.96|           0|             0|64dbcf3d-fe34-494...| Bangalore|            Truffles|CHEF'S SPECIAL|\n",
      "|            4.2|2 Zinger + 2 Broa...|          4.2|     Pizza|Devendra Nagar|    8| 433.0|         142|             0|a7665e06-2831-49a...|    Raipur|    Ustaad's Kitchen|    BESTSELLER|\n",
      "|            4.1|          Veg Nawabi|          3.8|   Biryani|       Chembur|    0| 340.0|         345|             0|0fa570e6-fa42-4e3...|    Mumbai|      Raj Restaurant|          null|\n",
      "|            4.1|          Plain Dosa|          4.2| Beverages|     Hill Road|    0| 105.0|         337|             0|1a1249cd-8c3f-4e6...|    Mumbai|   Gokul Refreshment|          null|\n",
      "|            3.6|       Tandoori Naan|          3.8| Beverages|         Mahim|   38|  27.0|         327|             0|94e76f58-1098-48d...|    Mumbai|         Delhi Zaika|          null|\n",
      "|            4.2|Veg Delight Fried...|         null| Beverages|      Malakpet|   10| 149.0|           0|           726|81a61249-ec95-4f5...| Hyderabad|           WOW! Momo|          null|\n",
      "+---------------+--------------------+-------------+----------+--------------+-----+------+------------+--------------+--------------------+----------+--------------------+--------------+\n",
      "only showing top 20 rows\n",
      "\n"
     ]
    }
   ],
   "source": [
    "zomato_dataset_metropolitan_df_modified = zomato_dataset_metropolitan_df_modified \\\n",
    "    .withColumn('Delivery Rating', col('Delivery Rating').cast(FloatType())).withColumnRenamed('Delivery Rating', 'Delivery_Rating') \\\n",
    "    .withColumn('Item Name', col('Item Name').cast(StringType())).withColumnRenamed('Item Name', 'Item_Name') \\\n",
    "    .withColumn('Dining Rating', col('Dining Rating').cast(FloatType())).withColumnRenamed('Dining Rating', 'Dining_Rating') \\\n",
    "    .withColumnRenamed('Cuisine ', 'Cuisine') \\\n",
    "    .withColumn('Place Name', col('Place Name').cast(StringType())).withColumnRenamed('Place Name', 'Place_Name') \\\n",
    "    .withColumn('Votes', col('Votes').cast(IntegerType())) \\\n",
    "    .withColumn('Prices', col('Prices').cast(FloatType())) \\\n",
    "    .withColumn('Dining Votes', col('Dining Votes').cast(IntegerType())).withColumnRenamed('Dining Votes', 'Dining_Votes') \\\n",
    "    .withColumn('Delivery Votes', col('Delivery Votes').cast(IntegerType())).withColumnRenamed('Delivery Votes', 'Delivery_Votes') \\\n",
    "    .withColumn('City', col('City').cast(StringType())) \\\n",
    "    .withColumn('Restaurant Name', col('Restaurant Name').cast(StringType())).withColumnRenamed('Restaurant Name', 'Restaurant_Name') \\\n",
    "    .withColumn('Best Seller', col('Best Seller').cast(StringType())).withColumnRenamed('Best Seller', 'Best_Seller') \\\n",
    "    .withColumn('id', col('id').cast(StringType())).withColumnRenamed('id', 'unique_row_id')\n",
    "\n",
    "zomato_dataset_metropolitan_df_modified.show()"
   ]
  },
  {
   "cell_type": "code",
   "execution_count": null,
   "metadata": {
    "application/vnd.databricks.v1+cell": {
     "cellMetadata": {
      "byteLimit": 2048000,
      "rowLimit": 10000
     },
     "inputWidgets": {},
     "nuid": "105bc565-50e6-46a5-bbea-0fc61cfd62f1",
     "showTitle": false,
     "tableResultSettingsMap": {},
     "title": ""
    }
   },
   "outputs": [
    {
     "name": "stdout",
     "output_type": "stream",
     "text": [
      "+---------------+---------+-------------+-------+----------+-----+------+------------+--------------+-------------+----+---------------+-----------+\n",
      "|Delivery_Rating|Item_Name|Dining_Rating|Cuisine|Place_Name|Votes|Prices|Dining_Votes|Delivery_Votes|unique_row_id|City|Restaurant_Name|Best_Seller|\n",
      "+---------------+---------+-------------+-------+----------+-----+------+------------+--------------+-------------+----+---------------+-----------+\n",
      "|           1280|        0|        32236|      0|         0|    0|     0|           0|             0|            0|   0|              0|      95709|\n",
      "+---------------+---------+-------------+-------+----------+-----+------+------------+--------------+-------------+----+---------------+-----------+\n",
      "\n"
     ]
    }
   ],
   "source": [
    "zomato_dataset_metropolitan_df_modified.select([count(when(isnull(col), col)).alias(col) for col in zomato_dataset_metropolitan_df_modified.columns]).show()"
   ]
  },
  {
   "cell_type": "code",
   "execution_count": null,
   "metadata": {
    "application/vnd.databricks.v1+cell": {
     "cellMetadata": {
      "byteLimit": 2048000,
      "rowLimit": 10000
     },
     "inputWidgets": {},
     "nuid": "653335fa-1cfc-457d-bd4f-88b1851a4bf8",
     "showTitle": false,
     "tableResultSettingsMap": {},
     "title": ""
    }
   },
   "outputs": [],
   "source": [
    "zomato_delivery_operational_analytics_df_modified = zomato_delivery_operational_analytics_df_modified \\\n",
    "    .withColumn(\"Restaurant_latitude\", col(\"Restaurant_latitude\").cast(DoubleType())) \\\n",
    "    .withColumn(\"Restaurant_longitude\", col(\"Restaurant_longitude\").cast(DoubleType())) \\\n",
    "    .withColumn(\"Delivery_location_latitude\", col(\"Delivery_location_latitude\").cast(DoubleType())) \\\n",
    "    .withColumn(\"Delivery_location_longitude\", col(\"Delivery_location_longitude\").cast(DoubleType())) \\\n",
    "    .withColumn(\"Delivery_person_Ratings\", col(\"Delivery_person_Ratings\").cast(DoubleType())) \\\n",
    "    .withColumn(\"Delivery_person_Age\", col(\"Delivery_person_Age\").cast(IntegerType())) \\\n",
    "    .withColumn(\"multiple_deliveries\", col(\"multiple_deliveries\").cast(IntegerType())) \\\n",
    "    .withColumn(\"Time_taken (min)\", col(\"Time_taken (min)\").cast(IntegerType())) \\\n",
    "    .withColumn(\"Weather_conditions\", col(\"Weather_conditions\").cast(StringType())) \\\n",
    "    .withColumn(\"Road_traffic_density\", col(\"Road_traffic_density\").cast(StringType())) \\\n",
    "    .withColumn(\"Vehicle_condition\", col(\"Vehicle_condition\").cast(IntegerType())) \\\n",
    "    .withColumn(\"Type_of_order\", col(\"Type_of_order\").cast(StringType())) \\\n",
    "    .withColumn(\"Type_of_vehicle\", col(\"Type_of_vehicle\").cast(StringType())) \\\n",
    "    .withColumn(\"City\", col(\"City\").cast(StringType())) \\\n",
    "    .withColumn(\"Festival\", col(\"Festival\").cast(StringType())) \\\n",
    "    .withColumn(\"Delivery_person_ID\", col(\"Delivery_person_ID\").cast(StringType())) \\\n",
    "    .withColumnRenamed('id', 'unique_row_id')\n",
    "    # .withColumn(\"Time_Orderd\", date_format(to_timestamp(col(\"Time_Orderd\"), 'HH:mm'), 'HH:mm').alias(\"Time_Orderd\")) \\\n",
    "    # .withColumn(\"Time_Order_picked\", date_format(to_timestamp(col(\"Time_Order_picked\"), 'HH:mm'), 'HH:mm').alias(\"Time_Order_picked\")) \\\n",
    "    # .withColumn(\"Order_Date\", date_format(to_timestamp(col(\"Order_Date\"), 'dd-mm-yyyy'), 'dd-MM-yyyy').alias('Order_Date'))"
   ]
  },
  {
   "cell_type": "markdown",
   "metadata": {
    "application/vnd.databricks.v1+cell": {
     "cellMetadata": {},
     "inputWidgets": {},
     "nuid": "8383671c-6d53-4410-b247-2cdedf0be943",
     "showTitle": false,
     "tableResultSettingsMap": {},
     "title": ""
    }
   },
   "source": [
    "### dropping unnecessary column containing row-identifier information from Cosmos"
   ]
  },
  {
   "cell_type": "code",
   "execution_count": null,
   "metadata": {
    "application/vnd.databricks.v1+cell": {
     "cellMetadata": {
      "byteLimit": 2048000,
      "rowLimit": 10000
     },
     "inputWidgets": {},
     "nuid": "2f4198fc-245b-48ad-88d6-052e5c737c64",
     "showTitle": false,
     "tableResultSettingsMap": {},
     "title": ""
    }
   },
   "outputs": [
    {
     "name": "stdout",
     "output_type": "stream",
     "text": [
      "Out[16]: DataFrame[ID: string, Time_Order_picked: string, Time_Orderd: string, Restaurant_latitude: double, Restaurant_longitude: double, Delivery_location_longitude: double, Delivery_person_Ratings: double, Vehicle_condition: int, Delivery_person_Age: int, Delivery_location_latitude: double, Road_traffic_density: string, Type_of_order: string, City: string, Time_taken (min): int, Delivery_person_ID: string, Type_of_vehicle: string, Order_Date: string, multiple_deliveries: int, Weather_conditions: string, Festival: string]"
     ]
    }
   ],
   "source": [
    "zomato_dataset_metropolitan_df_modified.drop('unique_row_id')\n",
    "zomato_delivery_operational_analytics_df_modified.drop('unique_row_id')"
   ]
  },
  {
   "cell_type": "markdown",
   "metadata": {
    "application/vnd.databricks.v1+cell": {
     "cellMetadata": {
      "byteLimit": 2048000,
      "rowLimit": 10000
     },
     "inputWidgets": {},
     "nuid": "2b026e59-0449-48de-9dba-6af277475dda",
     "showTitle": false,
     "tableResultSettingsMap": {},
     "title": ""
    }
   },
   "source": [
    "### operational analytics DF has a column named 'City' - consisting of values 'Urban' and 'Metropolitian'. we can filter out just 'Metropolitian' as we are looking to analyze that data"
   ]
  },
  {
   "cell_type": "code",
   "execution_count": null,
   "metadata": {
    "application/vnd.databricks.v1+cell": {
     "cellMetadata": {
      "byteLimit": 2048000,
      "rowLimit": 10000
     },
     "inputWidgets": {},
     "nuid": "559a28ca-aa4c-4031-9f59-d86a0c6ad036",
     "showTitle": false,
     "tableResultSettingsMap": {},
     "title": ""
    }
   },
   "outputs": [
    {
     "name": "stdout",
     "output_type": "stream",
     "text": [
      "44983\n",
      "33623\n"
     ]
    }
   ],
   "source": [
    "print(zomato_delivery_operational_analytics_df_modified.count())\n",
    "zomato_delivery_operational_analytics_df_modified = zomato_delivery_operational_analytics_df_modified.filter(col('City') == 'Metropolitian')\n",
    "print(zomato_delivery_operational_analytics_df_modified.count())"
   ]
  },
  {
   "cell_type": "markdown",
   "metadata": {
    "application/vnd.databricks.v1+cell": {
     "cellMetadata": {
      "byteLimit": 2048000,
      "rowLimit": 10000
     },
     "inputWidgets": {},
     "nuid": "92848a97-5b9b-4c9f-9d1a-baaff24b8bc8",
     "showTitle": false,
     "tableResultSettingsMap": {},
     "title": ""
    }
   },
   "source": [
    "### handle issues in 'Time_Orderd' and 'Time_Order_picked' in zomato_delivery_operational_analytics_df_modified"
   ]
  },
  {
   "cell_type": "code",
   "execution_count": null,
   "metadata": {
    "application/vnd.databricks.v1+cell": {
     "cellMetadata": {
      "byteLimit": 2048000,
      "rowLimit": 10000
     },
     "inputWidgets": {},
     "nuid": "a59cc4f9-56f2-4a95-8d09-30991748f07a",
     "showTitle": false,
     "tableResultSettingsMap": {},
     "title": ""
    }
   },
   "outputs": [],
   "source": [
    "# Convert Order_Date to 'yyyy-MM-dd' format\n",
    "zomato_delivery_operational_analytics_df_modified = zomato_delivery_operational_analytics_df_modified.withColumn(\"Order_Date\", to_date(col(\"Order_Date\"), \"dd-MM-yyyy\"))\n",
    "\n",
    "# UDF to convert decimal to HH:mm\n",
    "def convert_decimal_to_time(decimal_value):\n",
    "    try:\n",
    "        decimal_value = float(decimal_value)\n",
    "        total_minutes = decimal_value * 1440\n",
    "        hours = int(total_minutes // 60)\n",
    "        minutes = int(total_minutes % 60)\n",
    "        return f\"{hours:02}:{minutes:02}\"\n",
    "    except (ValueError, TypeError):\n",
    "        return None\n",
    "\n",
    "convert_decimal_to_time_udf = udf(convert_decimal_to_time, StringType())\n",
    "\n",
    "# using UDF to handle decimal values\n",
    "zomato_delivery_operational_analytics_df_modified = zomato_delivery_operational_analytics_df_modified \\\n",
    "     .withColumn('Time_Orderd', when(col('Time_Orderd').cast('float').isNotNull(), \n",
    "                                    convert_decimal_to_time_udf(col('Time_Orderd'))).otherwise(col('Time_Orderd'))) \\\n",
    "     .withColumn('Time_Order_picked', when(col('Time_Order_picked').cast('float').isNotNull(), \n",
    "                                    convert_decimal_to_time_udf(col('Time_Order_picked'))).otherwise(col('Time_Order_picked')))\n",
    "\n",
    "\n",
    "\n",
    "# standardize all time formats to HH:mm:ss\n",
    "zomato_delivery_operational_analytics_df_modified = zomato_delivery_operational_analytics_df_modified \\\n",
    "     .withColumn('Time_Orderd', \\\n",
    "         when(col('Time_Orderd').rlike(r'^\\d{2}:\\d{2}:\\d{2}$'), date_format(to_timestamp(col('Time_Orderd'), 'HH:mm:ss'), 'HH:mm:ss')) \\\n",
    "        .when(col('Time_Orderd').rlike(r'^\\d{2}:\\d{2}$'), date_format(to_timestamp(col('Time_Orderd'), 'HH:mm'), 'HH:mm:ss')) \\\n",
    "        .otherwise(None))\n",
    "\n",
    "zomato_delivery_operational_analytics_df_modified = zomato_delivery_operational_analytics_df_modified \\\n",
    "     .withColumn('Time_Order_picked', \\\n",
    "         when(col('Time_Order_picked').rlike(r'^\\d{2}:\\d{2}:\\d{2}$'), date_format(to_timestamp(col('Time_Order_picked'), 'HH:mm:ss'), 'HH:mm:ss')) \\\n",
    "        .when(col('Time_Order_picked').rlike(r'^\\d{2}:\\d{2}$'), date_format(to_timestamp(col('Time_Order_picked'), 'HH:mm'), 'HH:mm:ss')) \\\n",
    "        .otherwise(None))\n",
    "\n",
    "# Combine Date and Time into yyyy-MM-dd HH:mm:ss format\n",
    "zomato_delivery_operational_analytics_df_modified = zomato_delivery_operational_analytics_df_modified \\\n",
    "     .withColumn('Time_Orderd', to_timestamp(concat(col('Order_Date'), lit(' '), col('Time_Orderd')), 'yyyy-MM-dd HH:mm:ss')) \\\n",
    "     .withColumn('Time_Order_picked', to_timestamp(concat(col('Order_Date'), lit(' '), col('Time_Order_picked')), 'yyyy-MM-dd HH:mm:ss'))"
   ]
  },
  {
   "cell_type": "code",
   "execution_count": null,
   "metadata": {
    "application/vnd.databricks.v1+cell": {
     "cellMetadata": {
      "byteLimit": 2048000,
      "rowLimit": 10000
     },
     "inputWidgets": {},
     "nuid": "73dbab7e-cc0c-4f7a-9ddb-143545b486e9",
     "showTitle": false,
     "tableResultSettingsMap": {},
     "title": ""
    }
   },
   "outputs": [
    {
     "name": "stdout",
     "output_type": "stream",
     "text": [
      "root\n",
      " |-- ID: string (nullable = true)\n",
      " |-- Time_Order_picked: timestamp (nullable = true)\n",
      " |-- Time_Orderd: timestamp (nullable = true)\n",
      " |-- Restaurant_latitude: double (nullable = true)\n",
      " |-- Restaurant_longitude: double (nullable = true)\n",
      " |-- Delivery_location_longitude: double (nullable = true)\n",
      " |-- Delivery_person_Ratings: double (nullable = true)\n",
      " |-- Vehicle_condition: integer (nullable = true)\n",
      " |-- Delivery_person_Age: integer (nullable = true)\n",
      " |-- Delivery_location_latitude: double (nullable = true)\n",
      " |-- Road_traffic_density: string (nullable = true)\n",
      " |-- unique_row_id: string (nullable = false)\n",
      " |-- Type_of_order: string (nullable = true)\n",
      " |-- City: string (nullable = true)\n",
      " |-- Time_taken (min): integer (nullable = true)\n",
      " |-- Delivery_person_ID: string (nullable = true)\n",
      " |-- Type_of_vehicle: string (nullable = true)\n",
      " |-- Order_Date: date (nullable = true)\n",
      " |-- multiple_deliveries: integer (nullable = true)\n",
      " |-- Weather_conditions: string (nullable = true)\n",
      " |-- Festival: string (nullable = true)\n",
      "\n"
     ]
    }
   ],
   "source": [
    "zomato_delivery_operational_analytics_df_modified.printSchema()"
   ]
  },
  {
   "cell_type": "code",
   "execution_count": null,
   "metadata": {
    "application/vnd.databricks.v1+cell": {
     "cellMetadata": {
      "byteLimit": 2048000,
      "rowLimit": 10000
     },
     "inputWidgets": {},
     "nuid": "37df317a-dbf9-498a-8258-22e7122ee0ea",
     "showTitle": false,
     "tableResultSettingsMap": {},
     "title": ""
    }
   },
   "outputs": [
    {
     "name": "stdout",
     "output_type": "stream",
     "text": [
      "+------+-------------------+-------------------+-------------------+--------------------+---------------------------+-----------------------+-----------------+-------------------+--------------------------+--------------------+--------------------+-------------+-------------+----------------+------------------+----------------+----------+-------------------+------------------+--------+\n",
      "|    ID|  Time_Order_picked|        Time_Orderd|Restaurant_latitude|Restaurant_longitude|Delivery_location_longitude|Delivery_person_Ratings|Vehicle_condition|Delivery_person_Age|Delivery_location_latitude|Road_traffic_density|       unique_row_id|Type_of_order|         City|Time_taken (min)|Delivery_person_ID| Type_of_vehicle|Order_Date|multiple_deliveries|Weather_conditions|Festival|\n",
      "+------+-------------------+-------------------+-------------------+--------------------+---------------------------+-----------------------+-----------------+-------------------+--------------------------+--------------------+--------------------+-------------+-------------+----------------+------------------+----------------+----------+-------------------+------------------+--------+\n",
      "|0x79ed|2022-04-03 22:40:00|2022-04-03 22:35:00|          11.001753|           76.986241|                  77.016241|                    4.9|                2|                 35|                 11.031753|                 Low|c38726eb-c76c-479...|        Snack|Metropolitian|              26|   COIMBRES11DEL03|         scooter|2022-04-03|                  0|            Stormy|      No|\n",
      "|0x35b7|2022-03-10 22:25:00|2022-03-10 22:20:00|          12.972532|           77.608179|                  77.738179|                    4.8|                0|                 32|                 13.102532|                 Low|27e1be0f-3a79-45d...|         Meal|Metropolitian|              22|    BANGRES17DEL02|      motorcycle|2022-03-10|                  0|             Windy|      No|\n",
      "|0xaa77|2022-03-04 22:45:00|2022-03-04 22:35:00|                0.0|                 0.0|                       0.13|                    4.1|                0|                 31|                      0.13|                 Low|994b6e84-4469-410...|         Meal|Metropolitian|              40|  RANCHIRES12DEL02|      motorcycle|2022-03-04|                  2|               Fog|      No|\n",
      "|0x9619|2022-03-02 22:55:00|2022-03-02 22:40:00|          12.975377|           77.696664|                  77.786664|                    4.2|                0|                 31|                 13.065377|                 Low|c05f3ff5-8dd3-497...|       Buffet|Metropolitian|              41|    BANGRES15DEL03|      motorcycle|2022-03-02|                  2|               Fog|      No|\n",
      "|0x2234|2022-03-21 10:25:00|2022-03-21 10:20:00|          11.003008|            76.97544|                   76.98544|                    4.8|                2|                 35|                 11.013008|                 Low|8435f405-ec89-4db...|        Snack|Metropolitian|              25|  COIMBRES010DEL01|         scooter|2022-03-21|                  1|             Windy|      No|\n",
      "|0x2875|2022-03-07 10:00:00|2022-03-07 09:55:00|          18.516216|           73.842527|                  73.862527|                    4.6|                2|                 27|                 18.536216|                 Low|9819d7ca-ac3b-475...|       Drinks|Metropolitian|              13|    PUNERES14DEL02|         scooter|2022-03-07|                  1|               Fog|      No|\n",
      "|0x3a8f|2022-04-02 23:25:00|2022-04-02 23:20:00|          18.530963|           73.828972|                  73.958972|                    3.9|                1|                 39|                 18.660963|                 Low|1d5f7c33-8796-4ad...|       Drinks|Metropolitian|              38|    PUNERES17DEL02|         scooter|2022-04-02|                  2|               Fog|      No|\n",
      "|0x89fa|2022-04-02 22:30:00|2022-04-02 22:15:00|          19.131141|           72.813074|                  72.883074|                    4.8|                2|                 21|                 19.201141|                 Low|4950eb37-c906-476...|       Drinks|Metropolitian|              17|     MUMRES19DEL01|electric_scooter|2022-04-02|                  1|        Sandstorms|      No|\n",
      "|0x2b20|2022-03-25 22:45:00|2022-03-25 22:30:00|          12.321214|           76.621094|                  76.731094|                    4.6|                1|                 24|                 12.431214|                 Low|be379552-951e-49e...|       Buffet|Metropolitian|              29|    MYSRES010DEL01|         scooter|2022-03-25|                  0|             Sunny|      No|\n",
      "|0x1721|2022-03-13 10:05:00|2022-03-13 10:00:00|          22.725835|           75.887648|                  75.897648|                    4.2|                0|                 29|                 22.735835|                 Low|69f0e5aa-b0c7-4aa...|       Drinks|Metropolitian|              29|    INDORES09DEL01|      motorcycle|2022-03-13|                  0|        Sandstorms|      No|\n",
      "|0xdac2|2022-02-13 09:55:00|2022-02-13 09:45:00|          19.879631|           75.323403|                  75.333403|                    4.7|                2|                 26|                 19.889631|                 Low|287b9c97-c198-470...|         Meal|Metropolitian|              20|    AURGRES12DEL01|electric_scooter|2022-02-13|                  0|             Sunny|      No|\n",
      "| 0xac8|2022-03-25 22:55:00|2022-03-25 22:50:00|           22.31279|           73.170283|                  73.300283|                    4.9|                1|                 20|                  22.44279|                 Low|d6840aa2-956c-480...|       Drinks|Metropolitian|              28|     VADRES06DEL02|      motorcycle|2022-03-25|                  1|            Cloudy|      No|\n",
      "|0x36b9|2022-03-04 23:10:00|2022-03-04 22:59:00|          12.975996|           80.221898|                  80.291898|                    4.9|                0|                 25|                 13.045996|                 Low|a2982fa4-95dd-4a0...|       Buffet|Metropolitian|              21|    CHENRES20DEL01|      motorcycle|2022-03-04|               null|            Cloudy|      No|\n",
      "|0x32fd|2022-03-03 10:35:00|2022-03-03 10:25:00|                0.0|                 0.0|                       0.02|                    4.7|                2|                 24|                      0.02|                 Low|2305860b-972f-4c8...|       Drinks|Metropolitian|              21|  RANCHIRES03DEL02|electric_scooter|2022-03-03|                  1|             Sunny|      No|\n",
      "|0x405f|2022-03-13 08:35:00|2022-03-13 08:30:00|          21.186608|           72.794136|                  72.804136|                    4.8|                0|                 22|                 21.196608|                 Low|556093bc-2d83-472...|         Meal|Metropolitian|              22|     SURRES02DEL01|      motorcycle|2022-03-13|                  1|               Fog|      No|\n",
      "|0x89ad|2022-04-03 22:30:00|2022-04-03 22:15:00|          26.914142|           75.805704|                  75.865704|                    4.7|                1|                 39|                 26.974142|                 Low|0a46fb3d-1dc9-4e2...|       Buffet|Metropolitian|              29|     JAPRES02DEL03|         scooter|2022-04-03|                  1|            Stormy|      No|\n",
      "|0xc55c|2022-02-11 23:30:00|2022-02-11 23:15:00|          19.875522|           75.367127|                  75.417127|                    4.9|                1|                 34|                 19.925522|                 Low|95a5e206-66c5-455...|        Snack|Metropolitian|              19|    AURGRES05DEL02|      motorcycle|2022-02-11|                  1|               Fog|      No|\n",
      "|0xbc00|2022-03-01 10:05:00|2022-03-01 09:55:00|          18.543626|           73.905101|                  73.925101|                    4.8|                2|                 21|                 18.563626|                 Low|e9d3cdcc-5fe0-486...|       Drinks|Metropolitian|              10|    PUNERES05DEL02|         scooter|2022-03-01|                  1|            Cloudy|      No|\n",
      "|0x3d06|2022-03-03 09:50:00|2022-03-03 09:40:00|          19.120083|           72.907385|                  72.927385|                    4.9|                1|                 34|                 19.140083|                 Low|be7d2289-087f-4ec...|       Buffet|Metropolitian|              19|     MUMRES16DEL02|      motorcycle|2022-03-03|                  0|            Cloudy|      No|\n",
      "|0x54b5|2022-03-03 09:20:00|2022-03-03 09:15:00|          18.994237|           72.825553|                  72.835553|                    4.6|                1|                 27|                 19.004237|                 Low|cfc930cc-aa92-43b...|         Meal|Metropolitian|              15|     MUMRES11DEL01|         scooter|2022-03-03|                  0|               Fog|      No|\n",
      "+------+-------------------+-------------------+-------------------+--------------------+---------------------------+-----------------------+-----------------+-------------------+--------------------------+--------------------+--------------------+-------------+-------------+----------------+------------------+----------------+----------+-------------------+------------------+--------+\n",
      "only showing top 20 rows\n",
      "\n"
     ]
    }
   ],
   "source": [
    "zomato_delivery_operational_analytics_df_modified.show()"
   ]
  },
  {
   "cell_type": "code",
   "execution_count": null,
   "metadata": {
    "application/vnd.databricks.v1+cell": {
     "cellMetadata": {
      "byteLimit": 2048000,
      "rowLimit": 10000
     },
     "inputWidgets": {},
     "nuid": "5047bf5a-1ffa-4903-a5ba-37fbd42e1159",
     "showTitle": false,
     "tableResultSettingsMap": {},
     "title": ""
    }
   },
   "outputs": [
    {
     "name": "stdout",
     "output_type": "stream",
     "text": [
      "+---+-----------------+-----------+-------------------+--------------------+---------------------------+-----------------------+-----------------+-------------------+--------------------------+--------------------+-------------+-------------+----+----------------+------------------+---------------+----------+-------------------+------------------+--------+\n",
      "| ID|Time_Order_picked|Time_Orderd|Restaurant_latitude|Restaurant_longitude|Delivery_location_longitude|Delivery_person_Ratings|Vehicle_condition|Delivery_person_Age|Delivery_location_latitude|Road_traffic_density|unique_row_id|Type_of_order|City|Time_taken (min)|Delivery_person_ID|Type_of_vehicle|Order_Date|multiple_deliveries|Weather_conditions|Festival|\n",
      "+---+-----------------+-----------+-------------------+--------------------+---------------------------+-----------------------+-----------------+-------------------+--------------------------+--------------------+-------------+-------------+----+----------------+------------------+---------------+----------+-------------------+------------------+--------+\n",
      "|  0|              923|       1126|                  0|                   0|                          0|                      0|                0|                995|                         0|                   0|            0|            0|   0|               0|                 0|              0|         0|                698|                 0|       0|\n",
      "+---+-----------------+-----------+-------------------+--------------------+---------------------------+-----------------------+-----------------+-------------------+--------------------------+--------------------+-------------+-------------+----+----------------+------------------+---------------+----------+-------------------+------------------+--------+\n",
      "\n"
     ]
    }
   ],
   "source": [
    "zomato_delivery_operational_analytics_df_modified.select([count(when(isnull(col), col)).alias(col) for col in zomato_delivery_operational_analytics_df_modified.columns]).show()"
   ]
  },
  {
   "cell_type": "code",
   "execution_count": null,
   "metadata": {
    "application/vnd.databricks.v1+cell": {
     "cellMetadata": {
      "byteLimit": 2048000,
      "rowLimit": 10000
     },
     "inputWidgets": {},
     "nuid": "3179abe1-7f4c-40c4-9f70-c65015cfead7",
     "showTitle": false,
     "tableResultSettingsMap": {},
     "title": ""
    }
   },
   "outputs": [
    {
     "name": "stdout",
     "output_type": "stream",
     "text": [
      "Loss by dropping: 7.53948190226928\n"
     ]
    }
   ],
   "source": [
    "tempDF = zomato_delivery_operational_analytics_df_modified\n",
    "original = tempDF.count()\n",
    "remaining = tempDF.dropna(subset=['Time_Orderd', 'Time_Order_picked', 'multiple_deliveries', 'Delivery_person_Age']).count()\n",
    "\n",
    "print(f'Loss by dropping: {(original-remaining)*100/original}')   # so drop"
   ]
  },
  {
   "cell_type": "code",
   "execution_count": null,
   "metadata": {
    "application/vnd.databricks.v1+cell": {
     "cellMetadata": {
      "byteLimit": 2048000,
      "rowLimit": 10000
     },
     "inputWidgets": {},
     "nuid": "5643d654-4d09-4052-af20-64a51b4306ce",
     "showTitle": false,
     "tableResultSettingsMap": {},
     "title": ""
    }
   },
   "outputs": [],
   "source": [
    "zomato_delivery_operational_analytics_df_modified = zomato_delivery_operational_analytics_df_modified.dropna(subset=['Time_Orderd', 'Time_Order_picked', 'multiple_deliveries', 'Delivery_person_Age'])"
   ]
  },
  {
   "cell_type": "code",
   "execution_count": null,
   "metadata": {
    "application/vnd.databricks.v1+cell": {
     "cellMetadata": {
      "byteLimit": 2048000,
      "rowLimit": 10000
     },
     "inputWidgets": {},
     "nuid": "166042e3-9cbb-47be-b0dd-6bce032f189f",
     "showTitle": false,
     "tableResultSettingsMap": {},
     "title": ""
    }
   },
   "outputs": [],
   "source": [
    "# Split into month, year, day of week from Order_Date column\n",
    "\n",
    "zomato_delivery_operational_analytics_df_modified = zomato_delivery_operational_analytics_df_modified \\\n",
    "    .withColumn('Year_ID', year(col('Order_Date'))).withColumn('Month_ID', month(col('Order_Date'))) \\\n",
    "    .withColumn('Day_of_Week', dayofweek(col('Order_Date'))) \\\n",
    "    .withColumn('Week_of_Year', weekofyear(col('Order_Date'))) \\\n",
    "    .withColumn('QTR_ID', quarter(col('Order_Date')))"
   ]
  },
  {
   "cell_type": "code",
   "execution_count": null,
   "metadata": {
    "application/vnd.databricks.v1+cell": {
     "cellMetadata": {
      "byteLimit": 2048000,
      "rowLimit": 10000
     },
     "inputWidgets": {},
     "nuid": "c82b0d12-7f5e-4305-b683-28e963c0aa98",
     "showTitle": false,
     "tableResultSettingsMap": {},
     "title": ""
    }
   },
   "outputs": [
    {
     "name": "stdout",
     "output_type": "stream",
     "text": [
      "+---------------+---------+-------------+-------+----------+-----+------+------------+--------------+-------------+----+---------------+-----------+\n",
      "|Delivery_Rating|Item_Name|Dining_Rating|Cuisine|Place_Name|Votes|Prices|Dining_Votes|Delivery_Votes|unique_row_id|City|Restaurant_Name|Best_Seller|\n",
      "+---------------+---------+-------------+-------+----------+-----+------+------------+--------------+-------------+----+---------------+-----------+\n",
      "|           1280|        0|        32236|      0|         0|    0|     0|           0|             0|            0|   0|              0|      95709|\n",
      "+---------------+---------+-------------+-------+----------+-----+------+------------+--------------+-------------+----+---------------+-----------+\n",
      "\n"
     ]
    }
   ],
   "source": [
    "### handling issues in zomato_dataset_metropolitan_df_modified\n",
    "zomato_dataset_metropolitan_df_modified.select([count(when(isnull(col), col)).alias(col) for col in zomato_dataset_metropolitan_df_modified.columns]).show()"
   ]
  },
  {
   "cell_type": "code",
   "execution_count": null,
   "metadata": {
    "application/vnd.databricks.v1+cell": {
     "cellMetadata": {
      "byteLimit": 2048000,
      "rowLimit": 10000
     },
     "inputWidgets": {},
     "nuid": "daa932b2-40d7-48c9-8dbc-6b5f7c336ee6",
     "showTitle": false,
     "tableResultSettingsMap": {},
     "title": ""
    }
   },
   "outputs": [],
   "source": [
    "# Compute the average ratings\n",
    "avg_delivery_rating = zomato_dataset_metropolitan_df_modified.select(mean(col(\"Delivery_Rating\"))).first()[0]\n",
    "avg_dining_rating = zomato_dataset_metropolitan_df_modified.select(mean(col(\"Dining_Rating\"))).first()[0]\n",
    "\n",
    "# Fill NA with average ratings\n",
    "zomato_dataset_metropolitan_df_modified = zomato_dataset_metropolitan_df_modified.fillna({\"Delivery_Rating\": avg_delivery_rating, \"Dining_Rating\": avg_dining_rating})"
   ]
  },
  {
   "cell_type": "code",
   "execution_count": null,
   "metadata": {
    "application/vnd.databricks.v1+cell": {
     "cellMetadata": {
      "byteLimit": 2048000,
      "rowLimit": 10000
     },
     "inputWidgets": {},
     "nuid": "6c49b9fd-ea30-4e4d-98b2-6cb47740774c",
     "showTitle": false,
     "tableResultSettingsMap": {},
     "title": ""
    }
   },
   "outputs": [],
   "source": [
    "# write to blob as parquet [or SQL]\n",
    "\n",
    "# Storage account info\n",
    "storage_account_name = \"capstonestoragezomato\"\n",
    "storage_account_key = \"\"\n",
    "container_name = \"cleaned-data\"\n",
    "\n",
    "# configuration\n",
    "spark.conf.set(f\"fs.azure.account.key.{storage_account_name}.blob.core.windows.net\", storage_account_key)\n",
    "\n",
    "\n",
    "\n",
    "# path at which operational_analytics data will be saved\n",
    "blob_path_operationalAnalytics = f\"wasbs://{container_name}@{storage_account_name}.blob.core.windows.net/operational_analytics\"\n",
    "# writing to blob storage\n",
    "zomato_delivery_operational_analytics_df_modified.write.mode(\"overwrite\").parquet(blob_path_operationalAnalytics)\n",
    "\n",
    "\n",
    "# path at which metropolitan_data will be saved\n",
    "blob_path_metropolitanData = f\"wasbs://{container_name}@{storage_account_name}.blob.core.windows.net/metropolitan_data\"\n",
    "# writing to blob storage\n",
    "zomato_dataset_metropolitan_df_modified.write.mode(\"overwrite\").parquet(blob_path_metropolitanData)"
   ]
  },
  {
   "cell_type": "code",
   "execution_count": null,
   "metadata": {
    "application/vnd.databricks.v1+cell": {
     "cellMetadata": {
      "byteLimit": 2048000,
      "rowLimit": 10000
     },
     "inputWidgets": {},
     "nuid": "fb2723d6-e8d5-4985-b946-b9548ff294ff",
     "showTitle": false,
     "tableResultSettingsMap": {},
     "title": ""
    }
   },
   "outputs": [
    {
     "name": "stdout",
     "output_type": "stream",
     "text": [
      "(44983, 21)\n",
      "(31088, 26)\n"
     ]
    }
   ],
   "source": [
    "print((zomato_delivery_operational_analytics_df.count(), len(zomato_delivery_operational_analytics_df.columns)))\n",
    "print((zomato_delivery_operational_analytics_df_modified.count(), len(zomato_delivery_operational_analytics_df_modified.columns)))\n",
    "\n",
    "# reason for drop is majorly because of the exclusion of Urban data"
   ]
  },
  {
   "cell_type": "code",
   "execution_count": null,
   "metadata": {
    "application/vnd.databricks.v1+cell": {
     "cellMetadata": {
      "byteLimit": 2048000,
      "rowLimit": 10000
     },
     "inputWidgets": {},
     "nuid": "455eae9b-c4ed-4da0-a664-7efb8079c970",
     "showTitle": false,
     "tableResultSettingsMap": {},
     "title": ""
    }
   },
   "outputs": [
    {
     "name": "stdout",
     "output_type": "stream",
     "text": [
      "(123651, 13)\n",
      "(123651, 13)\n"
     ]
    }
   ],
   "source": [
    "print((zomato_dataset_metropolitan_df.count(), len(zomato_dataset_metropolitan_df.columns)))\n",
    "print((zomato_dataset_metropolitan_df_modified.count(), len(zomato_dataset_metropolitan_df_modified.columns)))"
   ]
  },
  {
   "cell_type": "code",
   "execution_count": null,
   "metadata": {
    "application/vnd.databricks.v1+cell": {
     "cellMetadata": {},
     "inputWidgets": {},
     "nuid": "83c6d7a7-1b79-4598-98da-87bbca69f002",
     "showTitle": false,
     "tableResultSettingsMap": {},
     "title": ""
    }
   },
   "outputs": [],
   "source": []
  }
 ],
 "metadata": {
  "application/vnd.databricks.v1+notebook": {
   "dashboards": [],
   "environmentMetadata": null,
   "language": "python",
   "notebookMetadata": {
    "pythonIndentUnit": 4
   },
   "notebookName": "Capstone Transformation Notebook",
   "widgets": {}
  },
  "language_info": {
   "name": "plaintext"
  }
 },
 "nbformat": 4,
 "nbformat_minor": 0
}
