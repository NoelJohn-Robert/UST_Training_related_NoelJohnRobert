{
 "cells": [
  {
   "cell_type": "code",
   "execution_count": null,
   "metadata": {
    "application/vnd.databricks.v1+cell": {
     "cellMetadata": {
      "byteLimit": 2048000,
      "rowLimit": 10000
     },
     "inputWidgets": {},
     "nuid": "826f4680-0028-4d57-9c5d-e3e75a1d7e59",
     "showTitle": false,
     "tableResultSettingsMap": {},
     "title": ""
    }
   },
   "outputs": [],
   "source": [
    "# !pip install geopy\n",
    "# from geopy.geocoders import Nominatim\n",
    "\n",
    "from pyspark.sql.functions import *"
   ]
  },
  {
   "cell_type": "code",
   "execution_count": null,
   "metadata": {
    "application/vnd.databricks.v1+cell": {
     "cellMetadata": {
      "byteLimit": 2048000,
      "rowLimit": 10000
     },
     "inputWidgets": {},
     "nuid": "0293491a-9daf-48f6-901e-adc0f4d75c7f",
     "showTitle": false,
     "tableResultSettingsMap": {},
     "title": ""
    }
   },
   "outputs": [],
   "source": [
    "# Storage account info\n",
    "storage_account_name = \"capstonestoragezomato\"\n",
    "storage_account_key = \"\"\n",
    "container_name = \"cleaned-data\"\n",
    "\n",
    "# Set up the configuration\n",
    "spark.conf.set(f\"fs.azure.account.key.{storage_account_name}.blob.core.windows.net\", storage_account_key)"
   ]
  },
  {
   "cell_type": "code",
   "execution_count": null,
   "metadata": {
    "application/vnd.databricks.v1+cell": {
     "cellMetadata": {
      "byteLimit": 2048000,
      "rowLimit": 10000
     },
     "inputWidgets": {},
     "nuid": "83305834-c135-49ba-aba3-bbe0cb1806ea",
     "showTitle": false,
     "tableResultSettingsMap": {},
     "title": ""
    }
   },
   "outputs": [
    {
     "name": "stdout",
     "output_type": "stream",
     "text": [
      "+------+-------------------+-------------------+-------------------+--------------------+---------------------------+-----------------------+-----------------+-------------------+--------------------------+--------------------+--------------------+-------------+-------------+----------------+------------------+----------------+----------+-------------------+------------------+--------+-------+--------+-----------+------------+------+\n",
      "|    ID|  Time_Order_picked|        Time_Orderd|Restaurant_latitude|Restaurant_longitude|Delivery_location_longitude|Delivery_person_Ratings|Vehicle_condition|Delivery_person_Age|Delivery_location_latitude|Road_traffic_density|       unique_row_id|Type_of_order|         City|Time_taken (min)|Delivery_person_ID| Type_of_vehicle|Order_Date|multiple_deliveries|Weather_conditions|Festival|Year_ID|Month_ID|Day_of_Week|Week_of_Year|QTR_ID|\n",
      "+------+-------------------+-------------------+-------------------+--------------------+---------------------------+-----------------------+-----------------+-------------------+--------------------------+--------------------+--------------------+-------------+-------------+----------------+------------------+----------------+----------+-------------------+------------------+--------+-------+--------+-----------+------------+------+\n",
      "|0x79ed|2022-04-03 22:40:00|2022-04-03 22:35:00|          11.001753|           76.986241|                  77.016241|                    4.9|                2|                 35|                 11.031753|                 Low|c38726eb-c76c-479...|        Snack|Metropolitian|              26|   COIMBRES11DEL03|         scooter|2022-04-03|                  0|            Stormy|      No|   2022|       4|          1|          13|     2|\n",
      "|0x35b7|2022-03-10 22:25:00|2022-03-10 22:20:00|          12.972532|           77.608179|                  77.738179|                    4.8|                0|                 32|                 13.102532|                 Low|27e1be0f-3a79-45d...|         Meal|Metropolitian|              22|    BANGRES17DEL02|      motorcycle|2022-03-10|                  0|             Windy|      No|   2022|       3|          5|          10|     1|\n",
      "|0xaa77|2022-03-04 22:45:00|2022-03-04 22:35:00|                0.0|                 0.0|                       0.13|                    4.1|                0|                 31|                      0.13|                 Low|994b6e84-4469-410...|         Meal|Metropolitian|              40|  RANCHIRES12DEL02|      motorcycle|2022-03-04|                  2|               Fog|      No|   2022|       3|          6|           9|     1|\n",
      "|0x9619|2022-03-02 22:55:00|2022-03-02 22:40:00|          12.975377|           77.696664|                  77.786664|                    4.2|                0|                 31|                 13.065377|                 Low|c05f3ff5-8dd3-497...|       Buffet|Metropolitian|              41|    BANGRES15DEL03|      motorcycle|2022-03-02|                  2|               Fog|      No|   2022|       3|          4|           9|     1|\n",
      "|0x2234|2022-03-21 10:25:00|2022-03-21 10:20:00|          11.003008|            76.97544|                   76.98544|                    4.8|                2|                 35|                 11.013008|                 Low|8435f405-ec89-4db...|        Snack|Metropolitian|              25|  COIMBRES010DEL01|         scooter|2022-03-21|                  1|             Windy|      No|   2022|       3|          2|          12|     1|\n",
      "|0x2875|2022-03-07 10:00:00|2022-03-07 09:55:00|          18.516216|           73.842527|                  73.862527|                    4.6|                2|                 27|                 18.536216|                 Low|9819d7ca-ac3b-475...|       Drinks|Metropolitian|              13|    PUNERES14DEL02|         scooter|2022-03-07|                  1|               Fog|      No|   2022|       3|          2|          10|     1|\n",
      "|0x3a8f|2022-04-02 23:25:00|2022-04-02 23:20:00|          18.530963|           73.828972|                  73.958972|                    3.9|                1|                 39|                 18.660963|                 Low|1d5f7c33-8796-4ad...|       Drinks|Metropolitian|              38|    PUNERES17DEL02|         scooter|2022-04-02|                  2|               Fog|      No|   2022|       4|          7|          13|     2|\n",
      "|0x89fa|2022-04-02 22:30:00|2022-04-02 22:15:00|          19.131141|           72.813074|                  72.883074|                    4.8|                2|                 21|                 19.201141|                 Low|4950eb37-c906-476...|       Drinks|Metropolitian|              17|     MUMRES19DEL01|electric_scooter|2022-04-02|                  1|        Sandstorms|      No|   2022|       4|          7|          13|     2|\n",
      "|0x2b20|2022-03-25 22:45:00|2022-03-25 22:30:00|          12.321214|           76.621094|                  76.731094|                    4.6|                1|                 24|                 12.431214|                 Low|be379552-951e-49e...|       Buffet|Metropolitian|              29|    MYSRES010DEL01|         scooter|2022-03-25|                  0|             Sunny|      No|   2022|       3|          6|          12|     1|\n",
      "|0x1721|2022-03-13 10:05:00|2022-03-13 10:00:00|          22.725835|           75.887648|                  75.897648|                    4.2|                0|                 29|                 22.735835|                 Low|69f0e5aa-b0c7-4aa...|       Drinks|Metropolitian|              29|    INDORES09DEL01|      motorcycle|2022-03-13|                  0|        Sandstorms|      No|   2022|       3|          1|          10|     1|\n",
      "|0xdac2|2022-02-13 09:55:00|2022-02-13 09:45:00|          19.879631|           75.323403|                  75.333403|                    4.7|                2|                 26|                 19.889631|                 Low|287b9c97-c198-470...|         Meal|Metropolitian|              20|    AURGRES12DEL01|electric_scooter|2022-02-13|                  0|             Sunny|      No|   2022|       2|          1|           6|     1|\n",
      "| 0xac8|2022-03-25 22:55:00|2022-03-25 22:50:00|           22.31279|           73.170283|                  73.300283|                    4.9|                1|                 20|                  22.44279|                 Low|d6840aa2-956c-480...|       Drinks|Metropolitian|              28|     VADRES06DEL02|      motorcycle|2022-03-25|                  1|            Cloudy|      No|   2022|       3|          6|          12|     1|\n",
      "|0x32fd|2022-03-03 10:35:00|2022-03-03 10:25:00|                0.0|                 0.0|                       0.02|                    4.7|                2|                 24|                      0.02|                 Low|2305860b-972f-4c8...|       Drinks|Metropolitian|              21|  RANCHIRES03DEL02|electric_scooter|2022-03-03|                  1|             Sunny|      No|   2022|       3|          5|           9|     1|\n",
      "|0x405f|2022-03-13 08:35:00|2022-03-13 08:30:00|          21.186608|           72.794136|                  72.804136|                    4.8|                0|                 22|                 21.196608|                 Low|556093bc-2d83-472...|         Meal|Metropolitian|              22|     SURRES02DEL01|      motorcycle|2022-03-13|                  1|               Fog|      No|   2022|       3|          1|          10|     1|\n",
      "|0x89ad|2022-04-03 22:30:00|2022-04-03 22:15:00|          26.914142|           75.805704|                  75.865704|                    4.7|                1|                 39|                 26.974142|                 Low|0a46fb3d-1dc9-4e2...|       Buffet|Metropolitian|              29|     JAPRES02DEL03|         scooter|2022-04-03|                  1|            Stormy|      No|   2022|       4|          1|          13|     2|\n",
      "|0xc55c|2022-02-11 23:30:00|2022-02-11 23:15:00|          19.875522|           75.367127|                  75.417127|                    4.9|                1|                 34|                 19.925522|                 Low|95a5e206-66c5-455...|        Snack|Metropolitian|              19|    AURGRES05DEL02|      motorcycle|2022-02-11|                  1|               Fog|      No|   2022|       2|          6|           6|     1|\n",
      "|0xbc00|2022-03-01 10:05:00|2022-03-01 09:55:00|          18.543626|           73.905101|                  73.925101|                    4.8|                2|                 21|                 18.563626|                 Low|e9d3cdcc-5fe0-486...|       Drinks|Metropolitian|              10|    PUNERES05DEL02|         scooter|2022-03-01|                  1|            Cloudy|      No|   2022|       3|          3|           9|     1|\n",
      "|0x3d06|2022-03-03 09:50:00|2022-03-03 09:40:00|          19.120083|           72.907385|                  72.927385|                    4.9|                1|                 34|                 19.140083|                 Low|be7d2289-087f-4ec...|       Buffet|Metropolitian|              19|     MUMRES16DEL02|      motorcycle|2022-03-03|                  0|            Cloudy|      No|   2022|       3|          5|           9|     1|\n",
      "|0x54b5|2022-03-03 09:20:00|2022-03-03 09:15:00|          18.994237|           72.825553|                  72.835553|                    4.6|                1|                 27|                 19.004237|                 Low|cfc930cc-aa92-43b...|         Meal|Metropolitian|              15|     MUMRES11DEL01|         scooter|2022-03-03|                  0|               Fog|      No|   2022|       3|          5|           9|     1|\n",
      "|0x4413|2022-03-04 23:05:00|2022-03-04 22:50:00|          12.972793|           80.249982|                  80.329982|                    4.3|                2|                 37|                 13.052793|                 Low|82f534dd-4557-474...|        Snack|Metropolitian|              34|    CHENRES12DEL02|         scooter|2022-03-04|                  1|            Cloudy|      No|   2022|       3|          6|           9|     1|\n",
      "+------+-------------------+-------------------+-------------------+--------------------+---------------------------+-----------------------+-----------------+-------------------+--------------------------+--------------------+--------------------+-------------+-------------+----------------+------------------+----------------+----------+-------------------+------------------+--------+-------+--------+-----------+------------+------+\n",
      "only showing top 20 rows\n",
      "\n"
     ]
    }
   ],
   "source": [
    "blob_path_operationalAnalytics = f\"wasbs://{container_name}@{storage_account_name}.blob.core.windows.net/operational_analytics\"\n",
    "zomato_delivery_operational_analytics_df = spark.read.parquet(blob_path_operationalAnalytics)\n",
    "zomato_delivery_operational_analytics_df.show()"
   ]
  },
  {
   "cell_type": "code",
   "execution_count": null,
   "metadata": {
    "application/vnd.databricks.v1+cell": {
     "cellMetadata": {
      "byteLimit": 2048000,
      "rowLimit": 10000
     },
     "inputWidgets": {},
     "nuid": "d289f7f0-6df0-49bf-885b-1ecc37f4b738",
     "showTitle": false,
     "tableResultSettingsMap": {},
     "title": ""
    }
   },
   "outputs": [],
   "source": [
    "zomato_delivery_operational_analytics_df.createOrReplaceTempView('operationalAnalytics')"
   ]
  },
  {
   "cell_type": "code",
   "execution_count": null,
   "metadata": {
    "application/vnd.databricks.v1+cell": {
     "cellMetadata": {
      "byteLimit": 2048000,
      "rowLimit": 10000
     },
     "inputWidgets": {},
     "nuid": "624b8ead-d041-42be-8f36-38831a6828c1",
     "showTitle": false,
     "tableResultSettingsMap": {},
     "title": ""
    }
   },
   "outputs": [
    {
     "name": "stdout",
     "output_type": "stream",
     "text": [
      "+---------------+--------------------+-------------+------------+--------------------+-----+------+------------+--------------+--------------------+----------+--------------------+-----------+\n",
      "|Delivery_Rating|           Item_Name|Dining_Rating|     Cuisine|          Place_Name|Votes|Prices|Dining_Votes|Delivery_Votes|       unique_row_id|      City|     Restaurant_Name|Best_Seller|\n",
      "+---------------+--------------------+-------------+------------+--------------------+-----+------+------------+--------------+--------------------+----------+--------------------+-----------+\n",
      "|            3.7|   Cheese Corn Balls|          4.1|       Pizza|         Civil Lines|   15|199.99|         154|             0|2b4ea3c2-634b-414...|    Raipur|            Veggiies|       null|\n",
      "|            3.9|     Lal Peda [1 kg]|          3.3|     Chinese|        Indira Nagar|    0| 540.0|          13|             0|b3f5b5a2-d8a9-425...|   Lucknow|Pawan Sweet & Bho...| BESTSELLER|\n",
      "|            3.6|Veg Paneer Mayo T...|     3.822226|   Fast Food|        Vishrantwadi|   10|  70.0|           0|           479|2745f69f-c2e6-412...|      Pune|New Bombay Sandwi...|       null|\n",
      "|            3.9|      Mutton Khichda|     3.822226|       Rolls|         Lower Parel|    6| 379.0|           0|             0|ae27174e-a121-41d...|    Mumbai|           Go Biryan|   MUST TRY|\n",
      "|            4.3|Tangdi Kebab Leg ...|     3.822226|North Indian|           Charminar|    0| 220.0|           3|           743|b66b15d5-fc74-490...| Hyderabad|   Redaan Restaurant|       null|\n",
      "|            3.7|Red Velvet Lava Cake|          3.2|    Desserts|           Ravipuram|    5| 145.0|         367|             0|d858ab0f-9238-4ae...|     Kochi|      Domino's Pizza|       null|\n",
      "|            4.4|1 Mousse Jar and ...|     3.822226|       Pizza|             Entally|    7| 449.0|           0|             0|718dfa51-00e8-46f...|   Kolkata|           Mama Mia!| BESTSELLER|\n",
      "|            4.1|        Chana Masala|          4.0|     Sichuan|     Thousand Lights|    0| 308.0|         848|             0|b5abadab-ffba-4b0...|   Chennai|   Savoury Sea Shell|       null|\n",
      "|            3.7|1 Gobi Methi Pyaz...|          3.9|   Beverages|            Ambavadi|    0| 199.0|           4|           546|3f25954b-bfed-495...| Ahmedabad|Amritsar Punjab P...|       null|\n",
      "|            3.8|   Paneer Fried Rice|          3.5|     Chinese|            T. Nagar|   47| 230.0|          31|             0|e7d7b7c9-2aef-419...|   Chennai|    Khalids Biriyani|       null|\n",
      "|            4.0|        Mango Coloda|          4.2|   Beverages|             Meerpet|    0| 120.0|         495|             0|30e13768-3738-403...| Hyderabad| Hotel Swagath Grand|       null|\n",
      "|            4.1|Mushroom Cheese P...|          3.7|South Indian|    Vidhyadhar Nagar|    0| 225.0|         169|             0|27c24cc0-eeee-44a...|    Jaipur|    Tipsy Restaurant|       null|\n",
      "|            3.9|Lassi N Cafe Veg ...|          3.7|   Beverages|           Banaswadi|    0| 195.0|           3|            18|5db03ebe-8bdb-480...| Bangalore|        Lassi N Cafe|       null|\n",
      "|            4.1|      Classic Zinger|          4.1|   Beverages|        Sealdah Area|  333|199.05|         181|             0|668ef322-3a97-442...|   Kolkata|                 KFC| BESTSELLER|\n",
      "|            4.0|Chilly Chicken An...|          3.3|   Beverages|         Navrangpura|   19|724.79|          34|             0|0f903a93-7101-43d...| Ahmedabad|         Marky Momos| BESTSELLER|\n",
      "|            4.4|    Mineral Water 1L|          4.3|     Seafood|      Residency Road|   24| 19.05|           0|             0|86e8a806-aff2-4a8...| Bangalore|       Meghana Foods| Not on Pro|\n",
      "|            4.0|        Chicken Wrap|     3.822226|   Beverages|             Gurukul|   41| 240.0|           0|             0|9721537e-2edf-40b...| Ahmedabad|Anjoy Latenight M...|       null|\n",
      "|            3.8| Americano Pasta Veg|          3.6|   Fast Food|         Kankurgachi|   13| 195.0|          26|           944|27819064-3032-4db...|   Kolkata|     La Pino'z Pizza|       null|\n",
      "|            3.7|7 Layer Burrito M...|          4.3|       Wraps|The Next Galleria...|    0| 388.0|         117|             0|2f9f239f-0d0d-4d1...| Hyderabad|           Taco Bell|       null|\n",
      "|            3.6|          Pink Pasta|          3.0|   Beverages|           Pink City|   16| 120.0|          14|             0|3d69d358-7b20-479...|    Jaipur|     Pizza Unlimited|       null|\n",
      "+---------------+--------------------+-------------+------------+--------------------+-----+------+------------+--------------+--------------------+----------+--------------------+-----------+\n",
      "only showing top 20 rows\n",
      "\n"
     ]
    }
   ],
   "source": [
    "blob_path_metropolitanData = f\"wasbs://{container_name}@{storage_account_name}.blob.core.windows.net/metropolitan_data\"\n",
    "zomato_dataset_metropolitan_df = spark.read.parquet(blob_path_metropolitanData)\n",
    "zomato_dataset_metropolitan_df.show()"
   ]
  },
  {
   "cell_type": "code",
   "execution_count": null,
   "metadata": {
    "application/vnd.databricks.v1+cell": {
     "cellMetadata": {
      "byteLimit": 2048000,
      "rowLimit": 10000
     },
     "inputWidgets": {},
     "nuid": "00c5d0ef-9370-4e48-88c8-e6e7e5812db5",
     "showTitle": false,
     "tableResultSettingsMap": {},
     "title": ""
    }
   },
   "outputs": [],
   "source": [
    "zomato_dataset_metropolitan_df.createOrReplaceTempView('metropolitanData')"
   ]
  },
  {
   "cell_type": "code",
   "execution_count": null,
   "metadata": {
    "application/vnd.databricks.v1+cell": {
     "cellMetadata": {
      "byteLimit": 2048000,
      "implicitDf": true,
      "rowLimit": 10000
     },
     "inputWidgets": {},
     "nuid": "15cfa72a-c72e-47a6-8e91-8cfddc6208a8",
     "showTitle": false,
     "tableResultSettingsMap": {},
     "title": ""
    }
   },
   "outputs": [],
   "source": [
    "%sql\n",
    "-- Test area\n",
    "-- SELECT DISTINCT City\n",
    "-- FROM metropolitanData\n",
    "-- ORDER BY City"
   ]
  },
  {
   "cell_type": "code",
   "execution_count": null,
   "metadata": {
    "application/vnd.databricks.v1+cell": {
     "cellMetadata": {
      "byteLimit": 2048000,
      "implicitDf": true,
      "rowLimit": 10000
     },
     "inputWidgets": {},
     "nuid": "4d5729a8-4d1d-456f-9e79-dd22ba8f74b1",
     "showTitle": false,
     "tableResultSettingsMap": {},
     "title": ""
    }
   },
   "outputs": [
    {
     "data": {
      "text/html": [
       "<style scoped>\n",
       "  .table-result-container {\n",
       "    max-height: 300px;\n",
       "    overflow: auto;\n",
       "  }\n",
       "  table, th, td {\n",
       "    border: 1px solid black;\n",
       "    border-collapse: collapse;\n",
       "  }\n",
       "  th, td {\n",
       "    padding: 5px;\n",
       "  }\n",
       "  th {\n",
       "    text-align: left;\n",
       "  }\n",
       "</style><div class='table-result-container'><table class='table-result'><thead style='background-color: white'><tr><th>different_items</th></tr></thead><tbody><tr><td>55687</td></tr></tbody></table></div>"
      ]
     },
     "metadata": {
      "application/vnd.databricks.v1+output": {
       "addedWidgets": {},
       "aggData": [],
       "aggError": "",
       "aggOverflow": false,
       "aggSchema": [],
       "aggSeriesLimitReached": false,
       "aggType": "",
       "arguments": {},
       "columnCustomDisplayInfos": {},
       "data": [
        [
         55687
        ]
       ],
       "datasetInfos": [],
       "dbfsResultPath": null,
       "isJsonSchema": true,
       "metadata": {},
       "overflow": false,
       "plotOptions": {
        "customPlotOptions": {},
        "displayType": "table",
        "pivotAggregation": null,
        "pivotColumns": null,
        "xColumns": null,
        "yColumns": null
       },
       "removedWidgets": [],
       "schema": [
        {
         "metadata": "{}",
         "name": "different_items",
         "type": "\"long\""
        }
       ],
       "type": "table"
      }
     },
     "output_type": "display_data"
    },
    {
     "data": {
      "text/plain": [
       "Databricks visualization. Run in Databricks to view."
      ]
     },
     "metadata": {
      "application/vnd.databricks.v1.subcommand+json": {
       "baseErrorDetails": null,
       "bindings": {},
       "collapsed": false,
       "command": "%sql\nSELECT COUNT(DISTINCT Item_Name) AS different_items\nFROM metropolitanData",
       "commandTitle": "Visualization 1",
       "commandType": "auto",
       "commandVersion": 0,
       "commentThread": [],
       "commentsVisible": false,
       "contentSha256Hex": null,
       "customPlotOptions": {
        "redashChart": [
         {
          "key": "type",
          "value": "COUNTER"
         },
         {
          "key": "options",
          "value": {
           "countRow": false,
           "counterColName": "different_items",
           "counterLabel": "Unique Food Items",
           "rowNumber": 1,
           "stringDecChar": ".",
           "stringDecimal": 0,
           "stringThouSep": ",",
           "targetColName": "",
           "targetRowNumber": 1,
           "tooltipFormat": "0,0.000"
          }
         }
        ]
       },
       "datasetPreviewNameToCmdIdMap": {},
       "diffDeletes": [],
       "diffInserts": [],
       "displayType": "redashChart",
       "error": null,
       "errorDetails": null,
       "errorSummary": null,
       "errorTraceType": null,
       "finishTime": 0,
       "globalVars": {},
       "guid": "",
       "height": "auto",
       "hideCommandCode": false,
       "hideCommandResult": false,
       "iPythonMetadata": null,
       "inputWidgets": {},
       "isLockedInExamMode": false,
       "latestUser": "a user",
       "latestUserId": null,
       "listResultMetadata": null,
       "metadata": {
        "byteLimit": 2048000,
        "implicitDf": true,
        "rowLimit": 10000
       },
       "nuid": "03479479-a07f-4573-aceb-ab00e375bae1",
       "origId": 0,
       "parentHierarchy": [],
       "pivotAggregation": null,
       "pivotColumns": null,
       "position": 5.75,
       "resultDbfsErrorMessage": null,
       "resultDbfsStatus": "INLINED_IN_TREE",
       "results": null,
       "showCommandTitle": false,
       "startTime": 0,
       "state": "finished",
       "streamStates": {},
       "subcommandOptions": {},
       "submitTime": 0,
       "subtype": "tableResultSubCmd.visualization",
       "tableResultIndex": 0,
       "tableResultSettingsMap": {},
       "useConsistentColors": false,
       "version": "CommandV1",
       "width": "auto",
       "workflows": [],
       "xColumns": null,
       "yColumns": null
      }
     },
     "output_type": "display_data"
    }
   ],
   "source": [
    "%sql\n",
    "SELECT COUNT(DISTINCT Item_Name) AS different_items\n",
    "FROM metropolitanData"
   ]
  },
  {
   "cell_type": "code",
   "execution_count": null,
   "metadata": {
    "application/vnd.databricks.v1+cell": {
     "cellMetadata": {
      "byteLimit": 2048000,
      "implicitDf": true,
      "rowLimit": 10000
     },
     "inputWidgets": {},
     "nuid": "a833e2c8-46af-451c-8d5d-1c079320d0c1",
     "showTitle": false,
     "tableResultSettingsMap": {},
     "title": ""
    }
   },
   "outputs": [
    {
     "data": {
      "text/html": [
       "<style scoped>\n",
       "  .table-result-container {\n",
       "    max-height: 300px;\n",
       "    overflow: auto;\n",
       "  }\n",
       "  table, th, td {\n",
       "    border: 1px solid black;\n",
       "    border-collapse: collapse;\n",
       "  }\n",
       "  th, td {\n",
       "    padding: 5px;\n",
       "  }\n",
       "  th {\n",
       "    text-align: left;\n",
       "  }\n",
       "</style><div class='table-result-container'><table class='table-result'><thead style='background-color: white'><tr><th>different_restaurant_vendors</th></tr></thead><tbody><tr><td>826</td></tr></tbody></table></div>"
      ]
     },
     "metadata": {
      "application/vnd.databricks.v1+output": {
       "addedWidgets": {},
       "aggData": [],
       "aggError": "",
       "aggOverflow": false,
       "aggSchema": [],
       "aggSeriesLimitReached": false,
       "aggType": "",
       "arguments": {},
       "columnCustomDisplayInfos": {},
       "data": [
        [
         826
        ]
       ],
       "datasetInfos": [],
       "dbfsResultPath": null,
       "isJsonSchema": true,
       "metadata": {},
       "overflow": false,
       "plotOptions": {
        "customPlotOptions": {},
        "displayType": "table",
        "pivotAggregation": null,
        "pivotColumns": null,
        "xColumns": null,
        "yColumns": null
       },
       "removedWidgets": [],
       "schema": [
        {
         "metadata": "{}",
         "name": "different_restaurant_vendors",
         "type": "\"long\""
        }
       ],
       "type": "table"
      }
     },
     "output_type": "display_data"
    },
    {
     "data": {
      "text/plain": [
       "Databricks visualization. Run in Databricks to view."
      ]
     },
     "metadata": {
      "application/vnd.databricks.v1.subcommand+json": {
       "baseErrorDetails": null,
       "bindings": {},
       "collapsed": false,
       "command": "%sql\nSELECT COUNT(DISTINCT Restaurant_Name) AS different_restaurant_vendors\nFROM metropolitanData",
       "commandTitle": "Visualization 1",
       "commandType": "auto",
       "commandVersion": 0,
       "commentThread": [],
       "commentsVisible": false,
       "contentSha256Hex": null,
       "customPlotOptions": {
        "redashChart": [
         {
          "key": "type",
          "value": "COUNTER"
         },
         {
          "key": "options",
          "value": {
           "counterColName": "different_restaurant_vendors",
           "counterLabel": "Restaurant Chains",
           "rowNumber": 1,
           "stringDecChar": ".",
           "stringDecimal": 0,
           "stringThouSep": ",",
           "targetRowNumber": 1,
           "tooltipFormat": "0,0.000"
          }
         }
        ]
       },
       "datasetPreviewNameToCmdIdMap": {},
       "diffDeletes": [],
       "diffInserts": [],
       "displayType": "redashChart",
       "error": null,
       "errorDetails": null,
       "errorSummary": null,
       "errorTraceType": null,
       "finishTime": 0,
       "globalVars": {},
       "guid": "",
       "height": "auto",
       "hideCommandCode": false,
       "hideCommandResult": false,
       "iPythonMetadata": null,
       "inputWidgets": {},
       "isLockedInExamMode": false,
       "latestUser": "a user",
       "latestUserId": null,
       "listResultMetadata": null,
       "metadata": {
        "byteLimit": 2048000,
        "implicitDf": true,
        "rowLimit": 10000
       },
       "nuid": "3db5310e-fab3-432f-ba2a-ea9b4b4219ec",
       "origId": 0,
       "parentHierarchy": [],
       "pivotAggregation": null,
       "pivotColumns": null,
       "position": 5.875,
       "resultDbfsErrorMessage": null,
       "resultDbfsStatus": "INLINED_IN_TREE",
       "results": null,
       "showCommandTitle": false,
       "startTime": 0,
       "state": "finished",
       "streamStates": {},
       "subcommandOptions": {},
       "submitTime": 0,
       "subtype": "tableResultSubCmd.visualization",
       "tableResultIndex": 0,
       "tableResultSettingsMap": {},
       "useConsistentColors": false,
       "version": "CommandV1",
       "width": "auto",
       "workflows": [],
       "xColumns": null,
       "yColumns": null
      }
     },
     "output_type": "display_data"
    }
   ],
   "source": [
    "%sql\n",
    "SELECT COUNT(DISTINCT Restaurant_Name) AS different_restaurant_vendors\n",
    "FROM metropolitanData"
   ]
  },
  {
   "cell_type": "code",
   "execution_count": null,
   "metadata": {
    "application/vnd.databricks.v1+cell": {
     "cellMetadata": {
      "byteLimit": 2048000,
      "implicitDf": true,
      "rowLimit": 10000
     },
     "inputWidgets": {},
     "nuid": "0db2651e-adab-4496-a70a-598169c12810",
     "showTitle": false,
     "tableResultSettingsMap": {},
     "title": ""
    }
   },
   "outputs": [
    {
     "data": {
      "text/html": [
       "<style scoped>\n",
       "  .table-result-container {\n",
       "    max-height: 300px;\n",
       "    overflow: auto;\n",
       "  }\n",
       "  table, th, td {\n",
       "    border: 1px solid black;\n",
       "    border-collapse: collapse;\n",
       "  }\n",
       "  th, td {\n",
       "    padding: 5px;\n",
       "  }\n",
       "  th {\n",
       "    text-align: left;\n",
       "  }\n",
       "</style><div class='table-result-container'><table class='table-result'><thead style='background-color: white'><tr><th>City</th><th>restaurant_count</th></tr></thead><tbody><tr><td> Hyderabad</td><td>15613</td></tr><tr><td> Jaipur</td><td>14438</td></tr><tr><td> Mumbai</td><td>13529</td></tr><tr><td> Chennai</td><td>13100</td></tr><tr><td> Bangalore</td><td>12040</td></tr><tr><td> Ahmedabad</td><td>10178</td></tr><tr><td> Kolkata</td><td>8662</td></tr><tr><td> Pune</td><td>8067</td></tr><tr><td> Kochi</td><td>7759</td></tr><tr><td> Raipur</td><td>7700</td></tr></tbody></table></div>"
      ]
     },
     "metadata": {
      "application/vnd.databricks.v1+output": {
       "addedWidgets": {},
       "aggData": [],
       "aggError": "",
       "aggOverflow": false,
       "aggSchema": [],
       "aggSeriesLimitReached": false,
       "aggType": "",
       "arguments": {},
       "columnCustomDisplayInfos": {},
       "data": [
        [
         " Hyderabad",
         15613
        ],
        [
         " Jaipur",
         14438
        ],
        [
         " Mumbai",
         13529
        ],
        [
         " Chennai",
         13100
        ],
        [
         " Bangalore",
         12040
        ],
        [
         " Ahmedabad",
         10178
        ],
        [
         " Kolkata",
         8662
        ],
        [
         " Pune",
         8067
        ],
        [
         " Kochi",
         7759
        ],
        [
         " Raipur",
         7700
        ]
       ],
       "datasetInfos": [],
       "dbfsResultPath": null,
       "isJsonSchema": true,
       "metadata": {},
       "overflow": false,
       "plotOptions": {
        "customPlotOptions": {},
        "displayType": "table",
        "pivotAggregation": null,
        "pivotColumns": null,
        "xColumns": null,
        "yColumns": null
       },
       "removedWidgets": [],
       "schema": [
        {
         "metadata": "{}",
         "name": "City",
         "type": "\"string\""
        },
        {
         "metadata": "{}",
         "name": "restaurant_count",
         "type": "\"long\""
        }
       ],
       "type": "table"
      }
     },
     "output_type": "display_data"
    },
    {
     "data": {
      "text/plain": [
       "Databricks visualization. Run in Databricks to view."
      ]
     },
     "metadata": {
      "application/vnd.databricks.v1.subcommand+json": {
       "baseErrorDetails": null,
       "bindings": {},
       "collapsed": false,
       "command": "%sql WITH q AS (SELECT City, COUNT(Restaurant_Name) AS restaurant_count\nFROM metropolitanData\nGROUP BY City\nORDER BY restaurant_count DESC\nLIMIT 10) SELECT `City`,SUM(`restaurant_count`) `column_764be0005` FROM q GROUP BY `City`",
       "commandTitle": "Visualization 1",
       "commandType": "auto",
       "commandVersion": 0,
       "commentThread": [],
       "commentsVisible": false,
       "contentSha256Hex": null,
       "customPlotOptions": {
        "redashChart": [
         {
          "key": "type",
          "value": "CHART"
         },
         {
          "key": "options",
          "value": {
           "alignYAxesAtZero": false,
           "coefficient": 1,
           "columnConfigurationMap": {
            "x": {
             "column": "City",
             "id": "column_764be0004"
            },
            "y": [
             {
              "column": "restaurant_count",
              "id": "column_764be0005",
              "transform": "SUM"
             }
            ]
           },
           "dateTimeFormat": "DD/MM/YYYY HH:mm",
           "direction": {
            "type": "counterclockwise"
           },
           "error_y": {
            "type": "data",
            "visible": true
           },
           "globalSeriesType": "column",
           "isAggregationOn": true,
           "legend": {
            "traceorder": "normal"
           },
           "missingValuesAsZero": true,
           "numberFormat": "0,0.[00000]",
           "percentFormat": "0[.]00%",
           "series": {
            "error_y": {
             "type": "data",
             "visible": true
            },
            "stacking": ""
           },
           "seriesOptions": {
            "column_764be0005": {
             "name": "restaurant_count",
             "yAxis": 0
            }
           },
           "showDataLabels": true,
           "sizemode": "diameter",
           "sortX": false,
           "sortY": true,
           "swappedAxes": true,
           "textFormat": "",
           "useAggregationsUi": true,
           "valuesOptions": {},
           "version": 2,
           "xAxis": {
            "labels": {
             "enabled": true
            },
            "title": {
             "text": "CITY"
            },
            "type": "-"
           },
           "yAxis": [
            {
             "rangeMin": 7250,
             "title": {
              "text": "Total Restaurant Count"
             },
             "type": "-"
            },
            {
             "opposite": true,
             "type": "-"
            }
           ]
          }
         }
        ]
       },
       "datasetPreviewNameToCmdIdMap": {},
       "diffDeletes": [],
       "diffInserts": [],
       "displayType": "redashChart",
       "error": null,
       "errorDetails": null,
       "errorSummary": null,
       "errorTraceType": null,
       "finishTime": 0,
       "globalVars": {},
       "guid": "",
       "height": "auto",
       "hideCommandCode": false,
       "hideCommandResult": false,
       "iPythonMetadata": null,
       "inputWidgets": {},
       "isLockedInExamMode": false,
       "latestUser": "a user",
       "latestUserId": null,
       "listResultMetadata": null,
       "metadata": {
        "byteLimit": 2048000,
        "implicitDf": true,
        "rowLimit": 10000
       },
       "nuid": "d6d38f86-c863-49b8-a5bc-57b80db5ed16",
       "origId": 0,
       "parentHierarchy": [],
       "pivotAggregation": null,
       "pivotColumns": null,
       "position": 6,
       "resultDbfsErrorMessage": null,
       "resultDbfsStatus": "INLINED_IN_TREE",
       "results": null,
       "showCommandTitle": false,
       "startTime": 0,
       "state": "finished",
       "streamStates": {},
       "subcommandOptions": {
        "queryPlan": {
         "groups": [
          {
           "column": "City",
           "type": "column"
          }
         ],
         "selects": [
          {
           "column": "City",
           "type": "column"
          },
          {
           "alias": "column_764be0005",
           "args": [
            {
             "column": "restaurant_count",
             "type": "column"
            }
           ],
           "function": "SUM",
           "type": "function"
          }
         ]
        }
       },
       "submitTime": 0,
       "subtype": "tableResultSubCmd.visualization",
       "tableResultIndex": 0,
       "tableResultSettingsMap": {},
       "useConsistentColors": false,
       "version": "CommandV1",
       "width": "auto",
       "workflows": [],
       "xColumns": null,
       "yColumns": null
      }
     },
     "output_type": "display_data"
    }
   ],
   "source": [
    "%sql\n",
    "\n",
    "-- TOP 10 cities with most restaurants\n",
    "SELECT City, COUNT(Restaurant_Name) AS restaurant_count\n",
    "FROM metropolitanData\n",
    "GROUP BY City\n",
    "ORDER BY restaurant_count DESC\n",
    "LIMIT 10"
   ]
  },
  {
   "cell_type": "code",
   "execution_count": null,
   "metadata": {
    "application/vnd.databricks.v1+cell": {
     "cellMetadata": {
      "byteLimit": 2048000,
      "implicitDf": true,
      "rowLimit": 10000
     },
     "inputWidgets": {},
     "nuid": "bcf50be2-19f9-4bd5-8ed6-7ac9899db8e4",
     "showTitle": false,
     "tableResultSettingsMap": {},
     "title": ""
    }
   },
   "outputs": [
    {
     "data": {
      "text/html": [
       "<style scoped>\n",
       "  .table-result-container {\n",
       "    max-height: 300px;\n",
       "    overflow: auto;\n",
       "  }\n",
       "  table, th, td {\n",
       "    border: 1px solid black;\n",
       "    border-collapse: collapse;\n",
       "  }\n",
       "  th, td {\n",
       "    padding: 5px;\n",
       "  }\n",
       "  th {\n",
       "    text-align: left;\n",
       "  }\n",
       "</style><div class='table-result-container'><table class='table-result'><thead style='background-color: white'><tr><th>franchise_count</th><th>City</th></tr></thead><tbody><tr><td>129</td><td> Hyderabad</td></tr><tr><td>92</td><td> Jaipur</td></tr><tr><td>87</td><td> Chennai</td></tr><tr><td>81</td><td> Bangalore</td></tr><tr><td>80</td><td> Mumbai</td></tr><tr><td>74</td><td> Ahmedabad</td></tr><tr><td>72</td><td> Kochi</td></tr><tr><td>64</td><td> Kolkata</td></tr><tr><td>60</td><td> Pune</td></tr><tr><td>57</td><td> Lucknow</td></tr></tbody></table></div>"
      ]
     },
     "metadata": {
      "application/vnd.databricks.v1+output": {
       "addedWidgets": {},
       "aggData": [],
       "aggError": "",
       "aggOverflow": false,
       "aggSchema": [],
       "aggSeriesLimitReached": false,
       "aggType": "",
       "arguments": {},
       "columnCustomDisplayInfos": {},
       "data": [
        [
         129,
         " Hyderabad"
        ],
        [
         92,
         " Jaipur"
        ],
        [
         87,
         " Chennai"
        ],
        [
         81,
         " Bangalore"
        ],
        [
         80,
         " Mumbai"
        ],
        [
         74,
         " Ahmedabad"
        ],
        [
         72,
         " Kochi"
        ],
        [
         64,
         " Kolkata"
        ],
        [
         60,
         " Pune"
        ],
        [
         57,
         " Lucknow"
        ]
       ],
       "datasetInfos": [],
       "dbfsResultPath": null,
       "isJsonSchema": true,
       "metadata": {},
       "overflow": false,
       "plotOptions": {
        "customPlotOptions": {},
        "displayType": "table",
        "pivotAggregation": null,
        "pivotColumns": null,
        "xColumns": null,
        "yColumns": null
       },
       "removedWidgets": [],
       "schema": [
        {
         "metadata": "{}",
         "name": "franchise_count",
         "type": "\"long\""
        },
        {
         "metadata": "{}",
         "name": "City",
         "type": "\"string\""
        }
       ],
       "type": "table"
      }
     },
     "output_type": "display_data"
    }
   ],
   "source": [
    "%sql\n",
    "\n",
    "-- Top 10 Cities with different restaurant franchises\n",
    "SELECT COUNT(DISTINCT Restaurant_Name) AS franchise_count, City\n",
    "FROM metropolitanData\n",
    "GROUP BY City\n",
    "ORDER BY franchise_count DESC\n",
    "LIMIT 10"
   ]
  },
  {
   "cell_type": "code",
   "execution_count": null,
   "metadata": {
    "application/vnd.databricks.v1+cell": {
     "cellMetadata": {
      "byteLimit": 2048000,
      "implicitDf": true,
      "rowLimit": 10000
     },
     "inputWidgets": {},
     "nuid": "1948bf51-304e-4309-9550-258e217c1472",
     "showTitle": false,
     "tableResultSettingsMap": {},
     "title": ""
    }
   },
   "outputs": [
    {
     "data": {
      "text/html": [
       "<style scoped>\n",
       "  .table-result-container {\n",
       "    max-height: 300px;\n",
       "    overflow: auto;\n",
       "  }\n",
       "  table, th, td {\n",
       "    border: 1px solid black;\n",
       "    border-collapse: collapse;\n",
       "  }\n",
       "  th, td {\n",
       "    padding: 5px;\n",
       "  }\n",
       "  th {\n",
       "    text-align: left;\n",
       "  }\n",
       "</style><div class='table-result-container'><table class='table-result'><thead style='background-color: white'><tr><th>City</th><th>avg_price</th></tr></thead><tbody><tr><td> Raipur</td><td>194.59</td></tr><tr><td> Malleshwaram</td><td>196.86</td></tr><tr><td> Jaipur</td><td>217.16</td></tr><tr><td> Goa</td><td>222.99</td></tr><tr><td> Ahmedabad</td><td>223.68</td></tr><tr><td> Kochi</td><td>225.95</td></tr><tr><td> Magrath Road</td><td>226.77</td></tr><tr><td> Bangalore</td><td>233.42</td></tr><tr><td> New Delhi</td><td>235.35</td></tr><tr><td> Lucknow</td><td>235.55</td></tr></tbody></table></div>"
      ]
     },
     "metadata": {
      "application/vnd.databricks.v1+output": {
       "addedWidgets": {},
       "aggData": [],
       "aggError": "",
       "aggOverflow": false,
       "aggSchema": [],
       "aggSeriesLimitReached": false,
       "aggType": "",
       "arguments": {},
       "columnCustomDisplayInfos": {},
       "data": [
        [
         " Raipur",
         194.59
        ],
        [
         " Malleshwaram",
         196.86
        ],
        [
         " Jaipur",
         217.16
        ],
        [
         " Goa",
         222.99
        ],
        [
         " Ahmedabad",
         223.68
        ],
        [
         " Kochi",
         225.95
        ],
        [
         " Magrath Road",
         226.77
        ],
        [
         " Bangalore",
         233.42
        ],
        [
         " New Delhi",
         235.35
        ],
        [
         " Lucknow",
         235.55
        ]
       ],
       "datasetInfos": [],
       "dbfsResultPath": null,
       "isJsonSchema": true,
       "metadata": {},
       "overflow": false,
       "plotOptions": {
        "customPlotOptions": {},
        "displayType": "table",
        "pivotAggregation": null,
        "pivotColumns": null,
        "xColumns": null,
        "yColumns": null
       },
       "removedWidgets": [],
       "schema": [
        {
         "metadata": "{}",
         "name": "City",
         "type": "\"string\""
        },
        {
         "metadata": "{}",
         "name": "avg_price",
         "type": "\"double\""
        }
       ],
       "type": "table"
      }
     },
     "output_type": "display_data"
    },
    {
     "data": {
      "text/plain": [
       "Databricks visualization. Run in Databricks to view."
      ]
     },
     "metadata": {
      "application/vnd.databricks.v1.subcommand+json": {
       "baseErrorDetails": null,
       "bindings": {},
       "collapsed": false,
       "command": "%sql WITH q AS (SELECT City, ROUND(AVG(Prices), 2) AS avg_price\nFROM metropolitanData\nGROUP BY City\nORDER BY avg_price ASC\nLIMIT 10) SELECT `City`,SUM(`avg_price`) `column_764be00027` FROM q GROUP BY `City`",
       "commandTitle": "Visualization 1",
       "commandType": "auto",
       "commandVersion": 0,
       "commentThread": [],
       "commentsVisible": false,
       "contentSha256Hex": null,
       "customPlotOptions": {
        "redashChart": [
         {
          "key": "type",
          "value": "CHART"
         },
         {
          "key": "options",
          "value": {
           "alignYAxesAtZero": false,
           "coefficient": 1,
           "columnConfigurationMap": {
            "x": {
             "column": "City",
             "id": "column_764be00026"
            },
            "y": [
             {
              "column": "avg_price",
              "id": "column_764be00027",
              "transform": "SUM"
             }
            ]
           },
           "dateTimeFormat": "DD/MM/YYYY HH:mm",
           "direction": {
            "type": "counterclockwise"
           },
           "error_y": {
            "type": "data",
            "visible": true
           },
           "globalSeriesType": "column",
           "isAggregationOn": true,
           "legend": {
            "traceorder": "normal"
           },
           "missingValuesAsZero": true,
           "numberFormat": "0,0.[00000]",
           "percentFormat": "0[.]00%",
           "series": {
            "error_y": {
             "type": "data",
             "visible": true
            },
            "stacking": null
           },
           "seriesOptions": {
            "column_764be00027": {
             "name": "avg_price",
             "yAxis": 0
            }
           },
           "showDataLabels": true,
           "sizemode": "diameter",
           "sortX": false,
           "sortY": true,
           "swappedAxes": true,
           "textFormat": "",
           "useAggregationsUi": true,
           "valuesOptions": {},
           "version": 2,
           "xAxis": {
            "labels": {
             "enabled": true
            },
            "type": "-"
           },
           "yAxis": [
            {
             "rangeMin": 190,
             "title": {
              "text": "Average Cost per person (in Rs.)"
             },
             "type": "-"
            },
            {
             "opposite": true,
             "type": "-"
            }
           ]
          }
         }
        ]
       },
       "datasetPreviewNameToCmdIdMap": {},
       "diffDeletes": [],
       "diffInserts": [],
       "displayType": "redashChart",
       "error": null,
       "errorDetails": null,
       "errorSummary": null,
       "errorTraceType": null,
       "finishTime": 0,
       "globalVars": {},
       "guid": "",
       "height": "auto",
       "hideCommandCode": false,
       "hideCommandResult": false,
       "iPythonMetadata": null,
       "inputWidgets": {},
       "isLockedInExamMode": false,
       "latestUser": "a user",
       "latestUserId": null,
       "listResultMetadata": null,
       "metadata": {
        "byteLimit": 2048000,
        "implicitDf": true,
        "rowLimit": 10000
       },
       "nuid": "272690db-c2d7-4a1f-9ecb-6d50a003954c",
       "origId": 0,
       "parentHierarchy": [],
       "pivotAggregation": null,
       "pivotColumns": null,
       "position": 7.5,
       "resultDbfsErrorMessage": null,
       "resultDbfsStatus": "INLINED_IN_TREE",
       "results": null,
       "showCommandTitle": false,
       "startTime": 0,
       "state": "finished",
       "streamStates": {},
       "subcommandOptions": {
        "queryPlan": {
         "groups": [
          {
           "column": "City",
           "type": "column"
          }
         ],
         "selects": [
          {
           "column": "City",
           "type": "column"
          },
          {
           "alias": "column_764be00027",
           "args": [
            {
             "column": "avg_price",
             "type": "column"
            }
           ],
           "function": "SUM",
           "type": "function"
          }
         ]
        }
       },
       "submitTime": 0,
       "subtype": "tableResultSubCmd.visualization",
       "tableResultIndex": 0,
       "tableResultSettingsMap": {},
       "useConsistentColors": false,
       "version": "CommandV1",
       "width": "auto",
       "workflows": [],
       "xColumns": null,
       "yColumns": null
      }
     },
     "output_type": "display_data"
    }
   ],
   "source": [
    "%sql\n",
    "\n",
    "-- top 10 cities with cheapest average prices\n",
    "SELECT City, ROUND(AVG(Prices), 2) AS avg_price\n",
    "FROM metropolitanData\n",
    "GROUP BY City\n",
    "ORDER BY avg_price ASC\n",
    "LIMIT 10"
   ]
  },
  {
   "cell_type": "code",
   "execution_count": null,
   "metadata": {
    "application/vnd.databricks.v1+cell": {
     "cellMetadata": {
      "byteLimit": 2048000,
      "implicitDf": true,
      "rowLimit": 10000
     },
     "inputWidgets": {},
     "nuid": "5eac1d1e-f279-4a64-b349-fb88f8452d07",
     "showTitle": false,
     "tableResultSettingsMap": {},
     "title": ""
    }
   },
   "outputs": [],
   "source": [
    "# %sql\n",
    "\n",
    "# -- Restaurant_Name ordered by Dining_Votes and Dining_Rating \n",
    "# SELECT Restaurant_Name, AVG(Dining_Votes) avg_Dining_Votes, ROUND(AVG(Dining_Rating), 3) AS avg_Dining_Rating, COUNT(*)\n",
    "# FROM metropolitanData\n",
    "# WHERE Dining_Votes>0 AND ROUND(Dining_Rating, 3)>=4.5\n",
    "# GROUP BY Restaurant_Name\n",
    "# ORDER BY avg_Dining_Votes DESC"
   ]
  },
  {
   "cell_type": "code",
   "execution_count": null,
   "metadata": {
    "application/vnd.databricks.v1+cell": {
     "cellMetadata": {
      "byteLimit": 2048000,
      "implicitDf": true,
      "rowLimit": 10000
     },
     "inputWidgets": {},
     "nuid": "3e16fe8f-80b7-4bba-bcda-7efae7ba5447",
     "showTitle": false,
     "tableResultSettingsMap": {},
     "title": ""
    }
   },
   "outputs": [
    {
     "data": {
      "text/html": [
       "<style scoped>\n",
       "  .table-result-container {\n",
       "    max-height: 300px;\n",
       "    overflow: auto;\n",
       "  }\n",
       "  table, th, td {\n",
       "    border: 1px solid black;\n",
       "    border-collapse: collapse;\n",
       "  }\n",
       "  th, td {\n",
       "    padding: 5px;\n",
       "  }\n",
       "  th {\n",
       "    text-align: left;\n",
       "  }\n",
       "</style><div class='table-result-container'><table class='table-result'><thead style='background-color: white'><tr><th>Restaurant_Name</th><th>City</th><th>avg_price</th></tr></thead><tbody><tr><td>Bole To Vadapav</td><td> Ahmedabad</td><td>40.85</td></tr><tr><td>Karnavati Dabeli</td><td> Ahmedabad</td><td>67.99</td></tr><tr><td>Jay Bhavani Vadapav</td><td> Ahmedabad</td><td>75.0</td></tr><tr><td>GOPIZZA</td><td> Banaswadi</td><td>335.89</td></tr><tr><td>Iyer Mess</td><td> Bangalore</td><td>56.57</td></tr><tr><td>Sandwich Guru</td><td> Bangalore</td><td>67.98</td></tr><tr><td>Puliyogare Point</td><td> Bangalore</td><td>69.02</td></tr><tr><td>Ibrahim Biriyani</td><td> Chennai</td><td>110.0</td></tr><tr><td>Tower Burger</td><td> Chennai</td><td>110.21</td></tr><tr><td>The Burger Cafe</td><td> Chennai</td><td>114.52</td></tr><tr><td>Patil Misal</td><td> Goa</td><td>46.85</td></tr><tr><td>Namaste Chai</td><td> Goa</td><td>75.89</td></tr><tr><td>Bhosle's Food Court</td><td> Goa</td><td>76.35</td></tr><tr><td>Tibb's Frankie - Serving Rolls Since 1969</td><td> Hyderabad</td><td>79.17</td></tr><tr><td>Govind Dosa</td><td> Hyderabad</td><td>89.49</td></tr><tr><td>Arabian Food Court</td><td> Hyderabad</td><td>93.0</td></tr><tr><td>RJ Chai Wala</td><td> Jaipur</td><td>48.15</td></tr><tr><td>Ghungroo Seth Vada Pav Company</td><td> Jaipur</td><td>81.88</td></tr><tr><td>Victorian Bakery</td><td> Jaipur</td><td>99.46</td></tr><tr><td>Tea Shack</td><td> Kochi</td><td>35.83</td></tr><tr><td>Dream Cutlets</td><td> Kochi</td><td>51.19</td></tr><tr><td>Sukumar Food Court</td><td> Kochi</td><td>62.89</td></tr><tr><td>Kreamz</td><td> Kolkata</td><td>65.21</td></tr><tr><td>I Love Haldiram</td><td> Kolkata</td><td>78.41</td></tr><tr><td>Grab Feast</td><td> Kolkata</td><td>111.0</td></tr><tr><td>Sharma Ji Ki Chai</td><td> Lucknow</td><td>61.43</td></tr><tr><td>Nukkad Cafe</td><td> Lucknow</td><td>92.4</td></tr><tr><td>Sharma Chai</td><td> Lucknow</td><td>96.59</td></tr><tr><td>Keventers Ice Cream</td><td> Magrath Road</td><td>226.77</td></tr><tr><td>Rajdhani</td><td> Malleshwaram</td><td>196.86</td></tr><tr><td>Naadbramha Idli</td><td> Mumbai</td><td>86.0</td></tr><tr><td>SP Burger</td><td> Mumbai</td><td>92.82</td></tr><tr><td>Chitale Xpress</td><td> Mumbai</td><td>105.11</td></tr><tr><td>Tite Da Dhaba</td><td> New Delhi</td><td>99.12</td></tr><tr><td>Kings Kulfi</td><td> New Delhi</td><td>106.01</td></tr><tr><td>Oven Day Pizza</td><td> New Delhi</td><td>141.78</td></tr><tr><td>Jai Bhavani Snacks Center</td><td> Pune</td><td>38.75</td></tr><tr><td>Imperial Bakery - Since 1955</td><td> Pune</td><td>51.35</td></tr><tr><td>Natural Ice Cream</td><td> Pune</td><td>76.28</td></tr><tr><td>Chai Govindam</td><td> Raipur</td><td>75.7</td></tr><tr><td>Pizza @90</td><td> Raipur</td><td>76.78</td></tr><tr><td>Sikkim Jojo</td><td> Raipur</td><td>85.38</td></tr><tr><td>Dum Safar Biryani</td><td> Ulsoor</td><td>670.24</td></tr></tbody></table></div>"
      ]
     },
     "metadata": {
      "application/vnd.databricks.v1+output": {
       "addedWidgets": {},
       "aggData": [],
       "aggError": "",
       "aggOverflow": false,
       "aggSchema": [],
       "aggSeriesLimitReached": false,
       "aggType": "",
       "arguments": {},
       "columnCustomDisplayInfos": {},
       "data": [
        [
         "Bole To Vadapav",
         " Ahmedabad",
         40.85
        ],
        [
         "Karnavati Dabeli",
         " Ahmedabad",
         67.99
        ],
        [
         "Jay Bhavani Vadapav",
         " Ahmedabad",
         75
        ],
        [
         "GOPIZZA",
         " Banaswadi",
         335.89
        ],
        [
         "Iyer Mess",
         " Bangalore",
         56.57
        ],
        [
         "Sandwich Guru",
         " Bangalore",
         67.98
        ],
        [
         "Puliyogare Point",
         " Bangalore",
         69.02
        ],
        [
         "Ibrahim Biriyani",
         " Chennai",
         110
        ],
        [
         "Tower Burger",
         " Chennai",
         110.21
        ],
        [
         "The Burger Cafe",
         " Chennai",
         114.52
        ],
        [
         "Patil Misal",
         " Goa",
         46.85
        ],
        [
         "Namaste Chai",
         " Goa",
         75.89
        ],
        [
         "Bhosle's Food Court",
         " Goa",
         76.35
        ],
        [
         "Tibb's Frankie - Serving Rolls Since 1969",
         " Hyderabad",
         79.17
        ],
        [
         "Govind Dosa",
         " Hyderabad",
         89.49
        ],
        [
         "Arabian Food Court",
         " Hyderabad",
         93
        ],
        [
         "RJ Chai Wala",
         " Jaipur",
         48.15
        ],
        [
         "Ghungroo Seth Vada Pav Company",
         " Jaipur",
         81.88
        ],
        [
         "Victorian Bakery",
         " Jaipur",
         99.46
        ],
        [
         "Tea Shack",
         " Kochi",
         35.83
        ],
        [
         "Dream Cutlets",
         " Kochi",
         51.19
        ],
        [
         "Sukumar Food Court",
         " Kochi",
         62.89
        ],
        [
         "Kreamz",
         " Kolkata",
         65.21
        ],
        [
         "I Love Haldiram",
         " Kolkata",
         78.41
        ],
        [
         "Grab Feast",
         " Kolkata",
         111
        ],
        [
         "Sharma Ji Ki Chai",
         " Lucknow",
         61.43
        ],
        [
         "Nukkad Cafe",
         " Lucknow",
         92.4
        ],
        [
         "Sharma Chai",
         " Lucknow",
         96.59
        ],
        [
         "Keventers Ice Cream",
         " Magrath Road",
         226.77
        ],
        [
         "Rajdhani",
         " Malleshwaram",
         196.86
        ],
        [
         "Naadbramha Idli",
         " Mumbai",
         86
        ],
        [
         "SP Burger",
         " Mumbai",
         92.82
        ],
        [
         "Chitale Xpress",
         " Mumbai",
         105.11
        ],
        [
         "Tite Da Dhaba",
         " New Delhi",
         99.12
        ],
        [
         "Kings Kulfi",
         " New Delhi",
         106.01
        ],
        [
         "Oven Day Pizza",
         " New Delhi",
         141.78
        ],
        [
         "Jai Bhavani Snacks Center",
         " Pune",
         38.75
        ],
        [
         "Imperial Bakery - Since 1955",
         " Pune",
         51.35
        ],
        [
         "Natural Ice Cream",
         " Pune",
         76.28
        ],
        [
         "Chai Govindam",
         " Raipur",
         75.7
        ],
        [
         "Pizza @90",
         " Raipur",
         76.78
        ],
        [
         "Sikkim Jojo",
         " Raipur",
         85.38
        ],
        [
         "Dum Safar Biryani",
         " Ulsoor",
         670.24
        ]
       ],
       "datasetInfos": [],
       "dbfsResultPath": null,
       "isJsonSchema": true,
       "metadata": {},
       "overflow": false,
       "plotOptions": {
        "customPlotOptions": {},
        "displayType": "table",
        "pivotAggregation": null,
        "pivotColumns": null,
        "xColumns": null,
        "yColumns": null
       },
       "removedWidgets": [],
       "schema": [
        {
         "metadata": "{}",
         "name": "Restaurant_Name",
         "type": "\"string\""
        },
        {
         "metadata": "{}",
         "name": "City",
         "type": "\"string\""
        },
        {
         "metadata": "{}",
         "name": "avg_price",
         "type": "\"double\""
        }
       ],
       "type": "table"
      }
     },
     "output_type": "display_data"
    },
    {
     "data": {
      "text/plain": [
       "Databricks visualization. Run in Databricks to view."
      ]
     },
     "metadata": {
      "application/vnd.databricks.v1.subcommand+json": {
       "baseErrorDetails": null,
       "bindings": {},
       "collapsed": false,
       "command": "%sql\n\n-- TOP 3 cheapest restaurants in each city\nSELECT Restaurant_Name, City, avg_price\nFROM (\n    SELECT *, DENSE_RANK() OVER (PARTITION BY City ORDER BY avg_price ASC) AS rank\n    FROM (\n        SELECT Restaurant_Name, City, \n              ROUND(AVG(Prices), 2) AS avg_price\n              -- ROUND(AVG(Delivery_Rating), 2) AS avg_Delivery_Rating, \n              -- ROUND(AVG(Dining_Rating), 2) AS avg_Dining_Rating, \n              -- ROUND(AVG(Delivery_Votes), 2) AS avg_Delivery_Votes,\n              -- ROUND(AVG(Dining_Votes), 2) AS avg_Dining_Votes \n        FROM metropolitanData\n        GROUP BY Restaurant_Name, City\n    ) AS _\n) AS _\nWHERE rank <= 3",
       "commandTitle": "Visualization 1",
       "commandType": "auto",
       "commandVersion": 0,
       "commentThread": [],
       "commentsVisible": false,
       "contentSha256Hex": null,
       "customPlotOptions": {
        "redashChart": [
         {
          "key": "type",
          "value": "TABLE"
         },
         {
          "key": "options",
          "value": {
           "columns": [
            {
             "alignContent": "left",
             "allowHTML": false,
             "allowSearch": true,
             "booleanValues": [
              "false",
              "true"
             ],
             "displayAs": "string",
             "highlightLinks": false,
             "imageHeight": "",
             "imageTitleTemplate": "{{ @ }}",
             "imageUrlTemplate": "{{ @ }}",
             "imageWidth": "",
             "linkOpenInNewTab": true,
             "linkTextTemplate": "{{ @ }}",
             "linkTitleTemplate": "{{ @ }}",
             "linkUrlTemplate": "{{ @ }}",
             "name": "Restaurant_Name",
             "order": 100000,
             "preserveWhitespace": false,
             "title": "Restaurant Name",
             "type": "string",
             "useMonospaceFont": false,
             "visible": true
            },
            {
             "alignContent": "left",
             "allowHTML": false,
             "allowSearch": true,
             "booleanValues": [
              "false",
              "true"
             ],
             "displayAs": "string",
             "highlightLinks": false,
             "imageHeight": "",
             "imageTitleTemplate": "{{ @ }}",
             "imageUrlTemplate": "{{ @ }}",
             "imageWidth": "",
             "linkOpenInNewTab": true,
             "linkTextTemplate": "{{ @ }}",
             "linkTitleTemplate": "{{ @ }}",
             "linkUrlTemplate": "{{ @ }}",
             "name": "City",
             "order": 100001,
             "preserveWhitespace": false,
             "title": "City",
             "type": "string",
             "useMonospaceFont": false,
             "visible": true
            },
            {
             "alignContent": "right",
             "allowHTML": false,
             "allowSearch": false,
             "booleanValues": [
              "false",
              "true"
             ],
             "displayAs": "number",
             "highlightLinks": false,
             "imageHeight": "",
             "imageTitleTemplate": "{{ @ }}",
             "imageUrlTemplate": "{{ @ }}",
             "imageWidth": "",
             "linkOpenInNewTab": true,
             "linkTextTemplate": "{{ @ }}",
             "linkTitleTemplate": "{{ @ }}",
             "linkUrlTemplate": "{{ @ }}",
             "name": "avg_price",
             "numberFormat": "0.00",
             "order": 100002,
             "preserveWhitespace": false,
             "title": "Avg. Price (per person)",
             "type": "float",
             "useMonospaceFont": false,
             "visible": true
            }
           ],
           "condensed": true,
           "itemsPerPage": 10,
           "paginationSize": "default",
           "version": 2,
           "withRowNumber": true
          }
         }
        ]
       },
       "datasetPreviewNameToCmdIdMap": {},
       "diffDeletes": [],
       "diffInserts": [],
       "displayType": "redashChart",
       "error": null,
       "errorDetails": null,
       "errorSummary": null,
       "errorTraceType": null,
       "finishTime": 0,
       "globalVars": {},
       "guid": "",
       "height": "427",
       "hideCommandCode": false,
       "hideCommandResult": false,
       "iPythonMetadata": null,
       "inputWidgets": {},
       "isLockedInExamMode": false,
       "latestUser": "a user",
       "latestUserId": null,
       "listResultMetadata": null,
       "metadata": {
        "byteLimit": 2048000,
        "implicitDf": true,
        "rowLimit": 10000
       },
       "nuid": "4f70c911-f6e7-443f-85f0-1c2ccd753efc",
       "origId": 0,
       "parentHierarchy": [],
       "pivotAggregation": null,
       "pivotColumns": null,
       "position": 8,
       "resultDbfsErrorMessage": null,
       "resultDbfsStatus": "INLINED_IN_TREE",
       "results": null,
       "showCommandTitle": false,
       "startTime": 0,
       "state": "finished",
       "streamStates": {},
       "subcommandOptions": {},
       "submitTime": 0,
       "subtype": "tableResultSubCmd.visualization",
       "tableResultIndex": 0,
       "tableResultSettingsMap": {},
       "useConsistentColors": false,
       "version": "CommandV1",
       "width": "auto",
       "workflows": [],
       "xColumns": null,
       "yColumns": null
      }
     },
     "output_type": "display_data"
    }
   ],
   "source": [
    "%sql\n",
    "\n",
    "-- TOP 3 cheapest restaurants in each city\n",
    "SELECT Restaurant_Name, City, avg_price\n",
    "FROM (\n",
    "    SELECT *, DENSE_RANK() OVER (PARTITION BY City ORDER BY avg_price ASC) AS rank\n",
    "    FROM (\n",
    "        SELECT Restaurant_Name, City, \n",
    "              ROUND(AVG(Prices), 2) AS avg_price\n",
    "              -- ROUND(AVG(Delivery_Rating), 2) AS avg_Delivery_Rating, \n",
    "              -- ROUND(AVG(Dining_Rating), 2) AS avg_Dining_Rating, \n",
    "              -- ROUND(AVG(Delivery_Votes), 2) AS avg_Delivery_Votes,\n",
    "              -- ROUND(AVG(Dining_Votes), 2) AS avg_Dining_Votes \n",
    "        FROM metropolitanData\n",
    "        GROUP BY Restaurant_Name, City\n",
    "    ) AS _\n",
    ") AS _\n",
    "WHERE rank <= 3"
   ]
  },
  {
   "cell_type": "code",
   "execution_count": null,
   "metadata": {
    "application/vnd.databricks.v1+cell": {
     "cellMetadata": {
      "byteLimit": 2048000,
      "implicitDf": true,
      "rowLimit": 10000
     },
     "inputWidgets": {},
     "nuid": "eea004c9-3591-4327-8006-3c5a679f98ce",
     "showTitle": false,
     "tableResultSettingsMap": {},
     "title": ""
    }
   },
   "outputs": [
    {
     "data": {
      "text/html": [
       "<style scoped>\n",
       "  .table-result-container {\n",
       "    max-height: 300px;\n",
       "    overflow: auto;\n",
       "  }\n",
       "  table, th, td {\n",
       "    border: 1px solid black;\n",
       "    border-collapse: collapse;\n",
       "  }\n",
       "  th, td {\n",
       "    padding: 5px;\n",
       "  }\n",
       "  th {\n",
       "    text-align: left;\n",
       "  }\n",
       "</style><div class='table-result-container'><table class='table-result'><thead style='background-color: white'><tr><th>Restaurant_Name</th><th>City</th><th>unique_items</th></tr></thead><tbody><tr><td>Prithvi Hotel</td><td> Ahmedabad</td><td>316</td></tr><tr><td>P. Bhagat Tarachand</td><td> Ahmedabad</td><td>278</td></tr><tr><td>Fayrouz</td><td> Ahmedabad</td><td>278</td></tr><tr><td>GOPIZZA</td><td> Banaswadi</td><td>85</td></tr><tr><td>FreshMenu</td><td> Bangalore</td><td>339</td></tr><tr><td>Roti Ghar</td><td> Bangalore</td><td>281</td></tr><tr><td>Beijing Bites</td><td> Bangalore</td><td>248</td></tr><tr><td>Savoury Sea Shell</td><td> Chennai</td><td>558</td></tr><tr><td>Liza Restaurant</td><td> Chennai</td><td>369</td></tr><tr><td>Babal Da Punjabi Dabha</td><td> Chennai</td><td>357</td></tr><tr><td>Ritz Classic</td><td> Goa</td><td>374</td></tr><tr><td>NR - Navaratna Udupi Pure Veg</td><td> Goa</td><td>251</td></tr><tr><td>Shivam Classic</td><td> Goa</td><td>190</td></tr><tr><td>Capital Multi Cuisine Restaurant</td><td> Hyderabad</td><td>350</td></tr><tr><td>Santosh Dhaba</td><td> Hyderabad</td><td>292</td></tr><tr><td>Cafe 555 & Aqeeq Restaurant</td><td> Hyderabad</td><td>252</td></tr><tr><td>The Momoz Hub</td><td> Jaipur</td><td>670</td></tr><tr><td>Kanha</td><td> Jaipur</td><td>443</td></tr><tr><td>Agarwal Caterers</td><td> Jaipur</td><td>287</td></tr><tr><td>Thaal Kitchen</td><td> Kochi</td><td>275</td></tr><tr><td>Ceylon Bake House</td><td> Kochi</td><td>257</td></tr><tr><td>McDonald's</td><td> Kochi</td><td>231</td></tr><tr><td>Hatari</td><td> Kolkata</td><td>336</td></tr><tr><td>Chowman</td><td> Kolkata</td><td>332</td></tr><tr><td>Sher-E-Punjab</td><td> Kolkata</td><td>286</td></tr><tr><td>Neelkanth Sweets</td><td> Lucknow</td><td>316</td></tr><tr><td>The Hazelnut Factory</td><td> Lucknow</td><td>266</td></tr><tr><td>Spice Village</td><td> Lucknow</td><td>248</td></tr><tr><td>Keventers Ice Cream</td><td> Magrath Road</td><td>35</td></tr><tr><td>Rajdhani</td><td> Malleshwaram</td><td>31</td></tr><tr><td>Raj Restaurant</td><td> Mumbai</td><td>525</td></tr><tr><td>Casa Blanca</td><td> Mumbai</td><td>473</td></tr><tr><td>Apoorva Delicacies</td><td> Mumbai</td><td>428</td></tr><tr><td>Hira Sweets</td><td> New Delhi</td><td>349</td></tr><tr><td>Anju Sweets</td><td> New Delhi</td><td>260</td></tr><tr><td>Delhi Darbar Dhaba</td><td> New Delhi</td><td>237</td></tr><tr><td>The Chinese Wok</td><td> Pune</td><td>376</td></tr><tr><td>Roopali Veg</td><td> Pune</td><td>347</td></tr><tr><td>RK Pure Veg</td><td> Pune</td><td>314</td></tr><tr><td>Urban Biryani</td><td> Raipur</td><td>431</td></tr><tr><td>Axis Juice</td><td> Raipur</td><td>391</td></tr><tr><td>Moti Mahal</td><td> Raipur</td><td>302</td></tr><tr><td>Dum Safar Biryani</td><td> Ulsoor</td><td>54</td></tr></tbody></table></div>"
      ]
     },
     "metadata": {
      "application/vnd.databricks.v1+output": {
       "addedWidgets": {},
       "aggData": [],
       "aggError": "",
       "aggOverflow": false,
       "aggSchema": [],
       "aggSeriesLimitReached": false,
       "aggType": "",
       "arguments": {},
       "columnCustomDisplayInfos": {},
       "data": [
        [
         "Prithvi Hotel",
         " Ahmedabad",
         316
        ],
        [
         "P. Bhagat Tarachand",
         " Ahmedabad",
         278
        ],
        [
         "Fayrouz",
         " Ahmedabad",
         278
        ],
        [
         "GOPIZZA",
         " Banaswadi",
         85
        ],
        [
         "FreshMenu",
         " Bangalore",
         339
        ],
        [
         "Roti Ghar",
         " Bangalore",
         281
        ],
        [
         "Beijing Bites",
         " Bangalore",
         248
        ],
        [
         "Savoury Sea Shell",
         " Chennai",
         558
        ],
        [
         "Liza Restaurant",
         " Chennai",
         369
        ],
        [
         "Babal Da Punjabi Dabha",
         " Chennai",
         357
        ],
        [
         "Ritz Classic",
         " Goa",
         374
        ],
        [
         "NR - Navaratna Udupi Pure Veg",
         " Goa",
         251
        ],
        [
         "Shivam Classic",
         " Goa",
         190
        ],
        [
         "Capital Multi Cuisine Restaurant",
         " Hyderabad",
         350
        ],
        [
         "Santosh Dhaba",
         " Hyderabad",
         292
        ],
        [
         "Cafe 555 & Aqeeq Restaurant",
         " Hyderabad",
         252
        ],
        [
         "The Momoz Hub",
         " Jaipur",
         670
        ],
        [
         "Kanha",
         " Jaipur",
         443
        ],
        [
         "Agarwal Caterers",
         " Jaipur",
         287
        ],
        [
         "Thaal Kitchen",
         " Kochi",
         275
        ],
        [
         "Ceylon Bake House",
         " Kochi",
         257
        ],
        [
         "McDonald's",
         " Kochi",
         231
        ],
        [
         "Hatari",
         " Kolkata",
         336
        ],
        [
         "Chowman",
         " Kolkata",
         332
        ],
        [
         "Sher-E-Punjab",
         " Kolkata",
         286
        ],
        [
         "Neelkanth Sweets",
         " Lucknow",
         316
        ],
        [
         "The Hazelnut Factory",
         " Lucknow",
         266
        ],
        [
         "Spice Village",
         " Lucknow",
         248
        ],
        [
         "Keventers Ice Cream",
         " Magrath Road",
         35
        ],
        [
         "Rajdhani",
         " Malleshwaram",
         31
        ],
        [
         "Raj Restaurant",
         " Mumbai",
         525
        ],
        [
         "Casa Blanca",
         " Mumbai",
         473
        ],
        [
         "Apoorva Delicacies",
         " Mumbai",
         428
        ],
        [
         "Hira Sweets",
         " New Delhi",
         349
        ],
        [
         "Anju Sweets",
         " New Delhi",
         260
        ],
        [
         "Delhi Darbar Dhaba",
         " New Delhi",
         237
        ],
        [
         "The Chinese Wok",
         " Pune",
         376
        ],
        [
         "Roopali Veg",
         " Pune",
         347
        ],
        [
         "RK Pure Veg",
         " Pune",
         314
        ],
        [
         "Urban Biryani",
         " Raipur",
         431
        ],
        [
         "Axis Juice",
         " Raipur",
         391
        ],
        [
         "Moti Mahal",
         " Raipur",
         302
        ],
        [
         "Dum Safar Biryani",
         " Ulsoor",
         54
        ]
       ],
       "datasetInfos": [],
       "dbfsResultPath": null,
       "isJsonSchema": true,
       "metadata": {},
       "overflow": false,
       "plotOptions": {
        "customPlotOptions": {},
        "displayType": "table",
        "pivotAggregation": null,
        "pivotColumns": null,
        "xColumns": null,
        "yColumns": null
       },
       "removedWidgets": [],
       "schema": [
        {
         "metadata": "{}",
         "name": "Restaurant_Name",
         "type": "\"string\""
        },
        {
         "metadata": "{}",
         "name": "City",
         "type": "\"string\""
        },
        {
         "metadata": "{}",
         "name": "unique_items",
         "type": "\"long\""
        }
       ],
       "type": "table"
      }
     },
     "output_type": "display_data"
    },
    {
     "data": {
      "text/plain": [
       "Databricks visualization. Run in Databricks to view."
      ]
     },
     "metadata": {
      "application/vnd.databricks.v1.subcommand+json": {
       "baseErrorDetails": null,
       "bindings": {},
       "collapsed": false,
       "command": "%sql\n\n-- Top 3 restaurants in each city with different food choices\nSELECT Restaurant_Name, City, unique_items\nFROM (\n    SELECT *, ROW_NUMBER() OVER (PARTITION BY City ORDER BY unique_items DESC) AS rank\n    FROM (\n        SELECT Restaurant_Name, City, COUNT(DISTINCT Item_Name) AS unique_items\n        FROM metropolitanData\n        GROUP BY Restaurant_Name, City\n    ) AS _\n) AS _\nWHERE rank <= 3 ",
       "commandTitle": "Visualization 2",
       "commandType": "auto",
       "commandVersion": 0,
       "commentThread": [],
       "commentsVisible": false,
       "contentSha256Hex": null,
       "customPlotOptions": {
        "redashChart": [
         {
          "key": "type",
          "value": "TABLE"
         },
         {
          "key": "options",
          "value": {
           "columns": [
            {
             "alignContent": "left",
             "allowHTML": false,
             "allowSearch": false,
             "booleanValues": [
              "false",
              "true"
             ],
             "displayAs": "string",
             "highlightLinks": false,
             "imageHeight": "",
             "imageTitleTemplate": "{{ @ }}",
             "imageUrlTemplate": "{{ @ }}",
             "imageWidth": "",
             "linkOpenInNewTab": true,
             "linkTextTemplate": "{{ @ }}",
             "linkTitleTemplate": "{{ @ }}",
             "linkUrlTemplate": "{{ @ }}",
             "name": "Restaurant_Name",
             "order": 100000,
             "preserveWhitespace": false,
             "title": "Restaurant Name",
             "type": "string",
             "useMonospaceFont": false,
             "visible": true
            },
            {
             "alignContent": "left",
             "allowHTML": false,
             "allowSearch": false,
             "booleanValues": [
              "false",
              "true"
             ],
             "displayAs": "string",
             "highlightLinks": false,
             "imageHeight": "",
             "imageTitleTemplate": "{{ @ }}",
             "imageUrlTemplate": "{{ @ }}",
             "imageWidth": "",
             "linkOpenInNewTab": true,
             "linkTextTemplate": "{{ @ }}",
             "linkTitleTemplate": "{{ @ }}",
             "linkUrlTemplate": "{{ @ }}",
             "name": "City",
             "order": 100001,
             "preserveWhitespace": false,
             "title": "City",
             "type": "string",
             "useMonospaceFont": false,
             "visible": true
            },
            {
             "alignContent": "right",
             "allowHTML": false,
             "allowSearch": false,
             "booleanValues": [
              "false",
              "true"
             ],
             "displayAs": "number",
             "highlightLinks": false,
             "imageHeight": "",
             "imageTitleTemplate": "{{ @ }}",
             "imageUrlTemplate": "{{ @ }}",
             "imageWidth": "",
             "linkOpenInNewTab": true,
             "linkTextTemplate": "{{ @ }}",
             "linkTitleTemplate": "{{ @ }}",
             "linkUrlTemplate": "{{ @ }}",
             "name": "unique_items",
             "numberFormat": "0",
             "order": 100002,
             "preserveWhitespace": false,
             "title": "Unique Items",
             "type": "integer",
             "useMonospaceFont": false,
             "visible": true
            }
           ],
           "condensed": true,
           "itemsPerPage": 10,
           "paginationSize": "default",
           "version": 2,
           "withRowNumber": false
          }
         }
        ]
       },
       "datasetPreviewNameToCmdIdMap": {},
       "diffDeletes": [],
       "diffInserts": [],
       "displayType": "redashChart",
       "error": null,
       "errorDetails": null,
       "errorSummary": null,
       "errorTraceType": null,
       "finishTime": 0,
       "globalVars": {},
       "guid": "",
       "height": "auto",
       "hideCommandCode": false,
       "hideCommandResult": false,
       "iPythonMetadata": null,
       "inputWidgets": {},
       "isLockedInExamMode": false,
       "latestUser": "a user",
       "latestUserId": null,
       "listResultMetadata": null,
       "metadata": {
        "byteLimit": 2048000,
        "implicitDf": true,
        "rowLimit": 10000
       },
       "nuid": "edd36cf8-96d2-42cd-9ebe-2800679a1418",
       "origId": 0,
       "parentHierarchy": [],
       "pivotAggregation": null,
       "pivotColumns": null,
       "position": 10,
       "resultDbfsErrorMessage": null,
       "resultDbfsStatus": "INLINED_IN_TREE",
       "results": null,
       "showCommandTitle": false,
       "startTime": 0,
       "state": "finished",
       "streamStates": {},
       "subcommandOptions": {},
       "submitTime": 0,
       "subtype": "tableResultSubCmd.visualization",
       "tableResultIndex": 0,
       "tableResultSettingsMap": {},
       "useConsistentColors": false,
       "version": "CommandV1",
       "width": "auto",
       "workflows": [],
       "xColumns": null,
       "yColumns": null
      }
     },
     "output_type": "display_data"
    }
   ],
   "source": [
    "%sql\n",
    "\n",
    "-- Top 3 restaurants in each city with different food choices\n",
    "SELECT Restaurant_Name, City, unique_items\n",
    "FROM (\n",
    "    SELECT *, ROW_NUMBER() OVER (PARTITION BY City ORDER BY unique_items DESC) AS rank\n",
    "    FROM (\n",
    "        SELECT Restaurant_Name, City, COUNT(DISTINCT Item_Name) AS unique_items\n",
    "        FROM metropolitanData\n",
    "        GROUP BY Restaurant_Name, City\n",
    "    ) AS _\n",
    ") AS _\n",
    "WHERE rank <= 3 "
   ]
  },
  {
   "cell_type": "code",
   "execution_count": null,
   "metadata": {
    "application/vnd.databricks.v1+cell": {
     "cellMetadata": {
      "byteLimit": 2048000,
      "implicitDf": true,
      "rowLimit": 10000
     },
     "inputWidgets": {},
     "nuid": "6750fad7-dac4-4402-8d08-2014ab345d0a",
     "showTitle": false,
     "tableResultSettingsMap": {},
     "title": ""
    }
   },
   "outputs": [
    {
     "data": {
      "text/html": [
       "<style scoped>\n",
       "  .table-result-container {\n",
       "    max-height: 300px;\n",
       "    overflow: auto;\n",
       "  }\n",
       "  table, th, td {\n",
       "    border: 1px solid black;\n",
       "    border-collapse: collapse;\n",
       "  }\n",
       "  th, td {\n",
       "    padding: 5px;\n",
       "  }\n",
       "  th {\n",
       "    text-align: left;\n",
       "  }\n",
       "</style><div class='table-result-container'><table class='table-result'><thead style='background-color: white'><tr><th>City</th><th>Item_Name</th><th>count</th><th>rank</th></tr></thead><tbody><tr><td> Ahmedabad</td><td>Jeera Rice</td><td>31</td><td>1</td></tr><tr><td> Banaswadi</td><td>Veggie Finger Strips</td><td>2</td><td>1</td></tr><tr><td> Bangalore</td><td>Chicken Fried Rice</td><td>37</td><td>1</td></tr><tr><td> Chennai</td><td>Chicken Fried Rice</td><td>52</td><td>1</td></tr><tr><td> Goa</td><td>Chicken Biryani</td><td>17</td><td>1</td></tr><tr><td> Hyderabad</td><td>Chicken Fried Rice</td><td>74</td><td>1</td></tr><tr><td> Jaipur</td><td>Honey Chilli Potato</td><td>41</td><td>1</td></tr><tr><td> Kochi</td><td>Chocolate Shake</td><td>25</td><td>1</td></tr><tr><td> Kolkata</td><td>Chicken Biryani</td><td>26</td><td>1</td></tr><tr><td> Lucknow</td><td>Paneer Butter Masala</td><td>23</td><td>1</td></tr><tr><td> Magrath Road</td><td>Mocha Almond Fudge Brownie Ice Cream [100 ml]</td><td>2</td><td>1</td></tr><tr><td> Malleshwaram</td><td>Elite Meal Box</td><td>2</td><td>1</td></tr><tr><td> Mumbai</td><td>Margherita Pizza</td><td>23</td><td>1</td></tr><tr><td> New Delhi</td><td>Peri Peri Fries</td><td>8</td><td>1</td></tr><tr><td> Pune</td><td>Veg Biryani</td><td>19</td><td>1</td></tr><tr><td> Raipur</td><td>Veg Fried Rice</td><td>39</td><td>1</td></tr><tr><td> Ulsoor</td><td>Biryani Combo (Non Veg)</td><td>2</td><td>1</td></tr></tbody></table></div>"
      ]
     },
     "metadata": {
      "application/vnd.databricks.v1+output": {
       "addedWidgets": {},
       "aggData": [],
       "aggError": "",
       "aggOverflow": false,
       "aggSchema": [],
       "aggSeriesLimitReached": false,
       "aggType": "",
       "arguments": {},
       "columnCustomDisplayInfos": {},
       "data": [
        [
         " Ahmedabad",
         "Jeera Rice",
         31,
         1
        ],
        [
         " Banaswadi",
         "Veggie Finger Strips",
         2,
         1
        ],
        [
         " Bangalore",
         "Chicken Fried Rice",
         37,
         1
        ],
        [
         " Chennai",
         "Chicken Fried Rice",
         52,
         1
        ],
        [
         " Goa",
         "Chicken Biryani",
         17,
         1
        ],
        [
         " Hyderabad",
         "Chicken Fried Rice",
         74,
         1
        ],
        [
         " Jaipur",
         "Honey Chilli Potato",
         41,
         1
        ],
        [
         " Kochi",
         "Chocolate Shake",
         25,
         1
        ],
        [
         " Kolkata",
         "Chicken Biryani",
         26,
         1
        ],
        [
         " Lucknow",
         "Paneer Butter Masala",
         23,
         1
        ],
        [
         " Magrath Road",
         "Mocha Almond Fudge Brownie Ice Cream [100 ml]",
         2,
         1
        ],
        [
         " Malleshwaram",
         "Elite Meal Box",
         2,
         1
        ],
        [
         " Mumbai",
         "Margherita Pizza",
         23,
         1
        ],
        [
         " New Delhi",
         "Peri Peri Fries",
         8,
         1
        ],
        [
         " Pune",
         "Veg Biryani",
         19,
         1
        ],
        [
         " Raipur",
         "Veg Fried Rice",
         39,
         1
        ],
        [
         " Ulsoor",
         "Biryani Combo (Non Veg)",
         2,
         1
        ]
       ],
       "datasetInfos": [],
       "dbfsResultPath": null,
       "isJsonSchema": true,
       "metadata": {},
       "overflow": false,
       "plotOptions": {
        "customPlotOptions": {},
        "displayType": "table",
        "pivotAggregation": null,
        "pivotColumns": null,
        "xColumns": null,
        "yColumns": null
       },
       "removedWidgets": [],
       "schema": [
        {
         "metadata": "{}",
         "name": "City",
         "type": "\"string\""
        },
        {
         "metadata": "{}",
         "name": "Item_Name",
         "type": "\"string\""
        },
        {
         "metadata": "{}",
         "name": "count",
         "type": "\"long\""
        },
        {
         "metadata": "{}",
         "name": "rank",
         "type": "\"integer\""
        }
       ],
       "type": "table"
      }
     },
     "output_type": "display_data"
    },
    {
     "data": {
      "text/plain": [
       "Databricks visualization. Run in Databricks to view."
      ]
     },
     "metadata": {
      "application/vnd.databricks.v1.subcommand+json": {
       "baseErrorDetails": null,
       "bindings": {},
       "collapsed": false,
       "command": "%sql\n\n-- most popular cuisine in each city\nSELECT *\nFROM (\n  SELECT *, DENSE_RANK() OVER (PARTITION BY City ORDER BY count DESC) AS rank\n  FROM (\n    SELECT City, Cuisine, COUNT(*) AS count\n    FROM metropolitanData\n    GROUP BY City, Cuisine\n  ) AS _\n) AS _\nWHERE rank=1",
       "commandTitle": "Visualization 1",
       "commandType": "auto",
       "commandVersion": 0,
       "commentThread": [],
       "commentsVisible": false,
       "contentSha256Hex": null,
       "customPlotOptions": {
        "redashChart": [
         {
          "key": "type",
          "value": "TABLE"
         },
         {
          "key": "options",
          "value": {
           "columns": [
            {
             "alignContent": "left",
             "allowHTML": true,
             "allowSearch": false,
             "booleanValues": [
              "false",
              "true"
             ],
             "displayAs": "string",
             "highlightLinks": false,
             "imageHeight": "",
             "imageTitleTemplate": "{{ @ }}",
             "imageUrlTemplate": "{{ @ }}",
             "imageWidth": "",
             "linkOpenInNewTab": true,
             "linkTextTemplate": "{{ @ }}",
             "linkTitleTemplate": "{{ @ }}",
             "linkUrlTemplate": "{{ @ }}",
             "name": "City",
             "order": 100000,
             "preserveWhitespace": false,
             "title": "City",
             "type": "string",
             "useMonospaceFont": false,
             "visible": true
            },
            {
             "alignContent": "center",
             "allowHTML": true,
             "allowSearch": false,
             "booleanValues": [
              "false",
              "true"
             ],
             "displayAs": "string",
             "highlightLinks": false,
             "imageHeight": "",
             "imageTitleTemplate": "{{ @ }}",
             "imageUrlTemplate": "{{ @ }}",
             "imageWidth": "",
             "linkOpenInNewTab": true,
             "linkTextTemplate": "{{ @ }}",
             "linkTitleTemplate": "{{ @ }}",
             "linkUrlTemplate": "{{ @ }}",
             "name": "Cuisine",
             "order": 100001,
             "preserveWhitespace": false,
             "title": "Most Popular Cuisine",
             "type": "string",
             "useMonospaceFont": false,
             "visible": true
            },
            {
             "alignContent": "right",
             "allowHTML": true,
             "allowSearch": false,
             "booleanValues": [
              "false",
              "true"
             ],
             "displayAs": "number",
             "highlightLinks": false,
             "imageHeight": "",
             "imageTitleTemplate": "{{ @ }}",
             "imageUrlTemplate": "{{ @ }}",
             "imageWidth": "",
             "linkOpenInNewTab": true,
             "linkTextTemplate": "{{ @ }}",
             "linkTitleTemplate": "{{ @ }}",
             "linkUrlTemplate": "{{ @ }}",
             "name": "count",
             "numberFormat": "0",
             "order": 100002,
             "preserveWhitespace": false,
             "title": "count",
             "type": "integer",
             "useMonospaceFont": false,
             "visible": false
            },
            {
             "alignContent": "right",
             "allowHTML": true,
             "allowSearch": false,
             "booleanValues": [
              "false",
              "true"
             ],
             "displayAs": "number",
             "highlightLinks": false,
             "imageHeight": "",
             "imageTitleTemplate": "{{ @ }}",
             "imageUrlTemplate": "{{ @ }}",
             "imageWidth": "",
             "linkOpenInNewTab": true,
             "linkTextTemplate": "{{ @ }}",
             "linkTitleTemplate": "{{ @ }}",
             "linkUrlTemplate": "{{ @ }}",
             "name": "rank",
             "numberFormat": "0",
             "order": 100003,
             "preserveWhitespace": false,
             "title": "rank",
             "type": "integer",
             "useMonospaceFont": false,
             "visible": false
            }
           ],
           "condensed": true,
           "itemsPerPage": 10,
           "paginationSize": "default",
           "withRowNumber": false
          }
         }
        ]
       },
       "datasetPreviewNameToCmdIdMap": {},
       "diffDeletes": [],
       "diffInserts": [],
       "displayType": "redashChart",
       "error": null,
       "errorDetails": null,
       "errorSummary": null,
       "errorTraceType": null,
       "finishTime": 0,
       "globalVars": {},
       "guid": "",
       "height": "auto",
       "hideCommandCode": false,
       "hideCommandResult": false,
       "iPythonMetadata": null,
       "inputWidgets": {},
       "isLockedInExamMode": false,
       "latestUser": "a user",
       "latestUserId": null,
       "listResultMetadata": null,
       "metadata": {
        "byteLimit": 2048000,
        "implicitDf": true,
        "rowLimit": 10000
       },
       "nuid": "704ff7f5-6f10-441f-a71b-410acd67bc3b",
       "origId": 0,
       "parentHierarchy": [],
       "pivotAggregation": null,
       "pivotColumns": null,
       "position": 10,
       "resultDbfsErrorMessage": null,
       "resultDbfsStatus": "INLINED_IN_TREE",
       "results": null,
       "showCommandTitle": false,
       "startTime": 0,
       "state": "input",
       "streamStates": {},
       "subcommandOptions": {},
       "submitTime": 0,
       "subtype": "tableResultSubCmd.visualization",
       "tableResultIndex": 0,
       "tableResultSettingsMap": {},
       "useConsistentColors": false,
       "version": "CommandV1",
       "width": "auto",
       "workflows": [],
       "xColumns": null,
       "yColumns": null
      }
     },
     "output_type": "display_data"
    }
   ],
   "source": [
    "%sql\n",
    "\n",
    "-- most popular item in each city\n",
    "SELECT *\n",
    "FROM (\n",
    "  SELECT *, ROW_NUMBER() OVER (PARTITION BY City ORDER BY count DESC) AS rank\n",
    "  FROM (\n",
    "    SELECT City, Item_Name, COUNT(*) AS count\n",
    "    FROM metropolitanData\n",
    "    GROUP BY City, Item_Name\n",
    "  ) AS _\n",
    ") AS _\n",
    "WHERE rank=1"
   ]
  },
  {
   "cell_type": "code",
   "execution_count": null,
   "metadata": {
    "application/vnd.databricks.v1+cell": {
     "cellMetadata": {
      "byteLimit": 2048000,
      "rowLimit": 10000
     },
     "inputWidgets": {},
     "nuid": "df324224-cc86-4f6b-b9a3-834544fcf0d5",
     "showTitle": false,
     "tableResultSettingsMap": {},
     "title": ""
    }
   },
   "outputs": [],
   "source": [
    "# # geocoder object\n",
    "# geolocator = Nominatim(user_agent=\"app\")\n",
    "\n",
    "# # latitude and longitude\n",
    "# latitude = 10.96185\n",
    "# longitude =  76.971082\n",
    "\n",
    "# # reverse geocoding\n",
    "# location = geolocator.reverse((latitude, longitude))\n",
    "\n",
    "# print(location.address)"
   ]
  },
  {
   "cell_type": "code",
   "execution_count": null,
   "metadata": {
    "application/vnd.databricks.v1+cell": {
     "cellMetadata": {
      "byteLimit": 2048000,
      "implicitDf": true,
      "rowLimit": 10000
     },
     "inputWidgets": {},
     "nuid": "5e139791-cc55-46e7-8440-68b4790bb7d9",
     "showTitle": false,
     "tableResultSettingsMap": {},
     "title": ""
    }
   },
   "outputs": [],
   "source": [
    "# %sql\n",
    "\n",
    "# -- average delivery time and average delay for pickup per \n",
    "# SELECT Restaurant_latitude, Restaurant_longitude, ROUND(AVG(`Time_taken (min)`), 3) AS avg_Time_taken\n",
    "# FROM operationalAnalytics\n",
    "# WHERE `Time_taken (min)` IS NOT NULL\n",
    "# GROUP BY Restaurant_latitude, Restaurant_longitude"
   ]
  },
  {
   "cell_type": "code",
   "execution_count": null,
   "metadata": {
    "application/vnd.databricks.v1+cell": {
     "cellMetadata": {
      "byteLimit": 2048000,
      "implicitDf": true,
      "rowLimit": 10000
     },
     "inputWidgets": {},
     "nuid": "9f0a0773-760e-4e6e-9823-b56be59cab39",
     "showTitle": false,
     "tableResultSettingsMap": {},
     "title": ""
    }
   },
   "outputs": [
    {
     "data": {
      "text/html": [
       "<style scoped>\n",
       "  .table-result-container {\n",
       "    max-height: 300px;\n",
       "    overflow: auto;\n",
       "  }\n",
       "  table, th, td {\n",
       "    border: 1px solid black;\n",
       "    border-collapse: collapse;\n",
       "  }\n",
       "  th, td {\n",
       "    padding: 5px;\n",
       "  }\n",
       "  th {\n",
       "    text-align: left;\n",
       "  }\n",
       "</style><div class='table-result-container'><table class='table-result'><thead style='background-color: white'><tr><th>Type_of_order</th><th>avg_time_taken</th></tr></thead><tbody><tr><td>Drinks</td><td>27.379</td></tr><tr><td>Buffet</td><td>27.406</td></tr><tr><td>Snack</td><td>27.547</td></tr><tr><td>Meal</td><td>27.639</td></tr></tbody></table></div>"
      ]
     },
     "metadata": {
      "application/vnd.databricks.v1+output": {
       "addedWidgets": {},
       "aggData": [],
       "aggError": "",
       "aggOverflow": false,
       "aggSchema": [],
       "aggSeriesLimitReached": false,
       "aggType": "",
       "arguments": {},
       "columnCustomDisplayInfos": {},
       "data": [
        [
         "Drinks",
         27.379
        ],
        [
         "Buffet",
         27.406
        ],
        [
         "Snack",
         27.547
        ],
        [
         "Meal",
         27.639
        ]
       ],
       "datasetInfos": [],
       "dbfsResultPath": null,
       "isJsonSchema": true,
       "metadata": {},
       "overflow": false,
       "plotOptions": {
        "customPlotOptions": {},
        "displayType": "table",
        "pivotAggregation": null,
        "pivotColumns": null,
        "xColumns": null,
        "yColumns": null
       },
       "removedWidgets": [],
       "schema": [
        {
         "metadata": "{}",
         "name": "Type_of_order",
         "type": "\"string\""
        },
        {
         "metadata": "{}",
         "name": "avg_time_taken",
         "type": "\"double\""
        }
       ],
       "type": "table"
      }
     },
     "output_type": "display_data"
    },
    {
     "data": {
      "text/plain": [
       "Databricks visualization. Run in Databricks to view."
      ]
     },
     "metadata": {
      "application/vnd.databricks.v1.subcommand+json": {
       "baseErrorDetails": null,
       "bindings": {},
       "collapsed": false,
       "command": "%sql WITH q AS (SELECT Type_of_order, ROUND(AVG(`Time_taken (min)`), 3) AS avg_time_taken\nFROM operationalAnalytics\nGROUP BY Type_of_order\nORDER BY avg_time_taken ASC) SELECT `Type_of_order`,SUM(`avg_time_taken`) `column_764be00050` FROM q GROUP BY `Type_of_order`",
       "commandTitle": "Visualization 1",
       "commandType": "auto",
       "commandVersion": 0,
       "commentThread": [],
       "commentsVisible": false,
       "contentSha256Hex": null,
       "customPlotOptions": {
        "redashChart": [
         {
          "key": "type",
          "value": "CHART"
         },
         {
          "key": "options",
          "value": {
           "alignYAxesAtZero": false,
           "coefficient": 1,
           "columnConfigurationMap": {
            "x": {
             "column": "Type_of_order",
             "id": "column_764be00049"
            },
            "y": [
             {
              "column": "avg_time_taken",
              "id": "column_764be00050",
              "transform": "SUM"
             }
            ]
           },
           "dateTimeFormat": "DD/MM/YYYY HH:mm",
           "direction": {
            "type": "counterclockwise"
           },
           "error_y": {
            "type": "data",
            "visible": true
           },
           "globalSeriesType": "column",
           "isAggregationOn": true,
           "legend": {
            "traceorder": "normal"
           },
           "missingValuesAsZero": true,
           "numberFormat": "0,0.[00000]",
           "percentFormat": "0[.]00%",
           "series": {
            "error_y": {
             "type": "data",
             "visible": true
            },
            "stacking": null
           },
           "seriesOptions": {
            "column_764be00050": {
             "name": "avg_time_taken",
             "yAxis": 0
            }
           },
           "showDataLabels": true,
           "sizemode": "diameter",
           "sortX": false,
           "sortY": true,
           "swappedAxes": true,
           "textFormat": "",
           "useAggregationsUi": true,
           "valuesOptions": {},
           "version": 2,
           "xAxis": {
            "labels": {
             "enabled": true
            },
            "title": {
             "text": "Order Type"
            },
            "type": "-"
           },
           "yAxis": [
            {
             "rangeMax": 27.7,
             "rangeMin": 27.3,
             "title": {
              "text": "Average Time Taken (in min)"
             },
             "type": "-"
            },
            {
             "opposite": true,
             "type": "-"
            }
           ]
          }
         }
        ]
       },
       "datasetPreviewNameToCmdIdMap": {},
       "diffDeletes": [],
       "diffInserts": [],
       "displayType": "redashChart",
       "error": null,
       "errorDetails": null,
       "errorSummary": null,
       "errorTraceType": null,
       "finishTime": 0,
       "globalVars": {},
       "guid": "",
       "height": "auto",
       "hideCommandCode": false,
       "hideCommandResult": false,
       "iPythonMetadata": null,
       "inputWidgets": {},
       "isLockedInExamMode": false,
       "latestUser": "a user",
       "latestUserId": null,
       "listResultMetadata": null,
       "metadata": {
        "byteLimit": 2048000,
        "implicitDf": true,
        "rowLimit": 10000
       },
       "nuid": "475ee039-1aef-4a43-b177-5e5530f40a6a",
       "origId": 0,
       "parentHierarchy": [],
       "pivotAggregation": null,
       "pivotColumns": null,
       "position": 13,
       "resultDbfsErrorMessage": null,
       "resultDbfsStatus": "INLINED_IN_TREE",
       "results": null,
       "showCommandTitle": false,
       "startTime": 0,
       "state": "finished",
       "streamStates": {},
       "subcommandOptions": {
        "queryPlan": {
         "groups": [
          {
           "column": "Type_of_order",
           "type": "column"
          }
         ],
         "selects": [
          {
           "column": "Type_of_order",
           "type": "column"
          },
          {
           "alias": "column_764be00050",
           "args": [
            {
             "column": "avg_time_taken",
             "type": "column"
            }
           ],
           "function": "SUM",
           "type": "function"
          }
         ]
        }
       },
       "submitTime": 0,
       "subtype": "tableResultSubCmd.visualization",
       "tableResultIndex": 0,
       "tableResultSettingsMap": {},
       "useConsistentColors": false,
       "version": "CommandV1",
       "width": "auto",
       "workflows": [],
       "xColumns": null,
       "yColumns": null
      }
     },
     "output_type": "display_data"
    }
   ],
   "source": [
    "%sql\n",
    "\n",
    "-- average time taken for different order types\n",
    "SELECT Type_of_order, ROUND(AVG(`Time_taken (min)`), 3) AS avg_time_taken\n",
    "FROM operationalAnalytics\n",
    "GROUP BY Type_of_order\n",
    "ORDER BY avg_time_taken ASC"
   ]
  },
  {
   "cell_type": "code",
   "execution_count": null,
   "metadata": {
    "application/vnd.databricks.v1+cell": {
     "cellMetadata": {
      "byteLimit": 2048000,
      "implicitDf": true,
      "rowLimit": 10000
     },
     "inputWidgets": {},
     "nuid": "8e2dc2a0-3068-4824-93fb-d2fac3ec0b17",
     "showTitle": false,
     "tableResultSettingsMap": {},
     "title": ""
    }
   },
   "outputs": [
    {
     "data": {
      "text/html": [
       "<style scoped>\n",
       "  .table-result-container {\n",
       "    max-height: 300px;\n",
       "    overflow: auto;\n",
       "  }\n",
       "  table, th, td {\n",
       "    border: 1px solid black;\n",
       "    border-collapse: collapse;\n",
       "  }\n",
       "  th, td {\n",
       "    padding: 5px;\n",
       "  }\n",
       "  th {\n",
       "    text-align: left;\n",
       "  }\n",
       "</style><div class='table-result-container'><table class='table-result'><thead style='background-color: white'><tr><th>Road_traffic_density</th><th>avg_pickup_time</th><th>avg_time_taken</th></tr></thead><tbody><tr><td>Low</td><td>9.888</td><td>22.106</td></tr><tr><td>Medium</td><td>10.015</td><td>27.694</td></tr><tr><td>High</td><td>9.938</td><td>28.103</td></tr><tr><td>Jam</td><td>9.961</td><td>31.937</td></tr></tbody></table></div>"
      ]
     },
     "metadata": {
      "application/vnd.databricks.v1+output": {
       "addedWidgets": {},
       "aggData": [],
       "aggError": "",
       "aggOverflow": false,
       "aggSchema": [],
       "aggSeriesLimitReached": false,
       "aggType": "",
       "arguments": {},
       "columnCustomDisplayInfos": {},
       "data": [
        [
         "Low",
         9.888,
         22.106
        ],
        [
         "Medium",
         10.015,
         27.694
        ],
        [
         "High",
         9.938,
         28.103
        ],
        [
         "Jam",
         9.961,
         31.937
        ]
       ],
       "datasetInfos": [],
       "dbfsResultPath": null,
       "isJsonSchema": true,
       "metadata": {},
       "overflow": false,
       "plotOptions": {
        "customPlotOptions": {},
        "displayType": "table",
        "pivotAggregation": null,
        "pivotColumns": null,
        "xColumns": null,
        "yColumns": null
       },
       "removedWidgets": [],
       "schema": [
        {
         "metadata": "{}",
         "name": "Road_traffic_density",
         "type": "\"string\""
        },
        {
         "metadata": "{}",
         "name": "avg_pickup_time",
         "type": "\"double\""
        },
        {
         "metadata": "{}",
         "name": "avg_time_taken",
         "type": "\"double\""
        }
       ],
       "type": "table"
      }
     },
     "output_type": "display_data"
    },
    {
     "data": {
      "text/plain": [
       "Databricks visualization. Run in Databricks to view."
      ]
     },
     "metadata": {
      "application/vnd.databricks.v1.subcommand+json": {
       "baseErrorDetails": null,
       "bindings": {},
       "collapsed": false,
       "command": "%sql WITH q AS (SELECT Road_traffic_density, \n       ROUND(AVG(TIMESTAMPDIFF(MINUTE, Time_Orderd, Time_Order_picked)), 3) AS avg_pickup_time, \n       ROUND(AVG(`Time_taken (min)`), 3) AS avg_time_taken\n      \nFROM operationalAnalytics\nWHERE `Time_taken (min)` IS NOT NULL\nGROUP BY Road_traffic_density\nORDER BY avg_time_taken ASC) SELECT `Road_traffic_density`,SUM(`avg_pickup_time`) `column_764be000179`,SUM(`avg_time_taken`) `column_764be000186` FROM q GROUP BY `Road_traffic_density`",
       "commandTitle": "Visualization 2",
       "commandType": "auto",
       "commandVersion": 0,
       "commentThread": [],
       "commentsVisible": false,
       "contentSha256Hex": null,
       "customPlotOptions": {
        "redashChart": [
         {
          "key": "type",
          "value": "CHART"
         },
         {
          "key": "options",
          "value": {
           "alignYAxesAtZero": true,
           "coefficient": 1,
           "columnConfigurationMap": {
            "x": {
             "column": "Road_traffic_density",
             "id": "column_764be000182"
            },
            "y": [
             {
              "column": "avg_pickup_time",
              "id": "column_764be000179",
              "transform": "SUM"
             },
             {
              "column": "avg_time_taken",
              "id": "column_764be000186",
              "transform": "SUM"
             }
            ]
           },
           "dateTimeFormat": "DD/MM/YYYY HH:mm",
           "direction": {
            "type": "counterclockwise"
           },
           "error_y": {
            "type": "data",
            "visible": true
           },
           "globalSeriesType": "column",
           "isAggregationOn": true,
           "legend": {
            "enabled": true,
            "placement": "below",
            "traceorder": "normal"
           },
           "missingValuesAsZero": true,
           "numberFormat": "0,0.[00000]",
           "percentFormat": "0[.]00%",
           "series": {
            "error_y": {
             "type": "data",
             "visible": true
            },
            "stacking": "stack"
           },
           "seriesOptions": {
            "column_764be000179": {
             "name": "Average Pickup Time",
             "type": "column",
             "yAxis": 0
            },
            "column_764be000186": {
             "name": "Average Delivery Time",
             "type": "column",
             "yAxis": 0
            }
           },
           "showDataLabels": true,
           "sizemode": "diameter",
           "sortX": false,
           "sortY": true,
           "swappedAxes": false,
           "textFormat": "",
           "useAggregationsUi": true,
           "valuesOptions": {},
           "version": 2,
           "xAxis": {
            "labels": {
             "enabled": true
            },
            "title": {
             "text": "Road Traffic Density"
            },
            "type": "-"
           },
           "yAxis": [
            {
             "title": {
              "text": "Average Pickup Time, Average Delivery Time"
             },
             "type": "-"
            },
            {
             "opposite": true,
             "type": "-"
            }
           ]
          }
         }
        ]
       },
       "datasetPreviewNameToCmdIdMap": {},
       "diffDeletes": [],
       "diffInserts": [],
       "displayType": "redashChart",
       "error": null,
       "errorDetails": null,
       "errorSummary": null,
       "errorTraceType": null,
       "finishTime": 0,
       "globalVars": {},
       "guid": "",
       "height": "auto",
       "hideCommandCode": false,
       "hideCommandResult": false,
       "iPythonMetadata": null,
       "inputWidgets": {},
       "isLockedInExamMode": false,
       "latestUser": "a user",
       "latestUserId": null,
       "listResultMetadata": null,
       "metadata": {},
       "nuid": "e0aa0114-21be-4033-a1d6-9bfd0249283f",
       "origId": 0,
       "parentHierarchy": [],
       "pivotAggregation": null,
       "pivotColumns": null,
       "position": 15,
       "resultDbfsErrorMessage": null,
       "resultDbfsStatus": "INLINED_IN_TREE",
       "results": null,
       "showCommandTitle": false,
       "startTime": 0,
       "state": "input",
       "streamStates": {},
       "subcommandOptions": {
        "queryPlan": {
         "groups": [
          {
           "column": "Road_traffic_density",
           "type": "column"
          }
         ],
         "selects": [
          {
           "column": "Road_traffic_density",
           "type": "column"
          },
          {
           "alias": "column_764be000179",
           "args": [
            {
             "column": "avg_pickup_time",
             "type": "column"
            }
           ],
           "function": "SUM",
           "type": "function"
          },
          {
           "alias": "column_764be000186",
           "args": [
            {
             "column": "avg_time_taken",
             "type": "column"
            }
           ],
           "function": "SUM",
           "type": "function"
          }
         ]
        }
       },
       "submitTime": 0,
       "subtype": "tableResultSubCmd.visualization",
       "tableResultIndex": 0,
       "tableResultSettingsMap": {},
       "useConsistentColors": false,
       "version": "CommandV1",
       "width": "auto",
       "workflows": [],
       "xColumns": null,
       "yColumns": null
      }
     },
     "output_type": "display_data"
    }
   ],
   "source": [
    "%sql\n",
    "\n",
    "-- average time taken for different road traffic conditions\n",
    "SELECT Road_traffic_density, \n",
    "       ROUND(AVG(TIMESTAMPDIFF(MINUTE, Time_Orderd, Time_Order_picked)), 3) AS avg_pickup_time, \n",
    "       ROUND(AVG(`Time_taken (min)`), 3) AS avg_time_taken\n",
    "      --  ROUND(AVG(`Time_taken (min)`) + AVG(TIMESTAMPDIFF(MINUTE, Time_Orderd, Time_Order_picked)), 3) AS avg_time_taken\n",
    "FROM operationalAnalytics\n",
    "WHERE `Time_taken (min)` IS NOT NULL\n",
    "GROUP BY Road_traffic_density\n",
    "ORDER BY avg_time_taken ASC"
   ]
  },
  {
   "cell_type": "code",
   "execution_count": null,
   "metadata": {
    "application/vnd.databricks.v1+cell": {
     "cellMetadata": {
      "byteLimit": 2048000,
      "implicitDf": true,
      "rowLimit": 10000
     },
     "inputWidgets": {},
     "nuid": "4d1897da-331d-469f-8e45-3f530b752281",
     "showTitle": false,
     "tableResultSettingsMap": {},
     "title": ""
    }
   },
   "outputs": [
    {
     "data": {
      "text/html": [
       "<style scoped>\n",
       "  .table-result-container {\n",
       "    max-height: 300px;\n",
       "    overflow: auto;\n",
       "  }\n",
       "  table, th, td {\n",
       "    border: 1px solid black;\n",
       "    border-collapse: collapse;\n",
       "  }\n",
       "  th, td {\n",
       "    padding: 5px;\n",
       "  }\n",
       "  th {\n",
       "    text-align: left;\n",
       "  }\n",
       "</style><div class='table-result-container'><table class='table-result'><thead style='background-color: white'><tr><th>Month_ID</th><th>Day_of_Week</th><th>order_count</th><th>day_name</th></tr></thead><tbody><tr><td>2</td><td>1</td><td>651</td><td>Sunday</td></tr><tr><td>2</td><td>2</td><td>603</td><td>Monday</td></tr><tr><td>2</td><td>3</td><td>628</td><td>Tuesday</td></tr><tr><td>2</td><td>4</td><td>610</td><td>Wednesday</td></tr><tr><td>2</td><td>5</td><td>627</td><td>Thursday</td></tr><tr><td>2</td><td>6</td><td>1290</td><td>Friday</td></tr><tr><td>2</td><td>7</td><td>596</td><td>Saturday</td></tr><tr><td>3</td><td>1</td><td>2783</td><td>Sunday</td></tr><tr><td>3</td><td>2</td><td>2913</td><td>Monday</td></tr><tr><td>3</td><td>3</td><td>2890</td><td>Tuesday</td></tr><tr><td>3</td><td>4</td><td>3627</td><td>Wednesday</td></tr><tr><td>3</td><td>5</td><td>3653</td><td>Thursday</td></tr><tr><td>3</td><td>6</td><td>2848</td><td>Friday</td></tr><tr><td>3</td><td>7</td><td>2993</td><td>Saturday</td></tr><tr><td>4</td><td>1</td><td>782</td><td>Sunday</td></tr><tr><td>4</td><td>2</td><td>670</td><td>Monday</td></tr><tr><td>4</td><td>3</td><td>778</td><td>Tuesday</td></tr><tr><td>4</td><td>4</td><td>665</td><td>Wednesday</td></tr><tr><td>4</td><td>6</td><td>770</td><td>Friday</td></tr><tr><td>4</td><td>7</td><td>711</td><td>Saturday</td></tr></tbody></table></div>"
      ]
     },
     "metadata": {
      "application/vnd.databricks.v1+output": {
       "addedWidgets": {},
       "aggData": [],
       "aggError": "",
       "aggOverflow": false,
       "aggSchema": [],
       "aggSeriesLimitReached": false,
       "aggType": "",
       "arguments": {},
       "columnCustomDisplayInfos": {},
       "data": [
        [
         2,
         1,
         651,
         "Sunday"
        ],
        [
         2,
         2,
         603,
         "Monday"
        ],
        [
         2,
         3,
         628,
         "Tuesday"
        ],
        [
         2,
         4,
         610,
         "Wednesday"
        ],
        [
         2,
         5,
         627,
         "Thursday"
        ],
        [
         2,
         6,
         1290,
         "Friday"
        ],
        [
         2,
         7,
         596,
         "Saturday"
        ],
        [
         3,
         1,
         2783,
         "Sunday"
        ],
        [
         3,
         2,
         2913,
         "Monday"
        ],
        [
         3,
         3,
         2890,
         "Tuesday"
        ],
        [
         3,
         4,
         3627,
         "Wednesday"
        ],
        [
         3,
         5,
         3653,
         "Thursday"
        ],
        [
         3,
         6,
         2848,
         "Friday"
        ],
        [
         3,
         7,
         2993,
         "Saturday"
        ],
        [
         4,
         1,
         782,
         "Sunday"
        ],
        [
         4,
         2,
         670,
         "Monday"
        ],
        [
         4,
         3,
         778,
         "Tuesday"
        ],
        [
         4,
         4,
         665,
         "Wednesday"
        ],
        [
         4,
         6,
         770,
         "Friday"
        ],
        [
         4,
         7,
         711,
         "Saturday"
        ]
       ],
       "datasetInfos": [],
       "dbfsResultPath": null,
       "isJsonSchema": true,
       "metadata": {},
       "overflow": false,
       "plotOptions": {
        "customPlotOptions": {},
        "displayType": "table",
        "pivotAggregation": null,
        "pivotColumns": null,
        "xColumns": null,
        "yColumns": null
       },
       "removedWidgets": [],
       "schema": [
        {
         "metadata": "{}",
         "name": "Month_ID",
         "type": "\"integer\""
        },
        {
         "metadata": "{}",
         "name": "Day_of_Week",
         "type": "\"integer\""
        },
        {
         "metadata": "{}",
         "name": "order_count",
         "type": "\"long\""
        },
        {
         "metadata": "{}",
         "name": "day_name",
         "type": "\"string\""
        }
       ],
       "type": "table"
      }
     },
     "output_type": "display_data"
    },
    {
     "data": {
      "text/plain": [
       "Databricks visualization. Run in Databricks to view."
      ]
     },
     "metadata": {
      "application/vnd.databricks.v1.subcommand+json": {
       "baseErrorDetails": null,
       "bindings": {},
       "collapsed": false,
       "command": "%sql WITH q AS (SELECT Month_ID, Day_of_Week, COUNT(ID) AS order_count,\n       CASE\n           WHEN Day_of_Week=1 THEN 'Sunday'\n           WHEN Day_of_Week=2 THEN 'Monday'\n           WHEN Day_of_Week=3 THEN 'Tuesday'\n           WHEN Day_of_Week=4 THEN 'Wednesday'\n           WHEN Day_of_Week=5 THEN 'Thursday'\n           WHEN Day_of_Week=6 THEN 'Friday'\n           WHEN Day_of_Week=7 THEN 'Saturday'\n       END AS day_name\nFROM operationalAnalytics\nGROUP BY Month_ID, Day_of_Week\nORDER BY Month_ID, Day_of_Week) SELECT `day_name`,SUM(`order_count`) `column_764be00062` FROM q GROUP BY `day_name`",
       "commandTitle": "Visualization 1",
       "commandType": "auto",
       "commandVersion": 0,
       "commentThread": [],
       "commentsVisible": false,
       "contentSha256Hex": null,
       "customPlotOptions": {
        "redashChart": [
         {
          "key": "type",
          "value": "CHART"
         },
         {
          "key": "options",
          "value": {
           "alignYAxesAtZero": false,
           "coefficient": 1,
           "columnConfigurationMap": {
            "series": {
             "column": "Month_ID",
             "id": "column_764be000152"
            },
            "x": {
             "column": "day_name",
             "id": "column_764be00069"
            },
            "y": [
             {
              "column": "order_count",
              "id": "column_764be00062",
              "transform": "SUM"
             }
            ]
           },
           "dateTimeFormat": "DD/MM/YYYY HH:mm",
           "direction": {
            "type": "counterclockwise"
           },
           "error_y": {
            "type": "data",
            "visible": true
           },
           "globalSeriesType": "line",
           "hideYAxes": false,
           "isAggregationOn": true,
           "legend": {
            "traceorder": "normal"
           },
           "missingValuesAsZero": false,
           "numberFormat": "0,0.[00000]",
           "percentFormat": "0[.]00%",
           "series": {
            "error_y": {
             "type": "data",
             "visible": true
            },
            "stacking": null
           },
           "seriesOptions": {
            "2": {
             "name": "February"
            },
            "3": {
             "name": "March"
            },
            "4": {
             "name": "April"
            },
            "2, SUM(order_count)": {
             "name": "February"
            },
            "3, SUM(order_count)": {
             "name": "March",
             "yAxis": 1
            },
            "4, SUM(order_count)": {
             "name": "April"
            },
            "column_764be000211": {
             "type": "line",
             "yAxis": 0
            },
            "column_764be00062": {
             "type": "line",
             "yAxis": 0
            }
           },
           "showDataLabels": true,
           "sizemode": "diameter",
           "sortX": false,
           "sortY": true,
           "swappedAxes": false,
           "textFormat": "",
           "useAggregationsUi": true,
           "valuesOptions": {},
           "version": 2,
           "xAxis": {
            "labels": {
             "enabled": true
            },
            "title": {
             "text": "Day of Week"
            },
            "type": "-"
           },
           "yAxis": [
            {
             "rangeMin": 400,
             "title": {
              "text": "Total Orders"
             },
             "type": "-"
            },
            {
             "opposite": true,
             "title": {
              "text": "Total Orders for March"
             },
             "type": "-"
            }
           ]
          }
         }
        ]
       },
       "datasetPreviewNameToCmdIdMap": {},
       "diffDeletes": [],
       "diffInserts": [],
       "displayType": "redashChart",
       "error": null,
       "errorDetails": null,
       "errorSummary": null,
       "errorTraceType": null,
       "finishTime": 0,
       "globalVars": {},
       "guid": "",
       "height": "auto",
       "hideCommandCode": false,
       "hideCommandResult": false,
       "iPythonMetadata": null,
       "inputWidgets": {},
       "isLockedInExamMode": false,
       "latestUser": "a user",
       "latestUserId": null,
       "listResultMetadata": null,
       "metadata": {
        "byteLimit": 2048000,
        "implicitDf": true,
        "rowLimit": 10000
       },
       "nuid": "cd3e15d9-7f48-41d3-a671-4e10916e1439",
       "origId": 0,
       "parentHierarchy": [],
       "pivotAggregation": null,
       "pivotColumns": null,
       "position": 15,
       "resultDbfsErrorMessage": null,
       "resultDbfsStatus": "INLINED_IN_TREE",
       "results": null,
       "showCommandTitle": false,
       "startTime": 0,
       "state": "finished",
       "streamStates": {},
       "subcommandOptions": {
        "queryPlan": {
         "groups": [
          {
           "column": "day_name",
           "type": "column"
          },
          {
           "column": "Month_ID",
           "type": "column"
          }
         ],
         "selects": [
          {
           "column": "day_name",
           "type": "column"
          },
          {
           "alias": "column_764be00062",
           "args": [
            {
             "column": "order_count",
             "type": "column"
            }
           ],
           "function": "SUM",
           "type": "function"
          },
          {
           "column": "Month_ID",
           "type": "column"
          }
         ]
        }
       },
       "submitTime": 0,
       "subtype": "tableResultSubCmd.visualization",
       "tableResultIndex": 0,
       "tableResultSettingsMap": {},
       "useConsistentColors": false,
       "version": "CommandV1",
       "width": "auto",
       "workflows": [],
       "xColumns": null,
       "yColumns": null
      }
     },
     "output_type": "display_data"
    }
   ],
   "source": [
    "%sql\n",
    "\n",
    "-- daily orders \n",
    "SELECT Month_ID, Day_of_Week, COUNT(ID) AS order_count,\n",
    "       CASE\n",
    "           WHEN Day_of_Week=1 THEN 'Sunday'\n",
    "           WHEN Day_of_Week=2 THEN 'Monday'\n",
    "           WHEN Day_of_Week=3 THEN 'Tuesday'\n",
    "           WHEN Day_of_Week=4 THEN 'Wednesday'\n",
    "           WHEN Day_of_Week=5 THEN 'Thursday'\n",
    "           WHEN Day_of_Week=6 THEN 'Friday'\n",
    "           WHEN Day_of_Week=7 THEN 'Saturday'\n",
    "       END AS day_name\n",
    "FROM operationalAnalytics\n",
    "GROUP BY Month_ID, Day_of_Week\n",
    "ORDER BY Month_ID, Day_of_Week"
   ]
  },
  {
   "cell_type": "code",
   "execution_count": null,
   "metadata": {
    "application/vnd.databricks.v1+cell": {
     "cellMetadata": {
      "byteLimit": 2048000,
      "implicitDf": true,
      "rowLimit": 10000
     },
     "inputWidgets": {},
     "nuid": "8e20a9f9-9899-418a-b15d-76889e00eaed",
     "showTitle": false,
     "tableResultSettingsMap": {},
     "title": ""
    }
   },
   "outputs": [
    {
     "data": {
      "text/html": [
       "<style scoped>\n",
       "  .table-result-container {\n",
       "    max-height: 300px;\n",
       "    overflow: auto;\n",
       "  }\n",
       "  table, th, td {\n",
       "    border: 1px solid black;\n",
       "    border-collapse: collapse;\n",
       "  }\n",
       "  th, td {\n",
       "    padding: 5px;\n",
       "  }\n",
       "  th {\n",
       "    text-align: left;\n",
       "  }\n",
       "</style><div class='table-result-container'><table class='table-result'><thead style='background-color: white'><tr><th>Weather_conditions</th><th>avg_time_taken</th><th>num_orders</th></tr></thead><tbody><tr><td>Sunny</td><td>32.712</td><td>4718</td></tr><tr><td>Stormy</td><td>36.87</td><td>5236</td></tr><tr><td>Sandstorms</td><td>37.077</td><td>5119</td></tr><tr><td>Windy</td><td>37.097</td><td>5222</td></tr><tr><td>Cloudy</td><td>40.114</td><td>5326</td></tr><tr><td>Fog</td><td>40.153</td><td>5467</td></tr></tbody></table></div>"
      ]
     },
     "metadata": {
      "application/vnd.databricks.v1+output": {
       "addedWidgets": {},
       "aggData": [],
       "aggError": "",
       "aggOverflow": false,
       "aggSchema": [],
       "aggSeriesLimitReached": false,
       "aggType": "",
       "arguments": {},
       "columnCustomDisplayInfos": {},
       "data": [
        [
         "Sunny",
         32.712,
         4718
        ],
        [
         "Stormy",
         36.87,
         5236
        ],
        [
         "Sandstorms",
         37.077,
         5119
        ],
        [
         "Windy",
         37.097,
         5222
        ],
        [
         "Cloudy",
         40.114,
         5326
        ],
        [
         "Fog",
         40.153,
         5467
        ]
       ],
       "datasetInfos": [],
       "dbfsResultPath": null,
       "isJsonSchema": true,
       "metadata": {},
       "overflow": false,
       "plotOptions": {
        "customPlotOptions": {},
        "displayType": "table",
        "pivotAggregation": null,
        "pivotColumns": null,
        "xColumns": null,
        "yColumns": null
       },
       "removedWidgets": [],
       "schema": [
        {
         "metadata": "{}",
         "name": "Weather_conditions",
         "type": "\"string\""
        },
        {
         "metadata": "{}",
         "name": "avg_time_taken",
         "type": "\"double\""
        },
        {
         "metadata": "{}",
         "name": "num_orders",
         "type": "\"long\""
        }
       ],
       "type": "table"
      }
     },
     "output_type": "display_data"
    },
    {
     "data": {
      "text/plain": [
       "Databricks visualization. Run in Databricks to view."
      ]
     },
     "metadata": {
      "application/vnd.databricks.v1.subcommand+json": {
       "baseErrorDetails": null,
       "bindings": {},
       "collapsed": false,
       "command": "%sql WITH q AS (SELECT Weather_conditions, ROUND(AVG(`Time_taken (min)`), 3) AS avg_time_taken, COUNT(*) AS num_orders\nFROM operationalAnalytics\nGROUP BY Weather_conditions\nORDER BY avg_time_taken ASC) SELECT `Weather_conditions`,SUM(`avg_time_taken`) `column_764be00077`,SUM(`num_orders`) `column_764be000101` FROM q GROUP BY `Weather_conditions`",
       "commandTitle": "Visualization 1",
       "commandType": "auto",
       "commandVersion": 0,
       "commentThread": [],
       "commentsVisible": false,
       "contentSha256Hex": null,
       "customPlotOptions": {
        "redashChart": [
         {
          "key": "type",
          "value": "CHART"
         },
         {
          "key": "options",
          "value": {
           "alignYAxesAtZero": false,
           "coefficient": 1,
           "columnConfigurationMap": {
            "x": {
             "column": "Weather_conditions",
             "id": "column_764be00075"
            },
            "y": [
             {
              "column": "avg_time_taken",
              "id": "column_764be00077",
              "transform": "SUM"
             },
             {
              "column": "num_orders",
              "id": "column_764be000101",
              "transform": "SUM"
             }
            ]
           },
           "dateTimeFormat": "DD/MM/YYYY HH:mm",
           "direction": {
            "type": "counterclockwise"
           },
           "error_y": {
            "type": "data",
            "visible": true
           },
           "globalSeriesType": "line",
           "isAggregationOn": true,
           "legend": {
            "enabled": true,
            "placement": "below",
            "traceorder": "normal"
           },
           "missingValuesAsZero": true,
           "numberFormat": "0,0.[00000]",
           "percentFormat": "0[.]00%",
           "series": {
            "error_y": {
             "type": "data",
             "visible": true
            },
            "stacking": null
           },
           "seriesOptions": {
            "column_764be000101": {
             "name": "Total Number of Orders",
             "type": "line",
             "yAxis": 1,
             "zIndex": 1
            },
            "column_764be00077": {
             "name": "Average Time Taken to Complete Delivery",
             "type": "line",
             "yAxis": 0,
             "zIndex": 0
            }
           },
           "showDataLabels": true,
           "sizemode": "diameter",
           "sortX": true,
           "sortY": true,
           "swappedAxes": false,
           "textFormat": "",
           "useAggregationsUi": true,
           "valuesOptions": {},
           "version": 2,
           "xAxis": {
            "labels": {
             "enabled": true
            },
            "title": {
             "text": "Weather Condition"
            },
            "type": "-"
           },
           "yAxis": [
            {
             "rangeMax": 42,
             "rangeMin": 25,
             "title": {
              "text": null
             },
             "type": "-"
            },
            {
             "opposite": true,
             "title": {
              "text": "Total Number of Orders"
             },
             "type": "-"
            }
           ]
          }
         }
        ]
       },
       "datasetPreviewNameToCmdIdMap": {},
       "diffDeletes": [],
       "diffInserts": [],
       "displayType": "redashChart",
       "error": null,
       "errorDetails": null,
       "errorSummary": null,
       "errorTraceType": null,
       "finishTime": 0,
       "globalVars": {},
       "guid": "",
       "height": "auto",
       "hideCommandCode": false,
       "hideCommandResult": false,
       "iPythonMetadata": null,
       "inputWidgets": {},
       "isLockedInExamMode": false,
       "latestUser": "a user",
       "latestUserId": null,
       "listResultMetadata": null,
       "metadata": {
        "byteLimit": 2048000,
        "implicitDf": true,
        "rowLimit": 10000
       },
       "nuid": "879dbeed-924a-44fe-a8e6-59e3f016b60d",
       "origId": 0,
       "parentHierarchy": [],
       "pivotAggregation": null,
       "pivotColumns": null,
       "position": 16,
       "resultDbfsErrorMessage": null,
       "resultDbfsStatus": "INLINED_IN_TREE",
       "results": null,
       "showCommandTitle": false,
       "startTime": 0,
       "state": "input",
       "streamStates": {},
       "subcommandOptions": {
        "queryPlan": {
         "groups": [
          {
           "column": "Weather_conditions",
           "type": "column"
          }
         ],
         "selects": [
          {
           "column": "Weather_conditions",
           "type": "column"
          },
          {
           "alias": "column_764be00077",
           "args": [
            {
             "column": "avg_time_taken",
             "type": "column"
            }
           ],
           "function": "SUM",
           "type": "function"
          },
          {
           "alias": "column_764be000101",
           "args": [
            {
             "column": "num_orders",
             "type": "column"
            }
           ],
           "function": "SUM",
           "type": "function"
          }
         ]
        }
       },
       "submitTime": 0,
       "subtype": "tableResultSubCmd.visualization",
       "tableResultIndex": 0,
       "tableResultSettingsMap": {},
       "useConsistentColors": false,
       "version": "CommandV1",
       "width": "auto",
       "workflows": [],
       "xColumns": null,
       "yColumns": null
      }
     },
     "output_type": "display_data"
    }
   ],
   "source": [
    "%sql\n",
    "\n",
    "-- relation between weather condition and average time taken to fulfil an order\n",
    "SELECT Weather_conditions, ROUND(AVG(`Time_taken (min)`) + AVG(TIMESTAMPDIFF(MINUTE, Time_Orderd, Time_Order_picked)), 3) AS avg_time_taken, COUNT(*) AS num_orders\n",
    "FROM operationalAnalytics\n",
    "GROUP BY Weather_conditions\n",
    "ORDER BY avg_time_taken ASC"
   ]
  },
  {
   "cell_type": "code",
   "execution_count": null,
   "metadata": {
    "application/vnd.databricks.v1+cell": {
     "cellMetadata": {
      "byteLimit": 2048000,
      "implicitDf": true,
      "rowLimit": 10000
     },
     "inputWidgets": {},
     "nuid": "f85f2d6c-03cf-47c6-ad63-0d88ad0b2f3c",
     "showTitle": false,
     "tableResultSettingsMap": {},
     "title": ""
    }
   },
   "outputs": [
    {
     "data": {
      "text/html": [
       "<style scoped>\n",
       "  .table-result-container {\n",
       "    max-height: 300px;\n",
       "    overflow: auto;\n",
       "  }\n",
       "  table, th, td {\n",
       "    border: 1px solid black;\n",
       "    border-collapse: collapse;\n",
       "  }\n",
       "  th, td {\n",
       "    padding: 5px;\n",
       "  }\n",
       "  th {\n",
       "    text-align: left;\n",
       "  }\n",
       "</style><div class='table-result-container'><table class='table-result'><thead style='background-color: white'><tr><th>Type_of_Vehicle</th><th>count</th></tr></thead><tbody><tr><td>motorcycle</td><td>18462</td></tr><tr><td>scooter</td><td>10136</td></tr><tr><td>electric_scooter</td><td>2490</td></tr></tbody></table></div>"
      ]
     },
     "metadata": {
      "application/vnd.databricks.v1+output": {
       "addedWidgets": {},
       "aggData": [],
       "aggError": "",
       "aggOverflow": false,
       "aggSchema": [],
       "aggSeriesLimitReached": false,
       "aggType": "",
       "arguments": {},
       "columnCustomDisplayInfos": {},
       "data": [
        [
         "motorcycle",
         18462
        ],
        [
         "scooter",
         10136
        ],
        [
         "electric_scooter",
         2490
        ]
       ],
       "datasetInfos": [],
       "dbfsResultPath": null,
       "isJsonSchema": true,
       "metadata": {},
       "overflow": false,
       "plotOptions": {
        "customPlotOptions": {},
        "displayType": "table",
        "pivotAggregation": null,
        "pivotColumns": null,
        "xColumns": null,
        "yColumns": null
       },
       "removedWidgets": [],
       "schema": [
        {
         "metadata": "{}",
         "name": "Type_of_Vehicle",
         "type": "\"string\""
        },
        {
         "metadata": "{}",
         "name": "count",
         "type": "\"long\""
        }
       ],
       "type": "table"
      }
     },
     "output_type": "display_data"
    },
    {
     "data": {
      "text/plain": [
       "Databricks visualization. Run in Databricks to view."
      ]
     },
     "metadata": {
      "application/vnd.databricks.v1.subcommand+json": {
       "baseErrorDetails": null,
       "bindings": {},
       "collapsed": false,
       "command": "%sql WITH q AS (SELECT Type_of_Vehicle, COUNT(ID) AS count\nFROM operationalAnalytics\nGROUP BY Type_of_Vehicle) SELECT `Type_of_Vehicle`,SUM(`count`) `column_764be00080` FROM q GROUP BY `Type_of_Vehicle`",
       "commandTitle": "Visualization 1",
       "commandType": "auto",
       "commandVersion": 0,
       "commentThread": [],
       "commentsVisible": false,
       "contentSha256Hex": null,
       "customPlotOptions": {
        "redashChart": [
         {
          "key": "type",
          "value": "CHART"
         },
         {
          "key": "options",
          "value": {
           "alignYAxesAtZero": true,
           "coefficient": 1,
           "columnConfigurationMap": {
            "x": {
             "column": "Type_of_Vehicle",
             "id": "column_764be00079"
            },
            "y": [
             {
              "column": "count",
              "id": "column_764be00080",
              "transform": "SUM"
             }
            ]
           },
           "dateTimeFormat": "DD/MM/YYYY HH:mm",
           "direction": {
            "type": "counterclockwise"
           },
           "error_y": {
            "type": "data",
            "visible": true
           },
           "globalSeriesType": "pie",
           "isAggregationOn": true,
           "legend": {
            "traceorder": "normal"
           },
           "missingValuesAsZero": true,
           "numberFormat": "0,0.[00000]",
           "percentFormat": "0[.]00%",
           "series": {
            "error_y": {
             "type": "data",
             "visible": true
            },
            "stacking": null
           },
           "seriesOptions": {
            "column_764be00080": {
             "name": "Vehicles distribution",
             "type": "pie",
             "yAxis": 0
            }
           },
           "showDataLabels": true,
           "sizemode": "diameter",
           "sortX": true,
           "sortY": true,
           "swappedAxes": false,
           "textFormat": "",
           "useAggregationsUi": true,
           "valuesOptions": {
            "electric_scooter": {
             "color": "#CD5C5C"
            },
            "motorcycle": {
             "color": "#B22222"
            },
            "scooter": {
             "color": "#DC143C"
            }
           },
           "version": 2,
           "xAxis": {
            "labels": {
             "enabled": true
            },
            "type": "-"
           },
           "yAxis": [
            {
             "type": "-"
            },
            {
             "opposite": true,
             "type": "-"
            }
           ]
          }
         }
        ]
       },
       "datasetPreviewNameToCmdIdMap": {},
       "diffDeletes": [],
       "diffInserts": [],
       "displayType": "redashChart",
       "error": null,
       "errorDetails": null,
       "errorSummary": null,
       "errorTraceType": null,
       "finishTime": 0,
       "globalVars": {},
       "guid": "",
       "height": "auto",
       "hideCommandCode": false,
       "hideCommandResult": false,
       "iPythonMetadata": null,
       "inputWidgets": {},
       "isLockedInExamMode": false,
       "latestUser": "a user",
       "latestUserId": null,
       "listResultMetadata": null,
       "metadata": {
        "byteLimit": 2048000,
        "implicitDf": true,
        "rowLimit": 10000
       },
       "nuid": "f7030b27-b90c-4635-85f4-ee71f7aa0be7",
       "origId": 0,
       "parentHierarchy": [],
       "pivotAggregation": null,
       "pivotColumns": null,
       "position": 17,
       "resultDbfsErrorMessage": null,
       "resultDbfsStatus": "INLINED_IN_TREE",
       "results": null,
       "showCommandTitle": false,
       "startTime": 0,
       "state": "finished",
       "streamStates": {},
       "subcommandOptions": {
        "queryPlan": {
         "groups": [
          {
           "column": "Type_of_Vehicle",
           "type": "column"
          }
         ],
         "selects": [
          {
           "column": "Type_of_Vehicle",
           "type": "column"
          },
          {
           "alias": "column_764be00080",
           "args": [
            {
             "column": "count",
             "type": "column"
            }
           ],
           "function": "SUM",
           "type": "function"
          }
         ]
        }
       },
       "submitTime": 0,
       "subtype": "tableResultSubCmd.visualization",
       "tableResultIndex": 0,
       "tableResultSettingsMap": {},
       "useConsistentColors": false,
       "version": "CommandV1",
       "width": "auto",
       "workflows": [],
       "xColumns": null,
       "yColumns": null
      }
     },
     "output_type": "display_data"
    }
   ],
   "source": [
    "%sql\n",
    "\n",
    "-- distribution of vehicle types\n",
    "SELECT Type_of_Vehicle, COUNT(ID) AS count\n",
    "FROM operationalAnalytics\n",
    "GROUP BY Type_of_Vehicle"
   ]
  },
  {
   "cell_type": "code",
   "execution_count": null,
   "metadata": {
    "application/vnd.databricks.v1+cell": {
     "cellMetadata": {
      "byteLimit": 2048000,
      "implicitDf": true,
      "rowLimit": 10000
     },
     "inputWidgets": {},
     "nuid": "bdb6c3ee-5d9a-4e6d-baa5-dd61904ecdba",
     "showTitle": false,
     "tableResultSettingsMap": {},
     "title": ""
    }
   },
   "outputs": [
    {
     "data": {
      "text/html": [
       "<style scoped>\n",
       "  .table-result-container {\n",
       "    max-height: 300px;\n",
       "    overflow: auto;\n",
       "  }\n",
       "  table, th, td {\n",
       "    border: 1px solid black;\n",
       "    border-collapse: collapse;\n",
       "  }\n",
       "  th, td {\n",
       "    padding: 5px;\n",
       "  }\n",
       "  th {\n",
       "    text-align: left;\n",
       "  }\n",
       "</style><div class='table-result-container'><table class='table-result'><thead style='background-color: white'><tr><th>Delivery_person_Age</th><th>avg_time_taken</th><th>num_orders</th></tr></thead><tbody><tr><td>20</td><td>34.389</td><td>1473</td></tr><tr><td>21</td><td>34.307</td><td>1470</td></tr><tr><td>22</td><td>34.26</td><td>1509</td></tr><tr><td>23</td><td>34.457</td><td>1436</td></tr><tr><td>24</td><td>34.681</td><td>1474</td></tr><tr><td>25</td><td>34.235</td><td>1457</td></tr><tr><td>26</td><td>34.084</td><td>1473</td></tr><tr><td>27</td><td>34.222</td><td>1435</td></tr><tr><td>28</td><td>34.408</td><td>1492</td></tr><tr><td>29</td><td>34.428</td><td>1471</td></tr><tr><td>30</td><td>39.936</td><td>1679</td></tr><tr><td>31</td><td>40.01</td><td>1571</td></tr><tr><td>32</td><td>40.539</td><td>1620</td></tr><tr><td>33</td><td>40.234</td><td>1643</td></tr><tr><td>34</td><td>40.262</td><td>1624</td></tr><tr><td>35</td><td>40.357</td><td>1693</td></tr><tr><td>36</td><td>40.213</td><td>1682</td></tr><tr><td>37</td><td>40.228</td><td>1622</td></tr><tr><td>38</td><td>40.277</td><td>1648</td></tr><tr><td>39</td><td>40.126</td><td>1616</td></tr></tbody></table></div>"
      ]
     },
     "metadata": {
      "application/vnd.databricks.v1+output": {
       "addedWidgets": {},
       "aggData": [],
       "aggError": "",
       "aggOverflow": false,
       "aggSchema": [],
       "aggSeriesLimitReached": false,
       "aggType": "",
       "arguments": {},
       "columnCustomDisplayInfos": {},
       "data": [
        [
         20,
         34.389,
         1473
        ],
        [
         21,
         34.307,
         1470
        ],
        [
         22,
         34.26,
         1509
        ],
        [
         23,
         34.457,
         1436
        ],
        [
         24,
         34.681,
         1474
        ],
        [
         25,
         34.235,
         1457
        ],
        [
         26,
         34.084,
         1473
        ],
        [
         27,
         34.222,
         1435
        ],
        [
         28,
         34.408,
         1492
        ],
        [
         29,
         34.428,
         1471
        ],
        [
         30,
         39.936,
         1679
        ],
        [
         31,
         40.01,
         1571
        ],
        [
         32,
         40.539,
         1620
        ],
        [
         33,
         40.234,
         1643
        ],
        [
         34,
         40.262,
         1624
        ],
        [
         35,
         40.357,
         1693
        ],
        [
         36,
         40.213,
         1682
        ],
        [
         37,
         40.228,
         1622
        ],
        [
         38,
         40.277,
         1648
        ],
        [
         39,
         40.126,
         1616
        ]
       ],
       "datasetInfos": [],
       "dbfsResultPath": null,
       "isJsonSchema": true,
       "metadata": {},
       "overflow": false,
       "plotOptions": {
        "customPlotOptions": {},
        "displayType": "table",
        "pivotAggregation": null,
        "pivotColumns": null,
        "xColumns": null,
        "yColumns": null
       },
       "removedWidgets": [],
       "schema": [
        {
         "metadata": "{}",
         "name": "Delivery_person_Age",
         "type": "\"integer\""
        },
        {
         "metadata": "{}",
         "name": "avg_time_taken",
         "type": "\"double\""
        },
        {
         "metadata": "{}",
         "name": "num_orders",
         "type": "\"long\""
        }
       ],
       "type": "table"
      }
     },
     "output_type": "display_data"
    },
    {
     "data": {
      "text/plain": [
       "Databricks visualization. Run in Databricks to view."
      ]
     },
     "metadata": {
      "application/vnd.databricks.v1.subcommand+json": {
       "baseErrorDetails": null,
       "bindings": {},
       "collapsed": false,
       "command": "%sql WITH q AS (SELECT Delivery_person_Age, ROUND(AVG(`Time_taken (min)`), 3) AS avg_time_taken, COUNT(ID) AS num_orders\nFROM operationalAnalytics\nGROUP BY Delivery_person_Age\nORDER BY Delivery_person_Age ASC) SELECT `Delivery_person_Age`,SUM(`avg_time_taken`) `column_764be00085`,SUM(`num_orders`) `column_764be00088` FROM q GROUP BY `Delivery_person_Age`",
       "commandTitle": "Visualization 1",
       "commandType": "auto",
       "commandVersion": 0,
       "commentThread": [],
       "commentsVisible": false,
       "contentSha256Hex": null,
       "customPlotOptions": {
        "redashChart": [
         {
          "key": "type",
          "value": "CHART"
         },
         {
          "key": "options",
          "value": {
           "alignYAxesAtZero": false,
           "coefficient": 1,
           "columnConfigurationMap": {
            "x": {
             "column": "Delivery_person_Age",
             "id": "column_764be00083"
            },
            "y": [
             {
              "column": "avg_time_taken",
              "id": "column_764be00085",
              "transform": "SUM"
             },
             {
              "column": "num_orders",
              "id": "column_764be00088",
              "transform": "SUM"
             }
            ]
           },
           "dateTimeFormat": "DD/MM/YYYY HH:mm",
           "direction": {
            "type": "counterclockwise"
           },
           "error_y": {
            "type": "data",
            "visible": true
           },
           "globalSeriesType": "combo",
           "isAggregationOn": true,
           "legend": {
            "enabled": true,
            "placement": "below",
            "traceorder": "normal"
           },
           "missingValuesAsZero": false,
           "numberFormat": "0,0.[00000]",
           "percentFormat": "0[.]00%",
           "series": {
            "error_y": {
             "type": "data",
             "visible": true
            },
            "stacking": null
           },
           "seriesOptions": {
            "column_764be00085": {
             "color": "#604FE9",
             "name": "Average Time Taken to Complete Delivery",
             "type": "line",
             "yAxis": 1,
             "zIndex": 1
            },
            "column_764be00088": {
             "color": "#D0312D",
             "name": "Total Number of Orders",
             "type": "column",
             "yAxis": 0,
             "zIndex": 0
            }
           },
           "showDataLabels": false,
           "sizemode": "diameter",
           "sortX": true,
           "sortY": true,
           "swappedAxes": false,
           "textFormat": "",
           "useAggregationsUi": true,
           "valuesOptions": {},
           "version": 2,
           "xAxis": {
            "labels": {
             "enabled": true
            },
            "title": {
             "text": "Delivery Person Age"
            },
            "type": "category"
           },
           "yAxis": [
            {
             "rangeMax": 1750,
             "rangeMin": 1400,
             "title": {
              "text": "Total Number of Orders"
             },
             "type": "-"
            },
            {
             "opposite": true,
             "rangeMax": 41,
             "rangeMin": 30,
             "title": {
              "text": "Average Time Taken to Complete Delivery (in min)"
             },
             "type": "-"
            }
           ]
          }
         }
        ]
       },
       "datasetPreviewNameToCmdIdMap": {},
       "diffDeletes": [],
       "diffInserts": [],
       "displayType": "redashChart",
       "error": null,
       "errorDetails": null,
       "errorSummary": null,
       "errorTraceType": null,
       "finishTime": 0,
       "globalVars": {},
       "guid": "",
       "height": "auto",
       "hideCommandCode": false,
       "hideCommandResult": false,
       "iPythonMetadata": null,
       "inputWidgets": {},
       "isLockedInExamMode": false,
       "latestUser": "a user",
       "latestUserId": null,
       "listResultMetadata": null,
       "metadata": {
        "byteLimit": 2048000,
        "implicitDf": true,
        "rowLimit": 10000
       },
       "nuid": "1a233687-35e1-4071-a565-ee3be8d47fee",
       "origId": 0,
       "parentHierarchy": [],
       "pivotAggregation": null,
       "pivotColumns": null,
       "position": 18,
       "resultDbfsErrorMessage": null,
       "resultDbfsStatus": "INLINED_IN_TREE",
       "results": null,
       "showCommandTitle": false,
       "startTime": 0,
       "state": "input",
       "streamStates": {},
       "subcommandOptions": {
        "queryPlan": {
         "groups": [
          {
           "column": "Delivery_person_Age",
           "type": "column"
          }
         ],
         "selects": [
          {
           "column": "Delivery_person_Age",
           "type": "column"
          },
          {
           "alias": "column_764be00085",
           "args": [
            {
             "column": "avg_time_taken",
             "type": "column"
            }
           ],
           "function": "SUM",
           "type": "function"
          },
          {
           "alias": "column_764be00088",
           "args": [
            {
             "column": "num_orders",
             "type": "column"
            }
           ],
           "function": "SUM",
           "type": "function"
          }
         ]
        }
       },
       "submitTime": 0,
       "subtype": "tableResultSubCmd.visualization",
       "tableResultIndex": 0,
       "tableResultSettingsMap": {},
       "useConsistentColors": false,
       "version": "CommandV1",
       "width": "auto",
       "workflows": [],
       "xColumns": null,
       "yColumns": null
      }
     },
     "output_type": "display_data"
    }
   ],
   "source": [
    "%sql\n",
    "\n",
    "-- age of delivery person vs time to fulfill order\n",
    "SELECT Delivery_person_Age, ROUND(AVG(`Time_taken (min)`) + AVG(TIMESTAMPDIFF(MINUTE, Time_Orderd, Time_Order_picked)), 3) AS avg_time_taken, COUNT(ID) AS num_orders\n",
    "FROM operationalAnalytics\n",
    "GROUP BY Delivery_person_Age\n",
    "ORDER BY Delivery_person_Age ASC"
   ]
  },
  {
   "cell_type": "code",
   "execution_count": null,
   "metadata": {
    "application/vnd.databricks.v1+cell": {
     "cellMetadata": {
      "byteLimit": 2048000,
      "implicitDf": true,
      "rowLimit": 10000
     },
     "inputWidgets": {},
     "nuid": "f3aa3526-758d-41ef-9122-f0391ace495c",
     "showTitle": false,
     "tableResultSettingsMap": {},
     "title": ""
    }
   },
   "outputs": [
    {
     "data": {
      "text/html": [
       "<style scoped>\n",
       "  .table-result-container {\n",
       "    max-height: 300px;\n",
       "    overflow: auto;\n",
       "  }\n",
       "  table, th, td {\n",
       "    border: 1px solid black;\n",
       "    border-collapse: collapse;\n",
       "  }\n",
       "  th, td {\n",
       "    padding: 5px;\n",
       "  }\n",
       "  th {\n",
       "    text-align: left;\n",
       "  }\n",
       "</style><div class='table-result-container'><table class='table-result'><thead style='background-color: white'><tr><th>Order_Hour</th><th>order_count</th><th>avg_time_taken</th></tr></thead><tbody><tr><td>8</td><td>1217</td><td>30.503</td></tr><tr><td>9</td><td>1255</td><td>30.134</td></tr><tr><td>10</td><td>1437</td><td>30.141</td></tr><tr><td>11</td><td>1303</td><td>38.104</td></tr><tr><td>12</td><td>678</td><td>37.794</td></tr><tr><td>13</td><td>635</td><td>38.257</td></tr><tr><td>14</td><td>537</td><td>38.147</td></tr><tr><td>15</td><td>588</td><td>34.376</td></tr><tr><td>16</td><td>544</td><td>33.831</td></tr><tr><td>17</td><td>3153</td><td>38.528</td></tr><tr><td>18</td><td>3361</td><td>38.115</td></tr><tr><td>19</td><td>3916</td><td>41.476</td></tr><tr><td>20</td><td>3111</td><td>42.046</td></tr><tr><td>21</td><td>3592</td><td>41.847</td></tr><tr><td>22</td><td>3493</td><td>34.078</td></tr><tr><td>23</td><td>2268</td><td>33.062</td></tr></tbody></table></div>"
      ]
     },
     "metadata": {
      "application/vnd.databricks.v1+output": {
       "addedWidgets": {},
       "aggData": [],
       "aggError": "",
       "aggOverflow": false,
       "aggSchema": [],
       "aggSeriesLimitReached": false,
       "aggType": "",
       "arguments": {},
       "columnCustomDisplayInfos": {},
       "data": [
        [
         8,
         1217,
         30.503
        ],
        [
         9,
         1255,
         30.134
        ],
        [
         10,
         1437,
         30.141
        ],
        [
         11,
         1303,
         38.104
        ],
        [
         12,
         678,
         37.794
        ],
        [
         13,
         635,
         38.257
        ],
        [
         14,
         537,
         38.147
        ],
        [
         15,
         588,
         34.376
        ],
        [
         16,
         544,
         33.831
        ],
        [
         17,
         3153,
         38.528
        ],
        [
         18,
         3361,
         38.115
        ],
        [
         19,
         3916,
         41.476
        ],
        [
         20,
         3111,
         42.046
        ],
        [
         21,
         3592,
         41.847
        ],
        [
         22,
         3493,
         34.078
        ],
        [
         23,
         2268,
         33.062
        ]
       ],
       "datasetInfos": [],
       "dbfsResultPath": null,
       "isJsonSchema": true,
       "metadata": {},
       "overflow": false,
       "plotOptions": {
        "customPlotOptions": {},
        "displayType": "table",
        "pivotAggregation": null,
        "pivotColumns": null,
        "xColumns": null,
        "yColumns": null
       },
       "removedWidgets": [],
       "schema": [
        {
         "metadata": "{}",
         "name": "Order_Hour",
         "type": "\"integer\""
        },
        {
         "metadata": "{}",
         "name": "order_count",
         "type": "\"long\""
        },
        {
         "metadata": "{}",
         "name": "avg_time_taken",
         "type": "\"double\""
        }
       ],
       "type": "table"
      }
     },
     "output_type": "display_data"
    },
    {
     "data": {
      "text/plain": [
       "Databricks visualization. Run in Databricks to view."
      ]
     },
     "metadata": {
      "application/vnd.databricks.v1.subcommand+json": {
       "baseErrorDetails": null,
       "bindings": {},
       "collapsed": false,
       "command": "%sql WITH q AS (SELECT HOUR(Time_Orderd) AS Order_Hour, COUNT(ID) AS order_count, ROUND(AVG(`Time_taken (min)`), 3) AS avg_time_taken\nFROM operationalAnalytics\nGROUP BY Order_Hour\nORDER BY Order_Hour) SELECT `Order_Hour`,SUM(`order_count`) `column_764be000108`,SUM(`avg_time_taken`) `column_764be000114` FROM q GROUP BY `Order_Hour`",
       "commandTitle": "Visualization 1",
       "commandType": "auto",
       "commandVersion": 0,
       "commentThread": [],
       "commentsVisible": false,
       "contentSha256Hex": null,
       "customPlotOptions": {
        "redashChart": [
         {
          "key": "type",
          "value": "CHART"
         },
         {
          "key": "options",
          "value": {
           "alignYAxesAtZero": false,
           "coefficient": 1,
           "columnConfigurationMap": {
            "x": {
             "column": "Order_Hour",
             "id": "column_764be000107"
            },
            "y": [
             {
              "column": "order_count",
              "id": "column_764be000108",
              "transform": "SUM"
             },
             {
              "column": "avg_time_taken",
              "id": "column_764be000114",
              "transform": "SUM"
             }
            ]
           },
           "dateTimeFormat": "DD/MM/YYYY HH:mm",
           "direction": {
            "type": "counterclockwise"
           },
           "error_y": {
            "type": "data",
            "visible": true
           },
           "globalSeriesType": "combo",
           "isAggregationOn": true,
           "legend": {
            "enabled": true,
            "placement": "below",
            "traceorder": "normal"
           },
           "missingValuesAsZero": true,
           "numberFormat": "0,0.[00000]",
           "percentFormat": "0[.]00%",
           "series": {
            "error_y": {
             "type": "data",
             "visible": true
            },
            "stacking": null
           },
           "seriesOptions": {
            "column_764be000108": {
             "color": "#D0312D",
             "name": "Total Number of Orders",
             "type": "column",
             "yAxis": 0
            },
            "column_764be000114": {
             "color": "#356AFF",
             "name": "Average Time Taken to Complete Order",
             "type": "line",
             "yAxis": 1
            }
           },
           "showDataLabels": false,
           "sizemode": "diameter",
           "sortX": true,
           "sortY": true,
           "swappedAxes": false,
           "textFormat": "",
           "useAggregationsUi": true,
           "valuesOptions": {},
           "version": 2,
           "xAxis": {
            "labels": {
             "enabled": true
            },
            "title": {
             "text": "Hour of Day"
            },
            "type": "category"
           },
           "yAxis": [
            {
             "rangeMax": 4900,
             "rangeMin": 300,
             "title": {
              "text": "Total Number of Orders"
             },
             "type": "-"
            },
            {
             "opposite": true,
             "rangeMax": 44,
             "rangeMin": 25,
             "title": {
              "text": "Average Time Taken to Complete Order (in min)"
             },
             "type": "-"
            }
           ]
          }
         }
        ]
       },
       "datasetPreviewNameToCmdIdMap": {},
       "diffDeletes": [],
       "diffInserts": [],
       "displayType": "redashChart",
       "error": null,
       "errorDetails": null,
       "errorSummary": null,
       "errorTraceType": null,
       "finishTime": 0,
       "globalVars": {},
       "guid": "",
       "height": "auto",
       "hideCommandCode": false,
       "hideCommandResult": false,
       "iPythonMetadata": null,
       "inputWidgets": {},
       "isLockedInExamMode": false,
       "latestUser": "a user",
       "latestUserId": null,
       "listResultMetadata": null,
       "metadata": {
        "byteLimit": 2048000,
        "implicitDf": true,
        "rowLimit": 10000
       },
       "nuid": "7db2dcb1-b0b9-467f-8e06-92a40d9f8866",
       "origId": 0,
       "parentHierarchy": [],
       "pivotAggregation": null,
       "pivotColumns": null,
       "position": 19,
       "resultDbfsErrorMessage": null,
       "resultDbfsStatus": "INLINED_IN_TREE",
       "results": null,
       "showCommandTitle": false,
       "startTime": 0,
       "state": "input",
       "streamStates": {},
       "subcommandOptions": {
        "queryPlan": {
         "groups": [
          {
           "column": "Order_Hour",
           "type": "column"
          }
         ],
         "selects": [
          {
           "column": "Order_Hour",
           "type": "column"
          },
          {
           "alias": "column_764be000108",
           "args": [
            {
             "column": "order_count",
             "type": "column"
            }
           ],
           "function": "SUM",
           "type": "function"
          },
          {
           "alias": "column_764be000114",
           "args": [
            {
             "column": "avg_time_taken",
             "type": "column"
            }
           ],
           "function": "SUM",
           "type": "function"
          }
         ]
        }
       },
       "submitTime": 0,
       "subtype": "tableResultSubCmd.visualization",
       "tableResultIndex": 0,
       "tableResultSettingsMap": {},
       "useConsistentColors": false,
       "version": "CommandV1",
       "width": "auto",
       "workflows": [],
       "xColumns": null,
       "yColumns": null
      }
     },
     "output_type": "display_data"
    }
   ],
   "source": [
    "%sql\n",
    "\n",
    "-- distribution of orders placed throughout the day\n",
    "SELECT HOUR(Time_Orderd) AS Order_Hour, COUNT(ID) AS order_count, ROUND(AVG(`Time_taken (min)`) + AVG(TIMESTAMPDIFF(MINUTE, Time_Orderd, Time_Order_picked)), 3) AS avg_time_taken\n",
    "FROM operationalAnalytics\n",
    "GROUP BY Order_Hour\n",
    "ORDER BY Order_Hour"
   ]
  },
  {
   "cell_type": "code",
   "execution_count": null,
   "metadata": {
    "application/vnd.databricks.v1+cell": {
     "cellMetadata": {
      "byteLimit": 2048000,
      "implicitDf": true,
      "rowLimit": 10000
     },
     "inputWidgets": {},
     "nuid": "804e07a6-e82a-455c-8a77-cb16c25e3d1d",
     "showTitle": false,
     "tableResultSettingsMap": {},
     "title": ""
    }
   },
   "outputs": [
    {
     "data": {
      "text/html": [
       "<style scoped>\n",
       "  .table-result-container {\n",
       "    max-height: 300px;\n",
       "    overflow: auto;\n",
       "  }\n",
       "  table, th, td {\n",
       "    border: 1px solid black;\n",
       "    border-collapse: collapse;\n",
       "  }\n",
       "  th, td {\n",
       "    padding: 5px;\n",
       "  }\n",
       "  th {\n",
       "    text-align: left;\n",
       "  }\n",
       "</style><div class='table-result-container'><table class='table-result'><thead style='background-color: white'><tr><th>Item_Name</th><th>count</th></tr></thead><tbody><tr><td>Veg Fried Rice</td><td>50</td></tr><tr><td>Chicken Fried Rice</td><td>42</td></tr><tr><td>Margherita Pizza</td><td>38</td></tr><tr><td>Paneer Butter Masala</td><td>31</td></tr><tr><td>Cold Coffee</td><td>30</td></tr><tr><td>French Fries</td><td>29</td></tr><tr><td>Jeera Rice</td><td>28</td></tr><tr><td>Egg Fried Rice</td><td>28</td></tr><tr><td>Veg Biryani</td><td>25</td></tr><tr><td>Strawberry Shake</td><td>24</td></tr><tr><td>Peri Peri Fries</td><td>24</td></tr><tr><td>Oreo Shake</td><td>23</td></tr><tr><td>Butter Naan</td><td>23</td></tr><tr><td>Cheese Garlic Bread</td><td>22</td></tr><tr><td>Chicken Biryani</td><td>21</td></tr><tr><td>Chicken 65</td><td>20</td></tr><tr><td>Paneer Tikka Masala</td><td>19</td></tr><tr><td>Veg Pulao</td><td>19</td></tr><tr><td>Chocolate Shake</td><td>19</td></tr><tr><td>Dal Fry</td><td>18</td></tr><tr><td>Dal Tadka</td><td>18</td></tr><tr><td>Aloo Tikki Burger</td><td>18</td></tr><tr><td>Gobi Manchurian</td><td>17</td></tr><tr><td>Veg Manchurian</td><td>17</td></tr><tr><td>Veg Noodles</td><td>17</td></tr><tr><td>Egg Biryani</td><td>17</td></tr><tr><td>Tandoori Chicken</td><td>16</td></tr><tr><td>Paneer 65</td><td>16</td></tr><tr><td>Veg Schezwan Noodles</td><td>16</td></tr><tr><td>Butter Chicken</td><td>16</td></tr><tr><td>Paneer Biryani</td><td>15</td></tr><tr><td>Paneer Tikka Pizza</td><td>15</td></tr><tr><td>Gobi 65</td><td>15</td></tr><tr><td>Palak Paneer</td><td>15</td></tr><tr><td>Veg Hakka Noodles</td><td>15</td></tr><tr><td>Lemon Iced Tea</td><td>14</td></tr><tr><td>Dragon Chicken</td><td>14</td></tr><tr><td>Virgin Mojito</td><td>14</td></tr><tr><td>Green Salad</td><td>14</td></tr><tr><td>Paneer Fried Rice</td><td>14</td></tr><tr><td>Chicken Schezwan Noodles</td><td>13</td></tr><tr><td>Butter Roti</td><td>13</td></tr><tr><td>Veg Manchow Soup</td><td>13</td></tr><tr><td>Dal Makhani</td><td>13</td></tr><tr><td>Mutton Biryani</td><td>13</td></tr><tr><td>Chicken Masala</td><td>13</td></tr><tr><td>Garlic Naan</td><td>13</td></tr><tr><td>Chicken Noodles</td><td>13</td></tr><tr><td>Tandoori Roti</td><td>13</td></tr><tr><td>Cheese Sandwich</td><td>12</td></tr><tr><td>Paneer Tikka</td><td>12</td></tr><tr><td>Steamed Rice</td><td>12</td></tr><tr><td>Vanilla Shake</td><td>12</td></tr><tr><td>Classic Cold Coffee</td><td>12</td></tr><tr><td>Cheese Corn Sandwich</td><td>12</td></tr><tr><td>White Sauce Pasta</td><td>12</td></tr><tr><td>Egg Noodles</td><td>12</td></tr><tr><td>Salted Fries</td><td>12</td></tr><tr><td>Veg Grilled Sandwich</td><td>11</td></tr><tr><td>Paneer Bhurji</td><td>11</td></tr><tr><td>Veg Sweet Corn Soup</td><td>11</td></tr><tr><td>Brownie Shake</td><td>11</td></tr><tr><td>Veg Sandwich</td><td>11</td></tr><tr><td>Prawns Biryani</td><td>11</td></tr><tr><td>Chilli Paneer</td><td>11</td></tr><tr><td>Chicken Lollipop</td><td>11</td></tr><tr><td>Mutton Rogan Josh</td><td>11</td></tr><tr><td>Mango Shake</td><td>11</td></tr><tr><td>Naan</td><td>11</td></tr><tr><td>Kitkat Shake</td><td>11</td></tr><tr><td>Chicken Clear Soup</td><td>10</td></tr><tr><td>Veg Clear Soup</td><td>10</td></tr><tr><td>Garlic Bread</td><td>10</td></tr><tr><td>Chocolate Milkshake</td><td>10</td></tr><tr><td>Chicken Nuggets</td><td>10</td></tr><tr><td>Paneer Tikka Sandwich</td><td>10</td></tr><tr><td>Butterscotch Shake</td><td>10</td></tr><tr><td>Strawberry Milkshake</td><td>10</td></tr><tr><td>Cheese Burger</td><td>10</td></tr><tr><td>Chicken Manchow Soup</td><td>10</td></tr><tr><td>Plain Rice</td><td>10</td></tr><tr><td>Red Sauce Pasta</td><td>10</td></tr><tr><td>Chicken Sweet Corn Soup</td><td>10</td></tr><tr><td>Chilli Chicken Dry</td><td>10</td></tr><tr><td>Mushroom Masala</td><td>10</td></tr><tr><td>Tomato Soup</td><td>10</td></tr><tr><td>Chapati</td><td>10</td></tr><tr><td>Roti</td><td>10</td></tr><tr><td>Mango Lassi</td><td>9</td></tr><tr><td>Kadhai Paneer</td><td>9</td></tr><tr><td>Chicken Curry</td><td>9</td></tr><tr><td>Curd Rice</td><td>9</td></tr><tr><td>Tandoori Paneer Pizza</td><td>9</td></tr><tr><td>Masala Papad</td><td>9</td></tr><tr><td>Veg Schezwan Fried Rice</td><td>9</td></tr><tr><td>Chicken Manchurian</td><td>9</td></tr><tr><td>Hot Chocolate</td><td>9</td></tr><tr><td>Peri Peri French Fries</td><td>9</td></tr><tr><td>Malai Kofta</td><td>9</td></tr><tr><td>Aloo Paratha</td><td>9</td></tr></tbody></table></div>"
      ]
     },
     "metadata": {
      "application/vnd.databricks.v1+output": {
       "addedWidgets": {},
       "aggData": [],
       "aggError": "",
       "aggOverflow": false,
       "aggSchema": [],
       "aggSeriesLimitReached": false,
       "aggType": "",
       "arguments": {},
       "columnCustomDisplayInfos": {},
       "data": [
        [
         "Veg Fried Rice",
         50
        ],
        [
         "Chicken Fried Rice",
         42
        ],
        [
         "Margherita Pizza",
         38
        ],
        [
         "Paneer Butter Masala",
         31
        ],
        [
         "Cold Coffee",
         30
        ],
        [
         "French Fries",
         29
        ],
        [
         "Jeera Rice",
         28
        ],
        [
         "Egg Fried Rice",
         28
        ],
        [
         "Veg Biryani",
         25
        ],
        [
         "Strawberry Shake",
         24
        ],
        [
         "Peri Peri Fries",
         24
        ],
        [
         "Oreo Shake",
         23
        ],
        [
         "Butter Naan",
         23
        ],
        [
         "Cheese Garlic Bread",
         22
        ],
        [
         "Chicken Biryani",
         21
        ],
        [
         "Chicken 65",
         20
        ],
        [
         "Paneer Tikka Masala",
         19
        ],
        [
         "Veg Pulao",
         19
        ],
        [
         "Chocolate Shake",
         19
        ],
        [
         "Dal Fry",
         18
        ],
        [
         "Dal Tadka",
         18
        ],
        [
         "Aloo Tikki Burger",
         18
        ],
        [
         "Gobi Manchurian",
         17
        ],
        [
         "Veg Manchurian",
         17
        ],
        [
         "Veg Noodles",
         17
        ],
        [
         "Egg Biryani",
         17
        ],
        [
         "Tandoori Chicken",
         16
        ],
        [
         "Paneer 65",
         16
        ],
        [
         "Veg Schezwan Noodles",
         16
        ],
        [
         "Butter Chicken",
         16
        ],
        [
         "Paneer Biryani",
         15
        ],
        [
         "Paneer Tikka Pizza",
         15
        ],
        [
         "Gobi 65",
         15
        ],
        [
         "Palak Paneer",
         15
        ],
        [
         "Veg Hakka Noodles",
         15
        ],
        [
         "Lemon Iced Tea",
         14
        ],
        [
         "Dragon Chicken",
         14
        ],
        [
         "Virgin Mojito",
         14
        ],
        [
         "Green Salad",
         14
        ],
        [
         "Paneer Fried Rice",
         14
        ],
        [
         "Chicken Schezwan Noodles",
         13
        ],
        [
         "Butter Roti",
         13
        ],
        [
         "Veg Manchow Soup",
         13
        ],
        [
         "Dal Makhani",
         13
        ],
        [
         "Mutton Biryani",
         13
        ],
        [
         "Chicken Masala",
         13
        ],
        [
         "Garlic Naan",
         13
        ],
        [
         "Chicken Noodles",
         13
        ],
        [
         "Tandoori Roti",
         13
        ],
        [
         "Cheese Sandwich",
         12
        ],
        [
         "Paneer Tikka",
         12
        ],
        [
         "Steamed Rice",
         12
        ],
        [
         "Vanilla Shake",
         12
        ],
        [
         "Classic Cold Coffee",
         12
        ],
        [
         "Cheese Corn Sandwich",
         12
        ],
        [
         "White Sauce Pasta",
         12
        ],
        [
         "Egg Noodles",
         12
        ],
        [
         "Salted Fries",
         12
        ],
        [
         "Veg Grilled Sandwich",
         11
        ],
        [
         "Paneer Bhurji",
         11
        ],
        [
         "Veg Sweet Corn Soup",
         11
        ],
        [
         "Brownie Shake",
         11
        ],
        [
         "Veg Sandwich",
         11
        ],
        [
         "Prawns Biryani",
         11
        ],
        [
         "Chilli Paneer",
         11
        ],
        [
         "Chicken Lollipop",
         11
        ],
        [
         "Mutton Rogan Josh",
         11
        ],
        [
         "Mango Shake",
         11
        ],
        [
         "Naan",
         11
        ],
        [
         "Kitkat Shake",
         11
        ],
        [
         "Chicken Clear Soup",
         10
        ],
        [
         "Veg Clear Soup",
         10
        ],
        [
         "Garlic Bread",
         10
        ],
        [
         "Chocolate Milkshake",
         10
        ],
        [
         "Chicken Nuggets",
         10
        ],
        [
         "Paneer Tikka Sandwich",
         10
        ],
        [
         "Butterscotch Shake",
         10
        ],
        [
         "Strawberry Milkshake",
         10
        ],
        [
         "Cheese Burger",
         10
        ],
        [
         "Chicken Manchow Soup",
         10
        ],
        [
         "Plain Rice",
         10
        ],
        [
         "Red Sauce Pasta",
         10
        ],
        [
         "Chicken Sweet Corn Soup",
         10
        ],
        [
         "Chilli Chicken Dry",
         10
        ],
        [
         "Mushroom Masala",
         10
        ],
        [
         "Tomato Soup",
         10
        ],
        [
         "Chapati",
         10
        ],
        [
         "Roti",
         10
        ],
        [
         "Mango Lassi",
         9
        ],
        [
         "Kadhai Paneer",
         9
        ],
        [
         "Chicken Curry",
         9
        ],
        [
         "Curd Rice",
         9
        ],
        [
         "Tandoori Paneer Pizza",
         9
        ],
        [
         "Masala Papad",
         9
        ],
        [
         "Veg Schezwan Fried Rice",
         9
        ],
        [
         "Chicken Manchurian",
         9
        ],
        [
         "Hot Chocolate",
         9
        ],
        [
         "Peri Peri French Fries",
         9
        ],
        [
         "Malai Kofta",
         9
        ],
        [
         "Aloo Paratha",
         9
        ]
       ],
       "datasetInfos": [],
       "dbfsResultPath": null,
       "isJsonSchema": true,
       "metadata": {},
       "overflow": false,
       "plotOptions": {
        "customPlotOptions": {},
        "displayType": "table",
        "pivotAggregation": null,
        "pivotColumns": null,
        "xColumns": null,
        "yColumns": null
       },
       "removedWidgets": [],
       "schema": [
        {
         "metadata": "{}",
         "name": "Item_Name",
         "type": "\"string\""
        },
        {
         "metadata": "{}",
         "name": "count",
         "type": "\"long\""
        }
       ],
       "type": "table"
      }
     },
     "output_type": "display_data"
    },
    {
     "data": {
      "text/plain": [
       "Databricks visualization. Run in Databricks to view."
      ]
     },
     "metadata": {
      "application/vnd.databricks.v1.subcommand+json": {
       "baseErrorDetails": null,
       "bindings": {},
       "collapsed": false,
       "command": "%sql\nSELECT DISTINCT Item_Name, COUNT(*) AS count\nFROM metropolitanData\nGROUP BY Item_Name\nORDER BY count DESC",
       "commandTitle": "Visualization 1",
       "commandType": "auto",
       "commandVersion": 0,
       "commentThread": [],
       "commentsVisible": false,
       "contentSha256Hex": null,
       "customPlotOptions": {
        "redashChart": [
         {
          "key": "type",
          "value": "WORD_CLOUD"
         },
         {
          "key": "options",
          "value": {
           "column": "Item_Name",
           "frequenciesColumn": "",
           "wordCountLimit": {
            "max": null,
            "min": null
           },
           "wordLengthLimit": {
            "max": null,
            "min": null
           }
          }
         }
        ]
       },
       "datasetPreviewNameToCmdIdMap": {},
       "diffDeletes": [],
       "diffInserts": [],
       "displayType": "redashChart",
       "error": null,
       "errorDetails": null,
       "errorSummary": null,
       "errorTraceType": null,
       "finishTime": 0,
       "globalVars": {},
       "guid": "",
       "height": "auto",
       "hideCommandCode": false,
       "hideCommandResult": false,
       "iPythonMetadata": null,
       "inputWidgets": {},
       "isLockedInExamMode": false,
       "latestUser": "a user",
       "latestUserId": null,
       "listResultMetadata": null,
       "metadata": {
        "byteLimit": 2048000,
        "implicitDf": true,
        "rowLimit": 10000
       },
       "nuid": "5b050855-4cbc-4e90-895c-3ee816d1e522",
       "origId": 0,
       "parentHierarchy": [],
       "pivotAggregation": null,
       "pivotColumns": null,
       "position": 20,
       "resultDbfsErrorMessage": null,
       "resultDbfsStatus": "INLINED_IN_TREE",
       "results": null,
       "showCommandTitle": false,
       "startTime": 0,
       "state": "input",
       "streamStates": {},
       "subcommandOptions": {},
       "submitTime": 0,
       "subtype": "tableResultSubCmd.visualization",
       "tableResultIndex": 0,
       "tableResultSettingsMap": {},
       "useConsistentColors": false,
       "version": "CommandV1",
       "width": "auto",
       "workflows": [],
       "xColumns": null,
       "yColumns": null
      }
     },
     "output_type": "display_data"
    }
   ],
   "source": [
    "%sql\n",
    "SELECT DISTINCT Item_Name, COUNT(*) AS count\n",
    "FROM metropolitanData\n",
    "WHERE Dining_Votes>0 AND Dining_Rating>0 AND Delivery_Rating>0 AND Delivery_Votes>0\n",
    "GROUP BY Item_Name\n",
    "ORDER BY count DESC\n",
    "LIMIT 100"
   ]
  },
  {
   "cell_type": "code",
   "execution_count": null,
   "metadata": {
    "application/vnd.databricks.v1+cell": {
     "cellMetadata": {
      "byteLimit": 2048000,
      "implicitDf": true,
      "rowLimit": 10000
     },
     "inputWidgets": {},
     "nuid": "b959d4e1-fafc-4105-81c3-acbbd0e992e0",
     "showTitle": false,
     "tableResultSettingsMap": {},
     "title": ""
    }
   },
   "outputs": [
    {
     "data": {
      "text/html": [
       "<style scoped>\n",
       "  .table-result-container {\n",
       "    max-height: 300px;\n",
       "    overflow: auto;\n",
       "  }\n",
       "  table, th, td {\n",
       "    border: 1px solid black;\n",
       "    border-collapse: collapse;\n",
       "  }\n",
       "  th, td {\n",
       "    padding: 5px;\n",
       "  }\n",
       "  th {\n",
       "    text-align: left;\n",
       "  }\n",
       "</style><div class='table-result-container'><table class='table-result'><thead style='background-color: white'><tr><th>Restaurant_latitude</th><th>Restaurant_longitude</th><th>count</th></tr></thead><tbody><tr><td>12.284747</td><td>76.625861</td><td>109</td></tr><tr><td>22.307898</td><td>73.167788</td><td>98</td></tr><tr><td>30.361281</td><td>78.068022</td><td>30</td></tr><tr><td>27.161661</td><td>78.011544</td><td>31</td></tr><tr><td>30.885814</td><td>75.786976</td><td>23</td></tr><tr><td>26.47</td><td>80.35</td><td>24</td></tr><tr><td>30.890184</td><td>75.829615</td><td>25</td></tr><tr><td>26.90294</td><td>75.793007</td><td>119</td></tr><tr><td>11.001852</td><td>76.976268</td><td>107</td></tr><tr><td>25.450317</td><td>81.831681</td><td>20</td></tr><tr><td>12.979096</td><td>77.640625</td><td>98</td></tr><tr><td>12.3085</td><td>76.665808</td><td>117</td></tr><tr><td>10.027014</td><td>76.308053</td><td>24</td></tr><tr><td>12.979166</td><td>77.640709</td><td>115</td></tr><tr><td>13.081878</td><td>80.248519</td><td>115</td></tr><tr><td>30.895817</td><td>75.813112</td><td>26</td></tr><tr><td>12.326356</td><td>76.619103</td><td>108</td></tr><tr><td>10.035573</td><td>76.336958</td><td>22</td></tr><tr><td>30.885915</td><td>75.788259</td><td>27</td></tr><tr><td>26.902908</td><td>75.792934</td><td>120</td></tr><tr><td>30.892978</td><td>75.821847</td><td>20</td></tr><tr><td>13.022394</td><td>80.242439</td><td>102</td></tr><tr><td>13.045479</td><td>80.23311</td><td>99</td></tr><tr><td>27.160832</td><td>78.011608</td><td>22</td></tr><tr><td>22.514688</td><td>88.393294</td><td>21</td></tr><tr><td>15.516833</td><td>73.768172</td><td>22</td></tr><tr><td>21.173493</td><td>72.801953</td><td>116</td></tr><tr><td>9.970717</td><td>76.285447</td><td>22</td></tr><tr><td>19.103249</td><td>72.846749</td><td>95</td></tr><tr><td>13.02978</td><td>80.208812</td><td>111</td></tr><tr><td>22.551084</td><td>88.354127</td><td>28</td></tr><tr><td>13.066762</td><td>80.251865</td><td>110</td></tr><tr><td>22.311603</td><td>73.165012</td><td>111</td></tr><tr><td>25.443994</td><td>81.860187</td><td>24</td></tr><tr><td>18.543626</td><td>73.905101</td><td>104</td></tr><tr><td>12.975996</td><td>80.221898</td><td>98</td></tr><tr><td>15.544419</td><td>73.755736</td><td>21</td></tr><tr><td>12.323194</td><td>76.630583</td><td>108</td></tr><tr><td>22.310329</td><td>73.169083</td><td>103</td></tr><tr><td>26.482581</td><td>80.315628</td><td>26</td></tr><tr><td>26.902328</td><td>75.794257</td><td>124</td></tr><tr><td>26.463504</td><td>80.372929</td><td>27</td></tr><tr><td>12.933298</td><td>77.614293</td><td>115</td></tr><tr><td>25.451646</td><td>81.832796</td><td>22</td></tr><tr><td>23.357804</td><td>85.325146</td><td>114</td></tr><tr><td>22.311358</td><td>73.164798</td><td>103</td></tr><tr><td>18.530963</td><td>73.828972</td><td>105</td></tr><tr><td>22.308096</td><td>73.167753</td><td>117</td></tr><tr><td>18.554382</td><td>73.798206</td><td>100</td></tr><tr><td>10.96185</td><td>76.971082</td><td>101</td></tr><tr><td>12.299524</td><td>76.64262</td><td>98</td></tr><tr><td>22.311844</td><td>73.165081</td><td>109</td></tr><tr><td>21.157729</td><td>72.768726</td><td>108</td></tr><tr><td>22.569367</td><td>88.433187</td><td>28</td></tr><tr><td>22.539129</td><td>88.365507</td><td>24</td></tr><tr><td>15.556561</td><td>73.763633</td><td>23</td></tr><tr><td>12.970221</td><td>77.645396</td><td>112</td></tr><tr><td>10.994136</td><td>76.963303</td><td>116</td></tr><tr><td>22.538999</td><td>88.322337</td><td>21</td></tr><tr><td>23.234249</td><td>77.434007</td><td>20</td></tr><tr><td>22.722634</td><td>75.886959</td><td>109</td></tr><tr><td>23.214459</td><td>77.434976</td><td>29</td></tr><tr><td>11.021278</td><td>76.995017</td><td>100</td></tr><tr><td>30.893234</td><td>75.82172</td><td>31</td></tr><tr><td>18.994237</td><td>72.825553</td><td>104</td></tr><tr><td>12.311072</td><td>76.654878</td><td>98</td></tr><tr><td>30.372202</td><td>78.077151</td><td>23</td></tr><tr><td>19.055831</td><td>72.833984</td><td>107</td></tr><tr><td>19.888716</td><td>75.321461</td><td>22</td></tr><tr><td>19.875908</td><td>75.358888</td><td>20</td></tr><tr><td>30.327968</td><td>78.046106</td><td>24</td></tr><tr><td>11.008638</td><td>76.984311</td><td>113</td></tr><tr><td>18.592718</td><td>73.773572</td><td>106</td></tr><tr><td>22.553227</td><td>88.353273</td><td>21</td></tr><tr><td>18.636215</td><td>73.751081</td><td>114</td></tr><tr><td>11.003681</td><td>76.975525</td><td>99</td></tr><tr><td>21.149569</td><td>72.772697</td><td>109</td></tr><tr><td>17.410371</td><td>78.437225</td><td>108</td></tr><tr><td>15.576683</td><td>73.75575</td><td>23</td></tr><tr><td>12.934365</td><td>77.616155</td><td>97</td></tr><tr><td>11.000762</td><td>76.981876</td><td>118</td></tr><tr><td>12.939496</td><td>77.625999</td><td>101</td></tr><tr><td>22.310526</td><td>73.170937</td><td>108</td></tr><tr><td>11.016298</td><td>76.972076</td><td>96</td></tr><tr><td>11.001753</td><td>76.986241</td><td>112</td></tr><tr><td>12.352058</td><td>76.60665</td><td>103</td></tr><tr><td>26.471529</td><td>80.313458</td><td>29</td></tr><tr><td>12.972161</td><td>77.596014</td><td>97</td></tr><tr><td>15.49395</td><td>73.827423</td><td>24</td></tr><tr><td>27.16185</td><td>78.040165</td><td>26</td></tr><tr><td>12.972532</td><td>77.608179</td><td>105</td></tr><tr><td>10.028047</td><td>76.310019</td><td>21</td></tr><tr><td>12.323994</td><td>76.626167</td><td>103</td></tr><tr><td>23.214294</td><td>77.435361</td><td>26</td></tr><tr><td>22.533662</td><td>88.366217</td><td>20</td></tr><tr><td>23.333017</td><td>85.3172</td><td>116</td></tr><tr><td>26.892312</td><td>75.806896</td><td>117</td></tr><tr><td>18.546258</td><td>73.904337</td><td>106</td></tr><tr><td>9.979363</td><td>76.285001</td><td>26</td></tr><tr><td>19.176269</td><td>72.836721</td><td>112</td></tr><tr><td>22.744648</td><td>75.894377</td><td>114</td></tr><tr><td>18.55144</td><td>73.804855</td><td>107</td></tr><tr><td>17.458998</td><td>78.500366</td><td>105</td></tr><tr><td>17.422819</td><td>78.449578</td><td>108</td></tr><tr><td>22.31279</td><td>73.170283</td><td>104</td></tr><tr><td>19.875337</td><td>75.316722</td><td>21</td></tr><tr><td>23.355164</td><td>85.324097</td><td>111</td></tr><tr><td>21.17106</td><td>72.789292</td><td>116</td></tr><tr><td>23.351058</td><td>85.325731</td><td>99</td></tr><tr><td>22.547186</td><td>88.35068</td><td>22</td></tr><tr><td>17.451976</td><td>78.385883</td><td>114</td></tr><tr><td>30.893081</td><td>75.821495</td><td>23</td></tr><tr><td>13.054347</td><td>80.257221</td><td>108</td></tr><tr><td>27.201725</td><td>78.007553</td><td>29</td></tr><tr><td>19.091458</td><td>72.827808</td><td>110</td></tr><tr><td>12.906229</td><td>77.596791</td><td>95</td></tr><tr><td>26.474133</td><td>80.3481</td><td>21</td></tr><tr><td>19.1813</td><td>72.836191</td><td>100</td></tr><tr><td>22.761593</td><td>75.886362</td><td>105</td></tr><tr><td>26.891191</td><td>75.802083</td><td>115</td></tr><tr><td>12.978453</td><td>77.643685</td><td>114</td></tr><tr><td>19.207222</td><td>72.972281</td><td>114</td></tr><tr><td>27.157772</td><td>78.04725</td><td>23</td></tr><tr><td>23.233219</td><td>77.433571</td><td>24</td></tr><tr><td>18.563934</td><td>73.915367</td><td>105</td></tr><tr><td>26.766536</td><td>75.837333</td><td>126</td></tr><tr><td>17.450851</td><td>78.379347</td><td>104</td></tr><tr><td>26.47775</td><td>80.351569</td><td>21</td></tr><tr><td>13.029198</td><td>77.570997</td><td>109</td></tr><tr><td>30.899584</td><td>75.809346</td><td>32</td></tr><tr><td>19.875016</td><td>75.322405</td><td>28</td></tr><tr><td>11.010375</td><td>76.95295</td><td>104</td></tr><tr><td>17.433809</td><td>78.386744</td><td>109</td></tr><tr><td>26.913483</td><td>75.803139</td><td>108</td></tr><tr><td>30.319528</td><td>78.040267</td><td>27</td></tr><tr><td>23.230791</td><td>77.43702</td><td>27</td></tr><tr><td>21.149834</td><td>72.778666</td><td>102</td></tr><tr><td>9.966783</td><td>76.242981</td><td>24</td></tr><tr><td>23.359033</td><td>85.325347</td><td>101</td></tr><tr><td>26.481547</td><td>80.299775</td><td>23</td></tr><tr><td>15.51315</td><td>73.78346</td><td>24</td></tr><tr><td>23.353783</td><td>85.326967</td><td>104</td></tr><tr><td>25.450377</td><td>81.834236</td><td>24</td></tr><tr><td>30.366322</td><td>78.070453</td><td>21</td></tr><tr><td>22.552672</td><td>88.352885</td><td>18</td></tr><tr><td>21.175975</td><td>72.795503</td><td>118</td></tr><tr><td>23.416792</td><td>85.316842</td><td>101</td></tr><tr><td>19.879631</td><td>75.323403</td><td>19</td></tr><tr><td>21.173343</td><td>72.792731</td><td>97</td></tr><tr><td>18.546947</td><td>73.900626</td><td>97</td></tr><tr><td>22.745536</td><td>75.893106</td><td>107</td></tr><tr><td>17.41233</td><td>78.449654</td><td>108</td></tr><tr><td>30.902872</td><td>75.826808</td><td>23</td></tr><tr><td>26.483042</td><td>80.317833</td><td>25</td></tr><tr><td>25.457687</td><td>81.835585</td><td>27</td></tr><tr><td>27.159795</td><td>78.04299</td><td>31</td></tr><tr><td>18.927584</td><td>72.832585</td><td>111</td></tr><tr><td>18.51421</td><td>73.838429</td><td>93</td></tr><tr><td>12.323978</td><td>76.627961</td><td>117</td></tr><tr><td>15.157944</td><td>73.950889</td><td>24</td></tr><tr><td>23.351489</td><td>85.324253</td><td>117</td></tr><tr><td>26.482419</td><td>80.320939</td><td>22</td></tr><tr><td>23.266261</td><td>77.379605</td><td>26</td></tr><tr><td>19.878028</td><td>75.317475</td><td>20</td></tr><tr><td>23.235123</td><td>77.398886</td><td>23</td></tr><tr><td>23.359407</td><td>85.325055</td><td>116</td></tr><tr><td>26.849596</td><td>75.800512</td><td>114</td></tr><tr><td>15.303897</td><td>73.914336</td><td>30</td></tr><tr><td>17.440827</td><td>78.393391</td><td>109</td></tr><tr><td>19.876994</td><td>75.372353</td><td>21</td></tr><tr><td>10.020683</td><td>76.310631</td><td>23</td></tr><tr><td>19.131141</td><td>72.813074</td><td>122</td></tr><tr><td>26.913726</td><td>75.75282</td><td>114</td></tr><tr><td>25.457116</td><td>81.859682</td><td>25</td></tr><tr><td>26.88842</td><td>75.800689</td><td>123</td></tr><tr><td>25.459775</td><td>81.834841</td><td>30</td></tr><tr><td>22.577821</td><td>88.400581</td><td>21</td></tr><tr><td>22.75004</td><td>75.902847</td><td>103</td></tr><tr><td>15.546594</td><td>73.760431</td><td>19</td></tr><tr><td>19.121999</td><td>72.908493</td><td>107</td></tr><tr><td>19.866969</td><td>75.318894</td><td>24</td></tr><tr><td>11.022477</td><td>76.995667</td><td>105</td></tr><tr><td>21.186884</td><td>72.793616</td><td>111</td></tr><tr><td>22.753659</td><td>75.903365</td><td>114</td></tr><tr><td>12.933284</td><td>77.615428</td><td>120</td></tr><tr><td>22.725835</td><td>75.887648</td><td>108</td></tr><tr><td>26.90519</td><td>75.810753</td><td>109</td></tr><tr><td>18.533811</td><td>73.899315</td><td>111</td></tr><tr><td>13.058616</td><td>80.264151</td><td>127</td></tr><tr><td>30.346994</td><td>78.062543</td><td>26</td></tr><tr><td>12.334022</td><td>76.618203</td><td>108</td></tr><tr><td>17.428294</td><td>78.404423</td><td>109</td></tr><tr><td>30.342509</td><td>78.061187</td><td>27</td></tr><tr><td>12.337928</td><td>76.617889</td><td>106</td></tr><tr><td>12.913041</td><td>77.683237</td><td>108</td></tr><tr><td>30.335259</td><td>78.053162</td><td>24</td></tr><tr><td>22.527893</td><td>88.368628</td><td>26</td></tr><tr><td>26.473698</td><td>80.352677</td><td>27</td></tr><tr><td>25.450329</td><td>81.834279</td><td>29</td></tr><tr><td>22.514585</td><td>88.39331</td><td>28</td></tr><tr><td>13.027018</td><td>80.254791</td><td>101</td></tr><tr><td>27.160934</td><td>78.044095</td><td>56</td></tr><tr><td>17.431477</td><td>78.40035</td><td>109</td></tr><tr><td>22.651847</td><td>75.881991</td><td>113</td></tr><tr><td>17.45971</td><td>78.368855</td><td>109</td></tr><tr><td>30.895204</td><td>75.822103</td><td>28</td></tr><tr><td>13.026279</td><td>80.174568</td><td>115</td></tr><tr><td>26.474986</td><td>80.342796</td><td>24</td></tr><tr><td>30.332735</td><td>78.054222</td><td>35</td></tr><tr><td>13.005801</td><td>80.250744</td><td>111</td></tr><tr><td>19.221315</td><td>72.862381</td><td>114</td></tr><tr><td>15.561295</td><td>73.749478</td><td>24</td></tr><tr><td>19.12663</td><td>72.829976</td><td>101</td></tr><tr><td>12.316967</td><td>76.603067</td><td>104</td></tr><tr><td>12.304569</td><td>76.643622</td><td>108</td></tr><tr><td>15.574828</td><td>73.766883</td><td>21</td></tr><tr><td>19.876106</td><td>75.340775</td><td>27</td></tr><tr><td>12.337978</td><td>76.616792</td><td>121</td></tr><tr><td>27.165108</td><td>78.015053</td><td>29</td></tr><tr><td>12.321214</td><td>76.621094</td><td>102</td></tr><tr><td>18.536718</td><td>73.830327</td><td>109</td></tr><tr><td>26.472001</td><td>80.354002</td><td>25</td></tr><tr><td>19.178321</td><td>72.834715</td><td>99</td></tr><tr><td>19.880256</td><td>75.323503</td><td>19</td></tr><tr><td>22.760072</td><td>75.892574</td><td>115</td></tr><tr><td>18.56245</td><td>73.916619</td><td>107</td></tr><tr><td>19.876428</td><td>75.364792</td><td>20</td></tr><tr><td>10.006881</td><td>76.345397</td><td>26</td></tr><tr><td>23.218998</td><td>77.373573</td><td>24</td></tr><tr><td>17.438263</td><td>78.397865</td><td>120</td></tr><tr><td>22.727021</td><td>75.884167</td><td>105</td></tr><tr><td>9.982834</td><td>76.283268</td><td>19</td></tr><tr><td>23.359194</td><td>85.325447</td><td>106</td></tr><tr><td>21.186608</td><td>72.794136</td><td>102</td></tr><tr><td>22.310237</td><td>73.158921</td><td>99</td></tr><tr><td>18.593481</td><td>73.785901</td><td>103</td></tr><tr><td>25.451517</td><td>81.832616</td><td>23</td></tr><tr><td>19.1093</td><td>72.825451</td><td>98</td></tr><tr><td>15.5696</td><td>73.742294</td><td>26</td></tr><tr><td>19.875522</td><td>75.367127</td><td>25</td></tr><tr><td>15.506205</td><td>73.766668</td><td>24</td></tr><tr><td>11.022298</td><td>76.998349</td><td>115</td></tr><tr><td>30.362686</td><td>78.06889</td><td>29</td></tr><tr><td>21.15276</td><td>72.778059</td><td>111</td></tr><tr><td>23.211529</td><td>77.419399</td><td>26</td></tr><tr><td>22.745049</td><td>75.892471</td><td>121</td></tr><tr><td>19.254567</td><td>72.848923</td><td>115</td></tr><tr><td>26.911927</td><td>75.797282</td><td>112</td></tr><tr><td>23.371292</td><td>85.327872</td><td>112</td></tr><tr><td>18.520016</td><td>73.830547</td><td>97</td></tr><tr><td>22.753839</td><td>75.897429</td><td>98</td></tr><tr><td>22.751234</td><td>75.88949</td><td>93</td></tr><tr><td>23.232537</td><td>77.429845</td><td>25</td></tr><tr><td>22.538731</td><td>88.364878</td><td>26</td></tr><tr><td>22.732225</td><td>75.874765</td><td>100</td></tr><tr><td>9.957144</td><td>76.296783</td><td>28</td></tr><tr><td>25.449872</td><td>81.836167</td><td>23</td></tr><tr><td>19.003517</td><td>72.82765</td><td>102</td></tr><tr><td>12.949934</td><td>77.699386</td><td>123</td></tr><tr><td>26.49095</td><td>80.318656</td><td>22</td></tr><tr><td>12.986047</td><td>80.218114</td><td>109</td></tr><tr><td>26.956431</td><td>75.776649</td><td>113</td></tr><tr><td>17.411028</td><td>78.329645</td><td>110</td></tr><tr><td>11.025083</td><td>77.015393</td><td>119</td></tr><tr><td>9.985697</td><td>76.281128</td><td>28</td></tr><tr><td>22.526461</td><td>88.364453</td><td>23</td></tr><tr><td>30.89286</td><td>75.822199</td><td>27</td></tr><tr><td>11.003669</td><td>76.976494</td><td>119</td></tr><tr><td>22.53796</td><td>88.349843</td><td>20</td></tr><tr><td>25.454697</td><td>81.834492</td><td>33</td></tr><tr><td>9.979186</td><td>76.317361</td><td>23</td></tr><tr><td>19.120083</td><td>72.907385</td><td>109</td></tr><tr><td>21.175104</td><td>72.804342</td><td>111</td></tr><tr><td>15.496162</td><td>73.825364</td><td>27</td></tr><tr><td>26.914142</td><td>75.805704</td><td>120</td></tr><tr><td>18.536562</td><td>73.896485</td><td>112</td></tr><tr><td>19.874449</td><td>75.360232</td><td>22</td></tr><tr><td>21.160437</td><td>72.774209</td><td>99</td></tr><tr><td>22.32</td><td>73.17</td><td>109</td></tr><tr><td>12.972793</td><td>80.249982</td><td>118</td></tr><tr><td>11.024839</td><td>77.007003</td><td>113</td></tr><tr><td>13.026286</td><td>80.275235</td><td>108</td></tr><tr><td>12.325461</td><td>76.632278</td><td>113</td></tr><tr><td>10.003064</td><td>76.307589</td><td>18</td></tr><tr><td>25.454648</td><td>81.834502</td><td>28</td></tr><tr><td>12.975377</td><td>77.696664</td><td>105</td></tr><tr><td>21.183434</td><td>72.814492</td><td>118</td></tr><tr><td>27.161694</td><td>78.034714</td><td>32</td></tr><tr><td>26.911378</td><td>75.789034</td><td>132</td></tr><tr><td>17.455894</td><td>78.375467</td><td>98</td></tr><tr><td>22.74806</td><td>75.8934</td><td>106</td></tr><tr><td>22.552996</td><td>88.35231</td><td>26</td></tr><tr><td>19.22384</td><td>72.841347</td><td>111</td></tr><tr><td>13.086438</td><td>80.220672</td><td>88</td></tr><tr><td>30.899992</td><td>75.831338</td><td>27</td></tr><tr><td>19.876219</td><td>75.346017</td><td>24</td></tr><tr><td>19.065838</td><td>72.832658</td><td>107</td></tr><tr><td>22.751857</td><td>75.866699</td><td>111</td></tr><tr><td>21.170096</td><td>72.789122</td><td>114</td></tr><tr><td>10.000706</td><td>76.349516</td><td>22</td></tr><tr><td>26.921411</td><td>75.793604</td><td>118</td></tr><tr><td>17.429585</td><td>78.392621</td><td>122</td></tr><tr><td>12.297954</td><td>76.665169</td><td>110</td></tr><tr><td>15.56155</td><td>73.749092</td><td>22</td></tr><tr><td>12.934179</td><td>77.615797</td><td>106</td></tr><tr><td>11.006686</td><td>76.951736</td><td>116</td></tr><tr><td>17.426228</td><td>78.407495</td><td>98</td></tr><tr><td>22.725748</td><td>75.898497</td><td>120</td></tr><tr><td>17.430448</td><td>78.418213</td><td>119</td></tr><tr><td>17.431668</td><td>78.408321</td><td>111</td></tr><tr><td>12.970324</td><td>77.645748</td><td>119</td></tr><tr><td>13.049645</td><td>80.242268</td><td>112</td></tr><tr><td>25.453436</td><td>81.833167</td><td>20</td></tr><tr><td>21.186438</td><td>72.794115</td><td>117</td></tr><tr><td>12.98041</td><td>77.640489</td><td>103</td></tr><tr><td>26.471617</td><td>80.313564</td><td>29</td></tr><tr><td>12.935662</td><td>77.61413</td><td>105</td></tr><tr><td>21.157735</td><td>72.768778</td><td>105</td></tr><tr><td>18.569156</td><td>73.774723</td><td>112</td></tr><tr><td>9.985497</td><td>76.276999</td><td>23</td></tr><tr><td>9.991703</td><td>76.293136</td><td>27</td></tr><tr><td>22.5491</td><td>88.400467</td><td>24</td></tr><tr><td>13.064181</td><td>80.236442</td><td>102</td></tr><tr><td>22.569358</td><td>88.433452</td><td>28</td></tr><tr><td>19.874733</td><td>75.353942</td><td>24</td></tr><tr><td>30.340722</td><td>78.060221</td><td>30</td></tr><tr><td>17.483216</td><td>78.552111</td><td>109</td></tr><tr><td>30.893384</td><td>75.821202</td><td>26</td></tr><tr><td>18.539299</td><td>73.897902</td><td>106</td></tr><tr><td>27.195928</td><td>77.998092</td><td>31</td></tr><tr><td>21.160522</td><td>72.771477</td><td>105</td></tr><tr><td>9.959778</td><td>76.296106</td><td>31</td></tr><tr><td>18.53408</td><td>73.89852</td><td>111</td></tr><tr><td>11.003008</td><td>76.97544</td><td>115</td></tr><tr><td>30.873988</td><td>75.842739</td><td>21</td></tr><tr><td>26.469003</td><td>80.316344</td><td>24</td></tr><tr><td>22.761226</td><td>75.887522</td><td>106</td></tr><tr><td>22.728163</td><td>75.884212</td><td>120</td></tr><tr><td>26.492106</td><td>80.327797</td><td>28</td></tr><tr><td>21.149669</td><td>72.772629</td><td>108</td></tr><tr><td>23.264015</td><td>77.408236</td><td>25</td></tr><tr><td>13.044694</td><td>80.26147</td><td>108</td></tr><tr><td>12.914264</td><td>77.6784</td><td>101</td></tr><tr><td>23.374878</td><td>85.335739</td><td>110</td></tr><tr><td>22.695207</td><td>75.866059</td><td>105</td></tr><tr><td>18.994049</td><td>72.825203</td><td>114</td></tr><tr><td>12.323225</td><td>76.630028</td><td>112</td></tr><tr><td>11.02091</td><td>76.940432</td><td>104</td></tr><tr><td>22.514119</td><td>88.362504</td><td>20</td></tr><tr><td>27.163303</td><td>78.057044</td><td>55</td></tr><tr><td>15.498603</td><td>73.826911</td><td>24</td></tr><tr><td>11.026117</td><td>76.944652</td><td>110</td></tr><tr><td>27.158822</td><td>78.045359</td><td>22</td></tr><tr><td>30.88722</td><td>75.804893</td><td>25</td></tr><tr><td>12.981615</td><td>80.231598</td><td>105</td></tr><tr><td>23.39925</td><td>85.390464</td><td>102</td></tr><tr><td>26.846156</td><td>75.8023</td><td>116</td></tr><tr><td>23.234631</td><td>77.401663</td><td>24</td></tr><tr><td>18.516216</td><td>73.842527</td><td>105</td></tr><tr><td>26.905287</td><td>75.794592</td><td>114</td></tr><tr><td>30.914057</td><td>75.83982</td><td>28</td></tr><tr><td>23.354422</td><td>85.3329</td><td>109</td></tr><tr><td>12.310972</td><td>76.659264</td><td>112</td></tr><tr><td>11.022169</td><td>76.999594</td><td>104</td></tr><tr><td>17.424114</td><td>78.347554</td><td>105</td></tr><tr><td>13.091809</td><td>80.219104</td><td>103</td></tr><tr><td>23.184992</td><td>77.417227</td><td>20</td></tr><tr><td>26.910262</td><td>75.783013</td><td>113</td></tr><tr><td>21.185047</td><td>72.80859</td><td>114</td></tr><tr><td>15.585658</td><td>73.743606</td><td>26</td></tr><tr><td>9.960846</td><td>76.293936</td><td>18</td></tr><tr><td>9.988483</td><td>76.295211</td><td>18</td></tr><tr><td>30.328174</td><td>78.049117</td><td>33</td></tr><tr><td>23.232357</td><td>77.429989</td><td>25</td></tr><tr><td>26.479108</td><td>80.315042</td><td>22</td></tr><tr><td>21.170798</td><td>72.790489</td><td>90</td></tr><tr><td>23.374989</td><td>85.335486</td><td>97</td></tr><tr><td>30.893244</td><td>75.821817</td><td>24</td></tr><tr><td>23.369746</td><td>85.33982</td><td>114</td></tr><tr><td>26.913987</td><td>75.752891</td><td>118</td></tr><tr><td>25.45235</td><td>81.841889</td><td>30</td></tr><tr><td>30.359722</td><td>78.067079</td><td>24</td></tr><tr><td>25.449659</td><td>81.839744</td><td>30</td></tr><tr><td>30.905562</td><td>75.832841</td><td>24</td></tr><tr><td>22.515082</td><td>88.36783</td><td>23</td></tr><tr><td>19.874103</td><td>75.368419</td><td>24</td></tr><tr><td>26.483672</td><td>80.320708</td><td>24</td></tr><tr><td>10.027364</td><td>76.308258</td><td>23</td></tr></tbody></table></div>"
      ]
     },
     "metadata": {
      "application/vnd.databricks.v1+output": {
       "addedWidgets": {},
       "aggData": [],
       "aggError": "",
       "aggOverflow": false,
       "aggSchema": [],
       "aggSeriesLimitReached": false,
       "aggType": "",
       "arguments": {},
       "columnCustomDisplayInfos": {},
       "data": [
        [
         12.284747,
         76.625861,
         109
        ],
        [
         22.307898,
         73.167788,
         98
        ],
        [
         30.361281,
         78.068022,
         30
        ],
        [
         27.161661,
         78.011544,
         31
        ],
        [
         30.885814,
         75.786976,
         23
        ],
        [
         26.47,
         80.35,
         24
        ],
        [
         30.890184,
         75.829615,
         25
        ],
        [
         26.90294,
         75.793007,
         119
        ],
        [
         11.001852,
         76.976268,
         107
        ],
        [
         25.450317,
         81.831681,
         20
        ],
        [
         12.979096,
         77.640625,
         98
        ],
        [
         12.3085,
         76.665808,
         117
        ],
        [
         10.027014,
         76.308053,
         24
        ],
        [
         12.979166,
         77.640709,
         115
        ],
        [
         13.081878,
         80.248519,
         115
        ],
        [
         30.895817,
         75.813112,
         26
        ],
        [
         12.326356,
         76.619103,
         108
        ],
        [
         10.035573,
         76.336958,
         22
        ],
        [
         30.885915,
         75.788259,
         27
        ],
        [
         26.902908,
         75.792934,
         120
        ],
        [
         30.892978,
         75.821847,
         20
        ],
        [
         13.022394,
         80.242439,
         102
        ],
        [
         13.045479,
         80.23311,
         99
        ],
        [
         27.160832,
         78.011608,
         22
        ],
        [
         22.514688,
         88.393294,
         21
        ],
        [
         15.516833,
         73.768172,
         22
        ],
        [
         21.173493,
         72.801953,
         116
        ],
        [
         9.970717,
         76.285447,
         22
        ],
        [
         19.103249,
         72.846749,
         95
        ],
        [
         13.02978,
         80.208812,
         111
        ],
        [
         22.551084,
         88.354127,
         28
        ],
        [
         13.066762,
         80.251865,
         110
        ],
        [
         22.311603,
         73.165012,
         111
        ],
        [
         25.443994,
         81.860187,
         24
        ],
        [
         18.543626,
         73.905101,
         104
        ],
        [
         12.975996,
         80.221898,
         98
        ],
        [
         15.544419,
         73.755736,
         21
        ],
        [
         12.323194,
         76.630583,
         108
        ],
        [
         22.310329,
         73.169083,
         103
        ],
        [
         26.482581,
         80.315628,
         26
        ],
        [
         26.902328,
         75.794257,
         124
        ],
        [
         26.463504,
         80.372929,
         27
        ],
        [
         12.933298,
         77.614293,
         115
        ],
        [
         25.451646,
         81.832796,
         22
        ],
        [
         23.357804,
         85.325146,
         114
        ],
        [
         22.311358,
         73.164798,
         103
        ],
        [
         18.530963,
         73.828972,
         105
        ],
        [
         22.308096,
         73.167753,
         117
        ],
        [
         18.554382,
         73.798206,
         100
        ],
        [
         10.96185,
         76.971082,
         101
        ],
        [
         12.299524,
         76.64262,
         98
        ],
        [
         22.311844,
         73.165081,
         109
        ],
        [
         21.157729,
         72.768726,
         108
        ],
        [
         22.569367,
         88.433187,
         28
        ],
        [
         22.539129,
         88.365507,
         24
        ],
        [
         15.556561,
         73.763633,
         23
        ],
        [
         12.970221,
         77.645396,
         112
        ],
        [
         10.994136,
         76.963303,
         116
        ],
        [
         22.538999,
         88.322337,
         21
        ],
        [
         23.234249,
         77.434007,
         20
        ],
        [
         22.722634,
         75.886959,
         109
        ],
        [
         23.214459,
         77.434976,
         29
        ],
        [
         11.021278,
         76.995017,
         100
        ],
        [
         30.893234,
         75.82172,
         31
        ],
        [
         18.994237,
         72.825553,
         104
        ],
        [
         12.311072,
         76.654878,
         98
        ],
        [
         30.372202,
         78.077151,
         23
        ],
        [
         19.055831,
         72.833984,
         107
        ],
        [
         19.888716,
         75.321461,
         22
        ],
        [
         19.875908,
         75.358888,
         20
        ],
        [
         30.327968,
         78.046106,
         24
        ],
        [
         11.008638,
         76.984311,
         113
        ],
        [
         18.592718,
         73.773572,
         106
        ],
        [
         22.553227,
         88.353273,
         21
        ],
        [
         18.636215,
         73.751081,
         114
        ],
        [
         11.003681,
         76.975525,
         99
        ],
        [
         21.149569,
         72.772697,
         109
        ],
        [
         17.410371,
         78.437225,
         108
        ],
        [
         15.576683,
         73.75575,
         23
        ],
        [
         12.934365,
         77.616155,
         97
        ],
        [
         11.000762,
         76.981876,
         118
        ],
        [
         12.939496,
         77.625999,
         101
        ],
        [
         22.310526,
         73.170937,
         108
        ],
        [
         11.016298,
         76.972076,
         96
        ],
        [
         11.001753,
         76.986241,
         112
        ],
        [
         12.352058,
         76.60665,
         103
        ],
        [
         26.471529,
         80.313458,
         29
        ],
        [
         12.972161,
         77.596014,
         97
        ],
        [
         15.49395,
         73.827423,
         24
        ],
        [
         27.16185,
         78.040165,
         26
        ],
        [
         12.972532,
         77.608179,
         105
        ],
        [
         10.028047,
         76.310019,
         21
        ],
        [
         12.323994,
         76.626167,
         103
        ],
        [
         23.214294,
         77.435361,
         26
        ],
        [
         22.533662,
         88.366217,
         20
        ],
        [
         23.333017,
         85.3172,
         116
        ],
        [
         26.892312,
         75.806896,
         117
        ],
        [
         18.546258,
         73.904337,
         106
        ],
        [
         9.979363,
         76.285001,
         26
        ],
        [
         19.176269,
         72.836721,
         112
        ],
        [
         22.744648,
         75.894377,
         114
        ],
        [
         18.55144,
         73.804855,
         107
        ],
        [
         17.458998,
         78.500366,
         105
        ],
        [
         17.422819,
         78.449578,
         108
        ],
        [
         22.31279,
         73.170283,
         104
        ],
        [
         19.875337,
         75.316722,
         21
        ],
        [
         23.355164,
         85.324097,
         111
        ],
        [
         21.17106,
         72.789292,
         116
        ],
        [
         23.351058,
         85.325731,
         99
        ],
        [
         22.547186,
         88.35068,
         22
        ],
        [
         17.451976,
         78.385883,
         114
        ],
        [
         30.893081,
         75.821495,
         23
        ],
        [
         13.054347,
         80.257221,
         108
        ],
        [
         27.201725,
         78.007553,
         29
        ],
        [
         19.091458,
         72.827808,
         110
        ],
        [
         12.906229,
         77.596791,
         95
        ],
        [
         26.474133,
         80.3481,
         21
        ],
        [
         19.1813,
         72.836191,
         100
        ],
        [
         22.761593,
         75.886362,
         105
        ],
        [
         26.891191,
         75.802083,
         115
        ],
        [
         12.978453,
         77.643685,
         114
        ],
        [
         19.207222,
         72.972281,
         114
        ],
        [
         27.157772,
         78.04725,
         23
        ],
        [
         23.233219,
         77.433571,
         24
        ],
        [
         18.563934,
         73.915367,
         105
        ],
        [
         26.766536,
         75.837333,
         126
        ],
        [
         17.450851,
         78.379347,
         104
        ],
        [
         26.47775,
         80.351569,
         21
        ],
        [
         13.029198,
         77.570997,
         109
        ],
        [
         30.899584,
         75.809346,
         32
        ],
        [
         19.875016,
         75.322405,
         28
        ],
        [
         11.010375,
         76.95295,
         104
        ],
        [
         17.433809,
         78.386744,
         109
        ],
        [
         26.913483,
         75.803139,
         108
        ],
        [
         30.319528,
         78.040267,
         27
        ],
        [
         23.230791,
         77.43702,
         27
        ],
        [
         21.149834,
         72.778666,
         102
        ],
        [
         9.966783,
         76.242981,
         24
        ],
        [
         23.359033,
         85.325347,
         101
        ],
        [
         26.481547,
         80.299775,
         23
        ],
        [
         15.51315,
         73.78346,
         24
        ],
        [
         23.353783,
         85.326967,
         104
        ],
        [
         25.450377,
         81.834236,
         24
        ],
        [
         30.366322,
         78.070453,
         21
        ],
        [
         22.552672,
         88.352885,
         18
        ],
        [
         21.175975,
         72.795503,
         118
        ],
        [
         23.416792,
         85.316842,
         101
        ],
        [
         19.879631,
         75.323403,
         19
        ],
        [
         21.173343,
         72.792731,
         97
        ],
        [
         18.546947,
         73.900626,
         97
        ],
        [
         22.745536,
         75.893106,
         107
        ],
        [
         17.41233,
         78.449654,
         108
        ],
        [
         30.902872,
         75.826808,
         23
        ],
        [
         26.483042,
         80.317833,
         25
        ],
        [
         25.457687,
         81.835585,
         27
        ],
        [
         27.159795,
         78.04299,
         31
        ],
        [
         18.927584,
         72.832585,
         111
        ],
        [
         18.51421,
         73.838429,
         93
        ],
        [
         12.323978,
         76.627961,
         117
        ],
        [
         15.157944,
         73.950889,
         24
        ],
        [
         23.351489,
         85.324253,
         117
        ],
        [
         26.482419,
         80.320939,
         22
        ],
        [
         23.266261,
         77.379605,
         26
        ],
        [
         19.878028,
         75.317475,
         20
        ],
        [
         23.235123,
         77.398886,
         23
        ],
        [
         23.359407,
         85.325055,
         116
        ],
        [
         26.849596,
         75.800512,
         114
        ],
        [
         15.303897,
         73.914336,
         30
        ],
        [
         17.440827,
         78.393391,
         109
        ],
        [
         19.876994,
         75.372353,
         21
        ],
        [
         10.020683,
         76.310631,
         23
        ],
        [
         19.131141,
         72.813074,
         122
        ],
        [
         26.913726,
         75.75282,
         114
        ],
        [
         25.457116,
         81.859682,
         25
        ],
        [
         26.88842,
         75.800689,
         123
        ],
        [
         25.459775,
         81.834841,
         30
        ],
        [
         22.577821,
         88.400581,
         21
        ],
        [
         22.75004,
         75.902847,
         103
        ],
        [
         15.546594,
         73.760431,
         19
        ],
        [
         19.121999,
         72.908493,
         107
        ],
        [
         19.866969,
         75.318894,
         24
        ],
        [
         11.022477,
         76.995667,
         105
        ],
        [
         21.186884,
         72.793616,
         111
        ],
        [
         22.753659,
         75.903365,
         114
        ],
        [
         12.933284,
         77.615428,
         120
        ],
        [
         22.725835,
         75.887648,
         108
        ],
        [
         26.90519,
         75.810753,
         109
        ],
        [
         18.533811,
         73.899315,
         111
        ],
        [
         13.058616,
         80.264151,
         127
        ],
        [
         30.346994,
         78.062543,
         26
        ],
        [
         12.334022,
         76.618203,
         108
        ],
        [
         17.428294,
         78.404423,
         109
        ],
        [
         30.342509,
         78.061187,
         27
        ],
        [
         12.337928,
         76.617889,
         106
        ],
        [
         12.913041,
         77.683237,
         108
        ],
        [
         30.335259,
         78.053162,
         24
        ],
        [
         22.527893,
         88.368628,
         26
        ],
        [
         26.473698,
         80.352677,
         27
        ],
        [
         25.450329,
         81.834279,
         29
        ],
        [
         22.514585,
         88.39331,
         28
        ],
        [
         13.027018,
         80.254791,
         101
        ],
        [
         27.160934,
         78.044095,
         56
        ],
        [
         17.431477,
         78.40035,
         109
        ],
        [
         22.651847,
         75.881991,
         113
        ],
        [
         17.45971,
         78.368855,
         109
        ],
        [
         30.895204,
         75.822103,
         28
        ],
        [
         13.026279,
         80.174568,
         115
        ],
        [
         26.474986,
         80.342796,
         24
        ],
        [
         30.332735,
         78.054222,
         35
        ],
        [
         13.005801,
         80.250744,
         111
        ],
        [
         19.221315,
         72.862381,
         114
        ],
        [
         15.561295,
         73.749478,
         24
        ],
        [
         19.12663,
         72.829976,
         101
        ],
        [
         12.316967,
         76.603067,
         104
        ],
        [
         12.304569,
         76.643622,
         108
        ],
        [
         15.574828,
         73.766883,
         21
        ],
        [
         19.876106,
         75.340775,
         27
        ],
        [
         12.337978,
         76.616792,
         121
        ],
        [
         27.165108,
         78.015053,
         29
        ],
        [
         12.321214,
         76.621094,
         102
        ],
        [
         18.536718,
         73.830327,
         109
        ],
        [
         26.472001,
         80.354002,
         25
        ],
        [
         19.178321,
         72.834715,
         99
        ],
        [
         19.880256,
         75.323503,
         19
        ],
        [
         22.760072,
         75.892574,
         115
        ],
        [
         18.56245,
         73.916619,
         107
        ],
        [
         19.876428,
         75.364792,
         20
        ],
        [
         10.006881,
         76.345397,
         26
        ],
        [
         23.218998,
         77.373573,
         24
        ],
        [
         17.438263,
         78.397865,
         120
        ],
        [
         22.727021,
         75.884167,
         105
        ],
        [
         9.982834,
         76.283268,
         19
        ],
        [
         23.359194,
         85.325447,
         106
        ],
        [
         21.186608,
         72.794136,
         102
        ],
        [
         22.310237,
         73.158921,
         99
        ],
        [
         18.593481,
         73.785901,
         103
        ],
        [
         25.451517,
         81.832616,
         23
        ],
        [
         19.1093,
         72.825451,
         98
        ],
        [
         15.5696,
         73.742294,
         26
        ],
        [
         19.875522,
         75.367127,
         25
        ],
        [
         15.506205,
         73.766668,
         24
        ],
        [
         11.022298,
         76.998349,
         115
        ],
        [
         30.362686,
         78.06889,
         29
        ],
        [
         21.15276,
         72.778059,
         111
        ],
        [
         23.211529,
         77.419399,
         26
        ],
        [
         22.745049,
         75.892471,
         121
        ],
        [
         19.254567,
         72.848923,
         115
        ],
        [
         26.911927,
         75.797282,
         112
        ],
        [
         23.371292,
         85.327872,
         112
        ],
        [
         18.520016,
         73.830547,
         97
        ],
        [
         22.753839,
         75.897429,
         98
        ],
        [
         22.751234,
         75.88949,
         93
        ],
        [
         23.232537,
         77.429845,
         25
        ],
        [
         22.538731,
         88.364878,
         26
        ],
        [
         22.732225,
         75.874765,
         100
        ],
        [
         9.957144,
         76.296783,
         28
        ],
        [
         25.449872,
         81.836167,
         23
        ],
        [
         19.003517,
         72.82765,
         102
        ],
        [
         12.949934,
         77.699386,
         123
        ],
        [
         26.49095,
         80.318656,
         22
        ],
        [
         12.986047,
         80.218114,
         109
        ],
        [
         26.956431,
         75.776649,
         113
        ],
        [
         17.411028,
         78.329645,
         110
        ],
        [
         11.025083,
         77.015393,
         119
        ],
        [
         9.985697,
         76.281128,
         28
        ],
        [
         22.526461,
         88.364453,
         23
        ],
        [
         30.89286,
         75.822199,
         27
        ],
        [
         11.003669,
         76.976494,
         119
        ],
        [
         22.53796,
         88.349843,
         20
        ],
        [
         25.454697,
         81.834492,
         33
        ],
        [
         9.979186,
         76.317361,
         23
        ],
        [
         19.120083,
         72.907385,
         109
        ],
        [
         21.175104,
         72.804342,
         111
        ],
        [
         15.496162,
         73.825364,
         27
        ],
        [
         26.914142,
         75.805704,
         120
        ],
        [
         18.536562,
         73.896485,
         112
        ],
        [
         19.874449,
         75.360232,
         22
        ],
        [
         21.160437,
         72.774209,
         99
        ],
        [
         22.32,
         73.17,
         109
        ],
        [
         12.972793,
         80.249982,
         118
        ],
        [
         11.024839,
         77.007003,
         113
        ],
        [
         13.026286,
         80.275235,
         108
        ],
        [
         12.325461,
         76.632278,
         113
        ],
        [
         10.003064,
         76.307589,
         18
        ],
        [
         25.454648,
         81.834502,
         28
        ],
        [
         12.975377,
         77.696664,
         105
        ],
        [
         21.183434,
         72.814492,
         118
        ],
        [
         27.161694,
         78.034714,
         32
        ],
        [
         26.911378,
         75.789034,
         132
        ],
        [
         17.455894,
         78.375467,
         98
        ],
        [
         22.74806,
         75.8934,
         106
        ],
        [
         22.552996,
         88.35231,
         26
        ],
        [
         19.22384,
         72.841347,
         111
        ],
        [
         13.086438,
         80.220672,
         88
        ],
        [
         30.899992,
         75.831338,
         27
        ],
        [
         19.876219,
         75.346017,
         24
        ],
        [
         19.065838,
         72.832658,
         107
        ],
        [
         22.751857,
         75.866699,
         111
        ],
        [
         21.170096,
         72.789122,
         114
        ],
        [
         10.000706,
         76.349516,
         22
        ],
        [
         26.921411,
         75.793604,
         118
        ],
        [
         17.429585,
         78.392621,
         122
        ],
        [
         12.297954,
         76.665169,
         110
        ],
        [
         15.56155,
         73.749092,
         22
        ],
        [
         12.934179,
         77.615797,
         106
        ],
        [
         11.006686,
         76.951736,
         116
        ],
        [
         17.426228,
         78.407495,
         98
        ],
        [
         22.725748,
         75.898497,
         120
        ],
        [
         17.430448,
         78.418213,
         119
        ],
        [
         17.431668,
         78.408321,
         111
        ],
        [
         12.970324,
         77.645748,
         119
        ],
        [
         13.049645,
         80.242268,
         112
        ],
        [
         25.453436,
         81.833167,
         20
        ],
        [
         21.186438,
         72.794115,
         117
        ],
        [
         12.98041,
         77.640489,
         103
        ],
        [
         26.471617,
         80.313564,
         29
        ],
        [
         12.935662,
         77.61413,
         105
        ],
        [
         21.157735,
         72.768778,
         105
        ],
        [
         18.569156,
         73.774723,
         112
        ],
        [
         9.985497,
         76.276999,
         23
        ],
        [
         9.991703,
         76.293136,
         27
        ],
        [
         22.5491,
         88.400467,
         24
        ],
        [
         13.064181,
         80.236442,
         102
        ],
        [
         22.569358,
         88.433452,
         28
        ],
        [
         19.874733,
         75.353942,
         24
        ],
        [
         30.340722,
         78.060221,
         30
        ],
        [
         17.483216,
         78.552111,
         109
        ],
        [
         30.893384,
         75.821202,
         26
        ],
        [
         18.539299,
         73.897902,
         106
        ],
        [
         27.195928,
         77.998092,
         31
        ],
        [
         21.160522,
         72.771477,
         105
        ],
        [
         9.959778,
         76.296106,
         31
        ],
        [
         18.53408,
         73.89852,
         111
        ],
        [
         11.003008,
         76.97544,
         115
        ],
        [
         30.873988,
         75.842739,
         21
        ],
        [
         26.469003,
         80.316344,
         24
        ],
        [
         22.761226,
         75.887522,
         106
        ],
        [
         22.728163,
         75.884212,
         120
        ],
        [
         26.492106,
         80.327797,
         28
        ],
        [
         21.149669,
         72.772629,
         108
        ],
        [
         23.264015,
         77.408236,
         25
        ],
        [
         13.044694,
         80.26147,
         108
        ],
        [
         12.914264,
         77.6784,
         101
        ],
        [
         23.374878,
         85.335739,
         110
        ],
        [
         22.695207,
         75.866059,
         105
        ],
        [
         18.994049,
         72.825203,
         114
        ],
        [
         12.323225,
         76.630028,
         112
        ],
        [
         11.02091,
         76.940432,
         104
        ],
        [
         22.514119,
         88.362504,
         20
        ],
        [
         27.163303,
         78.057044,
         55
        ],
        [
         15.498603,
         73.826911,
         24
        ],
        [
         11.026117,
         76.944652,
         110
        ],
        [
         27.158822,
         78.045359,
         22
        ],
        [
         30.88722,
         75.804893,
         25
        ],
        [
         12.981615,
         80.231598,
         105
        ],
        [
         23.39925,
         85.390464,
         102
        ],
        [
         26.846156,
         75.8023,
         116
        ],
        [
         23.234631,
         77.401663,
         24
        ],
        [
         18.516216,
         73.842527,
         105
        ],
        [
         26.905287,
         75.794592,
         114
        ],
        [
         30.914057,
         75.83982,
         28
        ],
        [
         23.354422,
         85.3329,
         109
        ],
        [
         12.310972,
         76.659264,
         112
        ],
        [
         11.022169,
         76.999594,
         104
        ],
        [
         17.424114,
         78.347554,
         105
        ],
        [
         13.091809,
         80.219104,
         103
        ],
        [
         23.184992,
         77.417227,
         20
        ],
        [
         26.910262,
         75.783013,
         113
        ],
        [
         21.185047,
         72.80859,
         114
        ],
        [
         15.585658,
         73.743606,
         26
        ],
        [
         9.960846,
         76.293936,
         18
        ],
        [
         9.988483,
         76.295211,
         18
        ],
        [
         30.328174,
         78.049117,
         33
        ],
        [
         23.232357,
         77.429989,
         25
        ],
        [
         26.479108,
         80.315042,
         22
        ],
        [
         21.170798,
         72.790489,
         90
        ],
        [
         23.374989,
         85.335486,
         97
        ],
        [
         30.893244,
         75.821817,
         24
        ],
        [
         23.369746,
         85.33982,
         114
        ],
        [
         26.913987,
         75.752891,
         118
        ],
        [
         25.45235,
         81.841889,
         30
        ],
        [
         30.359722,
         78.067079,
         24
        ],
        [
         25.449659,
         81.839744,
         30
        ],
        [
         30.905562,
         75.832841,
         24
        ],
        [
         22.515082,
         88.36783,
         23
        ],
        [
         19.874103,
         75.368419,
         24
        ],
        [
         26.483672,
         80.320708,
         24
        ],
        [
         10.027364,
         76.308258,
         23
        ]
       ],
       "datasetInfos": [],
       "dbfsResultPath": null,
       "isJsonSchema": true,
       "metadata": {},
       "overflow": false,
       "plotOptions": {
        "customPlotOptions": {},
        "displayType": "table",
        "pivotAggregation": null,
        "pivotColumns": null,
        "xColumns": null,
        "yColumns": null
       },
       "removedWidgets": [],
       "schema": [
        {
         "metadata": "{}",
         "name": "Restaurant_latitude",
         "type": "\"double\""
        },
        {
         "metadata": "{}",
         "name": "Restaurant_longitude",
         "type": "\"double\""
        },
        {
         "metadata": "{}",
         "name": "count",
         "type": "\"long\""
        }
       ],
       "type": "table"
      }
     },
     "output_type": "display_data"
    },
    {
     "data": {
      "text/plain": [
       "Databricks visualization. Run in Databricks to view."
      ]
     },
     "metadata": {
      "application/vnd.databricks.v1.subcommand+json": {
       "baseErrorDetails": null,
       "bindings": {},
       "collapsed": false,
       "command": "%sql\n\nSELECT Restaurant_latitude, Restaurant_longitude, COUNT(*) AS count\nFROM operationalAnalytics\nWHERE Restaurant_latitude>0\nGROUP BY Restaurant_latitude, Restaurant_longitude\nORDER BY count DESC",
       "commandTitle": "Visualization 1",
       "commandType": "auto",
       "commandVersion": 0,
       "commentThread": [],
       "commentsVisible": false,
       "contentSha256Hex": null,
       "customPlotOptions": {
        "redashChart": [
         {
          "key": "type",
          "value": "MAP"
         },
         {
          "key": "options",
          "value": {
           "backgroundColor": "#356AFF",
           "borderColor": "#356AFF",
           "bounds": null,
           "classify": null,
           "clusterMarkers": true,
           "customizeMarkers": false,
           "foregroundColor": "#ffffff",
           "groups": {
            "All": {
             "color": "#FF7F7F"
            }
           },
           "iconFont": "circle",
           "iconShape": "marker",
           "latColName": "Restaurant_latitude",
           "lonColName": "Restaurant_longitude",
           "mapTileUrl": "//{s}.tile.openstreetmap.org/{z}/{x}/{y}.png",
           "popup": {
            "enabled": false,
            "template": ""
           },
           "tooltip": {
            "enabled": false,
            "template": ""
           }
          }
         }
        ]
       },
       "datasetPreviewNameToCmdIdMap": {},
       "diffDeletes": [],
       "diffInserts": [],
       "displayType": "redashChart",
       "error": null,
       "errorDetails": null,
       "errorSummary": null,
       "errorTraceType": null,
       "finishTime": 0,
       "globalVars": {},
       "guid": "",
       "height": "auto",
       "hideCommandCode": false,
       "hideCommandResult": false,
       "iPythonMetadata": null,
       "inputWidgets": {},
       "isLockedInExamMode": false,
       "latestUser": "a user",
       "latestUserId": null,
       "listResultMetadata": null,
       "metadata": {},
       "nuid": "e0ddfcd2-8ac9-4fe7-a43b-9e7005b2d9e1",
       "origId": 0,
       "parentHierarchy": [],
       "pivotAggregation": null,
       "pivotColumns": null,
       "position": 21,
       "resultDbfsErrorMessage": null,
       "resultDbfsStatus": "INLINED_IN_TREE",
       "results": null,
       "showCommandTitle": false,
       "startTime": 0,
       "state": "input",
       "streamStates": {},
       "subcommandOptions": {},
       "submitTime": 0,
       "subtype": "tableResultSubCmd.visualization",
       "tableResultIndex": 0,
       "tableResultSettingsMap": {},
       "useConsistentColors": false,
       "version": "CommandV1",
       "width": "auto",
       "workflows": [],
       "xColumns": null,
       "yColumns": null
      }
     },
     "output_type": "display_data"
    }
   ],
   "source": [
    "%sql\n",
    "\n",
    "SELECT Restaurant_latitude, Restaurant_longitude, COUNT(*) AS count\n",
    "FROM operationalAnalytics\n",
    "WHERE Restaurant_latitude>0\n",
    "GROUP BY Restaurant_latitude, Restaurant_longitude"
   ]
  }
 ],
 "metadata": {
  "application/vnd.databricks.v1+notebook": {
   "dashboards": [
    {
     "elements": [
      {
       "dashboardResultIndex": null,
       "elementNUID": "1a233687-35e1-4071-a565-ee3be8d47fee",
       "elementType": "command",
       "guid": "0b8d9a68-66b0-47e1-9d63-e8d056c035ba",
       "options": {
        "autoScaleImg": false,
        "scale": 0,
        "showTitle": true,
        "title": "Order Count vs Delivery Person Age",
        "titleAlign": "center"
       },
       "position": {
        "height": 6,
        "width": 9,
        "x": 15,
        "y": 20,
        "z": null
       },
       "resultIndex": null
      },
      {
       "dashboardResultIndex": null,
       "elementNUID": "5b050855-4cbc-4e90-895c-3ee816d1e522",
       "elementType": "command",
       "guid": "12cad694-916d-4f98-af99-1ecd66057ae5",
       "options": {
        "autoScaleImg": false,
        "scale": 0,
        "showTitle": true,
        "title": "India's Top Picks",
        "titleAlign": "center"
       },
       "position": {
        "height": 5,
        "width": 6,
        "x": 7,
        "y": 10,
        "z": null
       },
       "resultIndex": null
      },
      {
       "dashboardResultIndex": null,
       "elementNUID": "cd3e15d9-7f48-41d3-a671-4e10916e1439",
       "elementType": "command",
       "guid": "1587bc4b-c276-4a5d-9362-0cc0e37bf66b",
       "options": {
        "autoScaleImg": false,
        "scale": 0,
        "showTitle": true,
        "title": "Total Orders per Day by each Month",
        "titleAlign": "center"
       },
       "position": {
        "height": 5,
        "width": 11,
        "x": 13,
        "y": 10,
        "z": null
       },
       "resultIndex": null
      },
      {
       "dashboardResultIndex": null,
       "elementNUID": "272690db-c2d7-4a1f-9ecb-6d50a003954c",
       "elementType": "command",
       "guid": "31ae123c-4b2a-48da-ba82-a50929265e53",
       "options": {
        "autoScaleImg": false,
        "scale": 0,
        "showTitle": true,
        "title": "Cities with Lowest Avg. Per-Person Cost",
        "titleAlign": "center"
       },
       "position": {
        "height": 5,
        "width": 9,
        "x": 0,
        "y": 5,
        "z": null
       },
       "resultIndex": null
      },
      {
       "dashboardResultIndex": null,
       "elementNUID": "7db2dcb1-b0b9-467f-8e06-92a40d9f8866",
       "elementType": "command",
       "guid": "3311c512-22f7-4e3a-8896-0f56ba73e1b2",
       "options": {
        "autoScaleImg": false,
        "scale": 0,
        "showTitle": true,
        "title": "Distribution of Orders Throughout the Day",
        "titleAlign": "center"
       },
       "position": {
        "height": 6,
        "width": 9,
        "x": 0,
        "y": 20,
        "z": null
       },
       "resultIndex": null
      },
      {
       "dashboardResultIndex": null,
       "elementNUID": "3db5310e-fab3-432f-ba2a-ea9b4b4219ec",
       "elementType": "command",
       "guid": "645f1900-c80d-4980-a70b-513224b3604a",
       "options": null,
       "position": {
        "height": 2,
        "width": 4,
        "x": 0,
        "y": 3,
        "z": null
       },
       "resultIndex": null
      },
      {
       "dashboardResultIndex": null,
       "elementNUID": "704ff7f5-6f10-441f-a71b-410acd67bc3b",
       "elementType": "command",
       "guid": "75c9c9b2-fa57-45ec-8d86-51a724cbbe54",
       "options": {
        "autoScaleImg": false,
        "scale": 0,
        "showTitle": true,
        "title": "Most Popular Cuisine per City",
        "titleAlign": "center"
       },
       "position": {
        "height": 5,
        "width": 7,
        "x": 0,
        "y": 10,
        "z": null
       },
       "resultIndex": null
      },
      {
       "dashboardResultIndex": null,
       "elementNUID": "edd36cf8-96d2-42cd-9ebe-2800679a1418",
       "elementType": "command",
       "guid": "765778d4-695f-4321-ae87-e3aed99127be",
       "options": {
        "autoScaleImg": false,
        "scale": 0,
        "showTitle": true,
        "title": "Restaurants in Each City with most Choices",
        "titleAlign": "center"
       },
       "position": {
        "height": 5,
        "width": 9,
        "x": 15,
        "y": 5,
        "z": null
       },
       "resultIndex": null
      },
      {
       "dashboardResultIndex": null,
       "elementNUID": "e0aa0114-21be-4033-a1d6-9bfd0249283f",
       "elementType": "command",
       "guid": "80644dfb-4c16-4145-9bbf-fc63eeb344ec",
       "options": {
        "autoScaleImg": false,
        "scale": 0,
        "showTitle": true,
        "title": "Time vs Traffic Density",
        "titleAlign": "center"
       },
       "position": {
        "height": 5,
        "width": 9,
        "x": 0,
        "y": 15,
        "z": null
       },
       "resultIndex": null
      },
      {
       "dashboardResultIndex": null,
       "elementNUID": "03479479-a07f-4573-aceb-ab00e375bae1",
       "elementType": "command",
       "guid": "8add98f9-c4d1-485c-ab5b-d686ab684c28",
       "options": null,
       "position": {
        "height": 3,
        "width": 4,
        "x": 0,
        "y": 0,
        "z": null
       },
       "resultIndex": null
      },
      {
       "dashboardResultIndex": null,
       "elementNUID": "4f70c911-f6e7-443f-85f0-1c2ccd753efc",
       "elementType": "command",
       "guid": "8b976fb8-398e-452c-aca9-e349f73e381f",
       "options": {
        "autoScaleImg": false,
        "scale": 0,
        "showTitle": true,
        "title": "Cheapest Restaurants in Each City",
        "titleAlign": "center"
       },
       "position": {
        "height": 5,
        "width": 11,
        "x": 13,
        "y": 0,
        "z": null
       },
       "resultIndex": null
      },
      {
       "dashboardResultIndex": null,
       "elementNUID": "879dbeed-924a-44fe-a8e6-59e3f016b60d",
       "elementType": "command",
       "guid": "9a99adfe-3323-45ed-b2a1-0c9c4cf37e21",
       "options": {
        "autoScaleImg": false,
        "scale": 0,
        "showTitle": true,
        "title": "Delivery Time vs Weather Conditions",
        "titleAlign": "center"
       },
       "position": {
        "height": 5,
        "width": 8,
        "x": 16,
        "y": 15,
        "z": null
       },
       "resultIndex": null
      },
      {
       "dashboardResultIndex": null,
       "elementNUID": "e0ddfcd2-8ac9-4fe7-a43b-9e7005b2d9e1",
       "elementType": "command",
       "guid": "9cc6e679-7e0d-4c9c-9e89-4568dd108a98",
       "options": {
        "autoScaleImg": false,
        "scale": 0,
        "showTitle": true,
        "title": "Restaurant Distribution",
        "titleAlign": "center"
       },
       "position": {
        "height": 6,
        "width": 6,
        "x": 9,
        "y": 20,
        "z": null
       },
       "resultIndex": null
      },
      {
       "dashboardResultIndex": null,
       "elementNUID": "475ee039-1aef-4a43-b177-5e5530f40a6a",
       "elementType": "command",
       "guid": "a41fcc67-9e59-43e4-82cc-0cedbbfa514c",
       "options": {
        "autoScaleImg": false,
        "scale": 0,
        "showTitle": true,
        "title": "Time Taken per Order Type",
        "titleAlign": "center"
       },
       "position": {
        "height": 5,
        "width": 7,
        "x": 9,
        "y": 15,
        "z": null
       },
       "resultIndex": null
      },
      {
       "dashboardResultIndex": null,
       "elementNUID": "f7030b27-b90c-4635-85f4-ee71f7aa0be7",
       "elementType": "command",
       "guid": "ca94956f-0066-4f32-930c-431dbf81d04a",
       "options": {
        "autoScaleImg": false,
        "scale": 0,
        "showTitle": true,
        "title": "Distribution of Delivery Vehicles",
        "titleAlign": "center"
       },
       "position": {
        "height": 5,
        "width": 6,
        "x": 9,
        "y": 5,
        "z": null
       },
       "resultIndex": null
      },
      {
       "dashboardResultIndex": null,
       "elementNUID": "d6d38f86-c863-49b8-a5bc-57b80db5ed16",
       "elementType": "command",
       "guid": "ff57e030-f50f-494e-8a02-22379c8ddfd3",
       "options": {
        "autoScaleImg": false,
        "scale": 0,
        "showTitle": true,
        "title": "Cities with most number of Restaurants",
        "titleAlign": "center"
       },
       "position": {
        "height": 5,
        "width": 9,
        "x": 4,
        "y": 0,
        "z": null
       },
       "resultIndex": null
      }
     ],
     "globalVars": {},
     "guid": "",
     "layoutOption": {
      "grid": true,
      "stack": true
     },
     "nuid": "ab3e06f8-8331-4685-993d-39c5288e5ecb",
     "origId": 570273761162433,
     "title": "Capstone Dashboard",
     "version": "DashboardViewV1",
     "width": 1600
    }
   ],
   "environmentMetadata": null,
   "language": "python",
   "notebookMetadata": {
    "mostRecentlyExecutedCommandWithImplicitDF": {
     "commandId": 4407164307924928,
     "dataframes": [
      "_sqldf"
     ]
    },
    "pythonIndentUnit": 4
   },
   "notebookName": "Capstone Visualization",
   "widgets": {}
  },
  "language_info": {
   "name": "plaintext"
  }
 },
 "nbformat": 4,
 "nbformat_minor": 0
}
