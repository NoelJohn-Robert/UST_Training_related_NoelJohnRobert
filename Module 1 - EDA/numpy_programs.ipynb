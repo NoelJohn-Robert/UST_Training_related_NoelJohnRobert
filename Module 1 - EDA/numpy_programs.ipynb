{
 "cells": [
  {
   "cell_type": "code",
   "execution_count": 1,
   "metadata": {},
   "outputs": [],
   "source": [
    "import numpy as np"
   ]
  },
  {
   "cell_type": "code",
   "execution_count": 12,
   "metadata": {},
   "outputs": [
    {
     "name": "stdout",
     "output_type": "stream",
     "text": [
      "(9,)\n",
      "[10 20 30 40 50 60 70 80 90]\n"
     ]
    }
   ],
   "source": [
    "arr_1 = np.array([10, 20, 30, 40, 50, 60, 70, 80, 90])  # dtype can be given as a parameter\n",
    "print(arr_1.shape)\n",
    "print(arr_1)"
   ]
  },
  {
   "cell_type": "code",
   "execution_count": 4,
   "metadata": {},
   "outputs": [
    {
     "name": "stdout",
     "output_type": "stream",
     "text": [
      "(5, 1)\n",
      "[[10]\n",
      " [20]\n",
      " [30]\n",
      " [40]\n",
      " [50]]\n"
     ]
    }
   ],
   "source": [
    "arr_2 = np.array([[10], [20], [30], [40], [50]])\n",
    "print(arr_2.shape)\n",
    "print(arr_2)"
   ]
  },
  {
   "cell_type": "code",
   "execution_count": 13,
   "metadata": {},
   "outputs": [
    {
     "name": "stdout",
     "output_type": "stream",
     "text": [
      "int64\n",
      "8\n",
      "9\n",
      "1\n",
      "72\n"
     ]
    }
   ],
   "source": [
    "print(arr_1.dtype)\n",
    "print(arr_1.itemsize)\n",
    "print(arr_1.size)\n",
    "print(arr_1.ndim)\n",
    "print(arr_1.nbytes)\n"
   ]
  },
  {
   "cell_type": "code",
   "execution_count": 3,
   "metadata": {},
   "outputs": [
    {
     "name": "stdout",
     "output_type": "stream",
     "text": [
      "(3, 4)\n",
      "2\n",
      "8\n",
      "\n",
      "(2, 2, 4)\n",
      "3\n",
      "8\n"
     ]
    }
   ],
   "source": [
    "# types of numpy arrays\n",
    "\n",
    "# 1. create 1D array\n",
    "array = np.array([10, 54, 65, 49, 25, 45, 90])\n",
    "\n",
    "# 2. create 2D array\n",
    "array = np.array([[8, 11, 13, 15], [14, 5, 19, 13], [34, 12, 153, 4]])\n",
    "print(array.shape)\n",
    "print(array.ndim)\n",
    "print(array.itemsize)\n",
    "print()\n",
    "\n",
    "\n",
    "# 3. 3D array - the array is wrong\n",
    "# array = np.array([[[8, 11, 13, 15],  [34, 12, 153, 4]]])\n",
    "# below one is correct ig\n",
    "array = np.array([[[8, 11, 13, 15],  [34, 12, 153, 4]], [[8, 11, 13, 15],  [34, 12, 153, 4]]])\n",
    "print(array.shape)\n",
    "print(array.ndim)\n",
    "print(array.itemsize)"
   ]
  },
  {
   "cell_type": "code",
   "execution_count": 26,
   "metadata": {},
   "outputs": [
    {
     "name": "stdout",
     "output_type": "stream",
     "text": [
      "[ 8 11 13 15]\n",
      "\n",
      "[[  8  11  13  15]\n",
      " [ 14   5  19  13]\n",
      " [ 34  12 153   4]]\n",
      "\n",
      "[[  8  11  13  15]\n",
      " [ 14   5  19  13]\n",
      " [ 34  12 153   4]]\n",
      "\n",
      "[ 8 14 34]\n",
      "\n",
      "[[ 8 11]\n",
      " [14  5]\n",
      " [34 12]]\n",
      "\n",
      "[[ 5 19]]\n",
      "\n",
      "[[  4 153  12  34]\n",
      " [ 13  19   5  14]\n",
      " [ 15  13  11   8]]\n",
      "\n"
     ]
    }
   ],
   "source": [
    "# slicing and indexing in numpy array\n",
    "\n",
    "array_2d = np.array([[8, 11, 13, 15], [14, 5, 19, 13], [34, 12, 153, 4]])\n",
    "print(array_2d[0])  # first row only\n",
    "print()\n",
    "\n",
    "# all rows and all columns\n",
    "print(array_2d[:, :])\n",
    "print()\n",
    "\n",
    "# first column only\n",
    "print(array_2d[:, 0])\n",
    "print()\n",
    "\n",
    "# first two columns\n",
    "print(array_2d[:, 0:2])\n",
    "print()\n",
    "\n",
    "\n",
    "# reject first and last rows and columns\n",
    "print(array_2d[1:-1, 1:-1])\n",
    "print()\n",
    "\n",
    "\n",
    "# flipped matrix\n",
    "print(array_2d[::-1, ::-1])\n",
    "print()\n"
   ]
  },
  {
   "cell_type": "code",
   "execution_count": 34,
   "metadata": {},
   "outputs": [
    {
     "name": "stdout",
     "output_type": "stream",
     "text": [
      "[[[  8  11  13  15]\n",
      "  [ 34  12 153   4]]\n",
      "\n",
      " [[  8  11  13  15]\n",
      "  [ 34  12 153   4]]]\n",
      "\n",
      "[[  8  11  13  15]\n",
      " [ 34  12 153   4]]\n"
     ]
    }
   ],
   "source": [
    "arr_3d = np.array([[[8, 11, 13, 15],  [34, 12, 153, 4]], [[81, 12, 23, 22],  [4, 4, 189, 14]]])\n",
    "print(arr_3d)\n",
    "print()\n",
    "\n",
    "print(arr_3d[1])"
   ]
  },
  {
   "cell_type": "markdown",
   "metadata": {},
   "source": [
    "### ways to create a numpy array"
   ]
  },
  {
   "cell_type": "code",
   "execution_count": 39,
   "metadata": {},
   "outputs": [
    {
     "name": "stdout",
     "output_type": "stream",
     "text": [
      "[ 1  2  3  4  5  6  7  8  9 10 11 12 13 14 15 16 17 18 19 20 21 22 23 24\n",
      " 25 26 27 28 29 30 31 32 33 34 35 36 37 38 39 40 41 42 43 44 45 46 47 48\n",
      " 49 50]\n",
      "[[[ 1  2  3  4  5]\n",
      "  [ 6  7  8  9 10]\n",
      "  [11 12 13 14 15]\n",
      "  [16 17 18 19 20]\n",
      "  [21 22 23 24 25]]\n",
      "\n",
      " [[26 27 28 29 30]\n",
      "  [31 32 33 34 35]\n",
      "  [36 37 38 39 40]\n",
      "  [41 42 43 44 45]\n",
      "  [46 47 48 49 50]]]\n"
     ]
    }
   ],
   "source": [
    "# \n",
    "\n",
    "# 1. using arrange function\n",
    "arr_1 = np.arange(1,51)\n",
    "print(arr_1)\n",
    "\n",
    "arr_1 = arr_1.reshape(2,5,5)\n",
    "print(arr_1)"
   ]
  },
  {
   "cell_type": "code",
   "execution_count": 43,
   "metadata": {},
   "outputs": [
    {
     "name": "stdout",
     "output_type": "stream",
     "text": [
      "[[0 0 0 0]\n",
      " [0 0 0 0]\n",
      " [0 0 0 0]]\n",
      "\n",
      "[[0. 0. 0. 0.]\n",
      " [0. 0. 0. 0.]\n",
      " [0. 0. 0. 0.]]\n"
     ]
    }
   ],
   "source": [
    "# 2. zero matrix\n",
    "\n",
    "arr_2 = np.zeros((3, 4), dtype=\"int16\")\n",
    "print(arr_2)\n",
    "print()\n",
    "\n",
    "# type casting form int to float\n",
    "print(arr_2.astype(\"float32\"))"
   ]
  },
  {
   "cell_type": "code",
   "execution_count": 44,
   "metadata": {},
   "outputs": [
    {
     "name": "stdout",
     "output_type": "stream",
     "text": [
      "[[1. 1. 1. 1. 1.]\n",
      " [1. 1. 1. 1. 1.]\n",
      " [1. 1. 1. 1. 1.]\n",
      " [1. 1. 1. 1. 1.]\n",
      " [1. 1. 1. 1. 1.]]\n"
     ]
    }
   ],
   "source": [
    "# 3. ones matrix\n",
    "arr_3 = np.ones((5, 5))\n",
    "print(arr_3)\n"
   ]
  },
  {
   "cell_type": "code",
   "execution_count": 45,
   "metadata": {},
   "outputs": [
    {
     "name": "stdout",
     "output_type": "stream",
     "text": [
      "[[1. 0. 0. 0. 0. 0. 0.]\n",
      " [0. 1. 0. 0. 0. 0. 0.]\n",
      " [0. 0. 1. 0. 0. 0. 0.]\n",
      " [0. 0. 0. 1. 0. 0. 0.]\n",
      " [0. 0. 0. 0. 1. 0. 0.]\n",
      " [0. 0. 0. 0. 0. 1. 0.]\n",
      " [0. 0. 0. 0. 0. 0. 1.]]\n"
     ]
    }
   ],
   "source": [
    "# 4.identity matrix\n",
    "\n",
    "# square matrix\n",
    "arr_4 = np.identity(7)\n",
    "print(arr_4)"
   ]
  },
  {
   "cell_type": "code",
   "execution_count": 48,
   "metadata": {},
   "outputs": [
    {
     "name": "stdout",
     "output_type": "stream",
     "text": [
      "[[0.]\n",
      " [0.]\n",
      " [0.]\n",
      " [0.]\n",
      " [0.]\n",
      " [0.]]\n",
      "\n",
      "\n",
      "[[2.]\n",
      " [2.]\n",
      " [2.]\n",
      " [2.]\n",
      " [2.]\n",
      " [2.]]\n"
     ]
    }
   ],
   "source": [
    "# 5. empty matrix\n",
    "\n",
    "# can be filled with any value\n",
    "arr_5 = np.empty((6, 1))\n",
    "print(arr_5)\n",
    "print()\n",
    "print()\n",
    "\n",
    "# fill all positions with some particular value\n",
    "arr_5.fill(2)\n",
    "print(arr_5)"
   ]
  },
  {
   "cell_type": "code",
   "execution_count": 5,
   "metadata": {},
   "outputs": [
    {
     "name": "stdout",
     "output_type": "stream",
     "text": [
      "[[4.4 4.4]\n",
      " [4.4 4.4]\n",
      " [4.4 4.4]\n",
      " [4.4 4.4]\n",
      " [4.4 4.4]\n",
      " [4.4 4.4]\n",
      " [4.4 4.4]\n",
      " [4.4 4.4]\n",
      " [4.4 4.4]\n",
      " [4.4 4.4]]\n"
     ]
    }
   ],
   "source": [
    "# 6. full\n",
    "\n",
    "arr_6 = np.full((10,2), 4.4)\n",
    "print(arr_6)"
   ]
  },
  {
   "cell_type": "code",
   "execution_count": 7,
   "metadata": {},
   "outputs": [
    {
     "name": "stdout",
     "output_type": "stream",
     "text": [
      "[ 10.  20.  30.  40.  50.  60.  70.  80.  90. 100.]\n"
     ]
    }
   ],
   "source": [
    "# 7. linspace\n",
    "\n",
    "# create array with evenly spaced elements\n",
    "print(np.linspace(10, 100, 10))"
   ]
  },
  {
   "cell_type": "code",
   "execution_count": 58,
   "metadata": {},
   "outputs": [
    {
     "name": "stdout",
     "output_type": "stream",
     "text": [
      "[ 1.          1.29154967  1.66810054  2.15443469  2.7825594   3.59381366\n",
      "  4.64158883  5.9948425   7.74263683 10.        ]\n"
     ]
    }
   ],
   "source": [
    "# 8. logspace\n",
    "\n",
    "# elements evenly spaced on a log scale\n",
    "print(np.logspace(0, 1, 10, base=10))\n"
   ]
  },
  {
   "cell_type": "markdown",
   "metadata": {},
   "source": [
    "Exercise\n",
    "\n",
    "1. program that will generate output like: \n",
    "[[1 1 1 1 1 1 1 1 1 1]\n",
    "[1 0 0 0 0 0 0 0 0 1]\n",
    "[1 0 0 0 0 0 0 0 0 1]\n",
    "[1 0 0 0 0 0 0 0 0 1]\n",
    "[1 0 0 0 0 0 0 0 0 1]\n",
    "[1 0 0 0 0 0 0 0 0 1]\n",
    "[1 0 0 0 0 0 0 0 0 1]\n",
    "[1 0 0 0 0 0 0 0 0 1]\n",
    "[1 0 0 0 0 0 0 0 0 1]\n",
    "[1 1 1 1 1 1 1 1 1 1]]\n",
    "\n",
    "2. create checker box\n",
    "[1 0 1 0 1 0 1 0 1 0 1]\n",
    "[0 1 0 1 0 1 0 1 0 1 0]\n",
    "[1 0 1 0 1 0 1 0 1 0 1]\n",
    "[0 1 0 1 0 1 0 1 0 1 0]\n",
    "[1 0 1 0 1 0 1 0 1 0 1]\n",
    "[0 1 0 1 0 1 0 1 0 1 0]\n",
    "[1 0 1 0 1 0 1 0 1 0 1]\n",
    "[0 1 0 1 0 1 0 1 0 1 0]\n",
    "[1 0 1 0 1 0 1 0 1 0 1]\n",
    "[0 1 0 1 0 1 0 1 0 1 0]"
   ]
  },
  {
   "cell_type": "code",
   "execution_count": 63,
   "metadata": {},
   "outputs": [
    {
     "name": "stdout",
     "output_type": "stream",
     "text": [
      "[[1 1 1 1 1 1 1 1 1 1]\n",
      " [1 0 0 0 0 0 0 0 0 1]\n",
      " [1 0 0 0 0 0 0 0 0 1]\n",
      " [1 0 0 0 0 0 0 0 0 1]\n",
      " [1 0 0 0 0 0 0 0 0 1]\n",
      " [1 0 0 0 0 0 0 0 0 1]\n",
      " [1 0 0 0 0 0 0 0 0 1]\n",
      " [1 0 0 0 0 0 0 0 0 1]\n",
      " [1 0 0 0 0 0 0 0 0 1]\n",
      " [1 1 1 1 1 1 1 1 1 1]]\n"
     ]
    }
   ],
   "source": [
    "# Exercise 1 answer:\n",
    "\n",
    "arr = np.ones((10, 10), dtype=\"int16\")\n",
    "arr[1:-1, 1:-1] = 0\n",
    "print(arr)"
   ]
  },
  {
   "cell_type": "code",
   "execution_count": 92,
   "metadata": {},
   "outputs": [
    {
     "name": "stdout",
     "output_type": "stream",
     "text": [
      "[[0 1 0 1 0 1 0 1 0 1 0]\n",
      " [1 0 1 0 1 0 1 0 1 0 1]\n",
      " [0 1 0 1 0 1 0 1 0 1 0]\n",
      " [1 0 1 0 1 0 1 0 1 0 1]\n",
      " [0 1 0 1 0 1 0 1 0 1 0]\n",
      " [1 0 1 0 1 0 1 0 1 0 1]\n",
      " [0 1 0 1 0 1 0 1 0 1 0]\n",
      " [1 0 1 0 1 0 1 0 1 0 1]\n",
      " [0 1 0 1 0 1 0 1 0 1 0]\n",
      " [1 0 1 0 1 0 1 0 1 0 1]]\n"
     ]
    }
   ],
   "source": [
    "# Exercise 2 answer\n",
    "arr = np.ones((10, 11), dtype=\"int16\")\n",
    "arr[::2, ::2] = 0\n",
    "arr[1::2, 1::2] = 0\n",
    "\n",
    "print(arr)"
   ]
  },
  {
   "cell_type": "markdown",
   "metadata": {},
   "source": [
    "## Mathematical operations on NumPy array"
   ]
  },
  {
   "cell_type": "code",
   "execution_count": 100,
   "metadata": {},
   "outputs": [
    {
     "name": "stdout",
     "output_type": "stream",
     "text": [
      "122\n",
      "[[ 2  6 10]\n",
      " [ 8 16 14]\n",
      " [18 22 26]]\n",
      "[[14 22 25]\n",
      " [14 22 25]]\n",
      "[[ 9 19 33]\n",
      " [ 9 19 33]]\n"
     ]
    }
   ],
   "source": [
    "arr1 = np.array([[[1, 3, 5],\n",
    "          [4, 8, 7],\n",
    "          [9, 11, 13]],\n",
    "          [[1, 3, 5],\n",
    "          [4, 8, 7],\n",
    "          [9, 11, 13]]])\n",
    "print(arr1.sum())\n",
    "print(arr1.sum(axis=0)) # position-wise addition [kinda overlap the 2 matrices]\n",
    "print(arr1.sum(axis=1)) # add everything in a column, per matrix\n",
    "print(arr1.sum(axis=2)) # add everything in a row, per matrix\n",
    "\n"
   ]
  },
  {
   "cell_type": "code",
   "execution_count": 105,
   "metadata": {},
   "outputs": [
    {
     "name": "stdout",
     "output_type": "stream",
     "text": [
      "1\n",
      "13\n",
      "\n",
      "\n",
      "[[ 1  2  3  4]\n",
      " [ 5  6  7  8]\n",
      " [ 9 10 11 12]\n",
      " [13 14 15 16]\n",
      " [17 18 19 20]]\n",
      "(array([1, 2, 2, 2, 2, 3, 3, 3, 3, 4, 4, 4, 4]), array([3, 0, 1, 2, 3, 0, 1, 2, 3, 0, 1, 2, 3]))\n"
     ]
    }
   ],
   "source": [
    "print(arr1.min())\n",
    "print(arr1.max())\n",
    "print()\n",
    "print()\n",
    "\n",
    "arr_14 = np.arange(1, 21).reshape(5, 4)\n",
    "print(arr_14)\n",
    "print(np.where(arr_14 >= 8))\n"
   ]
  },
  {
   "cell_type": "code",
   "execution_count": 107,
   "metadata": {},
   "outputs": [
    {
     "name": "stdout",
     "output_type": "stream",
     "text": [
      "18.5\n",
      "[16. 17. 18. 19. 20. 21.]\n",
      "[ 3.5  9.5 15.5 21.5 27.5 33.5]\n"
     ]
    }
   ],
   "source": [
    "# statistical methods\n",
    "\n",
    "arr_15 = np.arange(1, 37).reshape(6, 6)\n",
    "print(arr_15.mean())\n",
    "print(arr_15.mean(axis=0))\n",
    "print(arr_15.mean(axis=1))\n"
   ]
  },
  {
   "cell_type": "code",
   "execution_count": 110,
   "metadata": {},
   "outputs": [
    {
     "name": "stdout",
     "output_type": "stream",
     "text": [
      "10.388294694831615\n",
      "107.91666666666667\n"
     ]
    }
   ],
   "source": [
    "arr_15 = np.arange(1, 37).reshape(6, 6)\n",
    "print(arr_15.std())\n",
    "print(arr_15.var())\n"
   ]
  },
  {
   "cell_type": "code",
   "execution_count": 111,
   "metadata": {},
   "outputs": [
    {
     "name": "stdout",
     "output_type": "stream",
     "text": [
      "[ 0  1  2  3  4  5  6  7  8  9 10 11 12 13 14 15 16 17 18 19 20 21 22 23\n",
      " 24 25 26 27 28 29 30 31 32 33 34 35 36 37 38 39 40 41 42 43 44 45 46 47\n",
      " 48 49]\n"
     ]
    }
   ],
   "source": [
    "# reversing an array\n",
    "\n",
    "arr_16 = np.arange(50)\n",
    "print(arr_16)"
   ]
  },
  {
   "cell_type": "code",
   "execution_count": 116,
   "metadata": {},
   "outputs": [
    {
     "name": "stdout",
     "output_type": "stream",
     "text": [
      "[49 48 47 46 45 44 43 42 41 40 39 38 37 36 35 34 33 32 31 30 29 28 27 26\n",
      " 25 24 23 22 21 20 19 18 17 16 15 14 13 12 11 10  9  8  7  6  5  4  3  2\n",
      "  1  0]\n",
      "[[31 32 33 34 35 36]\n",
      " [25 26 27 28 29 30]\n",
      " [19 20 21 22 23 24]\n",
      " [13 14 15 16 17 18]\n",
      " [ 7  8  9 10 11 12]\n",
      " [ 1  2  3  4  5  6]]\n",
      "[[ 6  5  4  3  2  1]\n",
      " [12 11 10  9  8  7]\n",
      " [18 17 16 15 14 13]\n",
      " [24 23 22 21 20 19]\n",
      " [30 29 28 27 26 25]\n",
      " [36 35 34 33 32 31]]\n",
      "[[36 35 34 33 32 31]\n",
      " [30 29 28 27 26 25]\n",
      " [24 23 22 21 20 19]\n",
      " [18 17 16 15 14 13]\n",
      " [12 11 10  9  8  7]\n",
      " [ 6  5  4  3  2  1]]\n"
     ]
    }
   ],
   "source": [
    "print(np.flip(arr_16))\n",
    "print(np.flipud(arr_15))\n",
    "print(np.fliplr(arr_15))\n",
    "print(np.flip(arr_15))"
   ]
  },
  {
   "cell_type": "code",
   "execution_count": 126,
   "metadata": {},
   "outputs": [
    {
     "name": "stdout",
     "output_type": "stream",
     "text": [
      "[[10 47 26]\n",
      " [10 14 23]\n",
      " [44 24 38]\n",
      " [41 45 39]\n",
      " [33 43 13]]\n",
      "[10 47 26 10 14 23 44 24 38 41 45 39 33 43 13]\n"
     ]
    }
   ],
   "source": [
    "# flatten() - convert nD array to a 1D array\n",
    "\n",
    "arr = np.random.randint(10, 50, size=(5, 3))\n",
    "print(arr)\n",
    "print(arr.flatten())"
   ]
  },
  {
   "cell_type": "code",
   "execution_count": 127,
   "metadata": {},
   "outputs": [
    {
     "name": "stdout",
     "output_type": "stream",
     "text": [
      "[10 47 26 10 14 23 44 24 38 41 45 39 33 43 13]\n"
     ]
    }
   ],
   "source": [
    "# ravel() flattens nD array to 1D array\n",
    "\n",
    "print(arr.ravel())"
   ]
  },
  {
   "cell_type": "code",
   "execution_count": 135,
   "metadata": {},
   "outputs": [
    {
     "name": "stdout",
     "output_type": "stream",
     "text": [
      "[40 20 45 45 14]\n",
      "2\n",
      "4\n"
     ]
    }
   ],
   "source": [
    "# np.argmax - max value from np array\n",
    "# but for higher dimension, index value is not proper - it counts after flattening\n",
    "\n",
    "arr = np.random.randint(10, 50, size=(5, ))\n",
    "print(arr)\n",
    "print(np.argmax(arr))\n",
    "print(np.argmin(arr))"
   ]
  },
  {
   "cell_type": "code",
   "execution_count": null,
   "metadata": {},
   "outputs": [],
   "source": [
    "# array broadcasting\n",
    "\n",
    "# "
   ]
  }
 ],
 "metadata": {
  "kernelspec": {
   "display_name": "Python 3",
   "language": "python",
   "name": "python3"
  },
  "language_info": {
   "codemirror_mode": {
    "name": "ipython",
    "version": 3
   },
   "file_extension": ".py",
   "mimetype": "text/x-python",
   "name": "python",
   "nbconvert_exporter": "python",
   "pygments_lexer": "ipython3",
   "version": "3.12.4"
  }
 },
 "nbformat": 4,
 "nbformat_minor": 2
}
