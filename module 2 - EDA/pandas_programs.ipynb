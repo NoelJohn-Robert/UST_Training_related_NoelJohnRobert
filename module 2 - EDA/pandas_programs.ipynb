{
 "cells": [
  {
   "cell_type": "code",
   "execution_count": 4,
   "metadata": {},
   "outputs": [],
   "source": [
    "import pandas as pd\n",
    "import numpy as np"
   ]
  },
  {
   "cell_type": "code",
   "execution_count": 2,
   "metadata": {},
   "outputs": [
    {
     "name": "stdout",
     "output_type": "stream",
     "text": [
      "0    a\n",
      "1    b\n",
      "2    c\n",
      "3    d\n",
      "4    e\n",
      "5    f\n",
      "6    g\n",
      "dtype: object\n"
     ]
    }
   ],
   "source": [
    "# pandas series\n",
    "\n",
    "first_series = pd.Series(list('abcdefg'))\n",
    "print(first_series)"
   ]
  },
  {
   "cell_type": "code",
   "execution_count": 10,
   "metadata": {},
   "outputs": [
    {
     "name": "stdout",
     "output_type": "stream",
     "text": [
      "0       Luxembourg\n",
      "1        Singapore\n",
      "2          Ireland\n",
      "3           Norway\n",
      "4            Qatar\n",
      "5              UAE\n",
      "6    United States\n",
      "7          Denmark\n",
      "8           Sweden\n",
      "dtype: object\n"
     ]
    }
   ],
   "source": [
    "city_series = pd.Series(np.array(['Luxembourg', 'Singapore', 'Ireland', 'Norway', 'Qatar', 'UAE', 'United States', 'Denmark', 'Sweden']))\n",
    "print(city_series)\n",
    "\n",
    "# by default, index position auto incremented with start=0 and end=8\n",
    "# to change index position, set index flag as given below\n",
    "# city_series = pd.Series(np.array(['Luxembourg', 'Singapore', 'Ireland', 'Norway', 'Qatar', 'UAE', 'United States', 'Denmark', 'Sweden']), index=[1, 2, 3, 4, 5, 6, 7, 8, 9])\n",
    "# print(city_series)"
   ]
  },
  {
   "cell_type": "code",
   "execution_count": 19,
   "metadata": {},
   "outputs": [
    {
     "name": "stdout",
     "output_type": "stream",
     "text": [
      "      country  GDP per capita\n",
      "0  Luxembourg             124\n",
      "1     Ireland             134\n",
      "2   Singapore             543\n",
      "3      Norway             765\n",
      "4       Qatar              87\n"
     ]
    }
   ],
   "source": [
    "country_per_capita = {'country': pd.Series(np.array(['Luxembourg', 'Ireland', 'Singapore', 'Norway', 'Qatar', 'United States', 'Denmark', 'Sweden'])),\n",
    " 'GDP per capita': pd.Series(np.array([124, 134, 543, 765, 87, 123, 234, 65]))}\n",
    "\n",
    "gdp_dataframe = pd.DataFrame(country_per_capita)\n",
    "# print(gdp_dataframe)\n",
    "print(gdp_dataframe.head())"
   ]
  },
  {
   "cell_type": "code",
   "execution_count": null,
   "metadata": {},
   "outputs": [],
   "source": [
    "# more things in jupyter notebook"
   ]
  }
 ],
 "metadata": {
  "kernelspec": {
   "display_name": "Python 3",
   "language": "python",
   "name": "python3"
  },
  "language_info": {
   "codemirror_mode": {
    "name": "ipython",
    "version": 3
   },
   "file_extension": ".py",
   "mimetype": "text/x-python",
   "name": "python",
   "nbconvert_exporter": "python",
   "pygments_lexer": "ipython3",
   "version": "3.12.4"
  }
 },
 "nbformat": 4,
 "nbformat_minor": 2
}
