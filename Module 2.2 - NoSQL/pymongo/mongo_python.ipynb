{
 "cells": [
  {
   "cell_type": "markdown",
   "id": "453a86a7-860e-431d-bf4b-2e5dcac083e4",
   "metadata": {},
   "source": [
    "## 0 - Installation of packages"
   ]
  },
  {
   "cell_type": "code",
   "execution_count": 1,
   "id": "d7a365be-0f03-4cff-a531-62d8f80b94e9",
   "metadata": {},
   "outputs": [
    {
     "name": "stdout",
     "output_type": "stream",
     "text": [
      "Collecting pymongo\n",
      "  Downloading pymongo-4.8.0-cp312-cp312-win_amd64.whl.metadata (22 kB)\n",
      "Collecting dnspython<3.0.0,>=1.16.0 (from pymongo)\n",
      "  Downloading dnspython-2.6.1-py3-none-any.whl.metadata (5.8 kB)\n",
      "Downloading pymongo-4.8.0-cp312-cp312-win_amd64.whl (680 kB)\n",
      "   ---------------------------------------- 0.0/680.4 kB ? eta -:--:--\n",
      "   ----------------------- ---------------- 399.4/680.4 kB 8.3 MB/s eta 0:00:01\n",
      "   ---------------------------------------  675.8/680.4 kB 8.5 MB/s eta 0:00:01\n",
      "   ---------------------------------------  675.8/680.4 kB 8.5 MB/s eta 0:00:01\n",
      "   ---------------------------------------- 680.4/680.4 kB 4.8 MB/s eta 0:00:00\n",
      "Downloading dnspython-2.6.1-py3-none-any.whl (307 kB)\n",
      "   ---------------------------------------- 0.0/307.7 kB ? eta -:--:--\n",
      "   ---------------------------------------  307.2/307.7 kB 9.6 MB/s eta 0:00:01\n",
      "   ---------------------------------------- 307.7/307.7 kB 6.3 MB/s eta 0:00:00\n",
      "Installing collected packages: dnspython, pymongo\n",
      "Successfully installed dnspython-2.6.1 pymongo-4.8.0\n"
     ]
    }
   ],
   "source": [
    "!pip install pymongo"
   ]
  },
  {
   "cell_type": "code",
   "execution_count": 2,
   "id": "a34ff3d9-695e-409e-98ec-f0f2dd4a482a",
   "metadata": {},
   "outputs": [],
   "source": [
    "import pymongo"
   ]
  },
  {
   "cell_type": "markdown",
   "id": "c240b49c-1412-495c-85a3-6478dfbf2ba2",
   "metadata": {},
   "source": [
    "## 1 - Connect to Mongo NoSQL Database"
   ]
  },
  {
   "cell_type": "code",
   "execution_count": 5,
   "id": "3511640c-b466-46bc-b897-c14ffcbc5aa0",
   "metadata": {},
   "outputs": [
    {
     "name": "stdout",
     "output_type": "stream",
     "text": [
      "MongoClient(host=['localhost:27017'], document_class=dict, tz_aware=False, connect=True)\n"
     ]
    }
   ],
   "source": [
    "client = pymongo.MongoClient(\"localhost:27017\")\n",
    "print(client)"
   ]
  },
  {
   "cell_type": "code",
   "execution_count": 7,
   "id": "423bc22b-5d8c-41a1-af30-1b79940b1921",
   "metadata": {},
   "outputs": [],
   "source": [
    "database = client['pymongo_db']\n",
    "collection = database['testcollection']"
   ]
  },
  {
   "cell_type": "markdown",
   "id": "04aef32b-6733-42a2-a440-e248054aa052",
   "metadata": {},
   "source": [
    "## 2 - Insert a record into database"
   ]
  },
  {
   "cell_type": "code",
   "execution_count": 9,
   "id": "227a393f-829e-4c35-a463-b7a85e58befb",
   "metadata": {},
   "outputs": [],
   "source": [
    "product_1 = {\n",
    "    \"product_id\": 1,\n",
    "    \"name\": \"Iphone 15 Pro\",\n",
    "    \"category\": \"Electronics\",\n",
    "    \"brand\": \"Apple\",\n",
    "    \"rating\": 4.2,\n",
    "    \"price\": 999.99,\n",
    "    \"colors\": [\"Black\", \"White\", \"Blue\", \"Red\"],\n",
    "    \"storage_option\": [\"64GB\", \"128GB\", \"256GB\"]\n",
    "  }"
   ]
  },
  {
   "cell_type": "code",
   "execution_count": 10,
   "id": "93230c7c-a7e2-4a24-b837-fc1d1ce7e006",
   "metadata": {},
   "outputs": [
    {
     "data": {
      "text/plain": [
       "InsertOneResult(ObjectId('66c441453d8e6c91713e5224'), acknowledged=True)"
      ]
     },
     "execution_count": 10,
     "metadata": {},
     "output_type": "execute_result"
    }
   ],
   "source": [
    "collection.insert_one(product_1)"
   ]
  },
  {
   "cell_type": "markdown",
   "id": "5e8fc741-a840-4c0d-90cb-f3a15e821eaf",
   "metadata": {},
   "source": [
    "## 3 - Insert multiple records into database"
   ]
  },
  {
   "cell_type": "code",
   "execution_count": 11,
   "id": "0dd419a0-f567-4b7e-966f-a4370d88ad83",
   "metadata": {},
   "outputs": [],
   "source": [
    "products = [\n",
    "  {\n",
    "    \"product_id\": 2,\n",
    "    \"name\": \"Samsung Galaxy S24\",\n",
    "    \"category\": \"Electronics\",\n",
    "    \"brand\": \"Samsung\",\n",
    "    \"rating\": 4.5,\n",
    "    \"price\": 849.99,\n",
    "    \"colors\": [\"Phantom Black\", \"Phantom Silver\", \"Phantom Green\"],\n",
    "    \"storage_option\": [\"128GB\", \"256GB\", \"512GB\"]\n",
    "  },\n",
    "  {\n",
    "    \"product_id\": 3,\n",
    "    \"name\": \"Dell XPS 13\",\n",
    "    \"category\": \"Electronics\",\n",
    "    \"brand\": \"Dell\",\n",
    "    \"rating\": 4.6,\n",
    "    \"price\": 1199.99,\n",
    "    \"colors\": [\"Platinum Silver\", \"Frost White\"],\n",
    "    \"storage_option\": [\"256GB SSD\", \"512GB SSD\", \"1TB SSD\"]\n",
    "  },\n",
    "  {\n",
    "    \"product_id\": 4,\n",
    "    \"name\": \"Sony WH-1000XM5\",\n",
    "    \"category\": \"Electronics\",\n",
    "    \"brand\": \"Sony\",\n",
    "    \"rating\": 4.8,\n",
    "    \"price\": 349.99,\n",
    "    \"colors\": [\"Black\", \"Silver\"],\n",
    "    \"storage_option\": []\n",
    "  },\n",
    "  {\n",
    "    \"product_id\": 5,\n",
    "    \"name\": \"Bosch Series 4 Washing Machine\",\n",
    "    \"category\": \"Home Appliances\",\n",
    "    \"brand\": \"Bosch\",\n",
    "    \"rating\": 4.4,\n",
    "    \"price\": 749.99,\n",
    "    \"colors\": [\"White\", \"Silver\"],\n",
    "    \"storage_option\": [\"7kg\", \"8kg\", \"9kg\"]\n",
    "  },\n",
    "  {\n",
    "    \"product_id\": 6,\n",
    "    \"name\": \"LG InstaView Refrigerator\",\n",
    "    \"category\": \"Home Appliances\",\n",
    "    \"brand\": \"LG\",\n",
    "    \"rating\": 4.7,\n",
    "    \"price\": 1399.99,\n",
    "    \"colors\": [\"Stainless Steel\", \"Black\"],\n",
    "    \"storage_option\": [\"200L\", \"300L\", \"400L\"]\n",
    "  },\n",
    "  {\n",
    "    \"product_id\": 7,\n",
    "    \"name\": \"KitchenAid Artisan Mixer\",\n",
    "    \"category\": \"Home Appliances\",\n",
    "    \"brand\": \"KitchenAid\",\n",
    "    \"rating\": 4.9,\n",
    "    \"price\": 429.99,\n",
    "    \"colors\": [\"Empire Red\", \"Onyx Black\", \"Matte White\"],\n",
    "    \"storage_option\": []\n",
    "  }\n",
    "]\n"
   ]
  },
  {
   "cell_type": "code",
   "execution_count": 12,
   "id": "ddcd9ade-c2b1-4160-881a-89278f1ed6dc",
   "metadata": {},
   "outputs": [
    {
     "data": {
      "text/plain": [
       "InsertManyResult([ObjectId('66c442173d8e6c91713e5225'), ObjectId('66c442173d8e6c91713e5226'), ObjectId('66c442173d8e6c91713e5227'), ObjectId('66c442173d8e6c91713e5228'), ObjectId('66c442173d8e6c91713e5229'), ObjectId('66c442173d8e6c91713e522a')], acknowledged=True)"
      ]
     },
     "execution_count": 12,
     "metadata": {},
     "output_type": "execute_result"
    }
   ],
   "source": [
    "collection.insert_many(products)"
   ]
  },
  {
   "cell_type": "markdown",
   "id": "30362e2b-a5aa-4e06-b289-224c54400a82",
   "metadata": {},
   "source": [
    "## 4 - Accessing records using product_id = 3"
   ]
  },
  {
   "cell_type": "code",
   "execution_count": 15,
   "id": "a86c4364-4584-4227-922a-6658efd2f3ec",
   "metadata": {},
   "outputs": [
    {
     "data": {
      "text/plain": [
       "{'_id': ObjectId('66c442173d8e6c91713e5226'),\n",
       " 'product_id': 3,\n",
       " 'name': 'Dell XPS 13',\n",
       " 'category': 'Electronics',\n",
       " 'brand': 'Dell',\n",
       " 'rating': 4.6,\n",
       " 'price': 1199.99,\n",
       " 'colors': ['Platinum Silver', 'Frost White'],\n",
       " 'storage_option': ['256GB SSD', '512GB SSD', '1TB SSD']}"
      ]
     },
     "execution_count": 15,
     "metadata": {},
     "output_type": "execute_result"
    }
   ],
   "source": [
    "collection.find_one({'product_id':3})"
   ]
  },
  {
   "cell_type": "markdown",
   "id": "c16e3398-bed5-49ac-9cf7-25ea784a0ab3",
   "metadata": {},
   "source": [
    "## 5 - Storing all records"
   ]
  },
  {
   "cell_type": "code",
   "execution_count": 16,
   "id": "39bbbb42-ca10-4b22-8853-769530333dc1",
   "metadata": {},
   "outputs": [],
   "source": [
    "allDocuments = collection.find()"
   ]
  },
  {
   "cell_type": "code",
   "execution_count": 17,
   "id": "4c3a527a-98ce-496f-a16c-8870849452d4",
   "metadata": {},
   "outputs": [
    {
     "name": "stdout",
     "output_type": "stream",
     "text": [
      "{'_id': ObjectId('66c441453d8e6c91713e5224'), 'product_id': 1, 'name': 'Iphone 15 Pro', 'category': 'Electronics', 'brand': 'Apple', 'rating': 4.2, 'price': 999.99, 'colors': ['Black', 'White', 'Blue', 'Red'], 'storage_option': ['64GB', '128GB', '256GB']}\n",
      "{'_id': ObjectId('66c442173d8e6c91713e5225'), 'product_id': 2, 'name': 'Samsung Galaxy S24', 'category': 'Electronics', 'brand': 'Samsung', 'rating': 4.5, 'price': 849.99, 'colors': ['Phantom Black', 'Phantom Silver', 'Phantom Green'], 'storage_option': ['128GB', '256GB', '512GB']}\n",
      "{'_id': ObjectId('66c442173d8e6c91713e5226'), 'product_id': 3, 'name': 'Dell XPS 13', 'category': 'Electronics', 'brand': 'Dell', 'rating': 4.6, 'price': 1199.99, 'colors': ['Platinum Silver', 'Frost White'], 'storage_option': ['256GB SSD', '512GB SSD', '1TB SSD']}\n",
      "{'_id': ObjectId('66c442173d8e6c91713e5227'), 'product_id': 4, 'name': 'Sony WH-1000XM5', 'category': 'Electronics', 'brand': 'Sony', 'rating': 4.8, 'price': 349.99, 'colors': ['Black', 'Silver'], 'storage_option': []}\n",
      "{'_id': ObjectId('66c442173d8e6c91713e5228'), 'product_id': 5, 'name': 'Bosch Series 4 Washing Machine', 'category': 'Home Appliances', 'brand': 'Bosch', 'rating': 4.4, 'price': 749.99, 'colors': ['White', 'Silver'], 'storage_option': ['7kg', '8kg', '9kg']}\n",
      "{'_id': ObjectId('66c442173d8e6c91713e5229'), 'product_id': 6, 'name': 'LG InstaView Refrigerator', 'category': 'Home Appliances', 'brand': 'LG', 'rating': 4.7, 'price': 1399.99, 'colors': ['Stainless Steel', 'Black'], 'storage_option': ['200L', '300L', '400L']}\n",
      "{'_id': ObjectId('66c442173d8e6c91713e522a'), 'product_id': 7, 'name': 'KitchenAid Artisan Mixer', 'category': 'Home Appliances', 'brand': 'KitchenAid', 'rating': 4.9, 'price': 429.99, 'colors': ['Empire Red', 'Onyx Black', 'Matte White'], 'storage_option': []}\n"
     ]
    }
   ],
   "source": [
    "for document in allDocuments:\n",
    "    print(document)"
   ]
  },
  {
   "cell_type": "code",
   "execution_count": 29,
   "id": "fda548b7-282a-4b59-8c82-301dc8fdec99",
   "metadata": {},
   "outputs": [
    {
     "name": "stdout",
     "output_type": "stream",
     "text": [
      "{'_id': ObjectId('66c441453d8e6c91713e5224'), 'product_id': 1, 'name': 'Iphone 15 Pro', 'category': 'Electronics', 'brand': 'Apple', 'rating': 4.2, 'price': 999.99, 'colors': ['Black', 'White', 'Blue', 'Red'], 'storage_option': ['64GB', '128GB', '256GB']}\n",
      "{'_id': ObjectId('66c442173d8e6c91713e5225'), 'product_id': 2, 'name': 'Samsung Galaxy S24', 'category': 'Electronics', 'brand': 'Samsung', 'rating': 4.5, 'price': 849.99, 'colors': ['Phantom Black', 'Phantom Silver', 'Phantom Green'], 'storage_option': ['128GB', '256GB', '512GB']}\n",
      "{'_id': ObjectId('66c442173d8e6c91713e5226'), 'product_id': 3, 'name': 'Dell XPS 13', 'category': 'Electronics', 'brand': 'Dell', 'rating': 4.6, 'price': 1199.99, 'colors': ['Platinum Silver', 'Frost White'], 'storage_option': ['256GB SSD', '512GB SSD', '1TB SSD']}\n",
      "{'_id': ObjectId('66c442173d8e6c91713e5227'), 'product_id': 4, 'name': 'Sony WH-1000XM5', 'category': 'Electronics', 'brand': 'Sony', 'rating': 4.8, 'price': 349.99, 'colors': ['Black', 'Silver'], 'storage_option': []}\n",
      "{'_id': ObjectId('66c442173d8e6c91713e5228'), 'product_id': 5, 'name': 'Bosch Series 4 Washing Machine', 'category': 'Home Appliances', 'brand': 'Bosch', 'rating': 4.4, 'price': 749.99, 'colors': ['White', 'Silver'], 'storage_option': ['7kg', '8kg', '9kg']}\n",
      "{'_id': ObjectId('66c442173d8e6c91713e5229'), 'product_id': 6, 'name': 'LG InstaView Refrigerator', 'category': 'Home Appliances', 'brand': 'LG', 'rating': 4.7, 'price': 1399.99, 'colors': ['Stainless Steel', 'Black'], 'storage_option': ['200L', '300L', '400L']}\n",
      "{'_id': ObjectId('66c442173d8e6c91713e522a'), 'product_id': 7, 'name': 'KitchenAid Artisan Mixer', 'category': 'Home Appliances', 'brand': 'KitchenAid', 'rating': 4.9, 'price': 429.99, 'colors': ['Empire Red', 'Onyx Black', 'Matte White'], 'storage_option': []}\n"
     ]
    }
   ],
   "source": [
    "def main():\n",
    "    client = pymongo.MongoClient(\"localhost:27017\")\n",
    "    database = client['pymongo_db']\n",
    "    try:\n",
    "        database.testcollection2.drop()\n",
    "    except:\n",
    "        print('collection does not exist')\n",
    "    collection = database['testcollection2']\n",
    "    collection.insert_one(product_1)\n",
    "    collection.insert_many(products)\n",
    "\n",
    "    allDocuments = collection.find()\n",
    "    for document in allDocuments:\n",
    "        print(document)\n",
    "\n",
    "\n",
    "if __name__ == '__main__':\n",
    "    main()"
   ]
  },
  {
   "cell_type": "markdown",
   "id": "b96bfd41-100e-426a-a08d-c2a494f14f9c",
   "metadata": {},
   "source": [
    "## 6 - List all databases and collections"
   ]
  },
  {
   "cell_type": "code",
   "execution_count": 30,
   "id": "a2f524f3-8ff8-4605-9e7b-0fe322d54242",
   "metadata": {},
   "outputs": [
    {
     "data": {
      "text/plain": [
       "['ECommerce', 'admin', 'config', 'local', 'pymongo_db', 'restaurants']"
      ]
     },
     "execution_count": 30,
     "metadata": {},
     "output_type": "execute_result"
    }
   ],
   "source": [
    "client.list_database_names()"
   ]
  },
  {
   "cell_type": "code",
   "execution_count": 31,
   "id": "7f63dcf8-27a4-483c-9bce-65e834dbcf6b",
   "metadata": {},
   "outputs": [
    {
     "data": {
      "text/plain": [
       "['testcollection2', 'testcollection']"
      ]
     },
     "execution_count": 31,
     "metadata": {},
     "output_type": "execute_result"
    }
   ],
   "source": [
    "database.list_collection_names()"
   ]
  },
  {
   "cell_type": "markdown",
   "id": "ce9f96a4-8084-489d-8991-e4dde898c1a1",
   "metadata": {},
   "source": [
    "## 7. Pick distinct values"
   ]
  },
  {
   "cell_type": "code",
   "execution_count": 32,
   "id": "83bc336a-e3b1-401a-b685-2c8c83618d36",
   "metadata": {},
   "outputs": [
    {
     "name": "stdout",
     "output_type": "stream",
     "text": [
      "['Bosch Series 4 Washing Machine', 'Dell XPS 13', 'Iphone 15 Pro', 'KitchenAid Artisan Mixer', 'LG InstaView Refrigerator', 'Samsung Galaxy S24', 'Sony WH-1000XM5']\n"
     ]
    }
   ],
   "source": [
    "distinct_product_names = collection.distinct('name')\n",
    "print(distinct_product_names)"
   ]
  }
 ],
 "metadata": {
  "kernelspec": {
   "display_name": "Python 3 (ipykernel)",
   "language": "python",
   "name": "python3"
  },
  "language_info": {
   "codemirror_mode": {
    "name": "ipython",
    "version": 3
   },
   "file_extension": ".py",
   "mimetype": "text/x-python",
   "name": "python",
   "nbconvert_exporter": "python",
   "pygments_lexer": "ipython3",
   "version": "3.12.4"
  }
 },
 "nbformat": 4,
 "nbformat_minor": 5
}
