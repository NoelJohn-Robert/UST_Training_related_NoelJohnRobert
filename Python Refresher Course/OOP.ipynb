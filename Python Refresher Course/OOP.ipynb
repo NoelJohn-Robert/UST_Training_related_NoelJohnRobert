{
 "cells": [
  {
   "cell_type": "code",
   "execution_count": null,
   "metadata": {},
   "outputs": [],
   "source": [
    "# object is an identifiable component in the real world\n",
    "# it has identity, stante and behavior\n",
    "# clas is blueprint of an object"
   ]
  },
  {
   "cell_type": "code",
   "execution_count": 6,
   "metadata": {},
   "outputs": [
    {
     "name": "stdout",
     "output_type": "stream",
     "text": [
      "Name: a\n",
      "Age: 12\n",
      "DoB: \n",
      "EmailID: \n"
     ]
    }
   ],
   "source": [
    "from datetime import datetime\n",
    "\n",
    "class Person:\n",
    "    def __init__(self, *args):\n",
    "        if len(args) >= 4:\n",
    "            self.name = args[0]\n",
    "            self.age = args[1]\n",
    "            self.dob = args[2]\n",
    "            self.emailId = args[3]\n",
    "        else:\n",
    "            raise ValueError(\"Not enough arguments passed. Expected 4\")\n",
    "    \n",
    "    def display(self):\n",
    "        print(f\"Name: {self.name}\\nAge: {self.age}\\nDoB: {self.dob}\\nEmailID: {self.emailId}\")\n",
    "\n",
    "\n",
    "\n",
    "name = input(\"Enter name: \")\n",
    "age = int(input(\"Enter age: \"))\n",
    "dob = input(\"Enter DoB in dd/mm/yyyy format: \")\n",
    "emailId = input(\"Enter email ID: \")\n",
    "p1 = Person(name, age, dob, emailId)\n",
    "p1.display()"
   ]
  },
  {
   "cell_type": "code",
   "execution_count": 14,
   "metadata": {},
   "outputs": [
    {
     "name": "stdout",
     "output_type": "stream",
     "text": [
      "Brand: BMW\n",
      "Model: M3 GTR\n",
      "Milage: 10KMPL\n",
      "TopSpeed: 230KMPH\n",
      "Color: Matte Black\n"
     ]
    }
   ],
   "source": [
    "# single level INHERITANCE\n",
    "\n",
    "class Vehicle:\n",
    "    def __init__(self, brand, model, milage):\n",
    "        self.brand = brand\n",
    "        self.model = model\n",
    "        self.milage = milage\n",
    "    \n",
    "class Car(Vehicle):\n",
    "    def __init__(self, brand, model, milage, speed, color):\n",
    "        super().__init__(brand, model, milage) # need to use Classname.functionname when using multiple inheritance\n",
    "        self.speed = speed\n",
    "        self.color = color\n",
    "    \n",
    "    def display(self):\n",
    "        print(f\"Brand: {self.brand}\\nModel: {self.model}\\nMilage: {self.milage}\\nTopSpeed: {self.speed}\\nColor: {self.color}\")\n",
    "\n",
    "\n",
    "c1 = Car(\"BMW\", \"M3 GTR\", \"10KMPL\", \"230KMPH\", \"Matte Black\")\n",
    "c1.display()"
   ]
  },
  {
   "cell_type": "code",
   "execution_count": 2,
   "metadata": {},
   "outputs": [
    {
     "name": "stdout",
     "output_type": "stream",
     "text": [
      "admin123 has following permissions: read, write, execute\n"
     ]
    }
   ],
   "source": [
    "# multi-level INHERITANCE\n",
    "class Entity:\n",
    "    def __init__(self, name):\n",
    "        self.name = name\n",
    "\n",
    "class User(Entity):\n",
    "    def __init__(self, name, emailid):\n",
    "        super().__init__(name)\n",
    "        self.emailid = emailid\n",
    "\n",
    "class Admin(User):\n",
    "    def __init__(self, name, emailid, permissions):\n",
    "        super().__init__(name, emailid)\n",
    "        self.permissions = permissions\n",
    "    \n",
    "    def dipslay(self):\n",
    "        return f\"{self.name} has following permissions: {', '.join(self.permissions)}\"\n",
    "\n",
    "\n",
    "admin_obj1 = Admin(\"admin123\", \"admin.123@company.com\", ['read', 'write', 'execute'])\n",
    "print(admin_obj1.dipslay())"
   ]
  },
  {
   "cell_type": "code",
   "execution_count": null,
   "metadata": {},
   "outputs": [],
   "source": [
    "# heirarchial INHERITANCE\n",
    "\n",
    "class Phone:\n",
    "    def __init__(self, brand, model, color):\n",
    "        self.brand = brand\n",
    "        self.model = model\n",
    "\n",
    "class Android(Phone):\n",
    "    def __init__(self, brand, model, color, os, androidversion, processor):\n",
    "        super().__init__(brand, model, color)\n",
    "        self.os = os\n",
    "        self.androidversion = androidversion\n",
    "        self.processor = processor\n",
    "    \n",
    "    def display(self):\n",
    "        return f\"AndroidPhone description:\\nBrand: {self.brand}, Model: {self.model}, Color: {self.color}\\nOS: {self.os}, AndroidVersion: {self.androidversion}, Processor: {self.processor}\\n\"\n",
    "\n",
    "class iOS(Phone):\n",
    "    def __init__(self, brand, model, color, os, iosversion, processor):\n",
    "        super().__init__(brand, model, color)\n",
    "        self.os = os\n",
    "        self.iosversion = iosversion\n",
    "        self.processor = processor\n",
    "    \n",
    "    def display(self):\n",
    "        return f\"iPhone description:\\nBrand: {self.brand}, Model: {self.model}, Color: {self.color}\\nOS: {self.os}, iOSVersion: {self.iosversion}, Processor: {self.processor}\\n\"\n",
    "\n",
    "\n",
    "androidPhone = Android(\"Google\", \"Pixel 8\", \"Obsidian\", \"Android\", \"14\", \"Tensor G3\")\n",
    "print(androidPhone.display())\n",
    "\n"
   ]
  },
  {
   "cell_type": "code",
   "execution_count": 5,
   "metadata": {},
   "outputs": [
    {
     "name": "stdout",
     "output_type": "stream",
     "text": [
      "Brand: TATA, Model: PunchEV\n",
      "WheelCount: 4, Transmission: FWD\n",
      "MaxPower: 120KWH, MaxTorque: 90Nm\n",
      "\n"
     ]
    }
   ],
   "source": [
    "# multilevel inheritance\n",
    "\n",
    "class DriveTrain:\n",
    "    def __init__(self, wheelCount, transmission):\n",
    "        self.wheelCount = wheelCount\n",
    "        self.transmission = transmission\n",
    "    \n",
    "    def display(self):\n",
    "        return f\"WheelCount: {self.wheelCount}, Transmission: {self.transmission}\"\n",
    "\n",
    "class PowerTrain:\n",
    "    def __init__(self, maxPower, maxTorque):\n",
    "        self.maxPower = maxPower\n",
    "        self.maxTorque = maxTorque\n",
    "    \n",
    "    def display(self):\n",
    "        return f\"MaxPower: {self.maxPower}, MaxTorque: {self.maxTorque}\"\n",
    "\n",
    "class Car(DriveTrain, PowerTrain):\n",
    "    def __init__(self, brand, model, wheelCount, transmission, maxPower, maxTorque):\n",
    "        DriveTrain.__init__(self, wheelCount, transmission)\n",
    "        PowerTrain.__init__(self, maxPower, maxTorque)\n",
    "        self.brand = brand\n",
    "        self.model = model\n",
    "    \n",
    "    def display(self):\n",
    "        return f\"Brand: {self.brand}, Model: {self.model}\\n\" + DriveTrain.display(self) + \"\\n\" + PowerTrain.display(self) + \"\\n\"\n",
    "\n",
    "\n",
    "myCar = Car(\"TATA\", \"PunchEV\", \"4\", \"FWD\", \"120KWH\", \"90Nm\")\n",
    "print(myCar.display())\n"
   ]
  },
  {
   "cell_type": "code",
   "execution_count": 8,
   "metadata": {},
   "outputs": [
    {
     "name": "stdout",
     "output_type": "stream",
     "text": [
      "Purchase amount: 10000\n",
      "Debit Card payment of 1000\n"
     ]
    }
   ],
   "source": [
    "# abstraction\n",
    "\n",
    "from abc import ABC, abstractmethod\n",
    "\n",
    "class Bill(ABC):\n",
    "    def print_slip(self, amount):\n",
    "        print(f\"Purchase amount: {amount}\")\n",
    "    \n",
    "    @abstractmethod\n",
    "    def bill(self, amount):\n",
    "        pass\n",
    "\n",
    "\n",
    "class DebitCardPayment(Bill):\n",
    "    # method overriding\n",
    "    def bill(self, amount):\n",
    "        print(f\"Debit Card payment of {amount}\")\n",
    "\n",
    "\n",
    "cardPayment = DebitCardPayment()\n",
    "cardPayment.print_slip(10000)\n",
    "cardPayment.bill(1000)"
   ]
  }
 ],
 "metadata": {
  "kernelspec": {
   "display_name": "Python 3",
   "language": "python",
   "name": "python3"
  },
  "language_info": {
   "codemirror_mode": {
    "name": "ipython",
    "version": 3
   },
   "file_extension": ".py",
   "mimetype": "text/x-python",
   "name": "python",
   "nbconvert_exporter": "python",
   "pygments_lexer": "ipython3",
   "version": "3.12.4"
  }
 },
 "nbformat": 4,
 "nbformat_minor": 2
}
