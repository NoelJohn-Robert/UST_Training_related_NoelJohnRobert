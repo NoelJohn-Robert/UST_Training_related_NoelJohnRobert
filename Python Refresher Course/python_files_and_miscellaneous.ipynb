{
 "cells": [
  {
   "cell_type": "code",
   "execution_count": 6,
   "metadata": {},
   "outputs": [
    {
     "name": "stdout",
     "output_type": "stream",
     "text": [
      "Today's date: 2024-08-09\n",
      "2024-08-09 11:40:49.471772\n",
      "1723183849.471772\n"
     ]
    }
   ],
   "source": [
    "# use datetime package\n",
    "\n",
    "import datetime\n",
    "print(f\"Today's date: {datetime.date.today()}\")\n",
    "print(datetime.datetime.now())\n",
    "print(datetime.datetime.timestamp(datetime.datetime.now()))"
   ]
  },
  {
   "cell_type": "code",
   "execution_count": 7,
   "metadata": {},
   "outputs": [
    {
     "name": "stdout",
     "output_type": "stream",
     "text": [
      "9 8 2024\n"
     ]
    }
   ],
   "source": [
    "today = datetime.datetime.today()\n",
    "print(today.day, today.month, today.year)"
   ]
  },
  {
   "cell_type": "code",
   "execution_count": 18,
   "metadata": {},
   "outputs": [
    {
     "name": "stdout",
     "output_type": "stream",
     "text": [
      "23\n"
     ]
    }
   ],
   "source": [
    "# uses of datetime, examples  -  guess i made a mistake here\n",
    "class Person:\n",
    "    def __init__(self, name, surname, birthdate, address, contact, emailid):\n",
    "        self.name = name\n",
    "        self.surname = surname\n",
    "        self.birthdate = birthdate\n",
    "        self.address = address\n",
    "        self.contact = contact\n",
    "        self.emailid = emailid\n",
    "    \n",
    "\n",
    "    def age(self):\n",
    "        today = datetime.date.today()\n",
    "        age = today.year - self.birthdate.year\n",
    "        if today < datetime.date(self.birthdate.year, self.birthdate.month, self.birthdate.day):\n",
    "            age -= 1\n",
    "        \n",
    "        if age < 0:\n",
    "            return f\"Person not born yet\"\n",
    "\n",
    "        return age\n",
    "\n",
    "person = Person(\"Noel\", \"Robert\", datetime.date(2001, 7, 10), \"UST\", \"contact\", \"email\")\n",
    "print(person.age())\n"
   ]
  },
  {
   "cell_type": "markdown",
   "metadata": {},
   "source": [
    "FILE HANDLING"
   ]
  },
  {
   "cell_type": "code",
   "execution_count": 20,
   "metadata": {},
   "outputs": [
    {
     "data": {
      "text/plain": [
       "\"The modern Olympic Games (OG; or Olympics; French: Jeux olympiques, JO)[a][1] are the leading international sporting events featuring summer and winter sports competitions in which thousands of athletes from around the world participate in a variety of competitions. The Olympic Games are considered the world's foremost sports competition with more than 200 teams, representing sovereign states and territories, participating. By default, the Games generally substitute for any world championships during the year in which they take place (however, each class usually maintains its own records).[2] The Olympic Games are held every four years. Since 1994, they have alternated between the Summer and Winter Olympics every two years during the four-year Olympiad.[3][4]\\n\\nTheir creation was inspired by the ancient Olympic Games, held in Olympia, Greece from the 8th century BC to the 4th century AD. Baron Pierre de Coubertin founded the International Olympic Committee (IOC) in 1894, leading to the first modern Games in Athens in 1896. The IOC is the governing body of the Olympic Movement, which encompasses all entities and individuals involved in the Olympic Games. The Olympic Charter defines their structure and authority.\\n\\nThe evolution of the Olympic Movement during the 20th and 21st centuries has resulted in numerous changes to the Olympic Games. Some of these adjustments include the creation of the Winter Olympic Games for snow and ice sports, the Paralympic Games for athletes with disabilities, the Youth Olympic Games for athletes aged 14 to 18, the five Continental Games (Pan American, African, Asian, European, and Pacific), and the World Games for sports that are not contested in the Olympic Games. The IOC also endorses the Deaflympics and the Special Olympics. The IOC has needed to adapt to a variety of economic, political, and technological advancements. The abuse of amateur rules by the Eastern Bloc nations prompted the IOC to shift away from pure amateurism, as envisioned by Coubertin, to the acceptance of professional athletes participating at the Games. The growing importance of mass media has created the issue of corporate sponsorship and general commercialisation of the Games. World Wars I and II led to the cancellation of the 1916, 1940, and 1944 Olympics; large-scale boycotts during the Cold War limited participation in the 1980 and 1984 Olympics;[5] and the 2020 Olympics were postponed until 2021 as a result of the COVID-19 restrictions.\\n\\nThe Olympic Movement consists of international sports federations (IFs), National Olympic Committees (NOCs), and organising committees for each specific Olympic Games. As the decision-making body, the IOC is responsible for choosing the host city for each Games, and organises and funds the Games according to the Olympic Charter. The IOC also determines the Olympic programme, consisting of the sports to be contested at the Games. There are several Olympic rituals and symbols, such as the Olympic flag, torch, and opening and closing ceremonies. Over 14,000 athletes competed at the 2020 Summer Olympics and 2022 Winter Olympics combined, in 40 different sports and 448 events. The first-, second-, and third-place finishers in each event receive Olympic medals: gold, silver, and bronze, respectively.\\n\\nThe Games have grown to the point that nearly every nation is now represented; colonies and overseas territories are often allowed to field their own teams. This growth has created numerous challenges and controversies, including boycotts, doping, bribery, and terrorism. Every two years, the Olympics and its media exposure provide athletes with the chance to attain national and international fame. The Games also provide an opportunity for the host city and country to showcase themselves to the world.\\n\\nThe Olympic Games have become a significant global event, fostering international cooperation and cultural exchange.[6] At the same time, hosting the Olympic Games can also bring significant economic benefits and challenges to the host city, affecting infrastructure, tourism and local communities.\""
      ]
     },
     "execution_count": 20,
     "metadata": {},
     "output_type": "execute_result"
    }
   ],
   "source": [
    "# open file in default mode, ir read\n",
    "fileobj = open(\"text1.txt\")\n",
    "fileobj.read()"
   ]
  },
  {
   "cell_type": "code",
   "execution_count": 22,
   "metadata": {},
   "outputs": [],
   "source": [
    "fileobj2 = open(\"newText.txt\", \"w\")\n",
    "fileobj2.write(\"Hello there General Kenobi\")\n",
    "fileobj2.close()\n",
    "\n",
    "# this block added content to the file"
   ]
  },
  {
   "cell_type": "code",
   "execution_count": 23,
   "metadata": {},
   "outputs": [],
   "source": [
    "fileobj2 = open(\"newText.txt\", \"w\")\n",
    "fileobj2.close()\n",
    "\n",
    "# this just cleared the previously created file\n",
    "# coz we overwrote"
   ]
  },
  {
   "cell_type": "code",
   "execution_count": 29,
   "metadata": {},
   "outputs": [
    {
     "name": "stdout",
     "output_type": "stream",
     "text": [
      "Hello there General Kenobi\n"
     ]
    }
   ],
   "source": [
    "fileobj2 = open(\"newText.txt\", \"w\")\n",
    "fileobj2.write(\"Hello there General Kenobi\")\n",
    "fileobj2.close()\n",
    "\n",
    "fileobj2 = open(\"newText.txt\", \"r+\")\n",
    "print(fileobj2.read())"
   ]
  },
  {
   "cell_type": "code",
   "execution_count": 30,
   "metadata": {},
   "outputs": [
    {
     "name": "stdout",
     "output_type": "stream",
     "text": [
      "\n"
     ]
    }
   ],
   "source": [
    "print(fileobj2.read())\n",
    "# this does not give any output [assuming you ran previous commands]\n",
    "# coz, cursor is at end\n",
    "# soln, do fileobj2.seek(0)"
   ]
  },
  {
   "cell_type": "code",
   "execution_count": 31,
   "metadata": {},
   "outputs": [
    {
     "name": "stdout",
     "output_type": "stream",
     "text": [
      "\n"
     ]
    }
   ],
   "source": [
    "fileobj2.write(\"Kontent machine\")\n",
    "print(fileobj2.read())\n",
    "\n",
    "\n",
    "# NOTE r+ is read, then write - ie wont work on empty file\n",
    "# w+ is write, then read"
   ]
  },
  {
   "cell_type": "code",
   "execution_count": 33,
   "metadata": {},
   "outputs": [
    {
     "name": "stdout",
     "output_type": "stream",
     "text": [
      "\n",
      "\n"
     ]
    }
   ],
   "source": [
    "fileobj3 = open(\"net.txt\", \"w+\")\n",
    "print(fileobj3.read())     # this giving emply, coz file empty\n",
    "\n",
    "fileobj3.write(\"Kontent written to knew file\")\n",
    "print(fileobj3.read())"
   ]
  },
  {
   "cell_type": "code",
   "execution_count": 39,
   "metadata": {},
   "outputs": [
    {
     "name": "stdout",
     "output_type": "stream",
     "text": [
      "['The', 'modern', 'Olympic', 'Games', '(OG;', 'or', 'Olympics;', 'French:', 'Jeux', 'olympiques,', 'JO)[a][1]', 'are', 'the', 'leading', 'international', 'sporting', 'events', 'featuring', 'summer', 'and', 'winter', 'sports', 'competitions', 'in', 'which', 'thousands', 'of', 'athletes', 'from', 'around', 'the', 'world', 'participate', 'in', 'a', 'variety', 'of', 'competitions.', 'The', 'Olympic', 'Games', 'are', 'considered', 'the', \"world's\", 'foremost', 'sports', 'competition', 'with', 'more', 'than', '200', 'teams,', 'representing', 'sovereign', 'states', 'and', 'territories,', 'participating.', 'By', 'default,', 'the', 'Games', 'generally', 'substitute', 'for', 'any', 'world', 'championships', 'during', 'the', 'year', 'in', 'which', 'they', 'take', 'place', '(however,', 'each', 'class', 'usually', 'maintains', 'its', 'own', 'records).[2]', 'The', 'Olympic', 'Games', 'are', 'held', 'every', 'four', 'years.', 'Since', '1994,', 'they', 'have', 'alternated', 'between', 'the', 'Summer', 'and', 'Winter', 'Olympics', 'every', 'two', 'years', 'during', 'the', 'four-year', 'Olympiad.[3][4]']\n",
      "[]\n",
      "['Their', 'creation', 'was', 'inspired', 'by', 'the', 'ancient', 'Olympic', 'Games,', 'held', 'in', 'Olympia,', 'Greece', 'from', 'the', '8th', 'century', 'BC', 'to', 'the', '4th', 'century', 'AD.', 'Baron', 'Pierre', 'de', 'Coubertin', 'founded', 'the', 'International', 'Olympic', 'Committee', '(IOC)', 'in', '1894,', 'leading', 'to', 'the', 'first', 'modern', 'Games', 'in', 'Athens', 'in', '1896.', 'The', 'IOC', 'is', 'the', 'governing', 'body', 'of', 'the', 'Olympic', 'Movement,', 'which', 'encompasses', 'all', 'entities', 'and', 'individuals', 'involved', 'in', 'the', 'Olympic', 'Games.', 'The', 'Olympic', 'Charter', 'defines', 'their', 'structure', 'and', 'authority.']\n",
      "[]\n",
      "['The', 'evolution', 'of', 'the', 'Olympic', 'Movement', 'during', 'the', '20th', 'and', '21st', 'centuries', 'has', 'resulted', 'in', 'numerous', 'changes', 'to', 'the', 'Olympic', 'Games.', 'Some', 'of', 'these', 'adjustments', 'include', 'the', 'creation', 'of', 'the', 'Winter', 'Olympic', 'Games', 'for', 'snow', 'and', 'ice', 'sports,', 'the', 'Paralympic', 'Games', 'for', 'athletes', 'with', 'disabilities,', 'the', 'Youth', 'Olympic', 'Games', 'for', 'athletes', 'aged', '14', 'to', '18,', 'the', 'five', 'Continental', 'Games', '(Pan', 'American,', 'African,', 'Asian,', 'European,', 'and', 'Pacific),', 'and', 'the', 'World', 'Games', 'for', 'sports', 'that', 'are', 'not', 'contested', 'in', 'the', 'Olympic', 'Games.', 'The', 'IOC', 'also', 'endorses', 'the', 'Deaflympics', 'and', 'the', 'Special', 'Olympics.', 'The', 'IOC', 'has', 'needed', 'to', 'adapt', 'to', 'a', 'variety', 'of', 'economic,', 'political,', 'and', 'technological', 'advancements.', 'The', 'abuse', 'of', 'amateur', 'rules', 'by', 'the', 'Eastern', 'Bloc', 'nations', 'prompted', 'the', 'IOC', 'to', 'shift', 'away', 'from', 'pure', 'amateurism,', 'as', 'envisioned', 'by', 'Coubertin,', 'to', 'the', 'acceptance', 'of', 'professional', 'athletes', 'participating', 'at', 'the', 'Games.', 'The', 'growing', 'importance', 'of', 'mass', 'media', 'has', 'created', 'the', 'issue', 'of', 'corporate', 'sponsorship', 'and', 'general', 'commercialisation', 'of', 'the', 'Games.', 'World', 'Wars', 'I', 'and', 'II', 'led', 'to', 'the', 'cancellation', 'of', 'the', '1916,', '1940,', 'and', '1944', 'Olympics;', 'large-scale', 'boycotts', 'during', 'the', 'Cold', 'War', 'limited', 'participation', 'in', 'the', '1980', 'and', '1984', 'Olympics;[5]', 'and', 'the', '2020', 'Olympics', 'were', 'postponed', 'until', '2021', 'as', 'a', 'result', 'of', 'the', 'COVID-19', 'restrictions.']\n",
      "[]\n",
      "['The', 'Olympic', 'Movement', 'consists', 'of', 'international', 'sports', 'federations', '(IFs),', 'National', 'Olympic', 'Committees', '(NOCs),', 'and', 'organising', 'committees', 'for', 'each', 'specific', 'Olympic', 'Games.', 'As', 'the', 'decision-making', 'body,', 'the', 'IOC', 'is', 'responsible', 'for', 'choosing', 'the', 'host', 'city', 'for', 'each', 'Games,', 'and', 'organises', 'and', 'funds', 'the', 'Games', 'according', 'to', 'the', 'Olympic', 'Charter.', 'The', 'IOC', 'also', 'determines', 'the', 'Olympic', 'programme,', 'consisting', 'of', 'the', 'sports', 'to', 'be', 'contested', 'at', 'the', 'Games.', 'There', 'are', 'several', 'Olympic', 'rituals', 'and', 'symbols,', 'such', 'as', 'the', 'Olympic', 'flag,', 'torch,', 'and', 'opening', 'and', 'closing', 'ceremonies.', 'Over', '14,000', 'athletes', 'competed', 'at', 'the', '2020', 'Summer', 'Olympics', 'and', '2022', 'Winter', 'Olympics', 'combined,', 'in', '40', 'different', 'sports', 'and', '448', 'events.', 'The', 'first-,', 'second-,', 'and', 'third-place', 'finishers', 'in', 'each', 'event', 'receive', 'Olympic', 'medals:', 'gold,', 'silver,', 'and', 'bronze,', 'respectively.']\n",
      "[]\n",
      "['The', 'Games', 'have', 'grown', 'to', 'the', 'point', 'that', 'nearly', 'every', 'nation', 'is', 'now', 'represented;', 'colonies', 'and', 'overseas', 'territories', 'are', 'often', 'allowed', 'to', 'field', 'their', 'own', 'teams.', 'This', 'growth', 'has', 'created', 'numerous', 'challenges', 'and', 'controversies,', 'including', 'boycotts,', 'doping,', 'bribery,', 'and', 'terrorism.', 'Every', 'two', 'years,', 'the', 'Olympics', 'and', 'its', 'media', 'exposure', 'provide', 'athletes', 'with', 'the', 'chance', 'to', 'attain', 'national', 'and', 'international', 'fame.', 'The', 'Games', 'also', 'provide', 'an', 'opportunity', 'for', 'the', 'host', 'city', 'and', 'country', 'to', 'showcase', 'themselves', 'to', 'the', 'world.']\n",
      "[]\n",
      "['The', 'Olympic', 'Games', 'have', 'become', 'a', 'significant', 'global', 'event,', 'fostering', 'international', 'cooperation', 'and', 'cultural', 'exchange.[6]', 'At', 'the', 'same', 'time,', 'hosting', 'the', 'Olympic', 'Games', 'can', 'also', 'bring', 'significant', 'economic', 'benefits', 'and', 'challenges', 'to', 'the', 'host', 'city,', 'affecting', 'infrastructure,', 'tourism', 'and', 'local', 'communities.']\n"
     ]
    }
   ],
   "source": [
    "# using 'with' to open files\n",
    "\n",
    "with open(\"text1.txt\", \"r\") as file:\n",
    "    data = file.readlines()\n",
    "    for line in data:\n",
    "        word = line.split()\n",
    "        print(word)"
   ]
  },
  {
   "cell_type": "code",
   "execution_count": 40,
   "metadata": {},
   "outputs": [
    {
     "name": "stdout",
     "output_type": "stream",
     "text": [
      "[4, 16, 36, 64, 100]\n"
     ]
    }
   ],
   "source": [
    "# list comprehension\n",
    "\n",
    "list_1 = [x**2 for x in range(1, 11) if x%2==0]\n",
    "print(list_1)"
   ]
  }
 ],
 "metadata": {
  "kernelspec": {
   "display_name": "Python 3",
   "language": "python",
   "name": "python3"
  },
  "language_info": {
   "codemirror_mode": {
    "name": "ipython",
    "version": 3
   },
   "file_extension": ".py",
   "mimetype": "text/x-python",
   "name": "python",
   "nbconvert_exporter": "python",
   "pygments_lexer": "ipython3",
   "version": "3.12.4"
  }
 },
 "nbformat": 4,
 "nbformat_minor": 2
}
