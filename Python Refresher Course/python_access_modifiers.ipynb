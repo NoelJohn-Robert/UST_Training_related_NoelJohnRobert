{
 "cells": [
  {
   "cell_type": "code",
   "execution_count": null,
   "metadata": {},
   "outputs": [],
   "source": [
    "# access modifiers\n",
    "# public, provate and protected\n",
    "\n",
    "\n",
    "# public is accessible anywhere\n",
    "# protected can be accessed by subclass and superclass\n",
    "# private not visible outside class\n",
    "\n",
    "# private has underscore underscore\n",
    "# protected is single underscore"
   ]
  },
  {
   "cell_type": "code",
   "execution_count": 1,
   "metadata": {},
   "outputs": [
    {
     "name": "stdout",
     "output_type": "stream",
     "text": [
      "Employee name: person\n",
      "Employee department: department\n"
     ]
    }
   ],
   "source": [
    "# protected access modifier\n",
    "class Employee:\n",
    "    _name = None\n",
    "    _department = None\n",
    "\n",
    "    def __init__(self, name, department):\n",
    "        self._name = name\n",
    "        self._department = department\n",
    "    \n",
    "    def _display(self):\n",
    "        print(f\"Employee name: {self._name}\")\n",
    "        print(f\"Employee department: {self._department}\")\n",
    "\n",
    "class EmployeeDetails(Employee):\n",
    "    def __init__(self, name, department):\n",
    "        Employee.__init__(self, name, department)\n",
    "    \n",
    "    def displayDetails(self):\n",
    "        self._display()\n",
    "\n",
    "obj = EmployeeDetails(\"person\", \"department\")\n",
    "obj.displayDetails()"
   ]
  },
  {
   "cell_type": "code",
   "execution_count": 3,
   "metadata": {},
   "outputs": [
    {
     "ename": "AttributeError",
     "evalue": "'EmployeeDetails' object has no attribute '_EmployeeDetails__display'",
     "output_type": "error",
     "traceback": [
      "\u001b[1;31m---------------------------------------------------------------------------\u001b[0m",
      "\u001b[1;31mAttributeError\u001b[0m                            Traceback (most recent call last)",
      "Cell \u001b[1;32mIn[3], line 22\u001b[0m\n\u001b[0;32m     19\u001b[0m         \u001b[38;5;28mself\u001b[39m\u001b[38;5;241m.\u001b[39m__display()\n\u001b[0;32m     21\u001b[0m obj \u001b[38;5;241m=\u001b[39m EmployeeDetails(\u001b[38;5;124m\"\u001b[39m\u001b[38;5;124mperson\u001b[39m\u001b[38;5;124m\"\u001b[39m, \u001b[38;5;124m\"\u001b[39m\u001b[38;5;124mdepartment\u001b[39m\u001b[38;5;124m\"\u001b[39m)\n\u001b[1;32m---> 22\u001b[0m \u001b[43mobj\u001b[49m\u001b[38;5;241;43m.\u001b[39;49m\u001b[43mdisplayDetails\u001b[49m\u001b[43m(\u001b[49m\u001b[43m)\u001b[49m\n",
      "Cell \u001b[1;32mIn[3], line 19\u001b[0m, in \u001b[0;36mEmployeeDetails.displayDetails\u001b[1;34m(self)\u001b[0m\n\u001b[0;32m     18\u001b[0m \u001b[38;5;28;01mdef\u001b[39;00m \u001b[38;5;21mdisplayDetails\u001b[39m(\u001b[38;5;28mself\u001b[39m):\n\u001b[1;32m---> 19\u001b[0m     \u001b[38;5;28;43mself\u001b[39;49m\u001b[38;5;241;43m.\u001b[39;49m\u001b[43m__display\u001b[49m()\n",
      "\u001b[1;31mAttributeError\u001b[0m: 'EmployeeDetails' object has no attribute '_EmployeeDetails__display'"
     ]
    }
   ],
   "source": [
    "# private access modifier\n",
    "class Employee:\n",
    "    __name = None\n",
    "    __department = None\n",
    "\n",
    "    def __init__(self, name, department):\n",
    "        self.__name = name\n",
    "        self.__department = department\n",
    "    \n",
    "    def __display(self):\n",
    "        print(f\"Employee name: {self.__name}\")\n",
    "        print(f\"Employee department: {self.__department}\")\n",
    "\n",
    "class EmployeeDetails(Employee):\n",
    "    def __init__(self, name, department):\n",
    "        Employee.__init__(self, name, department)\n",
    "    \n",
    "    def displayDetails(self):\n",
    "        self.__display()\n",
    "\n",
    "obj = EmployeeDetails(\"person\", \"department\")\n",
    "obj.displayDetails()\n",
    "# we get error coz __display() in Employee class is private\n"
   ]
  }
 ],
 "metadata": {
  "kernelspec": {
   "display_name": "Python 3",
   "language": "python",
   "name": "python3"
  },
  "language_info": {
   "codemirror_mode": {
    "name": "ipython",
    "version": 3
   },
   "file_extension": ".py",
   "mimetype": "text/x-python",
   "name": "python",
   "nbconvert_exporter": "python",
   "pygments_lexer": "ipython3",
   "version": "3.12.4"
  }
 },
 "nbformat": 4,
 "nbformat_minor": 2
}
