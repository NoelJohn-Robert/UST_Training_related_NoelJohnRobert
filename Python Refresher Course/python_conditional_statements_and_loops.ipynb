{
 "cells": [
  {
   "cell_type": "code",
   "execution_count": null,
   "metadata": {},
   "outputs": [],
   "source": [
    "# 3 types of loops\n",
    "# - count controlled [for item in range()]\n",
    "# - collection controlled [for item in list]\n",
    "# - condition controlled [while]"
   ]
  },
  {
   "cell_type": "code",
   "execution_count": 1,
   "metadata": {},
   "outputs": [
    {
     "name": "stdout",
     "output_type": "stream",
     "text": [
      "0\n",
      "2\n",
      "4\n",
      "6\n",
      "8\n",
      "10\n",
      "12\n",
      "14\n",
      "16\n",
      "18\n",
      "20\n",
      "22\n",
      "24\n"
     ]
    }
   ],
   "source": [
    "condition = 0\n",
    "while condition <= 12:\n",
    "    print(2 * condition)\n",
    "    condition += 1"
   ]
  },
  {
   "cell_type": "code",
   "execution_count": 2,
   "metadata": {},
   "outputs": [
    {
     "name": "stdout",
     "output_type": "stream",
     "text": [
      "10\n",
      "11\n",
      "12\n",
      "13\n",
      "14\n",
      "15\n",
      "16\n",
      "17\n",
      "18\n",
      "19\n",
      "20\n"
     ]
    }
   ],
   "source": [
    "for num in range(10, 21):\n",
    "    print(num)"
   ]
  },
  {
   "cell_type": "code",
   "execution_count": 3,
   "metadata": {},
   "outputs": [
    {
     "name": "stdout",
     "output_type": "stream",
     "text": [
      "1\n",
      "3\n",
      "2\n",
      "5\n",
      "7\n",
      "3\n",
      "8\n"
     ]
    }
   ],
   "source": [
    "list_1 = [1, 3, 2, 5, 7 ,3, 8]\n",
    "for num in list_1:\n",
    "    print(num)"
   ]
  },
  {
   "cell_type": "code",
   "execution_count": 5,
   "metadata": {},
   "outputs": [
    {
     "name": "stdout",
     "output_type": "stream",
     "text": [
      "['False', 'None', 'True', 'and', 'as', 'assert', 'async', 'await', 'break', 'class', 'continue', 'def', 'del', 'elif', 'else', 'except', 'finally', 'for', 'from', 'global', 'if', 'import', 'in', 'is', 'lambda', 'nonlocal', 'not', 'or', 'pass', 'raise', 'return', 'try', 'while', 'with', 'yield']\n"
     ]
    }
   ],
   "source": [
    "import keyword\n",
    "print(keyword.kwlist)"
   ]
  },
  {
   "cell_type": "code",
   "execution_count": 6,
   "metadata": {},
   "outputs": [
    {
     "name": "stdout",
     "output_type": "stream",
     "text": [
      "<class 'list'>\n"
     ]
    }
   ],
   "source": [
    "print(type(list_1))"
   ]
  },
  {
   "cell_type": "code",
   "execution_count": null,
   "metadata": {},
   "outputs": [],
   "source": [
    "# clear contents in a list\n",
    "list_1.clear()\n",
    "\n",
    "# delete a pytohn object\n",
    "del(list_1)"
   ]
  },
  {
   "cell_type": "code",
   "execution_count": 1,
   "metadata": {},
   "outputs": [
    {
     "name": "stdout",
     "output_type": "stream",
     "text": [
      "['H', 'o', 'w', ' ', 'a', 'r', 'e', ' ', 'y', 'o', 'u', ' ', 'd', 'o', 'i', 'n', 'g', ' ', 't', 'o', 'd', 'a', 'y', '?']\n"
     ]
    }
   ],
   "source": [
    "statement = \"How are you doing today?\"\n",
    "list_val = []\n",
    "for letter in statement:\n",
    "    # print(letter)\n",
    "    list_val.append(letter)\n",
    "print(list_val)"
   ]
  },
  {
   "cell_type": "code",
   "execution_count": 3,
   "metadata": {},
   "outputs": [
    {
     "name": "stdout",
     "output_type": "stream",
     "text": [
      "Both are same age\n"
     ]
    }
   ],
   "source": [
    "# conditional statements\n",
    "brothers_age = int(input(\"Enter brother's age: \"))\n",
    "sisters_age = int(input(\"Enter sister's age: \"))\n",
    "\n",
    "if brothers_age > sisters_age:\n",
    "    print(\"Brother is elder\")\n",
    "elif sisters_age > brothers_age:\n",
    "    print(\"Sister is elder\")\n",
    "else:\n",
    "    print(\"Both are same age\")"
   ]
  },
  {
   "cell_type": "code",
   "execution_count": 4,
   "metadata": {},
   "outputs": [
    {
     "name": "stdout",
     "output_type": "stream",
     "text": [
      "Login successful! Welcome onboard\n",
      "Invalid choice, choose option as 'login' or 'quit'!!!\n",
      "Exiting from program. Goodbye\n"
     ]
    }
   ],
   "source": [
    "# create a login access using loop and condition\n",
    "while True:\n",
    "    choice = input(\"Choose an option: \")\n",
    "    if choice == 'login':\n",
    "        username = input(\"Enter username: \")\n",
    "        password = input(\"Enter password: \")\n",
    "        if username=='admin' and password=='pass@word':\n",
    "            print(\"Login successful! Welcome onboard\")\n",
    "        else:\n",
    "            print(\"Incorrect credentials, try again!!!\")\n",
    "    elif choice == 'quit':\n",
    "        print(\"Exiting from program. Goodbye\")\n",
    "        break\n",
    "    else:\n",
    "        print(\"Invalid choice, choose option as 'login' or 'quit'!!!\")"
   ]
  },
  {
   "cell_type": "code",
   "execution_count": 6,
   "metadata": {},
   "outputs": [
    {
     "name": "stdout",
     "output_type": "stream",
     "text": [
      "Kochi\n",
      "Trivandrum\n",
      "Pala\n",
      "Kottayam\n",
      "Vizag\n"
     ]
    }
   ],
   "source": [
    "# break and continue\n",
    "cities = [\"Kochi\", \"Trivandrum\", None, \"Pala\", None, \"Kottayam\", \"Vizag\"]\n",
    "\n",
    "for item in cities:\n",
    "    if item is None:\n",
    "        continue\n",
    "    print(item)\n"
   ]
  }
 ],
 "metadata": {
  "kernelspec": {
   "display_name": "Python 3",
   "language": "python",
   "name": "python3"
  },
  "language_info": {
   "codemirror_mode": {
    "name": "ipython",
    "version": 3
   },
   "file_extension": ".py",
   "mimetype": "text/x-python",
   "name": "python",
   "nbconvert_exporter": "python",
   "pygments_lexer": "ipython3",
   "version": "3.12.4"
  }
 },
 "nbformat": 4,
 "nbformat_minor": 2
}
