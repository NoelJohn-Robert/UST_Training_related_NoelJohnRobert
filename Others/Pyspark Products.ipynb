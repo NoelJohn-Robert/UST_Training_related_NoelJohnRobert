{
  "cells": [
    {
      "cell_type": "code",
      "source": [
        "sc"
      ],
      "outputs": [
        {
          "output_type": "display_data",
          "data": {
            "application/vnd.livy.statement-meta+json": {
              "spark_pool": "sparkpool1noel",
              "statement_id": 2,
              "statement_ids": [
                2
              ],
              "state": "finished",
              "livy_statement_state": "available",
              "spark_jobs": null,
              "session_id": "0",
              "normalized_state": "finished",
              "queued_time": "2024-09-19T06:40:22.5364216Z",
              "session_start_time": "2024-09-19T06:40:22.5763041Z",
              "execution_start_time": "2024-09-19T06:43:27.2860944Z",
              "execution_finish_time": "2024-09-19T06:43:27.4544632Z",
              "parent_msg_id": "991fa81b-c8ae-4d30-bb9a-e525636b53e2"
            },
            "text/plain": "StatementMeta(sparkpool1noel, 0, 2, Finished, Available, Finished)"
          },
          "metadata": {}
        },
        {
          "output_type": "execute_result",
          "execution_count": 5,
          "data": {
            "text/plain": "<SparkContext master=yarn appName=Notebook 1_sparkpool1noel_1726728022>",
            "text/html": "\n        <div>\n            <p><b>SparkContext</b></p>\n\n            <p><a href=\"https://web.azuresynapse.net/sparkui/ab3c722f-c277-40a4-830f-699a5fdf55ff/workspaces/azuresynapse-noel/sparkpools/sparkpool1noel/sessions/0/applications/application_1726728096718_0001\">Spark UI</a></p>\n\n            <dl>\n              <dt>Version</dt>\n                <dd><code>v3.4.3.5.3.20240828.1</code></dd>\n              <dt>Master</dt>\n                <dd><code>yarn</code></dd>\n              <dt>AppName</dt>\n                <dd><code>Notebook 1_sparkpool1noel_1726728022</code></dd>\n            </dl>\n        </div>\n        "
          },
          "metadata": {}
        }
      ],
      "execution_count": 1,
      "metadata": {}
    },
    {
      "cell_type": "code",
      "source": [
        "spark"
      ],
      "outputs": [
        {
          "output_type": "display_data",
          "data": {
            "application/vnd.livy.statement-meta+json": {
              "spark_pool": "sparkpool1noel",
              "statement_id": 3,
              "statement_ids": [
                3
              ],
              "state": "finished",
              "livy_statement_state": "available",
              "spark_jobs": null,
              "session_id": "0",
              "normalized_state": "finished",
              "queued_time": "2024-09-19T06:44:30.4529169Z",
              "session_start_time": null,
              "execution_start_time": "2024-09-19T06:44:30.5993008Z",
              "execution_finish_time": "2024-09-19T06:44:30.7624947Z",
              "parent_msg_id": "04b76c29-62ea-40e9-ad29-8ad127d3c558"
            },
            "text/plain": "StatementMeta(sparkpool1noel, 0, 3, Finished, Available, Finished)"
          },
          "metadata": {}
        },
        {
          "output_type": "execute_result",
          "execution_count": 7,
          "data": {
            "text/plain": "<pyspark.sql.session.SparkSession at 0x742a9d2faef0>",
            "text/html": "\n            <div>\n                <p><b>SparkSession - hive</b></p>\n                \n        <div>\n            <p><b>SparkContext</b></p>\n\n            <p><a href=\"https://web.azuresynapse.net/sparkui/ab3c722f-c277-40a4-830f-699a5fdf55ff/workspaces/azuresynapse-noel/sparkpools/sparkpool1noel/sessions/0/applications/application_1726728096718_0001\">Spark UI</a></p>\n\n            <dl>\n              <dt>Version</dt>\n                <dd><code>v3.4.3.5.3.20240828.1</code></dd>\n              <dt>Master</dt>\n                <dd><code>yarn</code></dd>\n              <dt>AppName</dt>\n                <dd><code>Notebook 1_sparkpool1noel_1726728022</code></dd>\n            </dl>\n        </div>\n        \n            </div>\n        "
          },
          "metadata": {}
        }
      ],
      "execution_count": 2,
      "metadata": {
        "jupyter": {
          "source_hidden": false,
          "outputs_hidden": false
        },
        "nteract": {
          "transient": {
            "deleting": false
          }
        }
      }
    },
    {
      "cell_type": "code",
      "source": [
        "products_df = spark.read.load(\"abfss://products@datalakefilesytem.dfs.core.windows.net/products.csv\", format=\"csv\", inferSchema=True, header=True, sep=\"\\t\")"
      ],
      "outputs": [
        {
          "output_type": "display_data",
          "data": {
            "application/vnd.livy.statement-meta+json": {
              "spark_pool": "sparkpool1noel",
              "statement_id": 5,
              "statement_ids": [
                5
              ],
              "state": "finished",
              "livy_statement_state": "available",
              "spark_jobs": null,
              "session_id": "0",
              "normalized_state": "finished",
              "queued_time": "2024-09-19T06:50:24.3881833Z",
              "session_start_time": null,
              "execution_start_time": "2024-09-19T06:50:24.5098467Z",
              "execution_finish_time": "2024-09-19T06:50:43.6824757Z",
              "parent_msg_id": "b89f8d1f-d007-4725-9ee2-4c1b7878d281"
            },
            "text/plain": "StatementMeta(sparkpool1noel, 0, 5, Finished, Available, Finished)"
          },
          "metadata": {}
        }
      ],
      "execution_count": 4,
      "metadata": {
        "jupyter": {
          "source_hidden": false,
          "outputs_hidden": false
        },
        "nteract": {
          "transient": {
            "deleting": false
          }
        }
      }
    },
    {
      "cell_type": "code",
      "source": [
        "products_df"
      ],
      "outputs": [
        {
          "output_type": "display_data",
          "data": {
            "application/vnd.livy.statement-meta+json": {
              "spark_pool": "sparkpool1noel",
              "statement_id": 6,
              "statement_ids": [
                6
              ],
              "state": "finished",
              "livy_statement_state": "available",
              "spark_jobs": null,
              "session_id": "0",
              "normalized_state": "finished",
              "queued_time": "2024-09-19T06:51:07.0963518Z",
              "session_start_time": null,
              "execution_start_time": "2024-09-19T06:51:07.2272726Z",
              "execution_finish_time": "2024-09-19T06:51:07.4005455Z",
              "parent_msg_id": "c5836607-5add-49b5-982f-86ac856d119a"
            },
            "text/plain": "StatementMeta(sparkpool1noel, 0, 6, Finished, Available, Finished)"
          },
          "metadata": {}
        },
        {
          "output_type": "execute_result",
          "execution_count": 13,
          "data": {
            "text/plain": "DataFrame[ProductID: int, ProductName: string, Category: string, ListPrice: double]"
          },
          "metadata": {}
        }
      ],
      "execution_count": 5,
      "metadata": {
        "jupyter": {
          "source_hidden": false,
          "outputs_hidden": false
        },
        "nteract": {
          "transient": {
            "deleting": false
          }
        }
      }
    },
    {
      "cell_type": "code",
      "source": [
        "products_df.createOrReplaceTempView('productsData')"
      ],
      "outputs": [
        {
          "output_type": "display_data",
          "data": {
            "application/vnd.livy.statement-meta+json": {
              "spark_pool": "sparkpool1noel",
              "statement_id": 7,
              "statement_ids": [
                7
              ],
              "state": "finished",
              "livy_statement_state": "available",
              "spark_jobs": null,
              "session_id": "0",
              "normalized_state": "finished",
              "queued_time": "2024-09-19T06:53:44.5474386Z",
              "session_start_time": null,
              "execution_start_time": "2024-09-19T06:53:44.6923075Z",
              "execution_finish_time": "2024-09-19T06:53:44.863278Z",
              "parent_msg_id": "8b4a16a2-03bb-4d4b-a88b-d70f608ce67d"
            },
            "text/plain": "StatementMeta(sparkpool1noel, 0, 7, Finished, Available, Finished)"
          },
          "metadata": {}
        }
      ],
      "execution_count": 6,
      "metadata": {
        "jupyter": {
          "source_hidden": false,
          "outputs_hidden": false
        },
        "nteract": {
          "transient": {
            "deleting": false
          }
        }
      }
    },
    {
      "cell_type": "code",
      "source": [
        "spark.sql(\"\"\"\r\n",
        "    SELECT Category, COUNT(*) AS category_count\r\n",
        "    FROM productsData\r\n",
        "    GROUP BY Category\r\n",
        "    ORDER BY category_count DESC\r\n",
        "\"\"\").show()"
      ],
      "outputs": [
        {
          "output_type": "display_data",
          "data": {
            "application/vnd.livy.statement-meta+json": {
              "spark_pool": "sparkpool1noel",
              "statement_id": 10,
              "statement_ids": [
                10
              ],
              "state": "finished",
              "livy_statement_state": "available",
              "spark_jobs": null,
              "session_id": "0",
              "normalized_state": "finished",
              "queued_time": "2024-09-19T06:56:28.9967372Z",
              "session_start_time": null,
              "execution_start_time": "2024-09-19T06:56:29.1368777Z",
              "execution_finish_time": "2024-09-19T06:56:30.2357677Z",
              "parent_msg_id": "bfe902ed-2605-4944-abe3-d8367d73d9a1"
            },
            "text/plain": "StatementMeta(sparkpool1noel, 0, 10, Finished, Available, Finished)"
          },
          "metadata": {}
        },
        {
          "output_type": "stream",
          "name": "stdout",
          "text": [
            "+-----------------+--------------+\n|         Category|category_count|\n+-----------------+--------------+\n|       Road Bikes|            43|\n|      Road Frames|            33|\n|   Mountain Bikes|            32|\n|  Mountain Frames|            28|\n|    Touring Bikes|            22|\n|   Touring Frames|            18|\n|           Wheels|            14|\n|  Tires and Tubes|            11|\n|          Saddles|             9|\n|          Jerseys|             8|\n|       Handlebars|             8|\n|           Pedals|             7|\n|           Shorts|             7|\n|           Gloves|             6|\n|            Socks|             4|\n|         Headsets|             3|\n|  Bottom Brackets|             3|\n|Bottles and Cages|             3|\n|            Forks|             3|\n|            Vests|             3|\n+-----------------+--------------+\nonly showing top 20 rows\n\n"
          ]
        }
      ],
      "execution_count": 9,
      "metadata": {
        "jupyter": {
          "source_hidden": false,
          "outputs_hidden": false
        },
        "nteract": {
          "transient": {
            "deleting": false
          }
        }
      }
    },
    {
      "cell_type": "code",
      "source": [
        "products_df.show()"
      ],
      "outputs": [
        {
          "output_type": "display_data",
          "data": {
            "application/vnd.livy.statement-meta+json": {
              "spark_pool": "sparkpool1noel",
              "statement_id": 12,
              "statement_ids": [
                12
              ],
              "state": "finished",
              "livy_statement_state": "available",
              "spark_jobs": null,
              "session_id": "0",
              "normalized_state": "finished",
              "queued_time": "2024-09-19T06:59:39.2276518Z",
              "session_start_time": null,
              "execution_start_time": "2024-09-19T06:59:39.4338181Z",
              "execution_finish_time": "2024-09-19T06:59:39.9833072Z",
              "parent_msg_id": "09545c02-af3c-4e62-8ba6-3e5f6d4b598c"
            },
            "text/plain": "StatementMeta(sparkpool1noel, 0, 12, Finished, Available, Finished)"
          },
          "metadata": {}
        },
        {
          "output_type": "stream",
          "name": "stdout",
          "text": [
            "+---------+--------------------+--------------+---------+\n|ProductID|         ProductName|      Category|ListPrice|\n+---------+--------------------+--------------+---------+\n|      771|Mountain-100 Silv...|Mountain Bikes|  3399.99|\n|      772|Mountain-100 Silv...|Mountain Bikes|  3399.99|\n|      773|Mountain-100 Silv...|Mountain Bikes|  3399.99|\n|      774|Mountain-100 Silv...|Mountain Bikes|  3399.99|\n|      775|Mountain-100 Blac...|Mountain Bikes|  3374.99|\n|      776|Mountain-100 Blac...|Mountain Bikes|  3374.99|\n|      777|Mountain-100 Blac...|Mountain Bikes|  3374.99|\n|      778|Mountain-100 Blac...|Mountain Bikes|  3374.99|\n|      779|Mountain-200 Silv...|Mountain Bikes|  2319.99|\n|      780|Mountain-200 Silv...|Mountain Bikes|  2319.99|\n|      781|Mountain-200 Silv...|Mountain Bikes|  2319.99|\n|      782|Mountain-200 Blac...|Mountain Bikes|  2294.99|\n|      783|Mountain-200 Blac...|Mountain Bikes|  2294.99|\n|      784|Mountain-200 Blac...|Mountain Bikes|  2294.99|\n|      785|Mountain-300 Blac...|Mountain Bikes|  1079.99|\n|      786|Mountain-300 Blac...|Mountain Bikes|  1079.99|\n|      787|Mountain-300 Blac...|Mountain Bikes|  1079.99|\n|      788|Mountain-300 Blac...|Mountain Bikes|  1079.99|\n|      980|Mountain-400-W Si...|Mountain Bikes|   769.49|\n|      981|Mountain-400-W Si...|Mountain Bikes|   769.49|\n+---------+--------------------+--------------+---------+\nonly showing top 20 rows\n\n"
          ]
        }
      ],
      "execution_count": 11,
      "metadata": {
        "jupyter": {
          "source_hidden": false,
          "outputs_hidden": false
        },
        "nteract": {
          "transient": {
            "deleting": false
          }
        }
      }
    },
    {
      "cell_type": "code",
      "source": [],
      "outputs": [],
      "execution_count": null,
      "metadata": {
        "jupyter": {
          "source_hidden": false,
          "outputs_hidden": false
        },
        "nteract": {
          "transient": {
            "deleting": false
          }
        }
      }
    }
  ],
  "metadata": {
    "language_info": {
      "name": "python"
    },
    "kernelspec": {
      "name": "synapse_pyspark",
      "language": "Python",
      "display_name": "Synapse PySpark"
    },
    "kernel_info": {
      "name": "synapse_pyspark"
    },
    "save_output": true,
    "synapse_widget": {
      "version": "0.1",
      "state": {}
    }
  },
  "nbformat": 4,
  "nbformat_minor": 2
}