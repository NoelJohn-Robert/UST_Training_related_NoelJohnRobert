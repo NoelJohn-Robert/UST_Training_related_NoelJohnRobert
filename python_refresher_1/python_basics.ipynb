{
 "cells": [
  {
   "cell_type": "code",
   "execution_count": 1,
   "metadata": {},
   "outputs": [
    {
     "name": "stdout",
     "output_type": "stream",
     "text": [
      "['1', 2, 'B']\n",
      "[3]\n"
     ]
    }
   ],
   "source": [
    "# list declaration methods\n",
    "list_L1 = ['1', 2, \"B\"]\n",
    "print(list_L1)\n",
    "\n",
    "list_L2 = list()\n",
    "list_L2.append(3)\n",
    "print(list_L2)"
   ]
  },
  {
   "cell_type": "code",
   "execution_count": 5,
   "metadata": {},
   "outputs": [
    {
     "name": "stdout",
     "output_type": "stream",
     "text": [
      "{'a': 1, 'b': 2}\n",
      "{'a': 1, 'b': 2}\n",
      "{'a': 1, 'b': 2}\n"
     ]
    }
   ],
   "source": [
    "# dictionary declaration methods\n",
    "dict_D1 = {\"a\":1, \"b\":2}\n",
    "print(dict_D1)\n",
    "\n",
    "dict_D2 = dict()\n",
    "dict_D2[\"a\"] = 1\n",
    "dict_D2[\"b\"] = 2\n",
    "print(dict_D2)\n",
    "\n",
    "list_keys = [\"a\", \"b\"]\n",
    "list_values = [1, 2]\n",
    "dict_D3 = {key:value for key, value in zip(list_keys, list_values)}\n",
    "print(dict_D3)"
   ]
  },
  {
   "cell_type": "code",
   "execution_count": 4,
   "metadata": {},
   "outputs": [
    {
     "name": "stdout",
     "output_type": "stream",
     "text": [
      "Start index position of python in the string is: 8\n",
      "a-b-c-d\n"
     ]
    }
   ],
   "source": [
    "str1 = \"This is Python string. We are Learning Python Programming\"\n",
    "\n",
    "str1 = str1.lower() # also like, str1 = str.lower(str1)\n",
    "print(f\"Start index position of python in the string is: {str1.find('python')}\")\n",
    "\n",
    "list_L1 = [\"a\", \"b\", \"c\", \"d\"]\n",
    "print(\"-\".join(list_L1))"
   ]
  },
  {
   "cell_type": "code",
   "execution_count": 9,
   "metadata": {},
   "outputs": [
    {
     "name": "stdout",
     "output_type": "stream",
     "text": [
      "Number: 8\n"
     ]
    }
   ],
   "source": [
    "take_a_input = int(input(\"Enter an integer number: \"))\n",
    "print(f\"Number: {take_a_input}\")"
   ]
  },
  {
   "cell_type": "code",
   "execution_count": 11,
   "metadata": {},
   "outputs": [
    {
     "name": "stdout",
     "output_type": "stream",
     "text": [
      "Hello there\n",
      "(' Hello', ' ', 'there')\n"
     ]
    }
   ],
   "source": [
    "sentence = \" Hello there\"\n",
    "print(sentence.lstrip())\n",
    "\n",
    "# partition sentence by delimiters\n",
    "print(sentence.rpartition(\" \"))"
   ]
  },
  {
   "cell_type": "code",
   "execution_count": 1,
   "metadata": {},
   "outputs": [
    {
     "name": "stdout",
     "output_type": "stream",
     "text": [
      "['Hello', 'Python', 'we', 'are', 'learning', 'lists', 'and', 'other', 'data', 'structures']\n",
      "['Hello', 'Python', 'we', 'are', 'learning', 'lists', 'and']\n",
      "['Hello', 'Python', 'we', 'are', 'learning', 'lists', 'and', 'other', 'data', 'structures']\n",
      "['Hello', 'Python', 'we', 'are', 'learning', 'lists', 'and', 'data']\n"
     ]
    }
   ],
   "source": [
    "list_1 = []\n",
    "list_2 = list()\n",
    "list_2 = [\"Hello\", \"Python\", \"we\", \"are\", \"learning\", \"lists\"]\n",
    "\n",
    "#shallow copy - only content copied\n",
    "list_3 = list_2.copy()\n",
    "list_3.append(\"and\")\n",
    "\n",
    "# deep copy - content and reference copied\n",
    "list_4 = list_2\n",
    "list_2.append(\"and\")\n",
    "list_2.append(\"other\")\n",
    "list_2.append(\"data\")\n",
    "list_2.append(\"structures\")\n",
    "\n",
    "print(list_2)\n",
    "print(list_3)\n",
    "print(list_4)\n",
    "\n",
    "list_4.pop()\n",
    "list_4.pop(-2)\n",
    "print(list_4)\n"
   ]
  },
  {
   "cell_type": "code",
   "execution_count": null,
   "metadata": {},
   "outputs": [],
   "source": [
    "# tuples\n",
    "# they iterate faster compared to list\n",
    "# coz, list manages 2 memories[index and content], vs tuples who manage only one[content]"
   ]
  },
  {
   "cell_type": "code",
   "execution_count": 17,
   "metadata": {},
   "outputs": [
    {
     "name": "stdout",
     "output_type": "stream",
     "text": [
      "{'A', 'C'}\n",
      "{'G', 'I', 'J'}\n",
      "{'O', 'P', 'A', 'Q', 'H', 'B', 'D', 'F', 'C', 'E'}\n",
      "{'O', 'P', 'A', 'Q', 'I', 'J', 'C', 'G'}\n"
     ]
    }
   ],
   "source": [
    "# sets\n",
    "# - unordered collection of data, hence no indexes\n",
    "# - no indexes\n",
    "# empty sets declared as set_1 = set()\n",
    "\n",
    "set_1 = {\"A\", \"B\", \"C\", \"D\", \"E\", \"F\", \"H\", \"A\"}\n",
    "set_2 = {\"B\", \"D\", \"E\", \"F\", \"G\", \"H\", \"I\", \"J\"}\n",
    "set_3 = {\"H\", \"I\", \"J\", \"K\", \"L\", \"M\", \"N\", \"O\"}\n",
    "print(set_1.difference(set_2))\n",
    "print(set_2.difference(set_1))\n",
    "\n",
    "\n",
    "# pop() inj nsets will remove a random value\n",
    "\n",
    "set_1.update({\"O\", \"P\", \"Q\"})\n",
    "print(set_1)\n",
    "\n",
    "# union of difference - elements present in either sets, but not in both\n",
    "print(set_1.symmetric_difference(set_2))\n",
    "\n",
    "\n",
    "# intersection - common between both sets"
   ]
  },
  {
   "cell_type": "code",
   "execution_count": 4,
   "metadata": {},
   "outputs": [
    {
     "name": "stdout",
     "output_type": "stream",
     "text": [
      "{'Kochi': 20, 'Trivandrum': 20, 'Pala': 20, 'Kottayam': 20, 'Vizag': 20}\n",
      "{'Kochi': 5, 'Trivandrum': 2, 'Pala': 6, 'Kottayam': 9, 'Vizag': 2}\n",
      "{'kochi': 5, 'Trivandrum': 2, 'Pala': 6, 'Kottayam': 9, 'Vizag': 2}\n",
      "kochi 5\n",
      "Trivandrum 2\n",
      "Pala 6\n",
      "Kottayam 9\n",
      "Vizag 2\n"
     ]
    }
   ],
   "source": [
    "# dictionary\n",
    "dict_1 = {}  # empty dict\n",
    "dict_1 = {\"A\": \"Apple\", \"B\": \"Blueberry\", \"C\": \"Coconut\", \"D\": \"Donut\"}\n",
    "\n",
    "# list_temp = [\"Africa\", \"Belarus\", \"Cincinati\", \"Denmark\"]\n",
    "\n",
    "# dict_2 = {\"Ahmedabad\":7, \"Chennai\": 12, \"Delhi\": 5, \"Mumbai\": 2, \"Pune\": 1}\n",
    "cities = [\"Kochi\", \"Trivandrum\", \"Pala\", \"Kottayam\", \"Vizag\"]\n",
    "employees = [5, 2, 6, 9, 2]\n",
    "dict_2 = dict.fromkeys(cities, 20)\n",
    "print(dict_2)\n",
    "\n",
    "# dict_3 = dict.fromkeys(dict_2, employees)\n",
    "# print(dict_3)\n",
    "# print(dict_1.fromkeys((cities, employees)))\n",
    "print(dict(zip(cities, employees)))\n",
    "\n",
    "\n",
    "dict.items(dict_2)\n",
    "\n",
    "\n",
    "dict_3 = dict([(\"kochi\", 5), (\"Trivandrum\", 2), (\"Pala\", 6), (\"Kottayam\", 9), (\"Vizag\", 2)])\n",
    "print(dict_3)\n",
    "\n",
    "\n",
    "\n",
    "for key, value in dict_3.items():\n",
    "    print(key, value)"
   ]
  },
  {
   "cell_type": "code",
   "execution_count": 5,
   "metadata": {},
   "outputs": [
    {
     "name": "stdout",
     "output_type": "stream",
     "text": [
      "(2, 'Kochi')\n",
      "(3, 'Trivandrum')\n",
      "(4, 'Pala')\n",
      "(5, 'Kottayam')\n",
      "(6, 'Vizag')\n",
      "\n",
      "6 Kochi\n",
      "7 Trivandrum\n",
      "8 Pala\n",
      "9 Kottayam\n",
      "10 Vizag\n",
      "\n",
      "0, kochi, 5\n",
      "1, Trivandrum, 2\n",
      "2, Pala, 6\n",
      "3, Kottayam, 9\n",
      "4, Vizag, 2\n",
      "\n"
     ]
    }
   ],
   "source": [
    "# enumerate example\n",
    "cities = [\"Kochi\", \"Trivandrum\", \"Pala\", \"Kottayam\", \"Vizag\"]\n",
    "for item in enumerate(cities, start=2):\n",
    "    print(item)\n",
    "print()\n",
    "\n",
    "for key, value in enumerate(cities, start=6):\n",
    "    print(key, value)\n",
    "print()\n",
    "\n",
    "for index, key in enumerate(dict_3):\n",
    "    print(f\"{index}, {key}, {dict_3[key]}\")\n",
    "print()"
   ]
  },
  {
   "cell_type": "code",
   "execution_count": null,
   "metadata": {},
   "outputs": [],
   "source": []
  }
 ],
 "metadata": {
  "kernelspec": {
   "display_name": "Python 3",
   "language": "python",
   "name": "python3"
  },
  "language_info": {
   "codemirror_mode": {
    "name": "ipython",
    "version": 3
   },
   "file_extension": ".py",
   "mimetype": "text/x-python",
   "name": "python",
   "nbconvert_exporter": "python",
   "pygments_lexer": "ipython3",
   "version": "3.12.4"
  }
 },
 "nbformat": 4,
 "nbformat_minor": 2
}
