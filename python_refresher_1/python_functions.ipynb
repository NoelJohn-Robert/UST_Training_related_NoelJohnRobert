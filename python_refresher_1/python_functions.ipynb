{
 "cells": [
  {
   "cell_type": "code",
   "execution_count": null,
   "metadata": {},
   "outputs": [],
   "source": [
    "# 3 types of functions - "
   ]
  },
  {
   "cell_type": "code",
   "execution_count": 2,
   "metadata": {},
   "outputs": [
    {
     "data": {
      "text/plain": [
       "'Hello, how are you doing today?'"
      ]
     },
     "execution_count": 2,
     "metadata": {},
     "output_type": "execute_result"
    }
   ],
   "source": [
    "# 1. user defined  -  [two parts, declaratiion and greeting]\n",
    "def greeting():\n",
    "    return \"Hello, how are you doing today?\"\n",
    "\n",
    "greeting()"
   ]
  },
  {
   "cell_type": "code",
   "execution_count": null,
   "metadata": {},
   "outputs": [],
   "source": [
    "# 2. inbuilt function\n",
    "# ---soo many"
   ]
  },
  {
   "cell_type": "code",
   "execution_count": 1,
   "metadata": {},
   "outputs": [
    {
     "data": {
      "text/plain": [
       "24"
      ]
     },
     "execution_count": 1,
     "metadata": {},
     "output_type": "execute_result"
    }
   ],
   "source": [
    "# 3. lambda functions, anonymous function coz it doesnt need names + single line function\n",
    "multiplier = lambda x: x*2\n",
    "multiplier(12)"
   ]
  },
  {
   "cell_type": "code",
   "execution_count": null,
   "metadata": {},
   "outputs": [],
   "source": [
    "# map(), filter() and reduce()\n",
    "# map(function, iterable)\n",
    "\n",
    "# - map converts each value to something else\n",
    "# - filter needs a condition to check\n",
    "# - reduce is like aggregatuion function"
   ]
  },
  {
   "cell_type": "code",
   "execution_count": 2,
   "metadata": {},
   "outputs": [
    {
     "name": "stdout",
     "output_type": "stream",
     "text": [
      "[1, 4, 9, 16, 25]\n"
     ]
    }
   ],
   "source": [
    "# map() using lambda function\n",
    "\n",
    "square = lambda x: x**2\n",
    "input_list = [1, 2, 3, 4, 5]\n",
    "\n",
    "result_list = list(map(square, input_list))\n",
    "print(result_list)"
   ]
  },
  {
   "cell_type": "code",
   "execution_count": 5,
   "metadata": {},
   "outputs": [
    {
     "name": "stdout",
     "output_type": "stream",
     "text": [
      "[2, 4, 6, 8]\n"
     ]
    }
   ],
   "source": [
    "# filter() using lambda functions\n",
    "\n",
    "check = lambda x: x%2==0\n",
    "input_list = [1, 2, 3, 4, 5, 6, 7, 8, 9]\n",
    "result_list = list(filter(check, input_list))\n",
    "print(result_list)"
   ]
  },
  {
   "cell_type": "code",
   "execution_count": 6,
   "metadata": {},
   "outputs": [
    {
     "name": "stdout",
     "output_type": "stream",
     "text": [
      "45\n"
     ]
    }
   ],
   "source": [
    "# reduce() using lambda function\n",
    "\n",
    "\n",
    "from functools import reduce\n",
    "\n",
    "input_list = [1, 2, 3, 4, 5, 6, 7, 8, 9]\n",
    "adder = lambda x, y: x+y\n",
    "result = reduce(adder, input_list)\n",
    "print(result)"
   ]
  },
  {
   "cell_type": "code",
   "execution_count": 51,
   "metadata": {},
   "outputs": [
    {
     "name": "stdout",
     "output_type": "stream",
     "text": [
      "Product: gaming_console, Revenue: 35000\n",
      "Product: iphone, Revenue: 220000\n",
      "Product: mouse, Revenue: 500\n",
      "Product: smart_tv, Revenue: 75000\n",
      "Product: laptop, Revenue: 140000\n",
      "\n",
      "Top Selling product: iphone, with revenue: 220000\n"
     ]
    }
   ],
   "source": [
    "# create a function and apply it on reduce() to return aggregate sales data\n",
    "# find total product sold + total revenue generated\n",
    "\n",
    "from functools import reduce\n",
    "\n",
    "sales = [{'Product': 'laptop', 'amount': 50000},\n",
    "         {'Product': 'iphone', 'amount': 150000},\n",
    "         {'Product': 'smart_tv', 'amount': 75000},\n",
    "         {'Product': 'gaming_console', 'amount': 35000},\n",
    "         {'Product': 'mouse', 'amount': 500},\n",
    "         {'Product': 'iphone', 'amount': 70000},\n",
    "         {'Product': 'laptop', 'amount': 90000},\n",
    "         ]\n",
    "\n",
    "# # # ---accumulate total sales for each product\n",
    "# def accumulate(accumulator, transaction):\n",
    "#     product = transaction['Product']\n",
    "#     amount = transaction['amount']\n",
    "#     accumulator[product] += amount\n",
    "#     return accumulator\n",
    "\n",
    "# from functools import reduce\n",
    "# from collections import defaultdict\n",
    "\n",
    "# # reduce(function, iterable, initializer) - initializer is to initialize starting value\n",
    "# total_sales = reduce(accumulate, sales, defaultdict(int))\n",
    "# for key, value in total_sales.items():\n",
    "#     print(f\"Product: {key}, Revenue: {value}\")\n",
    "# print()\n",
    "\n",
    "\n",
    "# above commented code was given by trainer, which seems more difficult - and below is mine [provides same output]\n",
    "item_set = {item['Product'] for item in sales}\n",
    "adder = lambda x, y: x['amount']+y['amount']\n",
    "\n",
    "# ---accumulate total sales for each product\n",
    "total_sales = {}\n",
    "for item in item_set:\n",
    "    find_product = lambda x: x['Product']==item\n",
    "\n",
    "    item_list = list(filter(find_product, sales))\n",
    "    if len(item_list) == 1:\n",
    "        revenue = item_list[0]['amount']\n",
    "    else:\n",
    "        revenue = reduce(adder, item_list)\n",
    "    total_sales[item] = revenue\n",
    "    # print(f\"{item}: {revenue}\")\n",
    "for key, value in total_sales.items():\n",
    "    print(f\"Product: {key}, Revenue: {value}\")\n",
    "print()\n",
    "\n",
    "\n",
    "# # ---find top selling product and top selling revenue - ie product that brought in most revenue\n",
    "top_selling_product = max(total_sales, key=total_sales.get)\n",
    "top_selling_revenue = total_sales[top_selling_product]\n",
    "\n",
    "print(f\"Top Selling product: {top_selling_product}, with revenue: {top_selling_revenue}\")\n"
   ]
  },
  {
   "cell_type": "code",
   "execution_count": 80,
   "metadata": {},
   "outputs": [
    {
     "name": "stdout",
     "output_type": "stream",
     "text": [
      "9\n",
      "9\n",
      "\n",
      "ind 2\n",
      "val 4\n",
      "flag -r\n",
      "ind 2\n",
      "val 4\n",
      "flag -r\n"
     ]
    }
   ],
   "source": [
    "# *args & **kwargs\n",
    "\n",
    "def function1(*args):\n",
    "    total_sum = sum(args)\n",
    "    return total_sum\n",
    "\n",
    "def function2(**kwargs):\n",
    "    for key, value in kwargs.items():\n",
    "        print(key, value)\n",
    "    \n",
    "\n",
    "num_list = [1, 3, 5]\n",
    "print(function1(*num_list))\n",
    "print(function1(1, 3, 5))\n",
    "print()\n",
    "\n",
    "arg_list = {'ind':2, 'val':4, 'flag':'-r'}\n",
    "function2(**arg_list)\n",
    "function2(ind=2, val=4, flag='-r')"
   ]
  }
 ],
 "metadata": {
  "kernelspec": {
   "display_name": "Python 3",
   "language": "python",
   "name": "python3"
  },
  "language_info": {
   "codemirror_mode": {
    "name": "ipython",
    "version": 3
   },
   "file_extension": ".py",
   "mimetype": "text/x-python",
   "name": "python",
   "nbconvert_exporter": "python",
   "pygments_lexer": "ipython3",
   "version": "3.12.4"
  }
 },
 "nbformat": 4,
 "nbformat_minor": 2
}
