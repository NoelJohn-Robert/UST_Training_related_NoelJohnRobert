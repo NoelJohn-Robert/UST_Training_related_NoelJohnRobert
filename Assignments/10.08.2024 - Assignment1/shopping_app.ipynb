{
 "cells": [
  {
   "cell_type": "code",
   "execution_count": null,
   "metadata": {},
   "outputs": [],
   "source": [
    "# action 1 - create file"
   ]
  },
  {
   "cell_type": "code",
   "execution_count": 1,
   "metadata": {},
   "outputs": [
    {
     "name": "stdout",
     "output_type": "stream",
     "text": [
      "Welcome to Demo Marketplace\n",
      "<class 'dict'>\n"
     ]
    }
   ],
   "source": [
    "# action 2, 3\n",
    "\n",
    "print(\"Welcome to Demo Marketplace\")\n",
    "\n",
    "user_db = {}\n",
    "admin_db = {}"
   ]
  },
  {
   "cell_type": "code",
   "execution_count": null,
   "metadata": {},
   "outputs": [],
   "source": [
    "# action 4\n",
    "\n",
    "def user_login():\n",
    "    username_user = input(\"Please enter user's username: \")\n",
    "    password_user = input(\"Please input user's password: \")\n",
    "\n",
    "    if username_user not in user_db:\n",
    "        print(\"Login failed!!, You dont have an account\")\n",
    "        return\n",
    "    \n",
    "    if user_db[username_user] == password_user:\n",
    "        print(\"Login Successful as user\")\n",
    "    else:\n",
    "        print(\"Login failed!! Password incorrect\")\n"
   ]
  },
  {
   "cell_type": "code",
   "execution_count": null,
   "metadata": {},
   "outputs": [],
   "source": [
    "# action 5 +13 \n",
    "\n",
    "def admin_login():\n",
    "    username_admin = input(\"Please enter admin's username: \")\n",
    "    password_admin = input(\"Please input admin's password: \")\n",
    "\n",
    "    if username_admin not in admin_db:\n",
    "        print(\"Login failed!!, You dont have an account\")\n",
    "        return\n",
    "    \n",
    "    if admin_db[username_admin] == password_admin:\n",
    "        print(\"Login Successful as user\")\n",
    "    else:\n",
    "        print(\"Login failed!! Password incorrect\")\n"
   ]
  },
  {
   "cell_type": "code",
   "execution_count": null,
   "metadata": {},
   "outputs": [],
   "source": [
    "# action 6\n",
    "\n",
    "def generate_session_id():\n",
    "    return 12345\n"
   ]
  },
  {
   "cell_type": "code",
   "execution_count": null,
   "metadata": {},
   "outputs": [],
   "source": [
    "# action 7, 15\n",
    "\n",
    "login_type = input(\"Do you want to login as [user] or [admin]?: \")\n",
    "\n",
    "if login_type.lower() == \"admin\":\n",
    "    admin_login()\n",
    "elif login_type.lower() == \"user\":\n",
    "    user_login()\n",
    "else:\n",
    "    print(\"Your login option is incorrect!!\")\n"
   ]
  },
  {
   "cell_type": "code",
   "execution_count": null,
   "metadata": {},
   "outputs": [],
   "source": [
    "# action 8\n",
    "\n",
    "catalog = [{}, {}, {}]\n",
    "    "
   ]
  },
  {
   "cell_type": "code",
   "execution_count": null,
   "metadata": {},
   "outputs": [],
   "source": [
    "# action 9\n",
    "\n",
    "def display_catalog():\n",
    "    print(\"ID\\t\\tNAME\\t\\tCATEGORY\\t\\tPRICE\")\n",
    "    for product in catalog:\n",
    "        for value in product.values():\n",
    "            print(f\"{value}\", end='\\t\\t')\n",
    "        print()\n"
   ]
  },
  {
   "cell_type": "code",
   "execution_count": null,
   "metadata": {},
   "outputs": [],
   "source": [
    "# action 10\n",
    "\n",
    "cart = []\n",
    "\n",
    "def display_cart():\n",
    "    print(\"SESSION ID\\t\\tPRODUCT ID\\t\\tQUANTITY\")\n",
    "    for item in cart:\n",
    "        for value in item.values():\n",
    "            print(f\"{value}\", end='\\t\\t')\n",
    "        print()\n",
    "\n",
    "def add_to_cart(sessionid, productid, quantity):\n",
    "    new_item = {'sessionid':sessionid, 'productid':productid, 'quantity':quantity}\n",
    "    cart.append(new_item)\n",
    "    print(\"A new item has been added\\n\")\n",
    "\n",
    "def delete_from_cart(sessionid, productid):\n",
    "    for item in cart:\n",
    "        if item['sessionid']==sessionid and item['productid']==productid: \n",
    "            cart.remove(item)\n",
    "            print(\"An item has ben successfully removed form your cart!\")\n",
    "            print()\n"
   ]
  },
  {
   "cell_type": "code",
   "execution_count": null,
   "metadata": {},
   "outputs": [],
   "source": [
    "# action 11\n",
    "\n",
    "while True:\n",
    "    print(\"Options:\\n [1]View cart\\n [2]Add to cart\\n [3]Delete from cart\\n [4]Log out! \")\n",
    "    choice = int(input(\"enter your choice: \"))\n",
    "    if choice == 1:\n",
    "        display_cart()\n",
    "    elif choice == 2:\n",
    "        add_to_cart()\n",
    "    elif choice == 3:\n",
    "        delete_from_cart()\n",
    "    elif choice == 4:\n",
    "        # log out how??\n",
    "        print(\"Logging you out!!\")\n",
    "        break\n",
    "    else:\n",
    "        print(\"You have entered an icorrect option, please try again!!\")\n"
   ]
  },
  {
   "cell_type": "code",
   "execution_count": null,
   "metadata": {},
   "outputs": [],
   "source": [
    "# action 12\n",
    "\n",
    "def checkout():\n",
    "    print(\"Select payment option:\\n [1]NetBanking\\n [2]PayPal\")\n",
    "    checkout_choice = int(input(\"plesae enter your choice: \"))\n",
    "    if checkout_choice == 1:\n",
    "        print(\"You will be shortly redirected to the portal to make a payment of $20.\\n\")\n",
    "    elif checkout_choice == 2:\n",
    "        print(\"You will be shortly redirected to the portal to make a payment of $20.\\n\")\n",
    "    else:\n",
    "        print(\"You have entered an incorrect choice for payment!!\")\n"
   ]
  },
  {
   "cell_type": "code",
   "execution_count": null,
   "metadata": {},
   "outputs": [],
   "source": [
    "# action 14\n",
    "\n",
    "def catalog_add_product():\n",
    "    pass\n",
    "\n",
    "def catalog_update_product():\n",
    "    pass\n",
    "\n",
    "def catalog_view_product():\n",
    "    display_catalog()\n",
    "\n",
    "\n",
    "def admin_func():\n",
    "    print(\"Options:\\n [1]Add product to catalog\\n [2]Update existing product info\\n [3]View catalog\")\n",
    "    admin_action_choice = input(\"Enter your choice: \")\n",
    "    if admin_action_choice == 1:\n",
    "        catalog_add_product()\n",
    "    elif admin_action_choice == 2:\n",
    "        catalog_update_product()\n",
    "    elif admin_action_choice == 3:\n",
    "        catalog_view_product()\n",
    "    else:\n",
    "        print(\"The choice you have entered is incorrect, please try again!\")\n"
   ]
  },
  {
   "cell_type": "code",
   "execution_count": null,
   "metadata": {},
   "outputs": [],
   "source": [
    "# action 16\n",
    "\n",
    "# run???    "
   ]
  }
 ],
 "metadata": {
  "kernelspec": {
   "display_name": "Python 3",
   "language": "python",
   "name": "python3"
  },
  "language_info": {
   "codemirror_mode": {
    "name": "ipython",
    "version": 3
   },
   "file_extension": ".py",
   "mimetype": "text/x-python",
   "name": "python",
   "nbconvert_exporter": "python",
   "pygments_lexer": "ipython3",
   "version": "3.12.4"
  }
 },
 "nbformat": 4,
 "nbformat_minor": 2
}
