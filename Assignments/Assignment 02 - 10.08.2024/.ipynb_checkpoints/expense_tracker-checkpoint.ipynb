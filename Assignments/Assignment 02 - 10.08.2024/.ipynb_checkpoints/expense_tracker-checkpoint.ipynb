{
 "cells": [
  {
   "cell_type": "markdown",
   "id": "8ffdd879-479e-4a5b-96df-30a96ff52b74",
   "metadata": {},
   "source": [
    "## Assignment 2 – Expense Tracker Using Python"
   ]
  },
  {
   "cell_type": "code",
   "execution_count": 3,
   "id": "e10a754c-ff19-44c5-9471-66cfa0d65cb8",
   "metadata": {},
   "outputs": [
    {
     "name": "stdin",
     "output_type": "stream",
     "text": [
      "Enter username:  user1\n",
      "Enter password:  password1\n"
     ]
    },
    {
     "name": "stdout",
     "output_type": "stream",
     "text": [
      "Successfully authenticated\n",
      "Options:\n",
      "1. Add new expense\n",
      "2. Update existing expense\n",
      "3. Delete an expense\n",
      "4. Display all expenses\n",
      "5. Generate summary report\n",
      "6. Exit application\n"
     ]
    },
    {
     "name": "stdin",
     "output_type": "stream",
     "text": [
      "\n",
      "Please input choice:  1\n",
      "Enter date in DD/MM/YYYY:  06/04/2024\n",
      "Enter new category:  food\n",
      "Enter description:  pizza\n",
      "Enter amount [float datatype]:  563\n"
     ]
    },
    {
     "name": "stdout",
     "output_type": "stream",
     "text": [
      "New expense added\n"
     ]
    },
    {
     "name": "stdin",
     "output_type": "stream",
     "text": [
      "\n",
      "Please input choice:  1\n",
      "Enter date in DD/MM/YYYY:  07/04/2024\n",
      "Enter new category:  clothes\n",
      "Enter description:  shirt\n",
      "Enter amount [float datatype]:  673\n"
     ]
    },
    {
     "name": "stdout",
     "output_type": "stream",
     "text": [
      "New expense added\n"
     ]
    },
    {
     "name": "stdin",
     "output_type": "stream",
     "text": [
      "\n",
      "Please input choice:  1\n",
      "Enter date in DD/MM/YYYY:  07/04/2024\n",
      "Enter new category:  clothes\n",
      "Enter description:  pants\n",
      "Enter amount [float datatype]:  590\n"
     ]
    },
    {
     "name": "stdout",
     "output_type": "stream",
     "text": [
      "New expense added\n"
     ]
    },
    {
     "name": "stdin",
     "output_type": "stream",
     "text": [
      "\n",
      "Please input choice:  4\n"
     ]
    },
    {
     "name": "stdout",
     "output_type": "stream",
     "text": [
      "ID\tDATE\tCATEGORY\tDESCRIPTION\tAMOUNT\n",
      "expense_id:397, date:06/04/2024, category:food, description:pizza, amount:563.0\n",
      "expense_id:970, date:07/04/2024, category:clothes, description:shirt, amount:673.0\n",
      "expense_id:198, date:07/04/2024, category:clothes, description:pants, amount:590.0\n"
     ]
    },
    {
     "name": "stdin",
     "output_type": "stream",
     "text": [
      "\n",
      "Please input choice:  5\n"
     ]
    },
    {
     "name": "stdout",
     "output_type": "stream",
     "text": [
      "Category wise expense:\n",
      "food: 563.0\n",
      "clothes: 1263.0\n",
      "Sum of all expenses: 1826.0\n"
     ]
    },
    {
     "name": "stdin",
     "output_type": "stream",
     "text": [
      "\n",
      "Please input choice:  6\n"
     ]
    },
    {
     "name": "stdout",
     "output_type": "stream",
     "text": [
      "Exiting application\n"
     ]
    }
   ],
   "source": [
    "import random\n",
    "\n",
    "\n",
    "class Expense:\n",
    "    def __init__(self, expense_id, date, category, description, amount):\n",
    "        self.expense_id = expense_id\n",
    "        self.date = date\n",
    "        self.category = category\n",
    "        self.description = description\n",
    "        self.amount = amount\n",
    "    \n",
    "    def __str__(self):\n",
    "        return f\"expense_id:{self.expense_id}, date:{self.date}, category:{self.category}, description:{self.description}, amount:{self.amount}\"\n",
    "\n",
    "\n",
    "\n",
    "# 3.\n",
    "# empty list to store expenses\n",
    "expenses = []\n",
    "\n",
    "# function to add new expenses\n",
    "def add_expense(expense):\n",
    "    expenses.append(expense)\n",
    "\n",
    "# function to update existing expenses\n",
    "def update_expense(expense_id, new_expense):\n",
    "    for item in expenses:\n",
    "        if item.expense_id == expense_id:\n",
    "            item.date = new_expense.date\n",
    "            item.category = new_expense.category\n",
    "            item.description = new_expense.description\n",
    "            item.amount = new_expense.amount\n",
    "\n",
    "# function to delete some existing expense\n",
    "def delete_expense(expense_id):\n",
    "    found = False\n",
    "    for item in expenses:\n",
    "        if item.expense_id == expense_id:\n",
    "            expenses.remove(item)\n",
    "            found = True\n",
    "    if found==False:\n",
    "        print(\"Specified expense_id not found\")\n",
    "    else:\n",
    "        print(\"Expense deleted\")\n",
    "\n",
    "# function to display all expenses\n",
    "def display_expenses():\n",
    "    print(\"ID\\tDATE\\tCATEGORY\\tDESCRIPTION\\tAMOUNT\")\n",
    "    for item in expenses:\n",
    "        print(item)\n",
    "\n",
    "\n",
    "\n",
    "# 4. - dictionary storing username and password for authentication\n",
    "users = {'user1':'password1', 'user2':'password2'}\n",
    "\n",
    "# function to perform authentication\n",
    "def authenticate_user(username, password):\n",
    "    if username not in users:\n",
    "        print(\"User not found\")\n",
    "        return False\n",
    "    \n",
    "    if users[username] == password:\n",
    "        print(\"Successfully authenticated\")\n",
    "        return True\n",
    "    else:\n",
    "        print(\"Incorrect password\")\n",
    "        return False\n",
    "\n",
    "\n",
    "\n",
    "# 5. function to split expenses based on category\n",
    "def categorize_expenses():\n",
    "    categories = {}\n",
    "    for expense in expenses:\n",
    "        category_temp = (expense.category).lower()\n",
    "        if category_temp in categories:\n",
    "            categories[category_temp] += float(expense.amount)\n",
    "        else:\n",
    "            categories[category_temp] = float(expense.amount)\n",
    "    return categories\n",
    "\n",
    "\n",
    "def summarize_expenses():\n",
    "    total = 0\n",
    "    for expense in expenses:\n",
    "        total += float(expense.amount)\n",
    "    return total\n",
    "\n",
    "\n",
    "\n",
    "# 6. functino to find total expense\n",
    "def calculate_total_expenses():\n",
    "    total_sum = summarize_expenses()\n",
    "    return total_sum\n",
    "\n",
    "# function to create a summary\n",
    "def generate_summary_report():\n",
    "    category_wise_expense = categorize_expenses()\n",
    "    print(\"Category wise expense:\")\n",
    "    for item, amount in category_wise_expense.items():\n",
    "        print(f\"{item}: {amount}\")\n",
    "    print(f\"Sum of all expenses: {calculate_total_expenses()}\")\n",
    "\n",
    "\n",
    "\n",
    "# generate a unique 3-digit expense ID\n",
    "def generate_expense_id():\n",
    "    new_unique_id = 0\n",
    "    while True:\n",
    "        new_unique_id = random.randint(100, 999)\n",
    "        new_unique_id_possible = True\n",
    "        for expense in expenses:\n",
    "            if new_unique_id == expense.expense_id:\n",
    "                new_unique_id_possible = False\n",
    "                break\n",
    "        if new_unique_id_possible:\n",
    "            return new_unique_id\n",
    "\n",
    "\n",
    "# 7 - function that creates interface for user to interact with\n",
    "def cli():\n",
    "    print(\"Options:\")\n",
    "    print(\"1. Add new expense\")\n",
    "    print(\"2. Update existing expense\")\n",
    "    print(\"3. Delete an expense\")\n",
    "    print(\"4. Display all expenses\")\n",
    "    print(\"5. Generate summary report\")\n",
    "    print(\"6. Exit application\")\n",
    "    \n",
    "    while True:\n",
    "        user_choice = int(input(\"\\nPlease input choice: \"))\n",
    "        if user_choice == 1:\n",
    "            expense_id_new_input = generate_expense_id()\n",
    "            date_new_input = input(\"Enter date in DD/MM/YYYY: \")\n",
    "            category_new_input = input(\"Enter new category: \")\n",
    "            description_new_input = input(\"Enter description: \")\n",
    "            amount_new_input = float(input(\"Enter amount [float datatype]: \"))\n",
    "            new_expense = Expense(expense_id_new_input, date_new_input, category_new_input, description_new_input, amount_new_input)\n",
    "            add_expense(new_expense)\n",
    "            print(\"New expense added\")\n",
    "        elif user_choice == 2:\n",
    "            expense_id_to_modify = int(input(\"Enter expense id to modify: \"))\n",
    "            date_modify_input = input(\"Enter date in DD/MM/YYYY: \")\n",
    "            category_modify_input = input(\"Enter new category: \")\n",
    "            description_modify_input = input(\"Enter description: \")\n",
    "            amount_modify_input = float(input(\"Enter amount [float datatype]: \"))\n",
    "            modified_expense = Expense(expense_id_to_modify, date_modify_input, category_modify_input, description_modify_input, amount_modify_input)\n",
    "            update_expense(expense_id_to_modify, modified_expense)\n",
    "        elif user_choice == 3:\n",
    "            expense_id_to_delete = int(input(\"Enter expense_id to be deleted: \"))\n",
    "            delete_expense(expense_id_to_delete)\n",
    "        elif user_choice == 4:\n",
    "            display_expenses()\n",
    "        elif user_choice == 5:\n",
    "            generate_summary_report()\n",
    "        elif user_choice == 6:\n",
    "            print(\"Exiting application\")\n",
    "            return\n",
    "        else:\n",
    "            print(\"Incorrect choice, retry!!\")\n",
    "\n",
    "\n",
    "\n",
    "# main code, entry point into program\n",
    "username_input = input(\"Enter username: \")\n",
    "password_input = input(\"Enter password: \")\n",
    "if authenticate_user(username_input, password_input):\n",
    "    cli()\n"
   ]
  }
 ],
 "metadata": {
  "kernelspec": {
   "display_name": "Python 3 (ipykernel)",
   "language": "python",
   "name": "python3"
  },
  "language_info": {
   "codemirror_mode": {
    "name": "ipython",
    "version": 3
   },
   "file_extension": ".py",
   "mimetype": "text/x-python",
   "name": "python",
   "nbconvert_exporter": "python",
   "pygments_lexer": "ipython3",
   "version": "3.12.4"
  }
 },
 "nbformat": 4,
 "nbformat_minor": 5
}
