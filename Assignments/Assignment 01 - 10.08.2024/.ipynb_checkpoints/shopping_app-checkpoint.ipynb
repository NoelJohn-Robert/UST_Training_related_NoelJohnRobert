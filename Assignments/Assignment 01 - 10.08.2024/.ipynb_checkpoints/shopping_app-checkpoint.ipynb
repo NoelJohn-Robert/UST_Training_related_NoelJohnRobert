{
 "cells": [
  {
   "cell_type": "markdown",
   "metadata": {},
   "source": [
    "## Assignment 1 - Creating a Shopping App Using Python\n"
   ]
  },
  {
   "cell_type": "code",
   "execution_count": null,
   "metadata": {},
   "outputs": [
    {
     "name": "stdout",
     "output_type": "stream",
     "text": [
      "Welcome to Demo Marketplace\n"
     ]
    },
    {
     "name": "stdin",
     "output_type": "stream",
     "text": [
      "\n",
      "Do you want to login as [user] or [admin]? [press q to quit]:  user\n",
      "Please enter user's username:  user1\n",
      "Please input user's password:  user1pwd\n"
     ]
    },
    {
     "name": "stdout",
     "output_type": "stream",
     "text": [
      "Login Successful as USER\n",
      "ID\t\tNAME\t\tCATEGORY\t\tPRICE\n",
      "1\t\tNike Shirt\t\tclothes\t\t3499\t\t\n",
      "2\t\tNike Shoes\t\tshoes\t\t1799\t\t\n",
      "3\t\tWoodland Boots\t\tshoes\t\t2399\t\t\n",
      "4\t\tBike Gloves\t\tclothes\t\t399\t\t\n",
      "5\t\tHelmet\t\thelmet\t\t2399\t\t\n",
      "6\t\tJacket\t\tclothes\t\t1299\t\t\n",
      "Options:\n",
      " [1]View cart\n",
      " [2]Add to cart\n",
      " [3]Delete from cart\n",
      " [4]Proceed to checkout! \n"
     ]
    },
    {
     "name": "stdin",
     "output_type": "stream",
     "text": [
      "\n",
      "Enter your choice:  2\n",
      "Enter product id to add to cart:  1\n",
      "Enter quantity:  1\n"
     ]
    },
    {
     "name": "stdout",
     "output_type": "stream",
     "text": [
      "A new item has been added\n",
      "\n"
     ]
    },
    {
     "name": "stdin",
     "output_type": "stream",
     "text": [
      "\n",
      "Enter your choice:  2\n",
      "Enter product id to add to cart:  2\n",
      "Enter quantity:  2\n"
     ]
    },
    {
     "name": "stdout",
     "output_type": "stream",
     "text": [
      "A new item has been added\n",
      "\n"
     ]
    },
    {
     "name": "stdin",
     "output_type": "stream",
     "text": [
      "\n",
      "Enter your choice:  2\n",
      "Enter product id to add to cart:  4\n",
      "Enter quantity:  3\n"
     ]
    },
    {
     "name": "stdout",
     "output_type": "stream",
     "text": [
      "A new item has been added\n",
      "\n"
     ]
    },
    {
     "name": "stdin",
     "output_type": "stream",
     "text": [
      "\n",
      "Enter your choice:  2\n",
      "Enter product id to add to cart:  5\n",
      "Enter quantity:  1\n"
     ]
    },
    {
     "name": "stdout",
     "output_type": "stream",
     "text": [
      "A new item has been added\n",
      "\n"
     ]
    },
    {
     "name": "stdin",
     "output_type": "stream",
     "text": [
      "\n",
      "Enter your choice:  1\n"
     ]
    },
    {
     "name": "stdout",
     "output_type": "stream",
     "text": [
      "SESSION ID\t\tPRODUCT ID\t\tQUANTITY\n",
      "12345\t\t1\t\t1\t\t\n",
      "12345\t\t2\t\t2\t\t\n",
      "12345\t\t4\t\t3\t\t\n",
      "12345\t\t5\t\t1\t\t\n"
     ]
    },
    {
     "name": "stdin",
     "output_type": "stream",
     "text": [
      "\n",
      "Enter your choice:  3\n",
      "Enter product id to delete from cart:  1\n"
     ]
    },
    {
     "name": "stdout",
     "output_type": "stream",
     "text": [
      "An item has ben successfully removed form your cart!\n",
      "\n"
     ]
    },
    {
     "name": "stdin",
     "output_type": "stream",
     "text": [
      "\n",
      "Enter your choice:  1\n"
     ]
    },
    {
     "name": "stdout",
     "output_type": "stream",
     "text": [
      "SESSION ID\t\tPRODUCT ID\t\tQUANTITY\n",
      "12345\t\t2\t\t2\t\t\n",
      "12345\t\t4\t\t3\t\t\n",
      "12345\t\t5\t\t1\t\t\n"
     ]
    },
    {
     "name": "stdin",
     "output_type": "stream",
     "text": [
      "\n",
      "Enter your choice:  4\n"
     ]
    },
    {
     "name": "stdout",
     "output_type": "stream",
     "text": [
      "Select payment option:\n",
      " [1]NetBanking\n",
      " [2]PayPal\n"
     ]
    },
    {
     "name": "stdin",
     "output_type": "stream",
     "text": [
      "plesae enter your choice:  1\n"
     ]
    },
    {
     "name": "stdout",
     "output_type": "stream",
     "text": [
      "You will be shortly redirected to the portal to make a payment.\n",
      "\n",
      "User session has ended\n"
     ]
    }
   ],
   "source": [
    "#### action 4 - function to authenticate user while logging in\n",
    "def user_login():\n",
    "    username_user = input(\"Please enter user's username: \")\n",
    "    password_user = input(\"Please input user's password: \")\n",
    "\n",
    "    if username_user not in user_db:\n",
    "        print(\"Login failed!!, You dont have an account\")\n",
    "        return False\n",
    "    \n",
    "    if user_db[username_user] == password_user:\n",
    "        print(\"Login Successful as USER\")\n",
    "        return True\n",
    "    else:\n",
    "        print(\"Login failed!! Password incorrect\")\n",
    "        return False\n",
    "\n",
    "# action 5 +13 - functin to authenticate admin while logging in\n",
    "def admin_login():\n",
    "    username_admin = input(\"Please enter admin's username: \")\n",
    "    password_admin = input(\"Please input admin's password: \")\n",
    "\n",
    "    if username_admin not in admin_db:\n",
    "        print(\"Login failed!!, You dont have an account\")\n",
    "        return False\n",
    "    \n",
    "    if admin_db[username_admin] == password_admin:\n",
    "        print(\"Login Successful as ADMIN\")\n",
    "        return True\n",
    "    else:\n",
    "        print(\"Login failed!! Password incorrect\")\n",
    "        return False\n",
    "\n",
    "# action 6 - function to generate a session id, here a hardcoded value is returned\n",
    "def generate_session_id():\n",
    "    return 12345\n",
    "\n",
    "# action 8 - list to store catalog of items inthe app\n",
    "catalog = [\n",
    "    {'product_id':1, 'product_name':'Nike Shirt', 'product_category':'clothes', 'product_price':3499},\n",
    "    {'product_id':2, 'product_name':'Nike Shoes', 'product_category':'shoes', 'product_price':1799},\n",
    "    {'product_id':3, 'product_name':'Woodland Boots', 'product_category':'shoes', 'product_price':2399},\n",
    "    {'product_id':4, 'product_name':'Bike Gloves', 'product_category':'clothes', 'product_price':399},\n",
    "    {'product_id':5, 'product_name':'Helmet', 'product_category':'helmet', 'product_price':2399},\n",
    "    {'product_id':6, 'product_name':'Jacket', 'product_category':'clothes', 'product_price':1299},\n",
    "]\n",
    "\n",
    "# action 9 - function to display catalog to uses\n",
    "def display_catalog():\n",
    "    print(\"ID\\t\\tNAME\\t\\tCATEGORY\\t\\tPRICE\")\n",
    "    for product in catalog:\n",
    "        for value in product.values():\n",
    "            print(f\"{value}\", end='\\t\\t')\n",
    "        print()\n",
    "\n",
    "# function to add new products to catalog\n",
    "def catalog_add_product():\n",
    "    product_id = int(input(\"Enter product ID: \"))\n",
    "    product_name = input(\"Enter product name: \")\n",
    "    product_category = input(\"Enter product category: \")\n",
    "    product_price = float(input(\"Enter product price: \"))\n",
    "    product = {'product_id':product_id, 'product_name':product_name, 'product_category':product_category, 'product_price':product_price}\n",
    "    catalog.append(product)\n",
    "\n",
    "# function to update products in the catalog\n",
    "def catalog_update_product():\n",
    "    check_product_id = int(input(\"Enter ID of product to be updated: \"))\n",
    "    prod_new_name = input(\"Enter new name: \")\n",
    "    prod_new_category = input(\"Enter new category: \")\n",
    "    prod_new_price = float(input(\"Enter new price: \"))\n",
    "    for item in catalog:\n",
    "        if item['product_id'] == check_product_id:\n",
    "            item['product_name'] = prod_new_name\n",
    "            item['product_category'] = prod_new_category\n",
    "            item['product_price'] = prod_new_price\n",
    "            break\n",
    "\n",
    "# function to display catalog to uses\n",
    "def catalog_view_product():\n",
    "    display_catalog()\n",
    "\n",
    "# action 12 - function to perform final checkout process\n",
    "def checkout():\n",
    "    print(\"Select payment option:\\n [1]NetBanking\\n [2]PayPal\")\n",
    "    checkout_choice = int(input(\"plesae enter your choice: \"))\n",
    "    if checkout_choice == 1:\n",
    "        print( \"You will be shortly redirected to the portal to make a payment.\\n\")\n",
    "    elif checkout_choice == 2:\n",
    "        print( \"You will be shortly redirected to the portal to make a payment.\\n\")\n",
    "    else:\n",
    "        print(\"You have entered an incorrect choice for payment!!\")\n",
    "\n",
    "# action 10 - list storing all items in a user's cart\n",
    "cart = []\n",
    "\n",
    "# function to display cart contents\n",
    "def display_cart():\n",
    "    print(\"SESSION ID\\t\\tPRODUCT ID\\t\\tQUANTITY\")\n",
    "    for item in cart:\n",
    "        for value in item.values():\n",
    "            print(f\"{value}\", end='\\t\\t')\n",
    "        print()\n",
    "\n",
    "# function to add new items to cart\n",
    "def add_to_cart(sessionid, productid, quantity):\n",
    "    new_item = {'sessionid':sessionid, 'productid':productid, 'quantity':quantity}\n",
    "    cart.append(new_item)\n",
    "    print(\"A new item has been added\\n\")\n",
    "\n",
    "# function to remove items from cart\n",
    "def delete_from_cart(sessionid, productid):\n",
    "    for item in cart:\n",
    "        if item['sessionid']==sessionid and item['productid']==productid: \n",
    "            cart.remove(item)\n",
    "            print(\"An item has ben successfully removed form your cart!\")\n",
    "            print()\n",
    "\n",
    "\n",
    "def admin_func(admin_session_id):\n",
    "    print(\"Options:\\n [1]Add product to catalog\\n [2]Update existing product info\\n [3]View catalog\\n [4]Exit loop\")\n",
    "    while True:\n",
    "        admin_action_choice = int(input(\"\\nEnter your choice: \"))\n",
    "        if admin_action_choice == 1:\n",
    "            catalog_add_product()\n",
    "        elif admin_action_choice == 2:\n",
    "            catalog_update_product()\n",
    "        elif admin_action_choice == 3:\n",
    "            catalog_view_product()\n",
    "        elif admin_action_choice == 4:\n",
    "            print(\"Logging out admin!!\")\n",
    "            break\n",
    "        else:\n",
    "            print(\"The choice you have entered is incorrect, please try again!\")\n",
    "\n",
    "\n",
    "def user_func(user_session_id):\n",
    "    print(\"Options:\\n [1]View cart\\n [2]Add to cart\\n [3]Delete from cart\\n [4]Proceed to checkout! \")\n",
    "    while True:\n",
    "        user_action_choice = int(input(\"\\nEnter your choice: \"))\n",
    "        if user_action_choice == 1:\n",
    "            display_cart()\n",
    "        elif user_action_choice == 2:\n",
    "            product_id = int(input(\"Enter product id to add to cart: \"))\n",
    "            quantity = int(input(\"Enter quantity: \"))\n",
    "            add_to_cart(user_session_id, product_id, quantity)\n",
    "        elif user_action_choice == 3:\n",
    "            product_id = int(input(\"Enter product id to delete from cart: \"))\n",
    "            delete_from_cart(user_session_id, product_id)\n",
    "        elif user_action_choice == 4:\n",
    "            # print(\"Logging out user!!\")\n",
    "            # break\n",
    "            checkout()\n",
    "            break\n",
    "        else:\n",
    "            print(\"The choice you have entered is incorrect, please try again!\")\n",
    "\n",
    "\n",
    "\n",
    "\n",
    "\n",
    "\n",
    "# action 1\n",
    "# main code\n",
    "print(\"Welcome to Demo Marketplace\")   # action 2\n",
    "\n",
    "# action 3\n",
    "user_db = {'user1':'user1pwd', 'user2':'user2pwd'}\n",
    "admin_db = {'admin1':'admin1pwd', 'admin2':'admin2pwd'}\n",
    "\n",
    "while True:\n",
    "    login_type = input(\"\\nDo you want to login as [user] or [admin]? [press q to quit]: \")\n",
    "    if login_type.lower() == \"admin\":\n",
    "        if admin_login():\n",
    "            admin_session_id = generate_session_id()\n",
    "            admin_func(admin_session_id)\n",
    "            print(\"Admin session has ended!\\n\\n\")\n",
    "    elif login_type.lower() == \"user\":\n",
    "        if user_login():\n",
    "            user_session_id = generate_session_id()\n",
    "            display_catalog()\n",
    "            user_func(user_session_id)\n",
    "            # checkout()\n",
    "            print(\"User session has ended\")\n",
    "    elif login_type.lower() == \"q\":\n",
    "        print(\"Exiting program\\n\\n\")\n",
    "        break\n",
    "    else:\n",
    "        print(\"Your login access level[admin|user] is incorrect!!\")\n"
   ]
  }
 ],
 "metadata": {
  "kernelspec": {
   "display_name": "Python 3 (ipykernel)",
   "language": "python",
   "name": "python3"
  },
  "language_info": {
   "codemirror_mode": {
    "name": "ipython",
    "version": 3
   },
   "file_extension": ".py",
   "mimetype": "text/x-python",
   "name": "python",
   "nbconvert_exporter": "python",
   "pygments_lexer": "ipython3",
   "version": "3.12.4"
  }
 },
 "nbformat": 4,
 "nbformat_minor": 4
}
