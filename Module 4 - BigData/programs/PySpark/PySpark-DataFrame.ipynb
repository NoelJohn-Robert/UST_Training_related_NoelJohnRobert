{
 "cells": [
  {
   "cell_type": "code",
   "execution_count": 1,
   "id": "fd7fbec7",
   "metadata": {},
   "outputs": [
    {
     "data": {
      "text/html": [
       "\n",
       "        <div>\n",
       "            <p><b>SparkContext</b></p>\n",
       "\n",
       "            <p><a href=\"http://10.0.2.15:4041\">Spark UI</a></p>\n",
       "\n",
       "            <dl>\n",
       "              <dt>Version</dt>\n",
       "                <dd><code>v2.4.8</code></dd>\n",
       "              <dt>Master</dt>\n",
       "                <dd><code>local[*]</code></dd>\n",
       "              <dt>AppName</dt>\n",
       "                <dd><code>PySparkShell</code></dd>\n",
       "            </dl>\n",
       "        </div>\n",
       "        "
      ],
      "text/plain": [
       "<SparkContext master=local[*] appName=PySparkShell>"
      ]
     },
     "execution_count": 1,
     "metadata": {},
     "output_type": "execute_result"
    }
   ],
   "source": [
    "sc"
   ]
  },
  {
   "cell_type": "code",
   "execution_count": 2,
   "id": "634f0260",
   "metadata": {},
   "outputs": [
    {
     "data": {
      "text/html": [
       "\n",
       "            <div>\n",
       "                <p><b>SparkSession - hive</b></p>\n",
       "                \n",
       "        <div>\n",
       "            <p><b>SparkContext</b></p>\n",
       "\n",
       "            <p><a href=\"http://10.0.2.15:4041\">Spark UI</a></p>\n",
       "\n",
       "            <dl>\n",
       "              <dt>Version</dt>\n",
       "                <dd><code>v2.4.8</code></dd>\n",
       "              <dt>Master</dt>\n",
       "                <dd><code>local[*]</code></dd>\n",
       "              <dt>AppName</dt>\n",
       "                <dd><code>PySparkShell</code></dd>\n",
       "            </dl>\n",
       "        </div>\n",
       "        \n",
       "            </div>\n",
       "        "
      ],
      "text/plain": [
       "<pyspark.sql.session.SparkSession at 0x7fb479dc2b00>"
      ]
     },
     "execution_count": 2,
     "metadata": {},
     "output_type": "execute_result"
    }
   ],
   "source": [
    "spark"
   ]
  },
  {
   "cell_type": "markdown",
   "id": "c422c46b",
   "metadata": {},
   "source": [
    "### 1. Create a new Spark session instance"
   ]
  },
  {
   "cell_type": "code",
   "execution_count": 3,
   "id": "2cb84743",
   "metadata": {},
   "outputs": [],
   "source": [
    "sc.stop()\n",
    "spark.stop()"
   ]
  },
  {
   "cell_type": "code",
   "execution_count": 4,
   "id": "e5e8ab24",
   "metadata": {},
   "outputs": [],
   "source": [
    "from pyspark import SparkConf, SparkContext\n",
    "# setMaster sets spark ContextManager which is loca[cpu cores]\n",
    "config = SparkConf().setMaster('local[4]').setAppName(\"PySparkSession\")\n",
    "sc = SparkContext(conf=config)"
   ]
  },
  {
   "cell_type": "code",
   "execution_count": 5,
   "id": "68fa5987",
   "metadata": {},
   "outputs": [
    {
     "data": {
      "text/html": [
       "\n",
       "        <div>\n",
       "            <p><b>SparkContext</b></p>\n",
       "\n",
       "            <p><a href=\"http://10.0.2.15:4040\">Spark UI</a></p>\n",
       "\n",
       "            <dl>\n",
       "              <dt>Version</dt>\n",
       "                <dd><code>v2.4.8</code></dd>\n",
       "              <dt>Master</dt>\n",
       "                <dd><code>local[4]</code></dd>\n",
       "              <dt>AppName</dt>\n",
       "                <dd><code>PySparkSession</code></dd>\n",
       "            </dl>\n",
       "        </div>\n",
       "        "
      ],
      "text/plain": [
       "<SparkContext master=local[4] appName=PySparkSession>"
      ]
     },
     "execution_count": 5,
     "metadata": {},
     "output_type": "execute_result"
    }
   ],
   "source": [
    "sc"
   ]
  },
  {
   "cell_type": "code",
   "execution_count": 6,
   "id": "c08daffc",
   "metadata": {},
   "outputs": [],
   "source": [
    "from pyspark.sql import SparkSession\n",
    "spark = SparkSession.builder.appName(\"SQLSession\").getOrCreate()"
   ]
  },
  {
   "cell_type": "code",
   "execution_count": 7,
   "id": "1064eead",
   "metadata": {},
   "outputs": [
    {
     "data": {
      "text/html": [
       "\n",
       "            <div>\n",
       "                <p><b>SparkSession - hive</b></p>\n",
       "                \n",
       "        <div>\n",
       "            <p><b>SparkContext</b></p>\n",
       "\n",
       "            <p><a href=\"http://10.0.2.15:4040\">Spark UI</a></p>\n",
       "\n",
       "            <dl>\n",
       "              <dt>Version</dt>\n",
       "                <dd><code>v2.4.8</code></dd>\n",
       "              <dt>Master</dt>\n",
       "                <dd><code>local[4]</code></dd>\n",
       "              <dt>AppName</dt>\n",
       "                <dd><code>PySparkSession</code></dd>\n",
       "            </dl>\n",
       "        </div>\n",
       "        \n",
       "            </div>\n",
       "        "
      ],
      "text/plain": [
       "<pyspark.sql.session.SparkSession at 0x7fb478399eb8>"
      ]
     },
     "execution_count": 7,
     "metadata": {},
     "output_type": "execute_result"
    }
   ],
   "source": [
    "spark"
   ]
  },
  {
   "cell_type": "code",
   "execution_count": 8,
   "id": "1d5a5656",
   "metadata": {},
   "outputs": [],
   "source": [
    "!hdfs dfs -mkdir /flights"
   ]
  },
  {
   "cell_type": "code",
   "execution_count": 9,
   "id": "de6215d1",
   "metadata": {},
   "outputs": [],
   "source": [
    "!hdfs dfs -copyFromLocal /home/hadoop/Downloads/raw_flight_data.csv /flights"
   ]
  },
  {
   "cell_type": "code",
   "execution_count": 44,
   "id": "6a8679b8",
   "metadata": {},
   "outputs": [],
   "source": [
    "flights_df = spark.read.csv(\"hdfs://localhost:9000/flights/raw_flight_data.csv\", \n",
    "                            header=True, inferSchema=True)"
   ]
  },
  {
   "cell_type": "code",
   "execution_count": 14,
   "id": "51e41576",
   "metadata": {},
   "outputs": [
    {
     "data": {
      "text/plain": [
       "[Row(DayofMonth=19, DayOfWeek=5, Carrier='DL', OriginAirportID=11433, DestAirportID=13303, DepDelay=-3, ArrDelay=1),\n",
       " Row(DayofMonth=19, DayOfWeek=5, Carrier='DL', OriginAirportID=14869, DestAirportID=12478, DepDelay=0, ArrDelay=-8),\n",
       " Row(DayofMonth=19, DayOfWeek=5, Carrier='DL', OriginAirportID=14057, DestAirportID=14869, DepDelay=-4, ArrDelay=-15)]"
      ]
     },
     "execution_count": 14,
     "metadata": {},
     "output_type": "execute_result"
    }
   ],
   "source": [
    "flights_df.head(3)"
   ]
  },
  {
   "cell_type": "code",
   "execution_count": 15,
   "id": "38cebb69",
   "metadata": {},
   "outputs": [
    {
     "name": "stdout",
     "output_type": "stream",
     "text": [
      "+----------+---------+-------+---------------+-------------+--------+--------+\n",
      "|DayofMonth|DayOfWeek|Carrier|OriginAirportID|DestAirportID|DepDelay|ArrDelay|\n",
      "+----------+---------+-------+---------------+-------------+--------+--------+\n",
      "|        19|        5|     DL|          11433|        13303|      -3|       1|\n",
      "|        19|        5|     DL|          14869|        12478|       0|      -8|\n",
      "|        19|        5|     DL|          14057|        14869|      -4|     -15|\n",
      "|        19|        5|     DL|          15016|        11433|      28|      24|\n",
      "|        19|        5|     DL|          11193|        12892|      -6|     -11|\n",
      "|        19|        5|     DL|          10397|        15016|      -1|     -19|\n",
      "|        19|        5|     DL|          15016|        10397|       0|      -1|\n",
      "|        19|        5|     DL|          10397|        14869|      15|      24|\n",
      "|        19|        5|     DL|          10397|        10423|      33|      34|\n",
      "|        19|        5|     DL|          11278|        10397|     323|     322|\n",
      "|        19|        5|     DL|          14107|        13487|      -7|     -13|\n",
      "|        19|        5|     DL|          11433|        11298|      22|      41|\n",
      "|        19|        5|     DL|          11298|        11433|      40|      20|\n",
      "|        19|        5|     DL|          11433|        12892|      -2|      -7|\n",
      "|        19|        5|     DL|          10397|        12451|      71|      75|\n",
      "|        19|        5|     DL|          12451|        10397|      75|      57|\n",
      "|        19|        5|     DL|          12953|        10397|      -1|      10|\n",
      "|        19|        5|     DL|          11433|        12953|      -3|     -10|\n",
      "|        19|        5|     DL|          10397|        14771|      31|      38|\n",
      "|        19|        5|     DL|          13204|        10397|       8|      25|\n",
      "+----------+---------+-------+---------------+-------------+--------+--------+\n",
      "only showing top 20 rows\n",
      "\n"
     ]
    }
   ],
   "source": [
    "flights_df.show()     # show data in a tabular format"
   ]
  },
  {
   "cell_type": "code",
   "execution_count": 16,
   "id": "da937ba4",
   "metadata": {},
   "outputs": [
    {
     "name": "stdout",
     "output_type": "stream",
     "text": [
      "+----------+-------+---------------+--------+\n",
      "|DayofMonth|Carrier|OriginAirportID|DepDelay|\n",
      "+----------+-------+---------------+--------+\n",
      "|        19|     DL|          11433|      -3|\n",
      "|        19|     DL|          14869|       0|\n",
      "|        19|     DL|          14057|      -4|\n",
      "|        19|     DL|          15016|      28|\n",
      "|        19|     DL|          11193|      -6|\n",
      "|        19|     DL|          10397|      -1|\n",
      "|        19|     DL|          15016|       0|\n",
      "|        19|     DL|          10397|      15|\n",
      "|        19|     DL|          10397|      33|\n",
      "|        19|     DL|          11278|     323|\n",
      "|        19|     DL|          14107|      -7|\n",
      "|        19|     DL|          11433|      22|\n",
      "|        19|     DL|          11298|      40|\n",
      "|        19|     DL|          11433|      -2|\n",
      "|        19|     DL|          10397|      71|\n",
      "|        19|     DL|          12451|      75|\n",
      "|        19|     DL|          12953|      -1|\n",
      "|        19|     DL|          11433|      -3|\n",
      "|        19|     DL|          10397|      31|\n",
      "|        19|     DL|          13204|       8|\n",
      "+----------+-------+---------------+--------+\n",
      "only showing top 20 rows\n",
      "\n"
     ]
    }
   ],
   "source": [
    "# select is used to select some specific column from the DataFrame using column names\n",
    "\n",
    "flights_df.select(['DayofMonth', 'Carrier', 'OriginAirportID', 'DepDelay']).show()"
   ]
  },
  {
   "cell_type": "code",
   "execution_count": 17,
   "id": "39080c07",
   "metadata": {},
   "outputs": [
    {
     "name": "stdout",
     "output_type": "stream",
     "text": [
      "+-------+\n",
      "|Carrier|\n",
      "+-------+\n",
      "|     UA|\n",
      "|     AA|\n",
      "|     EV|\n",
      "|     B6|\n",
      "|     DL|\n",
      "|     OO|\n",
      "|     F9|\n",
      "|     YV|\n",
      "|     US|\n",
      "|     MQ|\n",
      "|     HA|\n",
      "|     AS|\n",
      "|     FL|\n",
      "|     VX|\n",
      "|     WN|\n",
      "|     9E|\n",
      "+-------+\n",
      "\n"
     ]
    }
   ],
   "source": [
    "#distinct() = show varous distinct values\n",
    "\n",
    "flights_df.select(['Carrier']).distinct().show()"
   ]
  },
  {
   "cell_type": "code",
   "execution_count": 19,
   "id": "2b2435e2",
   "metadata": {},
   "outputs": [
    {
     "data": {
      "text/plain": [
       "['DayofMonth',\n",
       " 'DayOfWeek',\n",
       " 'Carrier',\n",
       " 'OriginAirportID',\n",
       " 'DestAirportID',\n",
       " 'DepDelay',\n",
       " 'ArrDelay']"
      ]
     },
     "execution_count": 19,
     "metadata": {},
     "output_type": "execute_result"
    }
   ],
   "source": [
    "# show all columns in the DataFrame\n",
    "flights_df.columns"
   ]
  },
  {
   "cell_type": "code",
   "execution_count": 21,
   "id": "fa2c836a",
   "metadata": {},
   "outputs": [
    {
     "data": {
      "text/plain": [
       "2719418"
      ]
     },
     "execution_count": 21,
     "metadata": {},
     "output_type": "execute_result"
    }
   ],
   "source": [
    "# total number of rows\n",
    "\n",
    "flights_df.count()"
   ]
  },
  {
   "cell_type": "code",
   "execution_count": 22,
   "id": "7aee75a3",
   "metadata": {},
   "outputs": [
    {
     "data": {
      "text/plain": [
       "16"
      ]
     },
     "execution_count": 22,
     "metadata": {},
     "output_type": "execute_result"
    }
   ],
   "source": [
    "# show total count of distinct carriers\n",
    "flights_df.select(['Carrier']).distinct().count()"
   ]
  },
  {
   "cell_type": "code",
   "execution_count": 25,
   "id": "225d3cf2",
   "metadata": {},
   "outputs": [
    {
     "name": "stdout",
     "output_type": "stream",
     "text": [
      "root\n",
      " |-- DayofMonth: integer (nullable = true)\n",
      " |-- DayOfWeek: integer (nullable = true)\n",
      " |-- Carrier: string (nullable = true)\n",
      " |-- OriginAirportID: integer (nullable = true)\n",
      " |-- DestAirportID: integer (nullable = true)\n",
      " |-- DepDelay: integer (nullable = true)\n",
      " |-- ArrDelay: integer (nullable = true)\n",
      "\n"
     ]
    }
   ],
   "source": [
    "# 3. printSchema - shows schema anem and schema datatypes\n",
    "\n",
    "flights_df.printSchema()"
   ]
  },
  {
   "cell_type": "code",
   "execution_count": 26,
   "id": "0d7fff36",
   "metadata": {},
   "outputs": [
    {
     "data": {
      "text/plain": [
       "Row(DayofMonth=19, DayOfWeek=5, Carrier='DL', OriginAirportID=15016, DestAirportID=11433, DepDelay=28, ArrDelay=24)"
      ]
     },
     "execution_count": 26,
     "metadata": {},
     "output_type": "execute_result"
    }
   ],
   "source": [
    "# 4. where - similar to filter in RDD, with boolean condition and statement\n",
    "\n",
    "flights_df.where(flights_df.DepDelay > 0).first()"
   ]
  },
  {
   "cell_type": "code",
   "execution_count": 28,
   "id": "36ae787b",
   "metadata": {},
   "outputs": [
    {
     "name": "stdout",
     "output_type": "stream",
     "text": [
      "+----------+---------+-------+---------------+-------------+--------+--------+\n",
      "|DayofMonth|DayOfWeek|Carrier|OriginAirportID|DestAirportID|DepDelay|ArrDelay|\n",
      "+----------+---------+-------+---------------+-------------+--------+--------+\n",
      "|        19|        5|     DL|          15016|        11433|      28|      24|\n",
      "|        19|        5|     DL|          10397|        14869|      15|      24|\n",
      "|        19|        5|     DL|          10397|        10423|      33|      34|\n",
      "|        19|        5|     DL|          11278|        10397|     323|     322|\n",
      "|        19|        5|     DL|          11433|        11298|      22|      41|\n",
      "|        19|        5|     DL|          11298|        11433|      40|      20|\n",
      "|        19|        5|     DL|          10397|        12451|      71|      75|\n",
      "|        19|        5|     DL|          12451|        10397|      75|      57|\n",
      "|        19|        5|     DL|          10397|        14771|      31|      38|\n",
      "|        19|        5|     DL|          13204|        10397|       8|      25|\n",
      "|        19|        5|     DL|          12889|        13487|       7|      16|\n",
      "|        19|        5|     DL|          14027|        10397|      13|      25|\n",
      "|        19|        5|     DL|          13244|        10397|       4|      13|\n",
      "|        19|        5|     DL|          12953|        11697|      12|      -8|\n",
      "|        19|        5|     DL|          10397|        12892|      15|       7|\n",
      "|        19|        5|     DL|          14747|        14869|      15|      18|\n",
      "|        19|        5|     DL|          10423|        10397|      56|      49|\n",
      "|        20|        6|     DL|          12892|        15304|      21|      -2|\n",
      "|        20|        6|     DL|          10397|        11193|      16|      -2|\n",
      "|        20|        6|     DL|          10397|        11278|       2|       1|\n",
      "+----------+---------+-------+---------------+-------------+--------+--------+\n",
      "only showing top 20 rows\n",
      "\n"
     ]
    }
   ],
   "source": [
    "flights_df.where(flights_df.DepDelay > 0).show()"
   ]
  },
  {
   "cell_type": "code",
   "execution_count": 29,
   "id": "c47b6c2b",
   "metadata": {},
   "outputs": [
    {
     "name": "stdout",
     "output_type": "stream",
     "text": [
      "+----------+---------+-------+---------------+-------------+--------+--------+\n",
      "|DayofMonth|DayOfWeek|Carrier|OriginAirportID|DestAirportID|DepDelay|ArrDelay|\n",
      "+----------+---------+-------+---------------+-------------+--------+--------+\n",
      "|        19|        5|     DL|          15016|        11433|      28|      24|\n",
      "|        19|        5|     DL|          10397|        14869|      15|      24|\n",
      "|        19|        5|     DL|          10397|        10423|      33|      34|\n",
      "|        19|        5|     DL|          11278|        10397|     323|     322|\n",
      "|        19|        5|     DL|          11433|        11298|      22|      41|\n",
      "|        19|        5|     DL|          11298|        11433|      40|      20|\n",
      "|        19|        5|     DL|          10397|        12451|      71|      75|\n",
      "|        19|        5|     DL|          12451|        10397|      75|      57|\n",
      "|        19|        5|     DL|          10397|        14771|      31|      38|\n",
      "|        19|        5|     DL|          13204|        10397|       8|      25|\n",
      "|        19|        5|     DL|          12889|        13487|       7|      16|\n",
      "|        19|        5|     DL|          14027|        10397|      13|      25|\n",
      "|        19|        5|     DL|          13244|        10397|       4|      13|\n",
      "|        19|        5|     DL|          10397|        12892|      15|       7|\n",
      "|        19|        5|     DL|          14747|        14869|      15|      18|\n",
      "|        19|        5|     DL|          10423|        10397|      56|      49|\n",
      "|        20|        6|     DL|          10397|        11278|       2|       1|\n",
      "|        20|        6|     DL|          11278|        10397|      34|      38|\n",
      "|        20|        6|     DL|          11697|        12953|      20|       1|\n",
      "|        20|        6|     DL|          13487|        13198|      35|      26|\n",
      "+----------+---------+-------+---------------+-------------+--------+--------+\n",
      "only showing top 20 rows\n",
      "\n"
     ]
    }
   ],
   "source": [
    "flights_df.where((flights_df.DepDelay>0) & (flights_df.ArrDelay>0)).show()"
   ]
  },
  {
   "cell_type": "code",
   "execution_count": 30,
   "id": "5b118327",
   "metadata": {},
   "outputs": [
    {
     "name": "stdout",
     "output_type": "stream",
     "text": [
      "+----------+---------+-------+---------------+-------------+--------+--------+\n",
      "|DayofMonth|DayOfWeek|Carrier|OriginAirportID|DestAirportID|DepDelay|ArrDelay|\n",
      "+----------+---------+-------+---------------+-------------+--------+--------+\n",
      "|        19|        5|     DL|          15016|        11433|      28|      24|\n",
      "|        19|        5|     DL|          10397|        14869|      15|      24|\n",
      "|        19|        5|     DL|          10397|        10423|      33|      34|\n",
      "|        19|        5|     DL|          11278|        10397|     323|     322|\n",
      "|        19|        5|     DL|          11433|        11298|      22|      41|\n",
      "|        19|        5|     DL|          11298|        11433|      40|      20|\n",
      "|        19|        5|     DL|          10397|        12451|      71|      75|\n",
      "|        19|        5|     DL|          12451|        10397|      75|      57|\n",
      "|        19|        5|     DL|          10397|        14771|      31|      38|\n",
      "|        19|        5|     DL|          13204|        10397|       8|      25|\n",
      "|        19|        5|     DL|          12889|        13487|       7|      16|\n",
      "|        19|        5|     DL|          14027|        10397|      13|      25|\n",
      "|        19|        5|     DL|          13244|        10397|       4|      13|\n",
      "|        19|        5|     DL|          10397|        12892|      15|       7|\n",
      "|        19|        5|     DL|          14747|        14869|      15|      18|\n",
      "|        19|        5|     DL|          10423|        10397|      56|      49|\n",
      "|        20|        6|     DL|          10397|        11278|       2|       1|\n",
      "|        20|        6|     DL|          11278|        10397|      34|      38|\n",
      "|        20|        6|     DL|          11697|        12953|      20|       1|\n",
      "|        20|        6|     DL|          13487|        13198|      35|      26|\n",
      "+----------+---------+-------+---------------+-------------+--------+--------+\n",
      "only showing top 20 rows\n",
      "\n"
     ]
    }
   ],
   "source": [
    "# 5, filter() - filter outputs using condiiton\n",
    "flights_df.filter((flights_df.DepDelay>0) & (flights_df.ArrDelay>0)).show()"
   ]
  },
  {
   "cell_type": "code",
   "execution_count": 31,
   "id": "211b3df2",
   "metadata": {},
   "outputs": [
    {
     "data": {
      "text/plain": [
       "Column<b'(Carrier IN (DL, F9, UA, 9E))'>"
      ]
     },
     "execution_count": 31,
     "metadata": {},
     "output_type": "execute_result"
    }
   ],
   "source": [
    "# 6. isin - filters values from DataFrame by matching Pattern\n",
    "flights_df.Carrier.isin('DL', 'F9', 'UA', '9E')"
   ]
  },
  {
   "cell_type": "code",
   "execution_count": 32,
   "id": "6b45076d",
   "metadata": {},
   "outputs": [
    {
     "name": "stdout",
     "output_type": "stream",
     "text": [
      "+----------+---------+-------+---------------+-------------+--------+--------+\n",
      "|DayofMonth|DayOfWeek|Carrier|OriginAirportID|DestAirportID|DepDelay|ArrDelay|\n",
      "+----------+---------+-------+---------------+-------------+--------+--------+\n",
      "|        19|        5|     DL|          11433|        13303|      -3|       1|\n",
      "|        19|        5|     DL|          14869|        12478|       0|      -8|\n",
      "|        19|        5|     DL|          14057|        14869|      -4|     -15|\n",
      "|        19|        5|     DL|          15016|        11433|      28|      24|\n",
      "|        19|        5|     DL|          11193|        12892|      -6|     -11|\n",
      "|        19|        5|     DL|          10397|        15016|      -1|     -19|\n",
      "|        19|        5|     DL|          15016|        10397|       0|      -1|\n",
      "|        19|        5|     DL|          10397|        14869|      15|      24|\n",
      "|        19|        5|     DL|          10397|        10423|      33|      34|\n",
      "|        19|        5|     DL|          11278|        10397|     323|     322|\n",
      "|        19|        5|     DL|          14107|        13487|      -7|     -13|\n",
      "|        19|        5|     DL|          11433|        11298|      22|      41|\n",
      "|        19|        5|     DL|          11298|        11433|      40|      20|\n",
      "|        19|        5|     DL|          11433|        12892|      -2|      -7|\n",
      "|        19|        5|     DL|          10397|        12451|      71|      75|\n",
      "|        19|        5|     DL|          12451|        10397|      75|      57|\n",
      "|        19|        5|     DL|          12953|        10397|      -1|      10|\n",
      "|        19|        5|     DL|          11433|        12953|      -3|     -10|\n",
      "|        19|        5|     DL|          10397|        14771|      31|      38|\n",
      "|        19|        5|     DL|          13204|        10397|       8|      25|\n",
      "+----------+---------+-------+---------------+-------------+--------+--------+\n",
      "only showing top 20 rows\n",
      "\n"
     ]
    }
   ],
   "source": [
    "flights_df.where(flights_df.Carrier.isin('DL', 'F9', 'UA', '9E')).show()"
   ]
  },
  {
   "cell_type": "code",
   "execution_count": 35,
   "id": "7703514e",
   "metadata": {},
   "outputs": [],
   "source": [
    "# 7. Read airports.csv file as Spark DataFrame\n",
    "airports_df = spark.read.csv('file:///home/hadoop/Downloads/airports.csv', header=True, inferSchema=True)"
   ]
  },
  {
   "cell_type": "code",
   "execution_count": 36,
   "id": "f56291f2",
   "metadata": {},
   "outputs": [
    {
     "name": "stdout",
     "output_type": "stream",
     "text": [
      "+----------+-----------+-----+--------------------+\n",
      "|airport_id|       city|state|                name|\n",
      "+----------+-----------+-----+--------------------+\n",
      "|     10165|Adak Island|   AK|                Adak|\n",
      "|     10299|  Anchorage|   AK|Ted Stevens Ancho...|\n",
      "|     10304|      Aniak|   AK|       Aniak Airport|\n",
      "|     10754|     Barrow|   AK|Wiley Post/Will R...|\n",
      "|     10551|     Bethel|   AK|      Bethel Airport|\n",
      "|     10926|    Cordova|   AK|Merle K Mudhole S...|\n",
      "|     14709|  Deadhorse|   AK|   Deadhorse Airport|\n",
      "|     11336| Dillingham|   AK|  Dillingham Airport|\n",
      "|     11630|  Fairbanks|   AK|Fairbanks Interna...|\n",
      "|     11997|   Gustavus|   AK|    Gustavus Airport|\n",
      "|     12523|     Juneau|   AK|Juneau International|\n",
      "|     12819|  Ketchikan|   AK|Ketchikan Interna...|\n",
      "|     10245|King Salmon|   AK| King Salmon Airport|\n",
      "|     10170|     Kodiak|   AK|      Kodiak Airport|\n",
      "|     13970|   Kotzebue|   AK| Ralph Wien Memorial|\n",
      "|     13873|       Nome|   AK|        Nome Airport|\n",
      "|     14256| Petersburg|   AK|Petersburg James ...|\n",
      "|     14828|      Sitka|   AK|Sitka Rocky Gutie...|\n",
      "|     12807| St. Mary's|   AK|  St. Mary's Airport|\n",
      "|     11445|   Unalaska|   AK|    Unalaska Airport|\n",
      "+----------+-----------+-----+--------------------+\n",
      "only showing top 20 rows\n",
      "\n"
     ]
    }
   ],
   "source": [
    "airports_df.show()"
   ]
  },
  {
   "cell_type": "code",
   "execution_count": 38,
   "id": "e9580dab",
   "metadata": {},
   "outputs": [],
   "source": [
    "# 8. Join() - to join 2 or more DFs using condition.\n",
    "flights_airportDF = flights_df.join(airports_df, flights_df.OriginAirportID==airports_df.airport_id)"
   ]
  },
  {
   "cell_type": "code",
   "execution_count": 43,
   "id": "85c8f8d5",
   "metadata": {},
   "outputs": [
    {
     "name": "stdout",
     "output_type": "stream",
     "text": [
      "+----------+---------+-------+---------------+-------------+--------+--------+----------+--------------------+\n",
      "|DayofMonth|DayOfWeek|Carrier|OriginAirportID|DestAirportID|DepDelay|ArrDelay|airport_id|                name|\n",
      "+----------+---------+-------+---------------+-------------+--------+--------+----------+--------------------+\n",
      "|        19|        5|     DL|          11433|        13303|      -3|       1|     11433|Detroit Metro Way...|\n",
      "|        19|        5|     DL|          14869|        12478|       0|      -8|     14869|Salt Lake City In...|\n",
      "|        19|        5|     DL|          14057|        14869|      -4|     -15|     14057|Portland Internat...|\n",
      "|        19|        5|     DL|          15016|        11433|      28|      24|     15016|Lambert-St. Louis...|\n",
      "|        19|        5|     DL|          11193|        12892|      -6|     -11|     11193|Cincinnati/Northe...|\n",
      "|        19|        5|     DL|          10397|        15016|      -1|     -19|     10397|Hartsfield-Jackso...|\n",
      "|        19|        5|     DL|          15016|        10397|       0|      -1|     15016|Lambert-St. Louis...|\n",
      "|        19|        5|     DL|          10397|        14869|      15|      24|     10397|Hartsfield-Jackso...|\n",
      "|        19|        5|     DL|          10397|        10423|      33|      34|     10397|Hartsfield-Jackso...|\n",
      "|        19|        5|     DL|          11278|        10397|     323|     322|     11278|Ronald Reagan Was...|\n",
      "|        19|        5|     DL|          14107|        13487|      -7|     -13|     14107|Phoenix Sky Harbo...|\n",
      "|        19|        5|     DL|          11433|        11298|      22|      41|     11433|Detroit Metro Way...|\n",
      "|        19|        5|     DL|          11298|        11433|      40|      20|     11298|Dallas/Fort Worth...|\n",
      "|        19|        5|     DL|          11433|        12892|      -2|      -7|     11433|Detroit Metro Way...|\n",
      "|        19|        5|     DL|          10397|        12451|      71|      75|     10397|Hartsfield-Jackso...|\n",
      "|        19|        5|     DL|          12451|        10397|      75|      57|     12451|Jacksonville Inte...|\n",
      "|        19|        5|     DL|          12953|        10397|      -1|      10|     12953|           LaGuardia|\n",
      "|        19|        5|     DL|          11433|        12953|      -3|     -10|     11433|Detroit Metro Way...|\n",
      "|        19|        5|     DL|          10397|        14771|      31|      38|     10397|Hartsfield-Jackso...|\n",
      "|        19|        5|     DL|          13204|        10397|       8|      25|     13204|Orlando Internati...|\n",
      "+----------+---------+-------+---------------+-------------+--------+--------+----------+--------------------+\n",
      "only showing top 20 rows\n",
      "\n"
     ]
    }
   ],
   "source": [
    "flights_airportDF.show()"
   ]
  },
  {
   "cell_type": "code",
   "execution_count": 41,
   "id": "bc9fd4e3",
   "metadata": {},
   "outputs": [
    {
     "name": "stdout",
     "output_type": "stream",
     "text": [
      "+----------+---------+-------+---------------+-------------+--------+--------+----------+--------------------+\n",
      "|DayofMonth|DayOfWeek|Carrier|OriginAirportID|DestAirportID|DepDelay|ArrDelay|airport_id|                name|\n",
      "+----------+---------+-------+---------------+-------------+--------+--------+----------+--------------------+\n",
      "|        19|        5|     DL|          11433|        13303|      -3|       1|     11433|Detroit Metro Way...|\n",
      "|        19|        5|     DL|          14869|        12478|       0|      -8|     14869|Salt Lake City In...|\n",
      "|        19|        5|     DL|          14057|        14869|      -4|     -15|     14057|Portland Internat...|\n",
      "|        19|        5|     DL|          15016|        11433|      28|      24|     15016|Lambert-St. Louis...|\n",
      "|        19|        5|     DL|          11193|        12892|      -6|     -11|     11193|Cincinnati/Northe...|\n",
      "|        19|        5|     DL|          10397|        15016|      -1|     -19|     10397|Hartsfield-Jackso...|\n",
      "|        19|        5|     DL|          15016|        10397|       0|      -1|     15016|Lambert-St. Louis...|\n",
      "|        19|        5|     DL|          10397|        14869|      15|      24|     10397|Hartsfield-Jackso...|\n",
      "|        19|        5|     DL|          10397|        10423|      33|      34|     10397|Hartsfield-Jackso...|\n",
      "|        19|        5|     DL|          11278|        10397|     323|     322|     11278|Ronald Reagan Was...|\n",
      "|        19|        5|     DL|          14107|        13487|      -7|     -13|     14107|Phoenix Sky Harbo...|\n",
      "|        19|        5|     DL|          11433|        11298|      22|      41|     11433|Detroit Metro Way...|\n",
      "|        19|        5|     DL|          11298|        11433|      40|      20|     11298|Dallas/Fort Worth...|\n",
      "|        19|        5|     DL|          11433|        12892|      -2|      -7|     11433|Detroit Metro Way...|\n",
      "|        19|        5|     DL|          10397|        12451|      71|      75|     10397|Hartsfield-Jackso...|\n",
      "|        19|        5|     DL|          12451|        10397|      75|      57|     12451|Jacksonville Inte...|\n",
      "|        19|        5|     DL|          12953|        10397|      -1|      10|     12953|           LaGuardia|\n",
      "|        19|        5|     DL|          11433|        12953|      -3|     -10|     11433|Detroit Metro Way...|\n",
      "|        19|        5|     DL|          10397|        14771|      31|      38|     10397|Hartsfield-Jackso...|\n",
      "|        19|        5|     DL|          13204|        10397|       8|      25|     13204|Orlando Internati...|\n",
      "+----------+---------+-------+---------------+-------------+--------+--------+----------+--------------------+\n",
      "only showing top 20 rows\n",
      "\n"
     ]
    }
   ],
   "source": [
    "flights_airportDF = flights_df.join(airports_df.select(['airport_id', 'name']), \n",
    "                                    flights_df.OriginAirportID==airports_df.airport_id)\n",
    "flights_airportDF.show()"
   ]
  },
  {
   "cell_type": "markdown",
   "id": "9be4c94c",
   "metadata": {},
   "source": [
    "### 9. Drop duplicates\n",
    "###### drop duplicate records form existing DataFrame"
   ]
  },
  {
   "cell_type": "code",
   "execution_count": 45,
   "id": "2fe01925",
   "metadata": {},
   "outputs": [],
   "source": [
    "\n",
    "flights_df1 = flights_df.dropDuplicates()"
   ]
  },
  {
   "cell_type": "code",
   "execution_count": 49,
   "id": "8ffbf1dc",
   "metadata": {},
   "outputs": [
    {
     "name": "stdout",
     "output_type": "stream",
     "text": [
      "Percent loss in data after dropping duplicates: 0.8249927006440316\n"
     ]
    }
   ],
   "source": [
    "# TASK: Calculate percentage data lost after DropDuplicates\n",
    "retained = flights_df1.count()*100/flights_df.count()\n",
    "print(f\"Percent loss in data after dropping duplicates: {100 - retained}\")"
   ]
  },
  {
   "cell_type": "markdown",
   "id": "051e43b4",
   "metadata": {},
   "source": [
    "### 10. describe \n",
    "###### gives summary about numerical values in dataframe\n",
    "###### includes count, mean, stddev, min, max"
   ]
  },
  {
   "cell_type": "code",
   "execution_count": 51,
   "id": "4ebe9b85",
   "metadata": {},
   "outputs": [
    {
     "name": "stdout",
     "output_type": "stream",
     "text": [
      "+-------+------------------+------------------+-------+------------------+------------------+------------------+------------------+\n",
      "|summary|        DayofMonth|         DayOfWeek|Carrier|   OriginAirportID|     DestAirportID|          DepDelay|          ArrDelay|\n",
      "+-------+------------------+------------------+-------+------------------+------------------+------------------+------------------+\n",
      "|  count|           2696983|           2696983|2696983|           2696983|           2696983|           2674774|           2673185|\n",
      "|   mean|15.798996508320593| 3.900369412784582|   null|12742.459424846207| 12742.85937657004|10.618575625454712|6.7272897311633875|\n",
      "| stddev| 8.801267199135454|1.9864582421701973|   null|1502.0359941370625|1501.9939589817989|36.198308432512704| 38.75007476808384|\n",
      "|    min|                 1|                 1|     9E|             10140|             10140|               -63|               -94|\n",
      "|    max|                31|                 7|     YV|             15376|             15376|              1863|              1845|\n",
      "+-------+------------------+------------------+-------+------------------+------------------+------------------+------------------+\n",
      "\n"
     ]
    }
   ],
   "source": [
    "flights_df1.describe().show()"
   ]
  },
  {
   "cell_type": "markdown",
   "id": "2ba9b805",
   "metadata": {},
   "source": [
    "### 12. summary\n",
    "###### use summary method for detailed summary of columns\n",
    "###### shows count, mean, stddev, min, max, q1, q2, q3"
   ]
  },
  {
   "cell_type": "code",
   "execution_count": 52,
   "id": "c1ad0835",
   "metadata": {},
   "outputs": [
    {
     "name": "stdout",
     "output_type": "stream",
     "text": [
      "+-------+------------------+------------------+-------+------------------+------------------+------------------+------------------+\n",
      "|summary|        DayofMonth|         DayOfWeek|Carrier|   OriginAirportID|     DestAirportID|          DepDelay|          ArrDelay|\n",
      "+-------+------------------+------------------+-------+------------------+------------------+------------------+------------------+\n",
      "|  count|           2696983|           2696983|2696983|           2696983|           2696983|           2674774|           2673185|\n",
      "|   mean|15.798996508320593| 3.900369412784582|   null|12742.459424846207| 12742.85937657004|10.618575625454712|6.7272897311633875|\n",
      "| stddev| 8.801267199135454|1.9864582421701973|   null|1502.0359941370625|1501.9939589817989|36.198308432512704| 38.75007476808384|\n",
      "|    min|                 1|                 1|     9E|             10140|             10140|               -63|               -94|\n",
      "|    25%|                 8|                 2|   null|             11292|             11292|                -4|               -11|\n",
      "|    50%|                16|                 4|   null|             12892|             12892|                -1|                -3|\n",
      "|    75%|                23|                 6|   null|             14057|             14057|                10|                10|\n",
      "|    max|                31|                 7|     YV|             15376|             15376|              1863|              1845|\n",
      "+-------+------------------+------------------+-------+------------------+------------------+------------------+------------------+\n",
      "\n"
     ]
    }
   ],
   "source": [
    "flights_df1.summary().show()"
   ]
  },
  {
   "cell_type": "markdown",
   "id": "9a7f4838",
   "metadata": {},
   "source": [
    "### 13. select categorical columns"
   ]
  },
  {
   "cell_type": "code",
   "execution_count": 54,
   "id": "cbfaaf42",
   "metadata": {},
   "outputs": [],
   "source": [
    "from pyspark.sql.types import IntegerType, StringType\n",
    "from pyspark.sql.functions import *"
   ]
  },
  {
   "cell_type": "code",
   "execution_count": 56,
   "id": "40b9e2cd",
   "metadata": {},
   "outputs": [],
   "source": [
    "categorical_columns = [field.name for field in flights_df1.schema.fields if isinstance(field.dataType, StringType)]"
   ]
  },
  {
   "cell_type": "code",
   "execution_count": 57,
   "id": "75115113",
   "metadata": {},
   "outputs": [
    {
     "data": {
      "text/plain": [
       "['Carrier']"
      ]
     },
     "execution_count": 57,
     "metadata": {},
     "output_type": "execute_result"
    }
   ],
   "source": [
    "categorical_columns"
   ]
  },
  {
   "cell_type": "markdown",
   "id": "e59ca2d5",
   "metadata": {},
   "source": [
    "### 14. col, groupBy()\n",
    "###### col function is used to refer to a column DataFrame\n",
    "###### groupBy() - method to group rows of a DataFrame based on values of one or more columns"
   ]
  },
  {
   "cell_type": "code",
   "execution_count": 58,
   "id": "79f0d139",
   "metadata": {},
   "outputs": [],
   "source": [
    "# col function is used to refer to a column in a DataType\n",
    "# where to use it? in column aggregation\n",
    "\n",
    "from pyspark.sql.functions import col"
   ]
  },
  {
   "cell_type": "code",
   "execution_count": 60,
   "id": "be112402",
   "metadata": {},
   "outputs": [
    {
     "data": {
      "text/plain": [
       "664460"
      ]
     },
     "execution_count": 60,
     "metadata": {},
     "output_type": "execute_result"
    }
   ],
   "source": [
    "flights_df1.filter(col('ArrDelay')>10).count()"
   ]
  },
  {
   "cell_type": "code",
   "execution_count": 61,
   "id": "4a7c9b5e",
   "metadata": {},
   "outputs": [
    {
     "name": "stdout",
     "output_type": "stream",
     "text": [
      "+-------+------+\n",
      "|Carrier| count|\n",
      "+-------+------+\n",
      "|     UA|286010|\n",
      "|     AA|288910|\n",
      "|     EV|157218|\n",
      "|     B6|121875|\n",
      "|     DL|381601|\n",
      "|     OO|159639|\n",
      "|     F9| 35736|\n",
      "|     YV| 52740|\n",
      "|     US|232955|\n",
      "|     MQ|112113|\n",
      "|     HA| 17424|\n",
      "|     AS| 68544|\n",
      "|     FL| 92674|\n",
      "|     VX| 34726|\n",
      "|     WN|575090|\n",
      "|     9E| 79728|\n",
      "+-------+------+\n",
      "\n"
     ]
    }
   ],
   "source": [
    "for column in categorical_columns:\n",
    "    flights_df1.groupBy(column).count().show()"
   ]
  },
  {
   "cell_type": "markdown",
   "id": "8a39b4fc",
   "metadata": {},
   "source": [
    "### 15. isNull()\n",
    "###### returns boolean outcome for missing values"
   ]
  },
  {
   "cell_type": "code",
   "execution_count": 63,
   "id": "e0c05cda",
   "metadata": {},
   "outputs": [
    {
     "name": "stdout",
     "output_type": "stream",
     "text": [
      "+----------+---------+-------+---------------+-------------+--------+--------+\n",
      "|DayofMonth|DayOfWeek|Carrier|OriginAirportID|DestAirportID|DepDelay|ArrDelay|\n",
      "+----------+---------+-------+---------------+-------------+--------+--------+\n",
      "|        17|        3|     DL|          14869|        14771|    null|    null|\n",
      "|        11|        4|     EV|          12266|        13871|    null|    null|\n",
      "|        19|        5|     EV|          11618|        11433|    null|    null|\n",
      "|        10|        3|     EV|          13930|        13851|    null|    null|\n",
      "|         9|        2|     EV|          11292|        14107|    null|    null|\n",
      "|        18|        4|     AA|          13303|        12892|    null|    null|\n",
      "|        11|        4|     AA|          13930|        11292|    null|    null|\n",
      "|        18|        4|     AA|          11298|        14107|    null|    null|\n",
      "|        16|        2|     AA|          11278|        13930|    null|    null|\n",
      "|        17|        3|     AA|          13930|        14107|    null|    null|\n",
      "|        16|        2|     AA|          12478|        12266|    null|    null|\n",
      "|        18|        4|     AA|          11298|        11618|    null|    null|\n",
      "|         3|        3|     AS|          14679|        14747|    null|    null|\n",
      "|        18|        4|     AA|          13930|        15304|    null|    null|\n",
      "|        18|        4|     DL|          10397|        13930|    null|    null|\n",
      "|         8|        1|     WN|          11292|        14893|    null|    null|\n",
      "|        12|        5|     MQ|          13930|        11618|    null|    null|\n",
      "|        11|        4|     MQ|          13930|        10693|    null|    null|\n",
      "|        16|        2|     MQ|          10792|        13930|    null|    null|\n",
      "|        17|        3|     MQ|          13930|        11433|      88|    null|\n",
      "+----------+---------+-------+---------------+-------------+--------+--------+\n",
      "only showing top 20 rows\n",
      "\n"
     ]
    }
   ],
   "source": [
    "# check for nulls in a specific column\n",
    "flights_df1.filter(col('ArrDelay').isNull()).show()"
   ]
  },
  {
   "cell_type": "code",
   "execution_count": 80,
   "id": "8cd83224",
   "metadata": {},
   "outputs": [
    {
     "data": {
      "text/plain": [
       "23798"
      ]
     },
     "execution_count": 80,
     "metadata": {},
     "output_type": "execute_result"
    }
   ],
   "source": [
    "# show number of missing values for one column\n",
    "# returns a boolean value/boolean outcome\n",
    "flights_df1.filter(col('ArrDelay').isNull()).count()"
   ]
  },
  {
   "cell_type": "code",
   "execution_count": 95,
   "id": "72d9c6c6",
   "metadata": {},
   "outputs": [
    {
     "name": "stdout",
     "output_type": "stream",
     "text": [
      "+----------+---------+-------+---------------+-------------+--------+--------+\n",
      "|DayofMonth|DayOfWeek|Carrier|OriginAirportID|DestAirportID|DepDelay|ArrDelay|\n",
      "+----------+---------+-------+---------------+-------------+--------+--------+\n",
      "|         0|        0|      0|              0|            0|   22209|   23798|\n",
      "+----------+---------+-------+---------------+-------------+--------+--------+\n",
      "\n"
     ]
    }
   ],
   "source": [
    "flights_df1.select([count(when(isnull(column), column)).alias(column) for column in flights_df1.columns]).show()"
   ]
  },
  {
   "cell_type": "code",
   "execution_count": null,
   "id": "5f858f49",
   "metadata": {},
   "outputs": [],
   "source": [
    "# alternative approach- use col() and isNull()"
   ]
  },
  {
   "cell_type": "code",
   "execution_count": 98,
   "id": "17bae786",
   "metadata": {},
   "outputs": [
    {
     "data": {
      "text/plain": [
       "[{'DayofMonth': 0},\n",
       " {'DayOfWeek': 0},\n",
       " {'Carrier': 0},\n",
       " {'OriginAirportID': 0},\n",
       " {'DestAirportID': 0},\n",
       " {'DepDelay': 22209},\n",
       " {'ArrDelay': 23798}]"
      ]
     },
     "execution_count": 98,
     "metadata": {},
     "output_type": "execute_result"
    }
   ],
   "source": [
    "from pyspark.sql.functions import col\n",
    "[{column: flights_df1.filter(col(column).isNull()).count()} for column in flights_df1.columns]"
   ]
  },
  {
   "cell_type": "code",
   "execution_count": 100,
   "id": "edd35112",
   "metadata": {},
   "outputs": [
    {
     "name": "stdout",
     "output_type": "stream",
     "text": [
      "+----------+---------+-------+---------------+-------------+--------+--------+\n",
      "|DayofMonth|DayOfWeek|Carrier|OriginAirportID|DestAirportID|DepDelay|ArrDelay|\n",
      "+----------+---------+-------+---------------+-------------+--------+--------+\n",
      "|         0|        0|      0|              0|            0|   22209|   23798|\n",
      "+----------+---------+-------+---------------+-------------+--------+--------+\n",
      "\n"
     ]
    }
   ],
   "source": [
    "# better version of top query\n",
    "flights_df1.select([sum(col(column).isNull().cast(\"int\")).alias(column) for column in flights_df1.columns]).show()"
   ]
  },
  {
   "cell_type": "markdown",
   "id": "25b3b268",
   "metadata": {},
   "source": [
    "# 16. fillna()\n",
    "###### replace of fill missinf values of column with central tendency (mean, median, mode)\n",
    "###### here, will replace missing values by 0's"
   ]
  },
  {
   "cell_type": "code",
   "execution_count": 105,
   "id": "6c53b8d8",
   "metadata": {},
   "outputs": [
    {
     "name": "stdout",
     "output_type": "stream",
     "text": [
      "+----------+---------+-------+---------------+-------------+--------+--------+\n",
      "|DayofMonth|DayOfWeek|Carrier|OriginAirportID|DestAirportID|DepDelay|ArrDelay|\n",
      "+----------+---------+-------+---------------+-------------+--------+--------+\n",
      "|         0|        0|      0|              0|            0|       0|       0|\n",
      "+----------+---------+-------+---------------+-------------+--------+--------+\n",
      "\n"
     ]
    }
   ],
   "source": [
    "flights_df2 = flights_df1.fillna({'DepDelay':0, 'ArrDelay':0})\n",
    "flights_df2.select([sum(col(column).isNull().cast(\"int\")).alias(column) for column in flights_df2.columns]).show()"
   ]
  },
  {
   "cell_type": "markdown",
   "id": "c5b82e0a",
   "metadata": {},
   "source": [
    "# 17. dropna()\n",
    "###### used to remove rows with null values"
   ]
  },
  {
   "cell_type": "code",
   "execution_count": null,
   "id": "6fe1d061",
   "metadata": {},
   "outputs": [],
   "source": [
    "flights_df3 = flights_df1.dropna()"
   ]
  },
  {
   "cell_type": "markdown",
   "id": "752264b3",
   "metadata": {},
   "source": [
    "# 18. statistical methods\n",
    "##### mean(), median(), stddev(), quartiles()"
   ]
  },
  {
   "cell_type": "code",
   "execution_count": 109,
   "id": "fa7901ee",
   "metadata": {},
   "outputs": [
    {
     "name": "stdout",
     "output_type": "stream",
     "text": [
      "+------------+\n",
      "|meanDepDelay|\n",
      "+------------+\n",
      "|      10.619|\n",
      "+------------+\n",
      "\n"
     ]
    }
   ],
   "source": [
    "flights_df1.select(round(mean(col('DepDelay')),3).alias('meanDepDelay')).show()"
   ]
  },
  {
   "cell_type": "code",
   "execution_count": 113,
   "id": "cbb1c766",
   "metadata": {},
   "outputs": [
    {
     "name": "stdout",
     "output_type": "stream",
     "text": [
      "+--------------+\n",
      "|stdDevDepDelay|\n",
      "+--------------+\n",
      "|        36.198|\n",
      "+--------------+\n",
      "\n"
     ]
    }
   ],
   "source": [
    "flights_df1.select(round(stddev(col('DepDelay')),3).alias('stdDevDepDelay')).show()"
   ]
  },
  {
   "cell_type": "code",
   "execution_count": 112,
   "id": "fa8d26a0",
   "metadata": {},
   "outputs": [
    {
     "name": "stdout",
     "output_type": "stream",
     "text": [
      "+----------------+\n",
      "|varianceDepDelay|\n",
      "+----------------+\n",
      "|        1310.318|\n",
      "+----------------+\n",
      "\n"
     ]
    }
   ],
   "source": [
    "flights_df1.select(round(variance(col('DepDelay')),3).alias('varianceDepDelay')).show()"
   ]
  },
  {
   "cell_type": "code",
   "execution_count": 116,
   "id": "49051f14",
   "metadata": {},
   "outputs": [
    {
     "data": {
      "text/plain": [
       "-3.0"
      ]
     },
     "execution_count": 116,
     "metadata": {},
     "output_type": "execute_result"
    }
   ],
   "source": [
    "# to calculate median, we use approxQuantile or expr\n",
    "flights_df1.approxQuantile('ArrDelay', [0.5], relativeError=0.0001)[0]"
   ]
  },
  {
   "cell_type": "code",
   "execution_count": 117,
   "id": "9cfedb6d",
   "metadata": {},
   "outputs": [
    {
     "data": {
      "text/plain": [
       "10.619"
      ]
     },
     "execution_count": 117,
     "metadata": {},
     "output_type": "execute_result"
    }
   ],
   "source": [
    "flights_df1.select(round(mean(col('DepDelay')),3).alias('meanDepDelay')).collect()[0][0] \n",
    "# we use collect() to get dataframe, [0][0] is for row=0 and column=0 "
   ]
  },
  {
   "cell_type": "markdown",
   "id": "07c959f7",
   "metadata": {},
   "source": [
    "# 19. groupBy and aggregate"
   ]
  },
  {
   "cell_type": "code",
   "execution_count": 120,
   "id": "03542aa3",
   "metadata": {},
   "outputs": [
    {
     "data": {
      "text/plain": [
       "<pyspark.sql.group.GroupedData at 0x7fb459652be0>"
      ]
     },
     "execution_count": 120,
     "metadata": {},
     "output_type": "execute_result"
    }
   ],
   "source": [
    "flights_df1.groupBy('Carrier')"
   ]
  },
  {
   "cell_type": "code",
   "execution_count": 121,
   "id": "d1de2f65",
   "metadata": {},
   "outputs": [
    {
     "name": "stdout",
     "output_type": "stream",
     "text": [
      "+-------+------------------+\n",
      "|Carrier|     avg(DepDelay)|\n",
      "+-------+------------------+\n",
      "|     UA|12.644186783024843|\n",
      "|     AA|12.154096505870111|\n",
      "|     EV| 14.52813602113455|\n",
      "|     B6|12.675216069471794|\n",
      "|     DL| 7.451940716867138|\n",
      "|     OO| 7.954327121364983|\n",
      "|     F9|12.142480802645592|\n",
      "|     YV| 9.595018289496604|\n",
      "|     US| 5.011879623272143|\n",
      "|     MQ|15.612577198673192|\n",
      "|     HA|1.5358414704192993|\n",
      "|     AS|0.6606730403765751|\n",
      "|     FL|10.227206113831024|\n",
      "|     VX|14.416962353959326|\n",
      "|     WN|12.930658050935614|\n",
      "|     9E| 9.767838809034908|\n",
      "+-------+------------------+\n",
      "\n"
     ]
    }
   ],
   "source": [
    "flights_df1.groupBy('Carrier').agg(mean('DepDelay')).show()"
   ]
  },
  {
   "cell_type": "code",
   "execution_count": 132,
   "id": "16e9546a",
   "metadata": {},
   "outputs": [
    {
     "name": "stdout",
     "output_type": "stream",
     "text": [
      "+-------+--------------------+------------------+\n",
      "|Carrier|       avg(ArrDelay)|     avg(DepDelay)|\n",
      "+-------+--------------------+------------------+\n",
      "|     UA|   5.207155029152466|12.644186783024843|\n",
      "|     AA|    7.22786703097812|12.154096505870111|\n",
      "|     EV|  10.501436641191532| 14.52813602113455|\n",
      "|     B6|   9.679335778153199|12.675216069471794|\n",
      "|     DL|  2.8085929091567747| 7.451940716867138|\n",
      "|     OO|   6.447766785619039| 7.954327121364983|\n",
      "|     F9|  12.870312237233028|12.142480802645592|\n",
      "|     YV|   8.749505833107245| 9.595018289496604|\n",
      "|     US|   3.957719324788726| 5.011879623272143|\n",
      "|     MQ|   14.27679662028746|15.612577198673192|\n",
      "|     HA|   1.534325271442523|1.5358414704192993|\n",
      "|     AS|-0.27272328542814955|0.6606730403765751|\n",
      "|     FL|   7.277437501357486|10.227206113831024|\n",
      "|     VX|   9.678802215555043|14.416962353959326|\n",
      "|     WN|   8.368672739670938|12.930658050935614|\n",
      "|     9E|   4.931550031523011| 9.767838809034908|\n",
      "+-------+--------------------+------------------+\n",
      "\n"
     ]
    }
   ],
   "source": [
    "flights_df1.groupBy('Carrier').agg(mean('ArrDelay'), mean('DepDelay')).show()"
   ]
  },
  {
   "cell_type": "markdown",
   "id": "8a0d5198",
   "metadata": {},
   "source": [
    "### 20. WithColumn\n",
    "###### any column wise transformation will go through withColumn\n",
    "###### for all column operations - create new or modify existing column in DataFrame\n",
    "###### also used for applying transformations or calculations\n",
    "###### df.withColumn(colName, col)"
   ]
  },
  {
   "cell_type": "code",
   "execution_count": 131,
   "id": "8d13faaf",
   "metadata": {},
   "outputs": [
    {
     "name": "stdout",
     "output_type": "stream",
     "text": [
      "+----------+---------+-------+---------------+-------------+--------+--------+----------+\n",
      "|DayofMonth|DayOfWeek|Carrier|OriginAirportID|DestAirportID|DepDelay|ArrDelay|TotalDelay|\n",
      "+----------+---------+-------+---------------+-------------+--------+--------+----------+\n",
      "|         6|        1|     WN|          10821|        10140|       1|     -22|       -21|\n",
      "|         8|        1|     AA|          11298|        10140|       0|       6|         6|\n",
      "|        15|        1|     WN|          14747|        10140|      -6|       3|        -3|\n",
      "|        27|        1|     AA|          11298|        10140|     113|     117|       230|\n",
      "|         7|        2|     OO|          12266|        10140|      -3|     -11|       -14|\n",
      "|        28|        2|     WN|          14107|        10140|      -3|       0|        -3|\n",
      "|        30|        2|     OO|          12266|        10140|      -4|     -11|       -15|\n",
      "|         1|        3|     EV|          12266|        10140|     -11|     -26|       -37|\n",
      "|         3|        3|     OO|          12892|        10140|      -4|      -2|        -6|\n",
      "|        17|        3|     WN|          12892|        10140|      -1|       3|         2|\n",
      "|        22|        3|     WN|          14107|        10140|     109|     106|       215|\n",
      "|        24|        3|     WN|          14747|        10140|       0|      -4|        -4|\n",
      "|         2|        4|     OO|          14869|        10140|      -8|     -25|       -33|\n",
      "|         4|        4|     WN|          11259|        10140|      -5|      -9|       -14|\n",
      "|         4|        4|     OO|          14771|        10140|      22|      31|        53|\n",
      "|        11|        4|     WN|          14057|        10140|      -3|     -19|       -22|\n",
      "|         5|        5|     AA|          11298|        10140|      13|       2|        15|\n",
      "|        12|        5|     OO|          14869|        10140|      -2|     -10|       -12|\n",
      "|         6|        6|     WN|          11259|        10140|      -3|     -10|       -13|\n",
      "|         6|        6|     WN|          12892|        10140|      -3|     -13|       -16|\n",
      "+----------+---------+-------+---------------+-------------+--------+--------+----------+\n",
      "only showing top 20 rows\n",
      "\n"
     ]
    }
   ],
   "source": [
    "flights_df1.withColumn(\"TotalDelay\", col(\"DepDelay\")+col(\"ArrDelay\")).show()"
   ]
  },
  {
   "cell_type": "code",
   "execution_count": 133,
   "id": "c807579d",
   "metadata": {},
   "outputs": [
    {
     "name": "stdout",
     "output_type": "stream",
     "text": [
      "+----------+---------+-------+---------------+-------------+--------+--------+--------+\n",
      "|DayofMonth|DayOfWeek|Carrier|OriginAirportID|DestAirportID|DepDelay|ArrDelay|IsDelay?|\n",
      "+----------+---------+-------+---------------+-------------+--------+--------+--------+\n",
      "|         6|        1|     WN|          10821|        10140|       1|     -22|   Delay|\n",
      "|         8|        1|     AA|          11298|        10140|       0|       6|No Delay|\n",
      "|        15|        1|     WN|          14747|        10140|      -6|       3|No Delay|\n",
      "|        27|        1|     AA|          11298|        10140|     113|     117|   Delay|\n",
      "|         7|        2|     OO|          12266|        10140|      -3|     -11|No Delay|\n",
      "|        28|        2|     WN|          14107|        10140|      -3|       0|No Delay|\n",
      "|        30|        2|     OO|          12266|        10140|      -4|     -11|No Delay|\n",
      "|         1|        3|     EV|          12266|        10140|     -11|     -26|No Delay|\n",
      "|         3|        3|     OO|          12892|        10140|      -4|      -2|No Delay|\n",
      "|        17|        3|     WN|          12892|        10140|      -1|       3|No Delay|\n",
      "|        22|        3|     WN|          14107|        10140|     109|     106|   Delay|\n",
      "|        24|        3|     WN|          14747|        10140|       0|      -4|No Delay|\n",
      "|         2|        4|     OO|          14869|        10140|      -8|     -25|No Delay|\n",
      "|         4|        4|     WN|          11259|        10140|      -5|      -9|No Delay|\n",
      "|         4|        4|     OO|          14771|        10140|      22|      31|   Delay|\n",
      "|        11|        4|     WN|          14057|        10140|      -3|     -19|No Delay|\n",
      "|         5|        5|     AA|          11298|        10140|      13|       2|   Delay|\n",
      "|        12|        5|     OO|          14869|        10140|      -2|     -10|No Delay|\n",
      "|         6|        6|     WN|          11259|        10140|      -3|     -10|No Delay|\n",
      "|         6|        6|     WN|          12892|        10140|      -3|     -13|No Delay|\n",
      "+----------+---------+-------+---------------+-------------+--------+--------+--------+\n",
      "only showing top 20 rows\n",
      "\n"
     ]
    }
   ],
   "source": [
    "flights_df1.withColumn(\"IsDelay?\", when(col(\"DepDelay\")>0, 'Delay').otherwise('No Delay')).show()"
   ]
  },
  {
   "cell_type": "code",
   "execution_count": 136,
   "id": "fc6e818e",
   "metadata": {},
   "outputs": [
    {
     "data": {
      "text/plain": [
       "-3"
      ]
     },
     "execution_count": 136,
     "metadata": {},
     "output_type": "execute_result"
    }
   ],
   "source": [
    "### expr()\n",
    "\n",
    "from pyspark.sql.functions import expr\n",
    "median_expr = expr(f\"percentile_approx({'ArrDelay'}, 0.5)\")\n",
    "flights_df.agg(median_expr.alias('Median')).collect()[0][0]"
   ]
  },
  {
   "cell_type": "code",
   "execution_count": null,
   "id": "03b48a72",
   "metadata": {},
   "outputs": [],
   "source": []
  }
 ],
 "metadata": {
  "kernelspec": {
   "display_name": "Python 3",
   "language": "python",
   "name": "python3"
  },
  "language_info": {
   "codemirror_mode": {
    "name": "ipython",
    "version": 3
   },
   "file_extension": ".py",
   "mimetype": "text/x-python",
   "name": "python",
   "nbconvert_exporter": "python",
   "pygments_lexer": "ipython3",
   "version": "3.6.9"
  }
 },
 "nbformat": 4,
 "nbformat_minor": 5
}
