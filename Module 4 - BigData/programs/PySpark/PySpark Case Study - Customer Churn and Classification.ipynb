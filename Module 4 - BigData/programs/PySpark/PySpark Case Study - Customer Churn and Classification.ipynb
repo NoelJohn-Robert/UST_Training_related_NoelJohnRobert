{
 "cells": [
  {
   "cell_type": "code",
   "execution_count": 1,
   "id": "3bd65fd0",
   "metadata": {},
   "outputs": [
    {
     "data": {
      "text/html": [
       "\n",
       "        <div>\n",
       "            <p><b>SparkContext</b></p>\n",
       "\n",
       "            <p><a href=\"http://10.0.2.15:4040\">Spark UI</a></p>\n",
       "\n",
       "            <dl>\n",
       "              <dt>Version</dt>\n",
       "                <dd><code>v2.4.8</code></dd>\n",
       "              <dt>Master</dt>\n",
       "                <dd><code>local[*]</code></dd>\n",
       "              <dt>AppName</dt>\n",
       "                <dd><code>PySparkShell</code></dd>\n",
       "            </dl>\n",
       "        </div>\n",
       "        "
      ],
      "text/plain": [
       "<SparkContext master=local[*] appName=PySparkShell>"
      ]
     },
     "execution_count": 1,
     "metadata": {},
     "output_type": "execute_result"
    }
   ],
   "source": [
    "sc"
   ]
  },
  {
   "cell_type": "code",
   "execution_count": 2,
   "id": "31fee369",
   "metadata": {},
   "outputs": [
    {
     "data": {
      "text/html": [
       "\n",
       "            <div>\n",
       "                <p><b>SparkSession - hive</b></p>\n",
       "                \n",
       "        <div>\n",
       "            <p><b>SparkContext</b></p>\n",
       "\n",
       "            <p><a href=\"http://10.0.2.15:4040\">Spark UI</a></p>\n",
       "\n",
       "            <dl>\n",
       "              <dt>Version</dt>\n",
       "                <dd><code>v2.4.8</code></dd>\n",
       "              <dt>Master</dt>\n",
       "                <dd><code>local[*]</code></dd>\n",
       "              <dt>AppName</dt>\n",
       "                <dd><code>PySparkShell</code></dd>\n",
       "            </dl>\n",
       "        </div>\n",
       "        \n",
       "            </div>\n",
       "        "
      ],
      "text/plain": [
       "<pyspark.sql.session.SparkSession at 0x7f893784b470>"
      ]
     },
     "execution_count": 2,
     "metadata": {},
     "output_type": "execute_result"
    }
   ],
   "source": [
    "spark"
   ]
  },
  {
   "cell_type": "markdown",
   "id": "80b084c4",
   "metadata": {},
   "source": [
    "## Read Dataset"
   ]
  },
  {
   "cell_type": "code",
   "execution_count": 3,
   "id": "91975d0e",
   "metadata": {},
   "outputs": [
    {
     "data": {
      "text/plain": [
       "Row(customerID='7590-VHVEG', gender='Female', SeniorCitizen=0, Partner='Yes', Dependents='No', tenure=1, PhoneService='No', MultipleLines='No phone service', InternetService='DSL', OnlineSecurity='No', OnlineBackup='Yes', DeviceProtection='No', TechSupport='No', StreamingTV='No', StreamingMovies='No', Contract='Month-to-month', PaperlessBilling='Yes', PaymentMethod='Electronic check', MonthlyCharges=29.85, TotalCharges='29.85', Churn='No')"
      ]
     },
     "execution_count": 3,
     "metadata": {},
     "output_type": "execute_result"
    }
   ],
   "source": [
    "churn_data = spark.read.csv('file:///home/hadoop/Downloads/Telco_Customer_Churn.csv', header=True, inferSchema=True)\n",
    "churn_data.head()"
   ]
  },
  {
   "cell_type": "code",
   "execution_count": 4,
   "id": "9d7883bb",
   "metadata": {},
   "outputs": [
    {
     "name": "stdout",
     "output_type": "stream",
     "text": [
      "+----------+------+-------------+-------+----------+------+------------+----------------+---------------+-------------------+-------------------+-------------------+-------------------+-------------------+-------------------+--------------+----------------+--------------------+--------------+------------+-----+\n",
      "|customerID|gender|SeniorCitizen|Partner|Dependents|tenure|PhoneService|   MultipleLines|InternetService|     OnlineSecurity|       OnlineBackup|   DeviceProtection|        TechSupport|        StreamingTV|    StreamingMovies|      Contract|PaperlessBilling|       PaymentMethod|MonthlyCharges|TotalCharges|Churn|\n",
      "+----------+------+-------------+-------+----------+------+------------+----------------+---------------+-------------------+-------------------+-------------------+-------------------+-------------------+-------------------+--------------+----------------+--------------------+--------------+------------+-----+\n",
      "|7590-VHVEG|Female|            0|    Yes|        No|     1|          No|No phone service|            DSL|                 No|                Yes|                 No|                 No|                 No|                 No|Month-to-month|             Yes|    Electronic check|         29.85|       29.85|   No|\n",
      "|5575-GNVDE|  Male|            0|     No|        No|    34|         Yes|              No|            DSL|                Yes|                 No|                Yes|                 No|                 No|                 No|      One year|              No|        Mailed check|         56.95|      1889.5|   No|\n",
      "|3668-QPYBK|  Male|            0|     No|        No|     2|         Yes|              No|            DSL|                Yes|                Yes|                 No|                 No|                 No|                 No|Month-to-month|             Yes|        Mailed check|         53.85|      108.15|  Yes|\n",
      "|7795-CFOCW|  Male|            0|     No|        No|    45|          No|No phone service|            DSL|                Yes|                 No|                Yes|                Yes|                 No|                 No|      One year|              No|Bank transfer (au...|          42.3|     1840.75|   No|\n",
      "|9237-HQITU|Female|            0|     No|        No|     2|         Yes|              No|    Fiber optic|                 No|                 No|                 No|                 No|                 No|                 No|Month-to-month|             Yes|    Electronic check|          70.7|      151.65|  Yes|\n",
      "|9305-CDSKC|Female|            0|     No|        No|     8|         Yes|             Yes|    Fiber optic|                 No|                 No|                Yes|                 No|                Yes|                Yes|Month-to-month|             Yes|    Electronic check|         99.65|       820.5|  Yes|\n",
      "|1452-KIOVK|  Male|            0|     No|       Yes|    22|         Yes|             Yes|    Fiber optic|                 No|                Yes|                 No|                 No|                Yes|                 No|Month-to-month|             Yes|Credit card (auto...|          89.1|      1949.4|   No|\n",
      "|6713-OKOMC|Female|            0|     No|        No|    10|          No|No phone service|            DSL|                Yes|                 No|                 No|                 No|                 No|                 No|Month-to-month|              No|        Mailed check|         29.75|       301.9|   No|\n",
      "|7892-POOKP|Female|            0|    Yes|        No|    28|         Yes|             Yes|    Fiber optic|                 No|                 No|                Yes|                Yes|                Yes|                Yes|Month-to-month|             Yes|    Electronic check|         104.8|     3046.05|  Yes|\n",
      "|6388-TABGU|  Male|            0|     No|       Yes|    62|         Yes|              No|            DSL|                Yes|                Yes|                 No|                 No|                 No|                 No|      One year|              No|Bank transfer (au...|         56.15|     3487.95|   No|\n",
      "|9763-GRSKD|  Male|            0|    Yes|       Yes|    13|         Yes|              No|            DSL|                Yes|                 No|                 No|                 No|                 No|                 No|Month-to-month|             Yes|        Mailed check|         49.95|      587.45|   No|\n",
      "|7469-LKBCI|  Male|            0|     No|        No|    16|         Yes|              No|             No|No internet service|No internet service|No internet service|No internet service|No internet service|No internet service|      Two year|              No|Credit card (auto...|         18.95|       326.8|   No|\n",
      "|8091-TTVAX|  Male|            0|    Yes|        No|    58|         Yes|             Yes|    Fiber optic|                 No|                 No|                Yes|                 No|                Yes|                Yes|      One year|              No|Credit card (auto...|        100.35|      5681.1|   No|\n",
      "|0280-XJGEX|  Male|            0|     No|        No|    49|         Yes|             Yes|    Fiber optic|                 No|                Yes|                Yes|                 No|                Yes|                Yes|Month-to-month|             Yes|Bank transfer (au...|         103.7|      5036.3|  Yes|\n",
      "|5129-JLPIS|  Male|            0|     No|        No|    25|         Yes|              No|    Fiber optic|                Yes|                 No|                Yes|                Yes|                Yes|                Yes|Month-to-month|             Yes|    Electronic check|         105.5|     2686.05|   No|\n",
      "|3655-SNQYZ|Female|            0|    Yes|       Yes|    69|         Yes|             Yes|    Fiber optic|                Yes|                Yes|                Yes|                Yes|                Yes|                Yes|      Two year|              No|Credit card (auto...|        113.25|     7895.15|   No|\n",
      "|8191-XWSZG|Female|            0|     No|        No|    52|         Yes|              No|             No|No internet service|No internet service|No internet service|No internet service|No internet service|No internet service|      One year|              No|        Mailed check|         20.65|     1022.95|   No|\n",
      "|9959-WOFKT|  Male|            0|     No|       Yes|    71|         Yes|             Yes|    Fiber optic|                Yes|                 No|                Yes|                 No|                Yes|                Yes|      Two year|              No|Bank transfer (au...|         106.7|     7382.25|   No|\n",
      "|4190-MFLUW|Female|            0|    Yes|       Yes|    10|         Yes|              No|            DSL|                 No|                 No|                Yes|                Yes|                 No|                 No|Month-to-month|              No|Credit card (auto...|          55.2|      528.35|  Yes|\n",
      "|4183-MYFRB|Female|            0|     No|        No|    21|         Yes|              No|    Fiber optic|                 No|                Yes|                Yes|                 No|                 No|                Yes|Month-to-month|             Yes|    Electronic check|         90.05|      1862.9|   No|\n",
      "+----------+------+-------------+-------+----------+------+------------+----------------+---------------+-------------------+-------------------+-------------------+-------------------+-------------------+-------------------+--------------+----------------+--------------------+--------------+------------+-----+\n",
      "only showing top 20 rows\n",
      "\n"
     ]
    }
   ],
   "source": [
    "churn_data.show()"
   ]
  },
  {
   "cell_type": "markdown",
   "id": "e7250adc",
   "metadata": {},
   "source": [
    "## 2. EDA Exploration\n",
    "#### a: How many customer records are present in dataset?"
   ]
  },
  {
   "cell_type": "code",
   "execution_count": 5,
   "id": "d32da058",
   "metadata": {},
   "outputs": [
    {
     "data": {
      "text/plain": [
       "7043"
      ]
     },
     "execution_count": 5,
     "metadata": {},
     "output_type": "execute_result"
    }
   ],
   "source": [
    "churn_data.count()"
   ]
  },
  {
   "cell_type": "code",
   "execution_count": 6,
   "id": "f10e5f45",
   "metadata": {},
   "outputs": [
    {
     "data": {
      "text/plain": [
       "21"
      ]
     },
     "execution_count": 6,
     "metadata": {},
     "output_type": "execute_result"
    }
   ],
   "source": [
    "len(churn_data.columns)"
   ]
  },
  {
   "cell_type": "code",
   "execution_count": 7,
   "id": "c64e1ac6",
   "metadata": {},
   "outputs": [
    {
     "data": {
      "text/plain": [
       "['customerID',\n",
       " 'gender',\n",
       " 'SeniorCitizen',\n",
       " 'Partner',\n",
       " 'Dependents',\n",
       " 'tenure',\n",
       " 'PhoneService',\n",
       " 'MultipleLines',\n",
       " 'InternetService',\n",
       " 'OnlineSecurity',\n",
       " 'OnlineBackup',\n",
       " 'DeviceProtection',\n",
       " 'TechSupport',\n",
       " 'StreamingTV',\n",
       " 'StreamingMovies',\n",
       " 'Contract',\n",
       " 'PaperlessBilling',\n",
       " 'PaymentMethod',\n",
       " 'MonthlyCharges',\n",
       " 'TotalCharges',\n",
       " 'Churn']"
      ]
     },
     "execution_count": 7,
     "metadata": {},
     "output_type": "execute_result"
    }
   ],
   "source": [
    "churn_data.columns"
   ]
  },
  {
   "cell_type": "code",
   "execution_count": 8,
   "id": "7e20e37c",
   "metadata": {},
   "outputs": [
    {
     "name": "stdout",
     "output_type": "stream",
     "text": [
      "root\n",
      " |-- customerID: string (nullable = true)\n",
      " |-- gender: string (nullable = true)\n",
      " |-- SeniorCitizen: integer (nullable = true)\n",
      " |-- Partner: string (nullable = true)\n",
      " |-- Dependents: string (nullable = true)\n",
      " |-- tenure: integer (nullable = true)\n",
      " |-- PhoneService: string (nullable = true)\n",
      " |-- MultipleLines: string (nullable = true)\n",
      " |-- InternetService: string (nullable = true)\n",
      " |-- OnlineSecurity: string (nullable = true)\n",
      " |-- OnlineBackup: string (nullable = true)\n",
      " |-- DeviceProtection: string (nullable = true)\n",
      " |-- TechSupport: string (nullable = true)\n",
      " |-- StreamingTV: string (nullable = true)\n",
      " |-- StreamingMovies: string (nullable = true)\n",
      " |-- Contract: string (nullable = true)\n",
      " |-- PaperlessBilling: string (nullable = true)\n",
      " |-- PaymentMethod: string (nullable = true)\n",
      " |-- MonthlyCharges: double (nullable = true)\n",
      " |-- TotalCharges: string (nullable = true)\n",
      " |-- Churn: string (nullable = true)\n",
      "\n"
     ]
    }
   ],
   "source": [
    "churn_data.printSchema()"
   ]
  },
  {
   "cell_type": "markdown",
   "id": "540cff4e",
   "metadata": {},
   "source": [
    "#### b. What is the distribution of gender among customers"
   ]
  },
  {
   "cell_type": "code",
   "execution_count": 9,
   "id": "37b0d0c6",
   "metadata": {},
   "outputs": [
    {
     "name": "stdout",
     "output_type": "stream",
     "text": [
      "+------+-----+\n",
      "|gender|count|\n",
      "+------+-----+\n",
      "|Female| 3488|\n",
      "|  Male| 3555|\n",
      "+------+-----+\n",
      "\n"
     ]
    }
   ],
   "source": [
    "churn_data.groupBy(['gender']).count().show()"
   ]
  },
  {
   "cell_type": "markdown",
   "id": "c6e3e8ce",
   "metadata": {},
   "source": [
    "#### c. What is the distribution of contract types amon customers?"
   ]
  },
  {
   "cell_type": "code",
   "execution_count": 10,
   "id": "34cc290f",
   "metadata": {},
   "outputs": [
    {
     "name": "stdout",
     "output_type": "stream",
     "text": [
      "+--------------+-----+\n",
      "|      contract|count|\n",
      "+--------------+-----+\n",
      "|Month-to-month| 3875|\n",
      "|      One year| 1473|\n",
      "|      Two year| 1695|\n",
      "+--------------+-----+\n",
      "\n"
     ]
    }
   ],
   "source": [
    "churn_data.groupBy(['contract']).count().show()"
   ]
  },
  {
   "cell_type": "markdown",
   "id": "ab66670a",
   "metadata": {},
   "source": [
    "#### d. What is the percentage of customers who got churned"
   ]
  },
  {
   "cell_type": "code",
   "execution_count": 11,
   "id": "5acc1a12",
   "metadata": {},
   "outputs": [
    {
     "name": "stdout",
     "output_type": "stream",
     "text": [
      "Percentage of customers who got churned = 26.53699\n"
     ]
    }
   ],
   "source": [
    "churned_percent = churn_data.select(['Churn']).where(\"Churn='Yes'\").count() / churn_data.count() * 100\n",
    "print(f\"Percentage of customers who got churned = {round(churned_percent, 5)}\")"
   ]
  },
  {
   "cell_type": "markdown",
   "id": "df64f1e4",
   "metadata": {},
   "source": [
    "## 3. Data PreProcessing\n",
    "#### Check for missing values and handle missing data"
   ]
  },
  {
   "cell_type": "code",
   "execution_count": 12,
   "id": "10d3a407",
   "metadata": {},
   "outputs": [],
   "source": [
    "from pyspark.sql.functions import *\n",
    "from pyspark.sql.types import *"
   ]
  },
  {
   "cell_type": "code",
   "execution_count": 13,
   "id": "9d703b17",
   "metadata": {},
   "outputs": [
    {
     "name": "stdout",
     "output_type": "stream",
     "text": [
      "+----------+------+-------------+-------+----------+------+------------+-------------+---------------+--------------+------------+----------------+-----------+-----------+---------------+--------+----------------+-------------+--------------+------------+-----+\n",
      "|customerID|gender|SeniorCitizen|Partner|Dependents|tenure|PhoneService|MultipleLines|InternetService|OnlineSecurity|OnlineBackup|DeviceProtection|TechSupport|StreamingTV|StreamingMovies|Contract|PaperlessBilling|PaymentMethod|MonthlyCharges|TotalCharges|Churn|\n",
      "+----------+------+-------------+-------+----------+------+------------+-------------+---------------+--------------+------------+----------------+-----------+-----------+---------------+--------+----------------+-------------+--------------+------------+-----+\n",
      "|         0|     0|            0|      0|         0|     0|           0|            0|              0|             0|           0|               0|          0|          0|              0|       0|               0|            0|             0|           0|    0|\n",
      "+----------+------+-------------+-------+----------+------+------------+-------------+---------------+--------------+------------+----------------+-----------+-----------+---------------+--------+----------------+-------------+--------------+------------+-----+\n",
      "\n"
     ]
    }
   ],
   "source": [
    "churn_data.select([count(when(isnull(col), col)).alias(col) for col in churn_data.columns]).show()"
   ]
  },
  {
   "cell_type": "code",
   "execution_count": 14,
   "id": "f5b9c3f0",
   "metadata": {},
   "outputs": [],
   "source": [
    "churn_data = churn_data.withColumn('TotalCharges', when(col('TotalCharges') == ' ', None).otherwise(col('TotalCharges')))"
   ]
  },
  {
   "cell_type": "code",
   "execution_count": 15,
   "id": "e3c4a755",
   "metadata": {},
   "outputs": [
    {
     "name": "stdout",
     "output_type": "stream",
     "text": [
      "+----------+------+-------------+-------+----------+------+------------+-------------+---------------+--------------+------------+----------------+-----------+-----------+---------------+--------+----------------+-------------+--------------+------------+-----+\n",
      "|customerID|gender|SeniorCitizen|Partner|Dependents|tenure|PhoneService|MultipleLines|InternetService|OnlineSecurity|OnlineBackup|DeviceProtection|TechSupport|StreamingTV|StreamingMovies|Contract|PaperlessBilling|PaymentMethod|MonthlyCharges|TotalCharges|Churn|\n",
      "+----------+------+-------------+-------+----------+------+------------+-------------+---------------+--------------+------------+----------------+-----------+-----------+---------------+--------+----------------+-------------+--------------+------------+-----+\n",
      "|         0|     0|            0|      0|         0|     0|           0|            0|              0|             0|           0|               0|          0|          0|              0|       0|               0|            0|             0|          11|    0|\n",
      "+----------+------+-------------+-------+----------+------+------------+-------------+---------------+--------------+------------+----------------+-----------+-----------+---------------+--------+----------------+-------------+--------------+------------+-----+\n",
      "\n"
     ]
    }
   ],
   "source": [
    "churn_data.select([count(when(isnull(col), col)).alias(col) for col in churn_data.columns]).show()"
   ]
  },
  {
   "cell_type": "code",
   "execution_count": 16,
   "id": "a321ec7e",
   "metadata": {},
   "outputs": [],
   "source": [
    "# above, we see 11 values in 'TotalCharges' are missing. we replaced them by None - and we have to drop them now\n",
    "churn_data1 = churn_data.na.drop()"
   ]
  },
  {
   "cell_type": "code",
   "execution_count": 17,
   "id": "674d8686",
   "metadata": {},
   "outputs": [
    {
     "data": {
      "text/plain": [
       "DataFrame[customerID: string, gender: string, SeniorCitizen: int, Partner: string, Dependents: string, tenure: int, PhoneService: string, MultipleLines: string, InternetService: string, OnlineSecurity: string, OnlineBackup: string, DeviceProtection: string, TechSupport: string, StreamingTV: string, StreamingMovies: string, Contract: string, PaperlessBilling: string, PaymentMethod: string, MonthlyCharges: double, TotalCharges: float, Churn: string]"
      ]
     },
     "execution_count": 17,
     "metadata": {},
     "output_type": "execute_result"
    }
   ],
   "source": [
    "# converting TotalCharges to float from string\n",
    "from pyspark.sql.types import FloatType\n",
    "churn_data1 = churn_data1.withColumn('TotalCharges', col('TotalCharges').cast(FloatType()))\n",
    "churn_data1"
   ]
  },
  {
   "cell_type": "markdown",
   "id": "d55126d2",
   "metadata": {},
   "source": [
    "## 4. Importing ML Libraries\n",
    "###### convert categorical variables into numerical format using one-hot encoding or label encoding"
   ]
  },
  {
   "cell_type": "code",
   "execution_count": 18,
   "id": "126ca51a",
   "metadata": {},
   "outputs": [],
   "source": [
    "churn_data1 = churn_data1.drop(col('customerID'))"
   ]
  },
  {
   "cell_type": "code",
   "execution_count": 19,
   "id": "6a42b023",
   "metadata": {},
   "outputs": [],
   "source": [
    "import numpy as np\n",
    "from pyspark.ml.feature import StringIndexer, OneHotEncoderEstimator, VectorAssembler\n",
    "from pyspark.ml import Pipeline"
   ]
  },
  {
   "cell_type": "code",
   "execution_count": 20,
   "id": "2d2fae27",
   "metadata": {},
   "outputs": [
    {
     "name": "stdout",
     "output_type": "stream",
     "text": [
      "['gender', 'SeniorCitizen', 'Partner', 'Dependents', 'tenure', 'PhoneService', 'MultipleLines', 'InternetService', 'OnlineSecurity', 'OnlineBackup', 'DeviceProtection', 'TechSupport', 'StreamingTV', 'StreamingMovies', 'Contract', 'PaperlessBilling', 'PaymentMethod', 'MonthlyCharges', 'TotalCharges', 'Churn']\n"
     ]
    }
   ],
   "source": [
    "print(churn_data1.columns)"
   ]
  },
  {
   "cell_type": "code",
   "execution_count": 21,
   "id": "8fb1c525",
   "metadata": {},
   "outputs": [],
   "source": [
    "# StringIndexer() - maps male to 1 and female to 0 [alphabetically] - each categorical value assigned an integer value\n",
    "# OneHotEncoder - for each row, only one value will be True/1 others are False/0\n",
    "#  https://www.google.com/url?sa=i&url=https%3A%2F%2Ftowardsdatascience.com%2Fbuilding-a-one-hot-encoding-layer-with-tensorflow-f907d686bf39&psig=AOvVaw1ep0LjD3FlmFo_qaJXpCww&ust=1725617545026000&source=images&cd=vfe&opi=89978449&ved=0CBIQjRxqFwoTCIj7-bfIq4gDFQAAAAAdAAAAABAJ"
   ]
  },
  {
   "cell_type": "code",
   "execution_count": 22,
   "id": "1ba2cd84",
   "metadata": {},
   "outputs": [
    {
     "name": "stdout",
     "output_type": "stream",
     "text": [
      "['gender', 'Partner', 'Dependents', 'PhoneService', 'MultipleLines', 'InternetService', 'OnlineSecurity', 'OnlineBackup', 'DeviceProtection', 'TechSupport', 'StreamingTV', 'StreamingMovies', 'Contract', 'PaperlessBilling', 'PaymentMethod', 'Churn']\n"
     ]
    }
   ],
   "source": [
    "categorical_columns = [field.name for field in churn_data1.schema.fields if isinstance(field.dataType, StringType)]\n",
    "print(categorical_columns)"
   ]
  },
  {
   "cell_type": "code",
   "execution_count": 31,
   "id": "06707285",
   "metadata": {},
   "outputs": [],
   "source": [
    "stages = []\n",
    "\n",
    "for catcols in categorical_columns[:-1]:\n",
    "    stringIndexer = StringIndexer(inputCol=catcols, outputCol=catcols+'Index')\n",
    "    onehotencoder = OneHotEncoderEstimator(inputCols=[stringIndexer.getOutputCol()],\n",
    "                                          outputCols=[catcols+'classVec'])\n",
    "    stages += [stringIndexer, onehotencoder]"
   ]
  },
  {
   "cell_type": "code",
   "execution_count": 32,
   "id": "ff8f795c",
   "metadata": {},
   "outputs": [
    {
     "name": "stdout",
     "output_type": "stream",
     "text": [
      "['SeniorCitizen', 'tenure', 'MonthlyCharges', 'TotalCharges']\n"
     ]
    }
   ],
   "source": [
    "numerical_columns = [field.name for field in churn_data1.schema.fields if not isinstance(field.dataType, StringType)]\n",
    "print(numerical_columns)"
   ]
  },
  {
   "cell_type": "code",
   "execution_count": 33,
   "id": "d938b424",
   "metadata": {},
   "outputs": [],
   "source": [
    "assemblerInputs = [c + 'classVec' for c in categorical_columns[:-1]] + numerical_columns\n",
    "assembler = VectorAssembler(inputCols=assemblerInputs, outputCol='features')\n",
    "stages += [assembler]"
   ]
  },
  {
   "cell_type": "code",
   "execution_count": 34,
   "id": "2eb97227",
   "metadata": {},
   "outputs": [],
   "source": [
    "label_stringIdx = StringIndexer(inputCol='Churn', outputCol='label')\n",
    "stages += [label_stringIdx]"
   ]
  },
  {
   "cell_type": "code",
   "execution_count": 35,
   "id": "6570bbbc",
   "metadata": {},
   "outputs": [],
   "source": [
    "pipeline = Pipeline(stages=stages)"
   ]
  },
  {
   "cell_type": "code",
   "execution_count": 36,
   "id": "83f12b4a",
   "metadata": {},
   "outputs": [],
   "source": [
    "preprocessing = pipeline.fit(churn_data1)"
   ]
  },
  {
   "cell_type": "code",
   "execution_count": 37,
   "id": "07a0f52f",
   "metadata": {},
   "outputs": [],
   "source": [
    "churn_df = preprocessing.transform(churn_data1)"
   ]
  },
  {
   "cell_type": "code",
   "execution_count": 39,
   "id": "ed578e3a",
   "metadata": {},
   "outputs": [
    {
     "name": "stdout",
     "output_type": "stream",
     "text": [
      "+--------------+-------------+----------------+\n",
      "|      Contract|ContractIndex|ContractclassVec|\n",
      "+--------------+-------------+----------------+\n",
      "|Month-to-month|          0.0|   (2,[0],[1.0])|\n",
      "|      One year|          2.0|       (2,[],[])|\n",
      "|Month-to-month|          0.0|   (2,[0],[1.0])|\n",
      "|      One year|          2.0|       (2,[],[])|\n",
      "|Month-to-month|          0.0|   (2,[0],[1.0])|\n",
      "|Month-to-month|          0.0|   (2,[0],[1.0])|\n",
      "|Month-to-month|          0.0|   (2,[0],[1.0])|\n",
      "|Month-to-month|          0.0|   (2,[0],[1.0])|\n",
      "|Month-to-month|          0.0|   (2,[0],[1.0])|\n",
      "|      One year|          2.0|       (2,[],[])|\n",
      "|Month-to-month|          0.0|   (2,[0],[1.0])|\n",
      "|      Two year|          1.0|   (2,[1],[1.0])|\n",
      "|      One year|          2.0|       (2,[],[])|\n",
      "|Month-to-month|          0.0|   (2,[0],[1.0])|\n",
      "|Month-to-month|          0.0|   (2,[0],[1.0])|\n",
      "|      Two year|          1.0|   (2,[1],[1.0])|\n",
      "|      One year|          2.0|       (2,[],[])|\n",
      "|      Two year|          1.0|   (2,[1],[1.0])|\n",
      "|Month-to-month|          0.0|   (2,[0],[1.0])|\n",
      "|Month-to-month|          0.0|   (2,[0],[1.0])|\n",
      "+--------------+-------------+----------------+\n",
      "only showing top 20 rows\n",
      "\n"
     ]
    }
   ],
   "source": [
    "churn_df.select(['Contract', 'ContractIndex', 'ContractclassVec']).show()"
   ]
  },
  {
   "cell_type": "code",
   "execution_count": 40,
   "id": "51c39fff",
   "metadata": {
    "scrolled": true
   },
   "outputs": [
    {
     "name": "stdout",
     "output_type": "stream",
     "text": [
      "+------------------------------------------------------------------------------------------------------------------------------------------------+-----+\n",
      "|features                                                                                                                                        |label|\n",
      "+------------------------------------------------------------------------------------------------------------------------------------------------+-----+\n",
      "|(30,[2,7,8,11,12,14,16,18,20,22,23,27,28,29],[1.0,1.0,1.0,1.0,1.0,1.0,1.0,1.0,1.0,1.0,1.0,1.0,29.85,29.850000381469727])                        |0.0  |\n",
      "|(30,[0,1,2,3,4,7,9,10,13,14,16,18,24,27,28,29],[1.0,1.0,1.0,1.0,1.0,1.0,1.0,1.0,1.0,1.0,1.0,1.0,1.0,34.0,56.95,1889.5])                         |0.0  |\n",
      "|(30,[0,1,2,3,4,7,9,11,12,14,16,18,20,22,24,27,28,29],[1.0,1.0,1.0,1.0,1.0,1.0,1.0,1.0,1.0,1.0,1.0,1.0,1.0,1.0,1.0,2.0,53.85,108.1500015258789]) |1.0  |\n",
      "|(30,[0,1,2,7,9,10,13,15,16,18,25,27,28,29],[1.0,1.0,1.0,1.0,1.0,1.0,1.0,1.0,1.0,1.0,1.0,45.0,42.3,1840.75])                                     |0.0  |\n",
      "|(30,[1,2,3,4,6,8,10,12,14,16,18,20,22,23,27,28,29],[1.0,1.0,1.0,1.0,1.0,1.0,1.0,1.0,1.0,1.0,1.0,1.0,1.0,1.0,2.0,70.7,151.64999389648438])       |1.0  |\n",
      "|(30,[1,2,3,5,6,8,10,13,14,17,19,20,22,23,27,28,29],[1.0,1.0,1.0,1.0,1.0,1.0,1.0,1.0,1.0,1.0,1.0,1.0,1.0,1.0,8.0,99.65,820.5])                   |1.0  |\n",
      "|(30,[0,1,3,5,6,8,11,12,14,17,18,20,22,27,28,29],[1.0,1.0,1.0,1.0,1.0,1.0,1.0,1.0,1.0,1.0,1.0,1.0,1.0,22.0,89.1,1949.4000244140625])             |0.0  |\n",
      "|(30,[1,2,7,9,10,12,14,16,18,20,24,27,28,29],[1.0,1.0,1.0,1.0,1.0,1.0,1.0,1.0,1.0,1.0,1.0,10.0,29.75,301.8999938964844])                         |0.0  |\n",
      "|(30,[2,3,5,6,8,10,13,15,17,19,20,22,23,27,28,29],[1.0,1.0,1.0,1.0,1.0,1.0,1.0,1.0,1.0,1.0,1.0,1.0,1.0,28.0,104.8,3046.050048828125])            |1.0  |\n",
      "|(30,[0,1,3,4,7,9,11,12,14,16,18,25,27,28,29],[1.0,1.0,1.0,1.0,1.0,1.0,1.0,1.0,1.0,1.0,1.0,1.0,62.0,56.15,3487.949951171875])                    |0.0  |\n",
      "|(30,[0,3,4,7,9,10,12,14,16,18,20,22,24,27,28,29],[1.0,1.0,1.0,1.0,1.0,1.0,1.0,1.0,1.0,1.0,1.0,1.0,1.0,13.0,49.95,587.4500122070312])            |0.0  |\n",
      "|(30,[0,1,2,3,4,21,27,28,29],[1.0,1.0,1.0,1.0,1.0,1.0,16.0,18.95,326.79998779296875])                                                            |0.0  |\n",
      "|(30,[0,2,3,5,6,8,10,13,14,17,19,27,28,29],[1.0,1.0,1.0,1.0,1.0,1.0,1.0,1.0,1.0,1.0,1.0,58.0,100.35,5681.10009765625])                           |0.0  |\n",
      "|(30,[0,1,2,3,5,6,8,11,13,14,17,19,20,22,25,27,28,29],[1.0,1.0,1.0,1.0,1.0,1.0,1.0,1.0,1.0,1.0,1.0,1.0,1.0,1.0,1.0,49.0,103.7,5036.2998046875])  |1.0  |\n",
      "|(30,[0,1,2,3,4,6,9,10,13,15,17,19,20,22,23,27,28,29],[1.0,1.0,1.0,1.0,1.0,1.0,1.0,1.0,1.0,1.0,1.0,1.0,1.0,1.0,1.0,25.0,105.5,2686.050048828125])|0.0  |\n",
      "|(30,[3,5,6,9,11,13,15,17,19,21,27,28,29],[1.0,1.0,1.0,1.0,1.0,1.0,1.0,1.0,1.0,1.0,69.0,113.25,7895.14990234375])                                |0.0  |\n",
      "|(30,[1,2,3,4,24,27,28,29],[1.0,1.0,1.0,1.0,1.0,52.0,20.65,1022.9500122070312])                                                                  |0.0  |\n",
      "|(30,[0,1,3,5,6,9,10,13,14,17,19,21,25,27,28,29],[1.0,1.0,1.0,1.0,1.0,1.0,1.0,1.0,1.0,1.0,1.0,1.0,1.0,71.0,106.7,7382.25])                       |0.0  |\n",
      "|(30,[3,4,7,8,10,13,15,16,18,20,27,28,29],[1.0,1.0,1.0,1.0,1.0,1.0,1.0,1.0,1.0,1.0,10.0,55.2,528.3499755859375])                                 |1.0  |\n",
      "|(30,[1,2,3,4,6,8,11,13,14,16,19,20,22,23,27,28,29],[1.0,1.0,1.0,1.0,1.0,1.0,1.0,1.0,1.0,1.0,1.0,1.0,1.0,1.0,21.0,90.05,1862.9000244140625])     |0.0  |\n",
      "+------------------------------------------------------------------------------------------------------------------------------------------------+-----+\n",
      "only showing top 20 rows\n",
      "\n"
     ]
    }
   ],
   "source": [
    "churn_df1 = churn_df.select(['features', 'label'])\n",
    "churn_df1.show(truncate=False)"
   ]
  },
  {
   "cell_type": "markdown",
   "id": "0e626709",
   "metadata": {},
   "source": [
    "## Split dataset into train and test"
   ]
  },
  {
   "cell_type": "code",
   "execution_count": 66,
   "id": "90ee1385",
   "metadata": {},
   "outputs": [],
   "source": [
    "train, test = churn_df1.randomSplit([0.8, 0.2], seed = 27)"
   ]
  },
  {
   "cell_type": "code",
   "execution_count": 67,
   "id": "b66b8498",
   "metadata": {},
   "outputs": [
    {
     "data": {
      "text/plain": [
       "DataFrame[features: vector, label: double]"
      ]
     },
     "execution_count": 67,
     "metadata": {},
     "output_type": "execute_result"
    }
   ],
   "source": [
    "train.select(['features', 'label'])"
   ]
  },
  {
   "cell_type": "markdown",
   "id": "242a8c21",
   "metadata": {},
   "source": [
    "## Build the Model - Decision Tree"
   ]
  },
  {
   "cell_type": "code",
   "execution_count": 68,
   "id": "6c5af78e",
   "metadata": {},
   "outputs": [],
   "source": [
    "from pyspark.ml.classification import DecisionTreeClassifier, RandomForestClassifier\n",
    "tree = DecisionTreeClassifier(featuresCol='features', labelCol='label')\n",
    "decision_model = tree.fit(train)\n",
    "# fit means training\n",
    "# transform means prediction"
   ]
  },
  {
   "cell_type": "markdown",
   "id": "e87ad2fd",
   "metadata": {},
   "source": [
    "## Evaluate the Model"
   ]
  },
  {
   "cell_type": "code",
   "execution_count": 69,
   "id": "5fb52ebc",
   "metadata": {},
   "outputs": [
    {
     "name": "stdout",
     "output_type": "stream",
     "text": [
      "+-----+----------------------------------------+----------+\n",
      "|label|probability                             |prediction|\n",
      "+-----+----------------------------------------+----------+\n",
      "|1.0  |[0.11602209944751381,0.8839779005524862]|1.0       |\n",
      "|1.0  |[0.11602209944751381,0.8839779005524862]|1.0       |\n",
      "|1.0  |[0.11602209944751381,0.8839779005524862]|1.0       |\n",
      "|1.0  |[0.11602209944751381,0.8839779005524862]|1.0       |\n",
      "|0.0  |[0.3746518105849582,0.6253481894150418] |1.0       |\n",
      "|0.0  |[0.4553191489361702,0.5446808510638298] |1.0       |\n",
      "|1.0  |[0.11602209944751381,0.8839779005524862]|1.0       |\n",
      "|0.0  |[0.3746518105849582,0.6253481894150418] |1.0       |\n",
      "|0.0  |[0.6925207756232687,0.3074792243767313] |0.0       |\n",
      "|1.0  |[0.3746518105849582,0.6253481894150418] |1.0       |\n",
      "|0.0  |[0.6925207756232687,0.3074792243767313] |0.0       |\n",
      "|1.0  |[0.11602209944751381,0.8839779005524862]|1.0       |\n",
      "|1.0  |[0.11602209944751381,0.8839779005524862]|1.0       |\n",
      "|1.0  |[0.3746518105849582,0.6253481894150418] |1.0       |\n",
      "|0.0  |[0.3746518105849582,0.6253481894150418] |1.0       |\n",
      "|1.0  |[0.11602209944751381,0.8839779005524862]|1.0       |\n",
      "|0.0  |[0.3746518105849582,0.6253481894150418] |1.0       |\n",
      "|1.0  |[0.3746518105849582,0.6253481894150418] |1.0       |\n",
      "|0.0  |[0.4553191489361702,0.5446808510638298] |1.0       |\n",
      "|0.0  |[0.5714285714285714,0.42857142857142855]|0.0       |\n",
      "+-----+----------------------------------------+----------+\n",
      "only showing top 20 rows\n",
      "\n"
     ]
    }
   ],
   "source": [
    "predictions = decision_model.transform(test)\n",
    "predictions.select(['label', 'probability', 'prediction']).show(truncate=False)"
   ]
  },
  {
   "cell_type": "code",
   "execution_count": 74,
   "id": "158447c9",
   "metadata": {},
   "outputs": [
    {
     "data": {
      "text/plain": [
       "0.8113207547169812"
      ]
     },
     "execution_count": 74,
     "metadata": {},
     "output_type": "execute_result"
    }
   ],
   "source": [
    "from pyspark.ml.evaluation import MulticlassClassificationEvaluator\n",
    "evaluator = MulticlassClassificationEvaluator(labelCol='label', predictionCol='prediction', metricName='accuracy')\n",
    "accuracy = evaluator.evaluate(predictions)\n",
    "accuracy"
   ]
  },
  {
   "cell_type": "markdown",
   "id": "bfd81661",
   "metadata": {},
   "source": [
    "## Build RandomForest Model"
   ]
  },
  {
   "cell_type": "code",
   "execution_count": 76,
   "id": "d6bcc8ab",
   "metadata": {},
   "outputs": [],
   "source": [
    "from pyspark.ml.classification import RandomForestClassifier\n",
    "tree = RandomForestClassifier(featuresCol='features', labelCol='label')\n",
    "decision_model = tree.fit(train)"
   ]
  },
  {
   "cell_type": "code",
   "execution_count": 77,
   "id": "47b2f2b7",
   "metadata": {},
   "outputs": [
    {
     "name": "stdout",
     "output_type": "stream",
     "text": [
      "+-----+----------------------------------------+----------+\n",
      "|label|probability                             |prediction|\n",
      "+-----+----------------------------------------+----------+\n",
      "|1.0  |[0.3236709487687401,0.6763290512312599] |1.0       |\n",
      "|1.0  |[0.3236709487687401,0.6763290512312599] |1.0       |\n",
      "|1.0  |[0.3236709487687401,0.6763290512312599] |1.0       |\n",
      "|1.0  |[0.3236709487687401,0.6763290512312599] |1.0       |\n",
      "|0.0  |[0.3236709487687401,0.6763290512312599] |1.0       |\n",
      "|0.0  |[0.6322845008775212,0.36771549912247886]|0.0       |\n",
      "|1.0  |[0.3969223245966429,0.6030776754033571] |1.0       |\n",
      "|0.0  |[0.5023122737925212,0.4976877262074789] |0.0       |\n",
      "|0.0  |[0.6557903446711741,0.34420965532882597]|0.0       |\n",
      "|1.0  |[0.3799555007894674,0.6200444992105325] |1.0       |\n",
      "|0.0  |[0.6247455448098591,0.37525445519014083]|0.0       |\n",
      "|1.0  |[0.3287876313203134,0.6712123686796866] |1.0       |\n",
      "|1.0  |[0.30417400884912893,0.6958259911508711]|1.0       |\n",
      "|1.0  |[0.3384496043122155,0.6615503956877844] |1.0       |\n",
      "|0.0  |[0.38534180061735857,0.6146581993826414]|1.0       |\n",
      "|1.0  |[0.298399483418032,0.7016005165819681]  |1.0       |\n",
      "|0.0  |[0.42371758333538534,0.5762824166646145]|1.0       |\n",
      "|1.0  |[0.49393115114364755,0.5060688488563525]|1.0       |\n",
      "|0.0  |[0.6445134794849416,0.35548652051505836]|0.0       |\n",
      "|0.0  |[0.4846913313391039,0.5153086686608961] |1.0       |\n",
      "+-----+----------------------------------------+----------+\n",
      "only showing top 20 rows\n",
      "\n"
     ]
    }
   ],
   "source": [
    "predictions = decision_model.transform(test)\n",
    "predictions.select(['label', 'probability', 'prediction']).show(truncate=False)"
   ]
  },
  {
   "cell_type": "code",
   "execution_count": 78,
   "id": "0805e140",
   "metadata": {},
   "outputs": [
    {
     "data": {
      "text/plain": [
       "0.806966618287373"
      ]
     },
     "execution_count": 78,
     "metadata": {},
     "output_type": "execute_result"
    }
   ],
   "source": [
    "from pyspark.ml.evaluation import MulticlassClassificationEvaluator\n",
    "evaluator = MulticlassClassificationEvaluator(labelCol='label', predictionCol='prediction', metricName='accuracy')\n",
    "accuracy = evaluator.evaluate(predictions)\n",
    "accuracy"
   ]
  },
  {
   "cell_type": "markdown",
   "id": "cd7f709a",
   "metadata": {},
   "source": [
    "## Logistic Regression ML Model"
   ]
  },
  {
   "cell_type": "code",
   "execution_count": 79,
   "id": "9dd292d4",
   "metadata": {},
   "outputs": [],
   "source": [
    "from pyspark.ml.classification import LogisticRegression\n",
    "tree = LogisticRegression(featuresCol='features', labelCol='label')\n",
    "decision_model = tree.fit(train)"
   ]
  },
  {
   "cell_type": "code",
   "execution_count": 80,
   "id": "d5913b6e",
   "metadata": {},
   "outputs": [
    {
     "name": "stdout",
     "output_type": "stream",
     "text": [
      "+-----+----------------------------------------+----------+\n",
      "|label|probability                             |prediction|\n",
      "+-----+----------------------------------------+----------+\n",
      "|1.0  |[0.3001442147747802,0.6998557852252199] |1.0       |\n",
      "|1.0  |[0.3024907541351523,0.6975092458648476] |1.0       |\n",
      "|1.0  |[0.30437544419078716,0.6956245558092129]|1.0       |\n",
      "|1.0  |[0.30674056483603795,0.693259435163962] |1.0       |\n",
      "|0.0  |[0.3119991216954253,0.6880008783045747] |1.0       |\n",
      "|0.0  |[0.6021499450158613,0.3978500549841388] |0.0       |\n",
      "|1.0  |[0.4864209445636462,0.5135790554363538] |1.0       |\n",
      "|0.0  |[0.5636764422163408,0.4363235577836592] |0.0       |\n",
      "|0.0  |[0.6410197543385553,0.3589802456614447] |0.0       |\n",
      "|1.0  |[0.33258032666130666,0.6674196733386933]|1.0       |\n",
      "|0.0  |[0.5322875907385917,0.46771240926140834]|0.0       |\n",
      "|1.0  |[0.3334029119171606,0.6665970880828395] |1.0       |\n",
      "|1.0  |[0.2709476479548886,0.7290523520451114] |1.0       |\n",
      "|1.0  |[0.2756520477126979,0.7243479522873021] |1.0       |\n",
      "|0.0  |[0.3986107890122962,0.6013892109877038] |1.0       |\n",
      "|1.0  |[0.2427093349652834,0.7572906650347165] |1.0       |\n",
      "|0.0  |[0.3431878154466945,0.6568121845533055] |1.0       |\n",
      "|1.0  |[0.4513428041749014,0.5486571958250985] |1.0       |\n",
      "|0.0  |[0.7213499842894543,0.27865001571054576]|0.0       |\n",
      "|0.0  |[0.4537163074258581,0.5462836925741419] |1.0       |\n",
      "+-----+----------------------------------------+----------+\n",
      "only showing top 20 rows\n",
      "\n"
     ]
    }
   ],
   "source": [
    "predictions = decision_model.transform(test)\n",
    "predictions.select(['label', 'probability', 'prediction']).show(truncate=False)"
   ]
  },
  {
   "cell_type": "code",
   "execution_count": 81,
   "id": "b70d7d57",
   "metadata": {},
   "outputs": [
    {
     "data": {
      "text/plain": [
       "0.8243831640058055"
      ]
     },
     "execution_count": 81,
     "metadata": {},
     "output_type": "execute_result"
    }
   ],
   "source": [
    "from pyspark.ml.evaluation import MulticlassClassificationEvaluator\n",
    "evaluator = MulticlassClassificationEvaluator(labelCol='label', predictionCol='prediction', metricName='accuracy')\n",
    "accuracy = evaluator.evaluate(predictions)\n",
    "accuracy"
   ]
  },
  {
   "cell_type": "code",
   "execution_count": null,
   "id": "6e2e7b67",
   "metadata": {},
   "outputs": [],
   "source": []
  }
 ],
 "metadata": {
  "kernelspec": {
   "display_name": "Python 3",
   "language": "python",
   "name": "python3"
  },
  "language_info": {
   "codemirror_mode": {
    "name": "ipython",
    "version": 3
   },
   "file_extension": ".py",
   "mimetype": "text/x-python",
   "name": "python",
   "nbconvert_exporter": "python",
   "pygments_lexer": "ipython3",
   "version": "3.6.9"
  }
 },
 "nbformat": 4,
 "nbformat_minor": 5
}
