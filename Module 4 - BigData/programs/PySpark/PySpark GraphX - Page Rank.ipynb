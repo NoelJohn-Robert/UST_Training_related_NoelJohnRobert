{
 "cells": [
  {
   "cell_type": "code",
   "execution_count": 1,
   "id": "b5f3090f",
   "metadata": {},
   "outputs": [
    {
     "data": {
      "text/html": [
       "\n",
       "        <div>\n",
       "            <p><b>SparkContext</b></p>\n",
       "\n",
       "            <p><a href=\"http://10.0.2.15:4040\">Spark UI</a></p>\n",
       "\n",
       "            <dl>\n",
       "              <dt>Version</dt>\n",
       "                <dd><code>v2.4.8</code></dd>\n",
       "              <dt>Master</dt>\n",
       "                <dd><code>local[*]</code></dd>\n",
       "              <dt>AppName</dt>\n",
       "                <dd><code>PySparkShell</code></dd>\n",
       "            </dl>\n",
       "        </div>\n",
       "        "
      ],
      "text/plain": [
       "<SparkContext master=local[*] appName=PySparkShell>"
      ]
     },
     "execution_count": 1,
     "metadata": {},
     "output_type": "execute_result"
    }
   ],
   "source": [
    "sc"
   ]
  },
  {
   "cell_type": "code",
   "execution_count": 2,
   "id": "06ece7c0",
   "metadata": {},
   "outputs": [
    {
     "data": {
      "text/html": [
       "\n",
       "            <div>\n",
       "                <p><b>SparkSession - hive</b></p>\n",
       "                \n",
       "        <div>\n",
       "            <p><b>SparkContext</b></p>\n",
       "\n",
       "            <p><a href=\"http://10.0.2.15:4040\">Spark UI</a></p>\n",
       "\n",
       "            <dl>\n",
       "              <dt>Version</dt>\n",
       "                <dd><code>v2.4.8</code></dd>\n",
       "              <dt>Master</dt>\n",
       "                <dd><code>local[*]</code></dd>\n",
       "              <dt>AppName</dt>\n",
       "                <dd><code>PySparkShell</code></dd>\n",
       "            </dl>\n",
       "        </div>\n",
       "        \n",
       "            </div>\n",
       "        "
      ],
      "text/plain": [
       "<pyspark.sql.session.SparkSession at 0x7f359805f4a8>"
      ]
     },
     "execution_count": 2,
     "metadata": {},
     "output_type": "execute_result"
    }
   ],
   "source": [
    "spark"
   ]
  },
  {
   "cell_type": "code",
   "execution_count": 3,
   "id": "4b13507f",
   "metadata": {},
   "outputs": [],
   "source": [
    "from pyspark.sql.functions import *"
   ]
  },
  {
   "cell_type": "code",
   "execution_count": 40,
   "id": "73fbdef7",
   "metadata": {},
   "outputs": [],
   "source": [
    "# load user data\n",
    "user_data = spark.read.csv('file:///home/hadoop/Downloads/users.txt', inferSchema=True, header=True)\n",
    "\n",
    "# load follower's data\n",
    "follower_data = spark.read.csv('file:///home/hadoop/Downloads/followers.txt', inferSchema=True, header=True)"
   ]
  },
  {
   "cell_type": "markdown",
   "id": "8ffdff86",
   "metadata": {},
   "source": [
    "## Setup Spark for graphframes"
   ]
  },
  {
   "cell_type": "code",
   "execution_count": 41,
   "id": "a33f8988",
   "metadata": {},
   "outputs": [
    {
     "data": {
      "text/plain": [
       "DataFrame[user_id: int, user_name: string, full_name: string]"
      ]
     },
     "execution_count": 41,
     "metadata": {},
     "output_type": "execute_result"
    }
   ],
   "source": [
    "user_data"
   ]
  },
  {
   "cell_type": "code",
   "execution_count": 42,
   "id": "337af801",
   "metadata": {},
   "outputs": [
    {
     "name": "stdout",
     "output_type": "stream",
     "text": [
      "+-------+------------+------------+\n",
      "|user_id|   user_name|   full_name|\n",
      "+-------+------------+------------+\n",
      "|      1|amitmishra08| amit mishra|\n",
      "|      2|    sharon_1|sharon dcruz|\n",
      "|      3|   naveen007|naveen rajan|\n",
      "|      4|   allen_456|  allen bose|\n",
      "|      5|    siva2109|    siva rao|\n",
      "|      6| bhagya10200|      bhagya|\n",
      "|      7|  devika9091|   devika T.|\n",
      "|      8|   anonymous|          NA|\n",
      "+-------+------------+------------+\n",
      "\n"
     ]
    }
   ],
   "source": [
    "user_data.show()"
   ]
  },
  {
   "cell_type": "code",
   "execution_count": 43,
   "id": "d8b9caf3",
   "metadata": {},
   "outputs": [
    {
     "data": {
      "text/plain": [
       "DataFrame[follower_id: int, followee_id: int, relationship: string]"
      ]
     },
     "execution_count": 43,
     "metadata": {},
     "output_type": "execute_result"
    }
   ],
   "source": [
    "follower_data"
   ]
  },
  {
   "cell_type": "code",
   "execution_count": 44,
   "id": "b341ed95",
   "metadata": {},
   "outputs": [
    {
     "name": "stdout",
     "output_type": "stream",
     "text": [
      "+-----------+-----------+------------+\n",
      "|follower_id|followee_id|relationship|\n",
      "+-----------+-----------+------------+\n",
      "|          1|          2|      follow|\n",
      "|          2|          3|      follow|\n",
      "|          2|          4|      friend|\n",
      "|          4|          2|      friend|\n",
      "|          3|          1|      follow|\n",
      "|          1|          4|      follow|\n",
      "|          4|          7|      follow|\n",
      "|          7|          8|      follow|\n",
      "|          1|          6|      follow|\n",
      "|          5|          6|      friend|\n",
      "|          6|          5|      friend|\n",
      "+-----------+-----------+------------+\n",
      "\n"
     ]
    }
   ],
   "source": [
    "follower_data.show()"
   ]
  },
  {
   "cell_type": "code",
   "execution_count": 9,
   "id": "d68b7ad2",
   "metadata": {},
   "outputs": [
    {
     "name": "stdout",
     "output_type": "stream",
     "text": [
      "Defaulting to user installation because normal site-packages is not writeable\n",
      "Requirement already satisfied: graphframes in ./.local/lib/python3.6/site-packages (0.6)\n",
      "Requirement already satisfied: numpy in ./.local/lib/python3.6/site-packages (from graphframes) (1.19.5)\n",
      "Requirement already satisfied: nose in ./.local/lib/python3.6/site-packages (from graphframes) (1.3.7)\n"
     ]
    }
   ],
   "source": [
    "!pip install graphframes"
   ]
  },
  {
   "cell_type": "code",
   "execution_count": 45,
   "id": "194b677c",
   "metadata": {},
   "outputs": [],
   "source": [
    "from graphframes import GraphFrame"
   ]
  },
  {
   "cell_type": "code",
   "execution_count": 46,
   "id": "35be898d",
   "metadata": {},
   "outputs": [],
   "source": [
    "# create a vertices and edges GraphFrame\n",
    "vertices = user_data.withColumnRenamed('user_id', 'id').select('id', 'user_name')"
   ]
  },
  {
   "cell_type": "code",
   "execution_count": 56,
   "id": "632795f5",
   "metadata": {},
   "outputs": [],
   "source": [
    "edges = follower_data.withColumnRenamed('follower_id', 'src')\\\n",
    ".withColumnRenamed('followee_id', 'dst')\\\n",
    ".withColumnRenamed('relationship','relationship')"
   ]
  },
  {
   "cell_type": "code",
   "execution_count": 57,
   "id": "bc77baf4",
   "metadata": {},
   "outputs": [],
   "source": [
    "# create a GraphFrame = Property Graph using vertices and edges\n",
    "graph = GraphFrame(vertices, edges)"
   ]
  },
  {
   "cell_type": "code",
   "execution_count": 58,
   "id": "7b99e4e7",
   "metadata": {},
   "outputs": [],
   "source": [
    "ranks = graph.pageRank(resetProbability=0.15, maxIter=20)"
   ]
  },
  {
   "cell_type": "code",
   "execution_count": 59,
   "id": "9abfbadc",
   "metadata": {},
   "outputs": [
    {
     "name": "stdout",
     "output_type": "stream",
     "text": [
      "+---+------------+------------------+\n",
      "| id|   user_name|          pagerank|\n",
      "+---+------------+------------------+\n",
      "|  6| bhagya10200| 2.147717418684948|\n",
      "|  5|    siva2109|2.0510251053875987|\n",
      "|  4|   allen_456| 0.711853006554833|\n",
      "|  2|    sharon_1| 0.711853006554833|\n",
      "|  1|amitmishra08|0.6655130949119862|\n",
      "|  8|   anonymous|0.6655130949119862|\n",
      "|  3|   naveen007|0.5232626364969075|\n",
      "|  7|  devika9091|0.5232626364969075|\n",
      "+---+------------+------------------+\n",
      "\n"
     ]
    }
   ],
   "source": [
    "ranks.vertices.orderBy(ranks.vertices.pagerank.desc()).show()"
   ]
  },
  {
   "cell_type": "code",
   "execution_count": 51,
   "id": "bec6dca8",
   "metadata": {},
   "outputs": [
    {
     "data": {
      "text/plain": [
       "GraphFrame(v:[id: int, user_name: string ... 1 more field], e:[src: int, dst: int ... 2 more fields])"
      ]
     },
     "execution_count": 51,
     "metadata": {},
     "output_type": "execute_result"
    }
   ],
   "source": [
    "ranks"
   ]
  },
  {
   "cell_type": "code",
   "execution_count": 52,
   "id": "0f7de758",
   "metadata": {},
   "outputs": [
    {
     "name": "stdout",
     "output_type": "stream",
     "text": [
      "+---+------------+\n",
      "| id|   user_name|\n",
      "+---+------------+\n",
      "|  1|amitmishra08|\n",
      "|  2|    sharon_1|\n",
      "|  3|   naveen007|\n",
      "|  4|   allen_456|\n",
      "|  5|    siva2109|\n",
      "|  6| bhagya10200|\n",
      "|  7|  devika9091|\n",
      "|  8|   anonymous|\n",
      "+---+------------+\n",
      "\n"
     ]
    }
   ],
   "source": [
    "graph.vertices.show()"
   ]
  },
  {
   "cell_type": "code",
   "execution_count": 53,
   "id": "3aceeac0",
   "metadata": {},
   "outputs": [
    {
     "name": "stdout",
     "output_type": "stream",
     "text": [
      "+---+--------+\n",
      "| id|inDegree|\n",
      "+---+--------+\n",
      "|  1|       1|\n",
      "|  6|       2|\n",
      "|  3|       1|\n",
      "|  5|       1|\n",
      "|  4|       2|\n",
      "|  8|       1|\n",
      "|  7|       1|\n",
      "|  2|       2|\n",
      "+---+--------+\n",
      "\n"
     ]
    }
   ],
   "source": [
    "graph.inDegrees.show()"
   ]
  },
  {
   "cell_type": "code",
   "execution_count": 54,
   "id": "e7645d3f",
   "metadata": {},
   "outputs": [
    {
     "name": "stdout",
     "output_type": "stream",
     "text": [
      "+---+---------+\n",
      "| id|outDegree|\n",
      "+---+---------+\n",
      "|  1|        3|\n",
      "|  6|        1|\n",
      "|  3|        1|\n",
      "|  5|        1|\n",
      "|  4|        2|\n",
      "|  7|        1|\n",
      "|  2|        2|\n",
      "+---+---------+\n",
      "\n"
     ]
    }
   ],
   "source": [
    "graph.outDegrees.show()"
   ]
  },
  {
   "cell_type": "code",
   "execution_count": 55,
   "id": "0264cf1f",
   "metadata": {},
   "outputs": [
    {
     "name": "stdout",
     "output_type": "stream",
     "text": [
      "+---+------------+---------+\n",
      "| id|   user_name|component|\n",
      "+---+------------+---------+\n",
      "|  4|   allen_456|        1|\n",
      "|  1|amitmishra08|        1|\n",
      "|  6| bhagya10200|        5|\n",
      "|  3|   naveen007|        1|\n",
      "|  7|  devika9091|        7|\n",
      "|  8|   anonymous|        8|\n",
      "|  5|    siva2109|        5|\n",
      "|  2|    sharon_1|        1|\n",
      "+---+------------+---------+\n",
      "\n"
     ]
    }
   ],
   "source": [
    "graph.stronglyConnectedComponents(maxIter=20).show()"
   ]
  },
  {
   "cell_type": "markdown",
   "id": "bd1b5585",
   "metadata": {},
   "source": [
    "## Create a network graph"
   ]
  },
  {
   "cell_type": "code",
   "execution_count": 65,
   "id": "8e6a82c9",
   "metadata": {},
   "outputs": [
    {
     "name": "stdout",
     "output_type": "stream",
     "text": [
      "Defaulting to user installation because normal site-packages is not writeable\n",
      "Collecting networkx\n",
      "  Downloading networkx-2.5.1-py3-none-any.whl (1.6 MB)\n",
      "     |████████████████████████████████| 1.6 MB 8.2 MB/s            \n",
      "\u001b[?25hCollecting decorator<5,>=4.3\n",
      "  Downloading decorator-4.4.2-py2.py3-none-any.whl (9.2 kB)\n",
      "Installing collected packages: decorator, networkx\n",
      "  Attempting uninstall: decorator\n",
      "    Found existing installation: decorator 5.1.1\n",
      "    Uninstalling decorator-5.1.1:\n",
      "      Successfully uninstalled decorator-5.1.1\n",
      "Successfully installed decorator-4.4.2 networkx-2.5.1\n"
     ]
    }
   ],
   "source": [
    "!pip3 install networkx"
   ]
  },
  {
   "cell_type": "code",
   "execution_count": 72,
   "id": "b1df0735",
   "metadata": {},
   "outputs": [],
   "source": [
    "import networkx as nx"
   ]
  },
  {
   "cell_type": "code",
   "execution_count": 73,
   "id": "b62e2232",
   "metadata": {},
   "outputs": [],
   "source": [
    "ns_graph = nx.DiGraph()\n",
    "edges_df = edges.toPandas()\n",
    "for _,row in edges_df.iterrows():\n",
    "    ns_graph.add_edge(row['src'], row['dst'])"
   ]
  },
  {
   "cell_type": "code",
   "execution_count": 75,
   "id": "5d110427",
   "metadata": {},
   "outputs": [
    {
     "data": {
      "image/png": "[encoded data removed]",
      "text/plain": [
       "<Figure size 432x288 with 1 Axes>"
      ]
     },
     "metadata": {},
     "output_type": "display_data"
    }
   ],
   "source": [
    "import matplotlib.pyplot as plt\n",
    "\n",
    "pos = nx.spring_layout(ns_graph)\n",
    "nx.draw(ns_graph, pos, with_labels=True, node_size=2000, node_color='skyblue', font_size=16, arrows=True)\n",
    "plt.show()"
   ]
  },
  {
   "cell_type": "code",
   "execution_count": null,
   "id": "5d6449ec",
   "metadata": {},
   "outputs": [],
   "source": []
  }
 ],
 "metadata": {
  "kernelspec": {
   "display_name": "Python 3",
   "language": "python",
   "name": "python3"
  },
  "language_info": {
   "codemirror_mode": {
    "name": "ipython",
    "version": 3
   },
   "file_extension": ".py",
   "mimetype": "text/x-python",
   "name": "python",
   "nbconvert_exporter": "python",
   "pygments_lexer": "ipython3",
   "version": "3.6.9"
  }
 },
 "nbformat": 4,
 "nbformat_minor": 5
}
