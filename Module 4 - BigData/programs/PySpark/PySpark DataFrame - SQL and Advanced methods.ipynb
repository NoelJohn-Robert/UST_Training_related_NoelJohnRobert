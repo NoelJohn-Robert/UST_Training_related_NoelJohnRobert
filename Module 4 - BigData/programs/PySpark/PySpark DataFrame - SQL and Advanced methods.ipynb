{
 "cells": [
  {
   "cell_type": "code",
   "execution_count": 1,
   "id": "e8d21d65",
   "metadata": {},
   "outputs": [
    {
     "data": {
      "text/html": [
       "\n",
       "        <div>\n",
       "            <p><b>SparkContext</b></p>\n",
       "\n",
       "            <p><a href=\"http://10.0.2.15:4042\">Spark UI</a></p>\n",
       "\n",
       "            <dl>\n",
       "              <dt>Version</dt>\n",
       "                <dd><code>v2.4.8</code></dd>\n",
       "              <dt>Master</dt>\n",
       "                <dd><code>local[*]</code></dd>\n",
       "              <dt>AppName</dt>\n",
       "                <dd><code>PySparkShell</code></dd>\n",
       "            </dl>\n",
       "        </div>\n",
       "        "
      ],
      "text/plain": [
       "<SparkContext master=local[*] appName=PySparkShell>"
      ]
     },
     "execution_count": 1,
     "metadata": {},
     "output_type": "execute_result"
    }
   ],
   "source": [
    "sc"
   ]
  },
  {
   "cell_type": "code",
   "execution_count": 2,
   "id": "5732f937",
   "metadata": {},
   "outputs": [
    {
     "data": {
      "text/html": [
       "\n",
       "            <div>\n",
       "                <p><b>SparkSession - hive</b></p>\n",
       "                \n",
       "        <div>\n",
       "            <p><b>SparkContext</b></p>\n",
       "\n",
       "            <p><a href=\"http://10.0.2.15:4042\">Spark UI</a></p>\n",
       "\n",
       "            <dl>\n",
       "              <dt>Version</dt>\n",
       "                <dd><code>v2.4.8</code></dd>\n",
       "              <dt>Master</dt>\n",
       "                <dd><code>local[*]</code></dd>\n",
       "              <dt>AppName</dt>\n",
       "                <dd><code>PySparkShell</code></dd>\n",
       "            </dl>\n",
       "        </div>\n",
       "        \n",
       "            </div>\n",
       "        "
      ],
      "text/plain": [
       "<pyspark.sql.session.SparkSession at 0x7fed38379b00>"
      ]
     },
     "execution_count": 2,
     "metadata": {},
     "output_type": "execute_result"
    }
   ],
   "source": [
    "spark"
   ]
  },
  {
   "cell_type": "code",
   "execution_count": 4,
   "id": "34005869",
   "metadata": {},
   "outputs": [],
   "source": [
    "people_df = spark.read.json('file:///home/hadoop/Downloads/People.json')"
   ]
  },
  {
   "cell_type": "code",
   "execution_count": 5,
   "id": "1d0fdf67",
   "metadata": {},
   "outputs": [
    {
     "name": "stdout",
     "output_type": "stream",
     "text": [
      "+---------+-----------+----------+------+---+---------+------+\n",
      "|     city|    country|first_name|gender| id|last_name|salary|\n",
      "+---------+-----------+----------+------+---+---------+------+\n",
      "|Mulyosari|  Indonesia|     Valma|Female|  1|     Sans|983107|\n",
      "|  Niihama|      Japan|     Paolo|  Male|  2|   Kiddie|649173|\n",
      "|Dū Qal‘ah|Afghanistan|    Miltie|  Male|  3| De Zuani|352898|\n",
      "|   Iberia|       Peru|    Jarrid|  Male|  4| Dalziell|170398|\n",
      "| La Ronge|     Canada| Reinaldos|  Male|  5|   Keeffe|440989|\n",
      "+---------+-----------+----------+------+---+---------+------+\n",
      "only showing top 5 rows\n",
      "\n"
     ]
    }
   ],
   "source": [
    "people_df.show(5)"
   ]
  },
  {
   "cell_type": "code",
   "execution_count": 6,
   "id": "c386fee9",
   "metadata": {},
   "outputs": [
    {
     "name": "stdout",
     "output_type": "stream",
     "text": [
      "root\n",
      " |-- city: string (nullable = true)\n",
      " |-- country: string (nullable = true)\n",
      " |-- first_name: string (nullable = true)\n",
      " |-- gender: string (nullable = true)\n",
      " |-- id: long (nullable = true)\n",
      " |-- last_name: string (nullable = true)\n",
      " |-- salary: long (nullable = true)\n",
      "\n"
     ]
    }
   ],
   "source": [
    "people_df.printSchema()"
   ]
  },
  {
   "cell_type": "markdown",
   "id": "9043ba8b",
   "metadata": {},
   "source": [
    "#### 1. Create a user-defined schema for fields of DataFrame"
   ]
  },
  {
   "cell_type": "code",
   "execution_count": 7,
   "id": "21f42aa9",
   "metadata": {},
   "outputs": [],
   "source": [
    "from pyspark.sql.functions import *\n",
    "from pyspark.sql.types import IntegerType, FloatType, StringType, StructType, StructField"
   ]
  },
  {
   "cell_type": "code",
   "execution_count": 13,
   "id": "195a682f",
   "metadata": {},
   "outputs": [],
   "source": [
    "schema = StructType([\n",
    "    StructField('id', IntegerType(), True),\n",
    "    StructField('first_name', StringType(), True),\n",
    "    StructField('last_name', StringType(), True),\n",
    "    StructField('gender', StringType(), True),\n",
    "    StructField('salary', FloatType(), True),\n",
    "    StructField('city', StringType(), True),\n",
    "    StructField('country', StringType(), True)\n",
    "])"
   ]
  },
  {
   "cell_type": "code",
   "execution_count": 14,
   "id": "c337ba5f",
   "metadata": {},
   "outputs": [],
   "source": [
    "people_df = spark.read.schema(schema).json('file:///home/hadoop/Downloads/People.json')"
   ]
  },
  {
   "cell_type": "code",
   "execution_count": 15,
   "id": "9378e7e1",
   "metadata": {},
   "outputs": [
    {
     "name": "stdout",
     "output_type": "stream",
     "text": [
      "root\n",
      " |-- id: integer (nullable = true)\n",
      " |-- first_name: string (nullable = true)\n",
      " |-- last_name: string (nullable = true)\n",
      " |-- gender: string (nullable = true)\n",
      " |-- salary: float (nullable = true)\n",
      " |-- city: string (nullable = true)\n",
      " |-- country: string (nullable = true)\n",
      "\n"
     ]
    }
   ],
   "source": [
    "people_df.printSchema()"
   ]
  },
  {
   "cell_type": "code",
   "execution_count": 16,
   "id": "dc4b882c",
   "metadata": {},
   "outputs": [
    {
     "name": "stdout",
     "output_type": "stream",
     "text": [
      "+---+----------+---------+------+--------+------------------+------------+\n",
      "| id|first_name|last_name|gender|  salary|              city|     country|\n",
      "+---+----------+---------+------+--------+------------------+------------+\n",
      "|  1|     Valma|     Sans|Female|983107.0|         Mulyosari|   Indonesia|\n",
      "|  2|     Paolo|   Kiddie|  Male|649173.0|           Niihama|       Japan|\n",
      "|  3|    Miltie| De Zuani|  Male|352898.0|         Dū Qal‘ah| Afghanistan|\n",
      "|  4|    Jarrid| Dalziell|  Male|170398.0|            Iberia|        Peru|\n",
      "|  5| Reinaldos|   Keeffe|  Male|440989.0|          La Ronge|      Canada|\n",
      "|  6|        Eb|Schwanden|  Male|274126.0|      Kuala Lumpur|    Malaysia|\n",
      "|  7|    Alleyn|   Paddon|  Male|681914.0|         Al Qurayn|Saudi Arabia|\n",
      "|  8|   Baryram|     Yell|  Male|250748.0|           Jixiang|       China|\n",
      "|  9|     Cammy|     Axel|Female|221750.0|Thị Trấn Phong Thổ|     Vietnam|\n",
      "| 10|       Erl|  Caldera|  Male|680801.0|        Kotatengah|   Indonesia|\n",
      "| 11|    Miguel|   Moules|  Male|819771.0|        Roldanillo|    Colombia|\n",
      "| 12| Mireielle|   Hurley|Female|486029.0|            Malārd|        Iran|\n",
      "| 13|    Feodor| Grummitt|  Male|358045.0|     Fada N'gourma|Burkina Faso|\n",
      "| 14|     Diana|  Lawfull|Female|397683.0|           Ciangir|   Indonesia|\n",
      "| 15|      Evie|   Kaysor|Female|436202.0|         El Cantón|   Venezuela|\n",
      "| 16|    Janean|    Sayse|Female|892405.0|          La Unión|    Colombia|\n",
      "| 17|     Colan|   Stoppe|  Male|218434.0|            Xinhua|       China|\n",
      "| 18|      Erik| Stitcher|  Male|776023.0|     Крива Паланка|   Macedonia|\n",
      "| 19|   Sargent|   Cleall|  Male|819269.0|          Qīr Moāv|      Jordan|\n",
      "| 20|   Tamqrah|Millichip|Female|313540.0|      Bogandinskiy|      Russia|\n",
      "+---+----------+---------+------+--------+------------------+------------+\n",
      "only showing top 20 rows\n",
      "\n"
     ]
    }
   ],
   "source": [
    "people_df.show()"
   ]
  },
  {
   "cell_type": "code",
   "execution_count": 19,
   "id": "9771b539",
   "metadata": {},
   "outputs": [
    {
     "name": "stdout",
     "output_type": "stream",
     "text": [
      "+---+-------+--------+-------+---+-------+--------+---------+-------+------------+----+--------+-----+-----+--------+--------+---+\n",
      "|age|balance|campaign|contact|day|default|duration|education|housing|         job|loan| marital|month|pdays|poutcome|previous|  y|\n",
      "+---+-------+--------+-------+---+-------+--------+---------+-------+------------+----+--------+-----+-----+--------+--------+---+\n",
      "| 58|   2143|       1|unknown|  5|     no|     261| tertiary|    yes|  management|  no| married|  may|   -1| unknown|       0| no|\n",
      "| 44|     29|       1|unknown|  5|     no|     151|secondary|    yes|  technician|  no|  single|  may|   -1| unknown|       0| no|\n",
      "| 33|      2|       1|unknown|  5|     no|      76|secondary|    yes|entrepreneur| yes| married|  may|   -1| unknown|       0| no|\n",
      "| 47|   1506|       1|unknown|  5|     no|      92|  unknown|    yes| blue-collar|  no| married|  may|   -1| unknown|       0| no|\n",
      "| 33|      1|       1|unknown|  5|     no|     198|  unknown|     no|     unknown|  no|  single|  may|   -1| unknown|       0| no|\n",
      "| 35|    231|       1|unknown|  5|     no|     139| tertiary|    yes|  management|  no| married|  may|   -1| unknown|       0| no|\n",
      "| 28|    447|       1|unknown|  5|     no|     217| tertiary|    yes|  management| yes|  single|  may|   -1| unknown|       0| no|\n",
      "| 42|      2|       1|unknown|  5|    yes|     380| tertiary|    yes|entrepreneur|  no|divorced|  may|   -1| unknown|       0| no|\n",
      "| 58|    121|       1|unknown|  5|     no|      50|  primary|    yes|     retired|  no| married|  may|   -1| unknown|       0| no|\n",
      "| 43|    593|       1|unknown|  5|     no|      55|secondary|    yes|  technician|  no|  single|  may|   -1| unknown|       0| no|\n",
      "| 41|    270|       1|unknown|  5|     no|     222|secondary|    yes|      admin.|  no|divorced|  may|   -1| unknown|       0| no|\n",
      "| 29|    390|       1|unknown|  5|     no|     137|secondary|    yes|      admin.|  no|  single|  may|   -1| unknown|       0| no|\n",
      "| 53|      6|       1|unknown|  5|     no|     517|secondary|    yes|  technician|  no| married|  may|   -1| unknown|       0| no|\n",
      "| 58|     71|       1|unknown|  5|     no|      71|  unknown|    yes|  technician|  no| married|  may|   -1| unknown|       0| no|\n",
      "| 57|    162|       1|unknown|  5|     no|     174|secondary|    yes|    services|  no| married|  may|   -1| unknown|       0| no|\n",
      "| 51|    229|       1|unknown|  5|     no|     353|  primary|    yes|     retired|  no| married|  may|   -1| unknown|       0| no|\n",
      "| 45|     13|       1|unknown|  5|     no|      98|  unknown|    yes|      admin.|  no|  single|  may|   -1| unknown|       0| no|\n",
      "| 57|     52|       1|unknown|  5|     no|      38|  primary|    yes| blue-collar|  no| married|  may|   -1| unknown|       0| no|\n",
      "| 60|     60|       1|unknown|  5|     no|     219|  primary|    yes|     retired|  no| married|  may|   -1| unknown|       0| no|\n",
      "| 33|      0|       1|unknown|  5|     no|      54|secondary|    yes|    services|  no| married|  may|   -1| unknown|       0| no|\n",
      "+---+-------+--------+-------+---+-------+--------+---------+-------+------------+----+--------+-----+-----+--------+--------+---+\n",
      "only showing top 20 rows\n",
      "\n"
     ]
    }
   ],
   "source": [
    "bank_data = spark.read.json('file:///home/hadoop/Downloads/bank_edited.json', multiLine=True)\n",
    "# we set multiLine to true as the records in the JSON file are like \n",
    "# key:value paires in each line, which will create problems [similar to a record in mongoDB]\n",
    "bank_data.show()"
   ]
  },
  {
   "cell_type": "code",
   "execution_count": 20,
   "id": "f3427141",
   "metadata": {},
   "outputs": [
    {
     "name": "stdout",
     "output_type": "stream",
     "text": [
      "root\n",
      " |-- age: long (nullable = true)\n",
      " |-- balance: long (nullable = true)\n",
      " |-- campaign: long (nullable = true)\n",
      " |-- contact: string (nullable = true)\n",
      " |-- day: long (nullable = true)\n",
      " |-- default: string (nullable = true)\n",
      " |-- duration: long (nullable = true)\n",
      " |-- education: string (nullable = true)\n",
      " |-- housing: string (nullable = true)\n",
      " |-- job: string (nullable = true)\n",
      " |-- loan: string (nullable = true)\n",
      " |-- marital: string (nullable = true)\n",
      " |-- month: string (nullable = true)\n",
      " |-- pdays: long (nullable = true)\n",
      " |-- poutcome: string (nullable = true)\n",
      " |-- previous: long (nullable = true)\n",
      " |-- y: string (nullable = true)\n",
      "\n"
     ]
    }
   ],
   "source": [
    "bank_data.printSchema()"
   ]
  },
  {
   "cell_type": "code",
   "execution_count": null,
   "id": "16f05ac9",
   "metadata": {},
   "outputs": [],
   "source": [
    "# typecasting any one column\n",
    "# we use withColumn for any column wise transformation that we want to do\n",
    "\n",
    "bank_data.withColumn('age', col('age').cast(IntegerType()))\n",
    "bank_data.withColumn('balance', col('balance').cast(FloatType()))\n",
    "bank_data.withColumn('campaign', col('balance').cast(IntegerType()))\n",
    "bank_data.withColumn('contact', col('contact').cast())"
   ]
  },
  {
   "cell_type": "markdown",
   "id": "2b9046b5",
   "metadata": {},
   "source": [
    "### 3. Creating a new column"
   ]
  },
  {
   "cell_type": "code",
   "execution_count": 23,
   "id": "d5ad72de",
   "metadata": {},
   "outputs": [
    {
     "name": "stdout",
     "output_type": "stream",
     "text": [
      "+---+----------+---------+------+--------+------------------+------------+-----------------+\n",
      "| id|first_name|last_name|gender|  salary|              city|     country|        Full_name|\n",
      "+---+----------+---------+------+--------+------------------+------------+-----------------+\n",
      "|  1|     Valma|     Sans|Female|983107.0|         Mulyosari|   Indonesia|       Valma Sans|\n",
      "|  2|     Paolo|   Kiddie|  Male|649173.0|           Niihama|       Japan|     Paolo Kiddie|\n",
      "|  3|    Miltie| De Zuani|  Male|352898.0|         Dū Qal‘ah| Afghanistan|  Miltie De Zuani|\n",
      "|  4|    Jarrid| Dalziell|  Male|170398.0|            Iberia|        Peru|  Jarrid Dalziell|\n",
      "|  5| Reinaldos|   Keeffe|  Male|440989.0|          La Ronge|      Canada| Reinaldos Keeffe|\n",
      "|  6|        Eb|Schwanden|  Male|274126.0|      Kuala Lumpur|    Malaysia|     Eb Schwanden|\n",
      "|  7|    Alleyn|   Paddon|  Male|681914.0|         Al Qurayn|Saudi Arabia|    Alleyn Paddon|\n",
      "|  8|   Baryram|     Yell|  Male|250748.0|           Jixiang|       China|     Baryram Yell|\n",
      "|  9|     Cammy|     Axel|Female|221750.0|Thị Trấn Phong Thổ|     Vietnam|       Cammy Axel|\n",
      "| 10|       Erl|  Caldera|  Male|680801.0|        Kotatengah|   Indonesia|      Erl Caldera|\n",
      "| 11|    Miguel|   Moules|  Male|819771.0|        Roldanillo|    Colombia|    Miguel Moules|\n",
      "| 12| Mireielle|   Hurley|Female|486029.0|            Malārd|        Iran| Mireielle Hurley|\n",
      "| 13|    Feodor| Grummitt|  Male|358045.0|     Fada N'gourma|Burkina Faso|  Feodor Grummitt|\n",
      "| 14|     Diana|  Lawfull|Female|397683.0|           Ciangir|   Indonesia|    Diana Lawfull|\n",
      "| 15|      Evie|   Kaysor|Female|436202.0|         El Cantón|   Venezuela|      Evie Kaysor|\n",
      "| 16|    Janean|    Sayse|Female|892405.0|          La Unión|    Colombia|     Janean Sayse|\n",
      "| 17|     Colan|   Stoppe|  Male|218434.0|            Xinhua|       China|     Colan Stoppe|\n",
      "| 18|      Erik| Stitcher|  Male|776023.0|     Крива Паланка|   Macedonia|    Erik Stitcher|\n",
      "| 19|   Sargent|   Cleall|  Male|819269.0|          Qīr Moāv|      Jordan|   Sargent Cleall|\n",
      "| 20|   Tamqrah|Millichip|Female|313540.0|      Bogandinskiy|      Russia|Tamqrah Millichip|\n",
      "+---+----------+---------+------+--------+------------------+------------+-----------------+\n",
      "only showing top 20 rows\n",
      "\n"
     ]
    }
   ],
   "source": [
    "# another example of withColumn\n",
    "# creating new column from 2 separate columns\n",
    "from pyspark.sql.functions import concat\n",
    "\n",
    "# this needs to be updated back to dataframe to actually change it\n",
    "people_df.withColumn('Full_name', concat(col('first_name'), lit(\" \"), col('last_name'))).show()"
   ]
  },
  {
   "cell_type": "markdown",
   "id": "b4d84c9f",
   "metadata": {},
   "source": [
    "### 4. renaming a column"
   ]
  },
  {
   "cell_type": "code",
   "execution_count": 25,
   "id": "73d217ca",
   "metadata": {},
   "outputs": [
    {
     "data": {
      "text/plain": [
       "DataFrame[id: int, first_name: string, last_name: string, gender: string, income: float, city: string, country: string]"
      ]
     },
     "execution_count": 25,
     "metadata": {},
     "output_type": "execute_result"
    }
   ],
   "source": [
    "people_df = people_df.withColumnRenamed('salary', 'income')\n",
    "people_df"
   ]
  },
  {
   "cell_type": "markdown",
   "id": "a1714734",
   "metadata": {},
   "source": [
    "### 5. limit()"
   ]
  },
  {
   "cell_type": "code",
   "execution_count": 27,
   "id": "c4bcdbb5",
   "metadata": {},
   "outputs": [
    {
     "name": "stdout",
     "output_type": "stream",
     "text": [
      "+---+----------+---------+------+--------+---------+-----------+\n",
      "| id|first_name|last_name|gender|  income|     city|    country|\n",
      "+---+----------+---------+------+--------+---------+-----------+\n",
      "|  1|     Valma|     Sans|Female|983107.0|Mulyosari|  Indonesia|\n",
      "|  2|     Paolo|   Kiddie|  Male|649173.0|  Niihama|      Japan|\n",
      "|  3|    Miltie| De Zuani|  Male|352898.0|Dū Qal‘ah|Afghanistan|\n",
      "+---+----------+---------+------+--------+---------+-----------+\n",
      "\n"
     ]
    }
   ],
   "source": [
    "people_df.limit(3).show()"
   ]
  },
  {
   "cell_type": "markdown",
   "id": "446c954e",
   "metadata": {},
   "source": [
    "### 6. orderBy()\n",
    "###### arrange data in required order"
   ]
  },
  {
   "cell_type": "code",
   "execution_count": 29,
   "id": "2d5802fd",
   "metadata": {},
   "outputs": [
    {
     "name": "stdout",
     "output_type": "stream",
     "text": [
      "+---+----------+----------+------+-------+------------+--------------------+\n",
      "| id|first_name| last_name|gender| income|        city|             country|\n",
      "+---+----------+----------+------+-------+------------+--------------------+\n",
      "| 93|      Cory|     Prigg|  Male|12876.0|     Gondang|           Indonesia|\n",
      "|590|      Flem|  Tumielli|  Male|13347.0| Debre Zeyit|            Ethiopia|\n",
      "|192|       Odo|   Conyers|  Male|15555.0|  Raffingora|            Zimbabwe|\n",
      "|407|  Barbabas| Ballingal|  Male|18598.0|Beringinjaya|           Indonesia|\n",
      "|297|     Daron|    Melato|Female|19881.0|      Phayao|            Thailand|\n",
      "| 24|   Avigdor|   Goddman|  Male|20216.0|       Gujun|               China|\n",
      "|315|    Alayne|    Foskin|Female|20390.0|     Siluman|           Indonesia|\n",
      "|199|     Niles| Atcherley|  Male|22529.0|Nova Venécia|              Brazil|\n",
      "|294|     Terri|    Holton|Female|23934.0|      Hitura|               Nepal|\n",
      "|601|    Pattie|Bosomworth|Female|24967.0|   Virolahti|             Finland|\n",
      "|762|     Jesse|   Comfort|  Male|26213.0|    Żoliborz|              Poland|\n",
      "|252|       Gil|  Rochford|  Male|26950.0|        Huji|               China|\n",
      "|837|   Sharity|  Stoffers|Female|28630.0|    Zavidovo|              Russia|\n",
      "|438|    Odelle|  Harefoot|Female|29177.0| Cibatuireng|           Indonesia|\n",
      "|836|     Lenka|  Eddicott|Female|29374.0| Trincomalee|           Sri Lanka|\n",
      "|912|    Jackie|    Baudic|Female|29540.0|       Bunia|Democratic Republ...|\n",
      "|439|     Keith|   Baudain|  Male|31890.0| Maszkienice|              Poland|\n",
      "|356| Raffaello|   Dugdale|  Male|33082.0|   San Pedro|         Philippines|\n",
      "|977|    Kalvin|     Earry|  Male|34152.0|   Mariental|             Namibia|\n",
      "|512|     Bobbe|   Copland|Female|34435.0|          Mó|            Portugal|\n",
      "+---+----------+----------+------+-------+------------+--------------------+\n",
      "only showing top 20 rows\n",
      "\n"
     ]
    }
   ],
   "source": [
    "people_df.orderBy(['income'], ascending=True).show()"
   ]
  },
  {
   "cell_type": "code",
   "execution_count": 31,
   "id": "870899b0",
   "metadata": {},
   "outputs": [
    {
     "name": "stdout",
     "output_type": "stream",
     "text": [
      "+---+----------+------------+------+--------+------------------+--------------+\n",
      "| id|first_name|   last_name|gender|  income|              city|       country|\n",
      "+---+----------+------------+------+--------+------------------+--------------+\n",
      "|490|  Cathlene|    Gatfield|Female|981605.0|           Mīrābād|   Afghanistan|\n",
      "|448|      Yuri|     Duggary|  Male|414107.0|     Sang-e Māshah|   Afghanistan|\n",
      "|  3|    Miltie|    De Zuani|  Male|352898.0|         Dū Qal‘ah|   Afghanistan|\n",
      "|155|    Guntar|    Langmuir|  Male|290613.0|             Khōst|   Afghanistan|\n",
      "|983|      Tiff|     Dreakin|Female|208548.0|             Āsmār|   Afghanistan|\n",
      "|290|     Myles|      Britch|  Male|191508.0|         Dū Laīnah|   Afghanistan|\n",
      "|419|   Ezekiel|   Fleetwood|  Male|163113.0|      Barakī Barak|   Afghanistan|\n",
      "|701|    Gerrie|      Heigho|  Male|503327.0|             Föglö| Aland Islands|\n",
      "|674|    Ludwig|    Bothwell|  Male|825171.0|         Martanesh|       Albania|\n",
      "|421|    Hamnet|     Maruska|  Male|129628.0|           Hoçisht|       Albania|\n",
      "|299|     Mordy|      Enrich|  Male|543696.0|          Fagatogo|American Samoa|\n",
      "|335|     Golda|     Tesimon|Female|953260.0|              Uíge|        Angola|\n",
      "| 98|     Gates|        Cars|Female|866673.0|              Luau|        Angola|\n",
      "|872|     Rycca|       Maund|Female|987858.0|              Azul|     Argentina|\n",
      "|587|      Cord|      Tuplin|  Male|962743.0|             Allen|     Argentina|\n",
      "|707|Hyacinthie|    Robjents|Female|942563.0| Villa Ojo de Agua|     Argentina|\n",
      "|285|     Meara|       Musla|Female|915901.0|            Zapala|     Argentina|\n",
      "|359|     Patsy|    Dodgshon|  Male|855456.0|Villa Constitución|     Argentina|\n",
      "|296|      Anya|   Trowsdall|Female|842606.0|   28 de Noviembre|     Argentina|\n",
      "|794|     Alain|Barrowclough|  Male|675649.0|         Concordia|     Argentina|\n",
      "+---+----------+------------+------+--------+------------------+--------------+\n",
      "only showing top 20 rows\n",
      "\n"
     ]
    }
   ],
   "source": [
    "people_df.orderBy(['country', 'income'], ascending=[True, False]).show()"
   ]
  },
  {
   "cell_type": "raw",
   "id": "65ce5d5e",
   "metadata": {},
   "source": []
  },
  {
   "cell_type": "markdown",
   "id": "d9c52403",
   "metadata": {},
   "source": [
    "### 7. materialized view\n",
    "###### createOrReplaceTempView(_name_of_temp_view_)"
   ]
  },
  {
   "cell_type": "code",
   "execution_count": 32,
   "id": "bbd0fe8c",
   "metadata": {},
   "outputs": [],
   "source": [
    "# while running the command, if any error encountered\n",
    "# check if multiple 'SparkSummit' are running - kill them.\n",
    "\n",
    "bank_data.createOrReplaceTempView('bankData')"
   ]
  },
  {
   "cell_type": "code",
   "execution_count": 33,
   "id": "3e1c5799",
   "metadata": {},
   "outputs": [
    {
     "name": "stdout",
     "output_type": "stream",
     "text": [
      "+---+-------+--------+-------+---+-------+--------+---------+-------+------------+----+-------+-----+-----+--------+--------+---+\n",
      "|age|balance|campaign|contact|day|default|duration|education|housing|         job|loan|marital|month|pdays|poutcome|previous|  y|\n",
      "+---+-------+--------+-------+---+-------+--------+---------+-------+------------+----+-------+-----+-----+--------+--------+---+\n",
      "| 58|   2143|       1|unknown|  5|     no|     261| tertiary|    yes|  management|  no|married|  may|   -1| unknown|       0| no|\n",
      "| 44|     29|       1|unknown|  5|     no|     151|secondary|    yes|  technician|  no| single|  may|   -1| unknown|       0| no|\n",
      "| 33|      2|       1|unknown|  5|     no|      76|secondary|    yes|entrepreneur| yes|married|  may|   -1| unknown|       0| no|\n",
      "| 47|   1506|       1|unknown|  5|     no|      92|  unknown|    yes| blue-collar|  no|married|  may|   -1| unknown|       0| no|\n",
      "| 33|      1|       1|unknown|  5|     no|     198|  unknown|     no|     unknown|  no| single|  may|   -1| unknown|       0| no|\n",
      "| 35|    231|       1|unknown|  5|     no|     139| tertiary|    yes|  management|  no|married|  may|   -1| unknown|       0| no|\n",
      "| 28|    447|       1|unknown|  5|     no|     217| tertiary|    yes|  management| yes| single|  may|   -1| unknown|       0| no|\n",
      "+---+-------+--------+-------+---+-------+--------+---------+-------+------------+----+-------+-----+-----+--------+--------+---+\n",
      "only showing top 7 rows\n",
      "\n"
     ]
    }
   ],
   "source": [
    "spark.sql('SELECT * FROM bankData').show(7)"
   ]
  },
  {
   "cell_type": "code",
   "execution_count": 36,
   "id": "b7f9f7ad",
   "metadata": {},
   "outputs": [
    {
     "name": "stdout",
     "output_type": "stream",
     "text": [
      "+-----+\n",
      "|count|\n",
      "+-----+\n",
      "|45211|\n",
      "+-----+\n",
      "\n"
     ]
    }
   ],
   "source": [
    "spark.sql('SELECT COUNT(*) AS count FROM bankData').show()"
   ]
  },
  {
   "cell_type": "code",
   "execution_count": 48,
   "id": "53c7a87d",
   "metadata": {},
   "outputs": [
    {
     "name": "stdout",
     "output_type": "stream",
     "text": [
      "+---+------------+\n",
      "|age|max(balance)|\n",
      "+---+------------+\n",
      "| 51|      102127|\n",
      "| 59|       98417|\n",
      "| 84|       81204|\n",
      "| 60|       71188|\n",
      "| 56|       66721|\n",
      "| 52|       66653|\n",
      "| 32|       59649|\n",
      "| 44|       58544|\n",
      "| 50|       57435|\n",
      "| 43|       56831|\n",
      "+---+------------+\n",
      "only showing top 10 rows\n",
      "\n"
     ]
    }
   ],
   "source": [
    "# Q1: Show the top 10 youngest age group employees with maximum balance\n",
    "\n",
    "spark.sql(\n",
    "    \"\"\"\n",
    "        SELECT age, MAX(balance)\n",
    "        FROM bankData\n",
    "        GROUP BY age\n",
    "        ORDER BY MAX(balance) DESC, age ASC \n",
    "    \"\"\"\n",
    ").show(10)"
   ]
  },
  {
   "cell_type": "code",
   "execution_count": 49,
   "id": "dd889006",
   "metadata": {},
   "outputs": [
    {
     "name": "stdout",
     "output_type": "stream",
     "text": [
      "+-------------+------------+\n",
      "|          job|min(balance)|\n",
      "+-------------+------------+\n",
      "|  blue-collar|       -8019|\n",
      "|   management|       -6847|\n",
      "|self-employed|       -3313|\n",
      "|   technician|       -2827|\n",
      "|     services|       -2122|\n",
      "+-------------+------------+\n",
      "only showing top 5 rows\n",
      "\n"
     ]
    }
   ],
   "source": [
    "# Q2: Show the worst 5 job types having minimum salary \n",
    "\n",
    "spark.sql(\n",
    "    \"\"\"\n",
    "        SELECT job, MIN(balance)\n",
    "        FROM bankData\n",
    "        GROUP BY job\n",
    "        ORDER BY MIN(balance)\n",
    "    \"\"\"\n",
    ").show(5)"
   ]
  },
  {
   "cell_type": "code",
   "execution_count": null,
   "id": "692db29f",
   "metadata": {},
   "outputs": [],
   "source": [
    "# Q3: "
   ]
  }
 ],
 "metadata": {
  "kernelspec": {
   "display_name": "Python 3",
   "language": "python",
   "name": "python3"
  },
  "language_info": {
   "codemirror_mode": {
    "name": "ipython",
    "version": 3
   },
   "file_extension": ".py",
   "mimetype": "text/x-python",
   "name": "python",
   "nbconvert_exporter": "python",
   "pygments_lexer": "ipython3",
   "version": "3.6.9"
  }
 },
 "nbformat": 4,
 "nbformat_minor": 5
}
