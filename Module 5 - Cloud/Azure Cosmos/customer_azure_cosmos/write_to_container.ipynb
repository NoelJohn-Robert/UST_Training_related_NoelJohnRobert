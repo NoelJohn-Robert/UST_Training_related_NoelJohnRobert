{
 "cells": [
  {
   "cell_type": "code",
   "execution_count": 1,
   "metadata": {},
   "outputs": [
    {
     "name": "stdout",
     "output_type": "stream",
     "text": [
      "Requirement already satisfied: azure-cosmos in c:\\program files\\python312\\lib\\site-packages (4.7.0)\n",
      "Requirement already satisfied: azure-core>=1.25.1 in c:\\program files\\python312\\lib\\site-packages (from azure-cosmos) (1.31.0)\n",
      "Requirement already satisfied: typing-extensions>=4.6.0 in c:\\program files\\python312\\lib\\site-packages (from azure-cosmos) (4.12.2)\n",
      "Requirement already satisfied: requests>=2.21.0 in c:\\program files\\python312\\lib\\site-packages (from azure-core>=1.25.1->azure-cosmos) (2.32.3)\n",
      "Requirement already satisfied: six>=1.11.0 in c:\\program files\\python312\\lib\\site-packages (from azure-core>=1.25.1->azure-cosmos) (1.16.0)\n",
      "Requirement already satisfied: charset-normalizer<4,>=2 in c:\\program files\\python312\\lib\\site-packages (from requests>=2.21.0->azure-core>=1.25.1->azure-cosmos) (3.3.2)\n",
      "Requirement already satisfied: idna<4,>=2.5 in c:\\program files\\python312\\lib\\site-packages (from requests>=2.21.0->azure-core>=1.25.1->azure-cosmos) (3.7)\n",
      "Requirement already satisfied: urllib3<3,>=1.21.1 in c:\\program files\\python312\\lib\\site-packages (from requests>=2.21.0->azure-core>=1.25.1->azure-cosmos) (2.2.1)\n",
      "Requirement already satisfied: certifi>=2017.4.17 in c:\\program files\\python312\\lib\\site-packages (from requests>=2.21.0->azure-core>=1.25.1->azure-cosmos) (2024.2.2)\n"
     ]
    },
    {
     "name": "stderr",
     "output_type": "stream",
     "text": [
      "\n",
      "[notice] A new release of pip is available: 24.0 -> 24.2\n",
      "[notice] To update, run: python.exe -m pip install --upgrade pip\n"
     ]
    }
   ],
   "source": [
    "!pip install azure-cosmos"
   ]
  },
  {
   "cell_type": "code",
   "execution_count": 2,
   "metadata": {},
   "outputs": [],
   "source": [
    "from azure.cosmos import CosmosClient, exceptions, PartitionKey\n",
    "import json"
   ]
  },
  {
   "cell_type": "code",
   "execution_count": 3,
   "metadata": {},
   "outputs": [],
   "source": [
    "# initialize cosmos client\n",
    "endpoint = 'https://azure-cosmos-demo-nosql-noelrobert.documents.azure.com:443/'\n",
    "key = '0cQSKDUeovU996kVJ5HmFaTgBfgiTFlj1KR4q1UdjSkQC2P9KTAobt08YEIy5j0QHth9AKz87fAlACDbFnuRcA=='\n",
    "DATABASE_NAME = 'customer_database'\n",
    "CONTAINER_NAME = 'customer_container'"
   ]
  },
  {
   "cell_type": "code",
   "execution_count": 4,
   "metadata": {},
   "outputs": [],
   "source": [
    "# create a cosmos client\n",
    "client = CosmosClient(endpoint, key)\n",
    "\n",
    "# select database\n",
    "database = client.get_database_client(DATABASE_NAME)\n",
    "\n",
    "# select container name\n",
    "container = database.get_container_client(CONTAINER_NAME)"
   ]
  },
  {
   "cell_type": "code",
   "execution_count": 9,
   "metadata": {},
   "outputs": [
    {
     "name": "stdout",
     "output_type": "stream",
     "text": [
      "[{'id': 'ust10004', 'name': 'neha', 'product': 'mouse', 'brand-name': 'sony', 'Country': 'United States', 'amount': 120000}, {'id': 'ust10005', 'name': 'vikram', 'product': 'smartphone', 'brand-name': 'hp', 'Country': 'Brazil', 'amount': 7000}, {'id': 'ust10006', 'name': 'rohini', 'product': 'tablet', 'brand-name': 'asus', 'Country': 'China', 'amount': 2000}, {'id': 'ust10007', 'name': 'mohit', 'product': 'headphones', 'brand-name': 'sony', 'Country': 'India', 'amount': 30000}, {'id': 'ust10008', 'name': 'vikram', 'product': 'keyboard', 'brand-name': 'lg', 'Country': 'India', 'amount': 150000}, {'id': 'ust10009', 'name': 'vikram', 'product': 'smartphone', 'brand-name': 'lg', 'Country': 'Canada', 'amount': 25000}, {'id': 'ust10010', 'name': 'neha', 'product': 'laptop', 'brand-name': 'logitech', 'Country': 'India', 'amount': 50}, {'id': 'ust10011', 'name': 'anjali', 'product': 'tablet', 'brand-name': 'samsung', 'Country': 'India', 'amount': 150000}, {'id': 'ust10012', 'name': 'anjali', 'product': 'printer', 'brand-name': 'pepsico', 'Country': 'China', 'amount': 50}, {'id': 'ust10013', 'name': 'amit', 'product': 'speakers', 'brand-name': 'apple', 'Country': 'China', 'amount': 2000}, {'id': 'ust10014', 'name': 'krishna', 'product': 'keyboard', 'brand-name': 'sony', 'Country': 'United Kingdom', 'amount': 150000}, {'id': 'ust10015', 'name': 'vikram', 'product': 'lays', 'brand-name': 'logitech', 'Country': 'India', 'amount': 7000}, {'id': 'ust10016', 'name': 'vikram', 'product': 'mouse', 'brand-name': 'dell', 'Country': 'United Kingdom', 'amount': 45000}, {'id': 'ust10017', 'name': 'devika', 'product': 'monitor', 'brand-name': 'hp', 'Country': 'India', 'amount': 7000}, {'id': 'ust10018', 'name': 'anjali', 'product': 'printer', 'brand-name': 'pepsico', 'Country': 'Germany', 'amount': 45000}, {'id': 'ust10019', 'name': 'amit', 'product': 'laptop', 'brand-name': 'logitech', 'Country': 'India', 'amount': 7000}, {'id': 'ust10020', 'name': 'neha', 'product': 'keyboard', 'brand-name': 'asus', 'Country': 'United Kingdom', 'amount': 50}, {'id': 'ust10021', 'name': 'devika', 'product': 'smartphone', 'brand-name': 'apple', 'Country': 'Australia', 'amount': 25000}, {'id': 'ust10022', 'name': 'rohini', 'product': 'keyboard', 'brand-name': 'bose', 'Country': 'United Kingdom', 'amount': 8000}, {'id': 'ust10023', 'name': 'sandeep', 'product': 'smartphone', 'brand-name': 'asus', 'Country': 'United States', 'amount': 30000}, {'id': 'ust10024', 'name': 'amit', 'product': 'mouse', 'brand-name': 'pepsico', 'Country': 'India', 'amount': 30000}, {'id': 'ust10025', 'name': 'vikram', 'product': 'speakers', 'brand-name': 'hp', 'Country': 'Brazil', 'amount': 2000}, {'id': 'ust10026', 'name': 'vikram', 'product': 'speakers', 'brand-name': 'bose', 'Country': 'China', 'amount': 120000}, {'id': 'ust10027', 'name': 'devika', 'product': 'headphones', 'brand-name': 'asus', 'Country': 'Canada', 'amount': 5000}, {'id': 'ust10028', 'name': 'ravi', 'product': 'mouse', 'brand-name': 'sony', 'Country': 'India', 'amount': 8000}, {'id': 'ust10029', 'name': 'sandeep', 'product': 'printer', 'brand-name': 'logitech', 'Country': 'Australia', 'amount': 2000}, {'id': 'ust10030', 'name': 'ravi', 'product': 'speakers', 'brand-name': 'pepsico', 'Country': 'Brazil', 'amount': 8000}, {'id': 'ust10031', 'name': 'vikram', 'product': 'speakers', 'brand-name': 'sony', 'Country': 'Germany', 'amount': 30000}, {'id': 'ust10032', 'name': 'neha', 'product': 'mouse', 'brand-name': 'sony', 'Country': 'China', 'amount': 8000}, {'id': 'ust10033', 'name': 'anjali', 'product': 'laptop', 'brand-name': 'sony', 'Country': 'Australia', 'amount': 120000}, {'id': 'ust10034', 'name': 'mohit', 'product': 'headphones', 'brand-name': 'hp', 'Country': 'France', 'amount': 45000}, {'id': 'ust10035', 'name': 'sandeep', 'product': 'laptop', 'brand-name': 'sony', 'Country': 'France', 'amount': 7000}, {'id': 'ust10036', 'name': 'neha', 'product': 'keyboard', 'brand-name': 'bose', 'Country': 'France', 'amount': 45000}, {'id': 'ust10037', 'name': 'ravi', 'product': 'smartphone', 'brand-name': 'dell', 'Country': 'Germany', 'amount': 45000}, {'id': 'ust10038', 'name': 'neha', 'product': 'headphones', 'brand-name': 'pepsico', 'Country': 'United States', 'amount': 30000}, {'id': 'ust10039', 'name': 'rohini', 'product': 'laptop', 'brand-name': 'logitech', 'Country': 'Australia', 'amount': 5000}, {'id': 'ust10040', 'name': 'anjali', 'product': 'keyboard', 'brand-name': 'apple', 'Country': 'United States', 'amount': 150000}, {'id': 'ust10041', 'name': 'krishna', 'product': 'keyboard', 'brand-name': 'samsung', 'Country': 'Australia', 'amount': 30000}, {'id': 'ust10042', 'name': 'rohini', 'product': 'tablet', 'brand-name': 'logitech', 'Country': 'Australia', 'amount': 7000}, {'id': 'ust10043', 'name': 'neha', 'product': 'speakers', 'brand-name': 'sony', 'Country': 'Brazil', 'amount': 7000}, {'id': 'ust10044', 'name': 'devika', 'product': 'mouse', 'brand-name': 'sony', 'Country': 'Canada', 'amount': 8000}, {'id': 'ust10045', 'name': 'sandeep', 'product': 'keyboard', 'brand-name': 'bose', 'Country': 'India', 'amount': 8000}, {'id': 'ust10046', 'name': 'krishna', 'product': 'monitor', 'brand-name': 'apple', 'Country': 'Japan', 'amount': 50}, {'id': 'ust10047', 'name': 'ravi', 'product': 'speakers', 'brand-name': 'hp', 'Country': 'Japan', 'amount': 8000}, {'id': 'ust10048', 'name': 'amit', 'product': 'smartphone', 'brand-name': 'samsung', 'Country': 'China', 'amount': 25000}, {'id': 'ust10049', 'name': 'vikram', 'product': 'printer', 'brand-name': 'apple', 'Country': 'Japan', 'amount': 7000}, {'id': 'ust10050', 'name': 'krishna', 'product': 'tablet', 'brand-name': 'apple', 'Country': 'France', 'amount': 120000}, {'id': 'ust10051', 'name': 'mohit', 'product': 'speakers', 'brand-name': 'lg', 'Country': 'Australia', 'amount': 2000}, {'id': 'ust10052', 'name': 'krishna', 'product': 'tablet', 'brand-name': 'asus', 'Country': 'China', 'amount': 8000}, {'id': 'ust10053', 'name': 'mohit', 'product': 'smartphone', 'brand-name': 'apple', 'Country': 'China', 'amount': 150000}, {'id': 'ust10054', 'name': 'mohit', 'product': 'keyboard', 'brand-name': 'bose', 'Country': 'United Kingdom', 'amount': 25000}, {'id': 'ust10055', 'name': 'devika', 'product': 'speakers', 'brand-name': 'samsung', 'Country': 'Australia', 'amount': 8000}, {'id': 'ust10056', 'name': 'sandeep', 'product': 'monitor', 'brand-name': 'lg', 'Country': 'Australia', 'amount': 150000}, {'id': 'ust10057', 'name': 'ravi', 'product': 'mouse', 'brand-name': 'sony', 'Country': 'China', 'amount': 25000}, {'id': 'ust10058', 'name': 'sandeep', 'product': 'headphones', 'brand-name': 'asus', 'Country': 'India', 'amount': 8000}, {'id': 'ust10059', 'name': 'krishna', 'product': 'mouse', 'brand-name': 'asus', 'Country': 'Canada', 'amount': 45000}, {'id': 'ust10060', 'name': 'sandeep', 'product': 'speakers', 'brand-name': 'lg', 'Country': 'Brazil', 'amount': 30000}, {'id': 'ust10061', 'name': 'ravi', 'product': 'headphones', 'brand-name': 'pepsico', 'Country': 'Brazil', 'amount': 2000}, {'id': 'ust10062', 'name': 'mohit', 'product': 'monitor', 'brand-name': 'lg', 'Country': 'United States', 'amount': 7000}, {'id': 'ust10063', 'name': 'amit', 'product': 'speakers', 'brand-name': 'sony', 'Country': 'Germany', 'amount': 8000}, {'id': 'ust10064', 'name': 'krishna', 'product': 'laptop', 'brand-name': 'bose', 'Country': 'France', 'amount': 120000}, {'id': 'ust10065', 'name': 'devika', 'product': 'keyboard', 'brand-name': 'lg', 'Country': 'Germany', 'amount': 8000}, {'id': 'ust10066', 'name': 'anjali', 'product': 'monitor', 'brand-name': 'sony', 'Country': 'United States', 'amount': 8000}, {'id': 'ust10067', 'name': 'ravi', 'product': 'headphones', 'brand-name': 'pepsico', 'Country': 'Brazil', 'amount': 8000}, {'id': 'ust10068', 'name': 'devika', 'product': 'keyboard', 'brand-name': 'samsung', 'Country': 'China', 'amount': 150000}, {'id': 'ust10069', 'name': 'krishna', 'product': 'printer', 'brand-name': 'apple', 'Country': 'Japan', 'amount': 8000}, {'id': 'ust10070', 'name': 'rohini', 'product': 'laptop', 'brand-name': 'pepsico', 'Country': 'Japan', 'amount': 5000}, {'id': 'ust10071', 'name': 'rohini', 'product': 'smartphone', 'brand-name': 'apple', 'Country': 'Canada', 'amount': 150000}, {'id': 'ust10072', 'name': 'rohini', 'product': 'tablet', 'brand-name': 'sony', 'Country': 'United States', 'amount': 25000}, {'id': 'ust10073', 'name': 'anjali', 'product': 'speakers', 'brand-name': 'hp', 'Country': 'France', 'amount': 7000}, {'id': 'ust10074', 'name': 'vikram', 'product': 'smartphone', 'brand-name': 'apple', 'Country': 'Brazil', 'amount': 30000}, {'id': 'ust10075', 'name': 'neha', 'product': 'speakers', 'brand-name': 'hp', 'Country': 'Germany', 'amount': 7000}, {'id': 'ust10076', 'name': 'neha', 'product': 'laptop', 'brand-name': 'asus', 'Country': 'China', 'amount': 5000}, {'id': 'ust10077', 'name': 'neha', 'product': 'printer', 'brand-name': 'lg', 'Country': 'Brazil', 'amount': 30000}, {'id': 'ust10078', 'name': 'sandeep', 'product': 'smartphone', 'brand-name': 'hp', 'Country': 'France', 'amount': 50}, {'id': 'ust10079', 'name': 'ravi', 'product': 'laptop', 'brand-name': 'pepsico', 'Country': 'India', 'amount': 50}, {'id': 'ust10080', 'name': 'krishna', 'product': 'monitor', 'brand-name': 'samsung', 'Country': 'United Kingdom', 'amount': 30000}, {'id': 'ust10081', 'name': 'krishna', 'product': 'laptop', 'brand-name': 'bose', 'Country': 'Germany', 'amount': 8000}, {'id': 'ust10082', 'name': 'vikram', 'product': 'smartphone', 'brand-name': 'sony', 'Country': 'Australia', 'amount': 30000}, {'id': 'ust10083', 'name': 'rohini', 'product': 'lays', 'brand-name': 'hp', 'Country': 'Australia', 'amount': 7000}, {'id': 'ust10084', 'name': 'ravi', 'product': 'laptop', 'brand-name': 'dell', 'Country': 'United States', 'amount': 8000}, {'id': 'ust10085', 'name': 'sandeep', 'product': 'keyboard', 'brand-name': 'pepsico', 'Country': 'France', 'amount': 25000}, {'id': 'ust10086', 'name': 'amit', 'product': 'speakers', 'brand-name': 'asus', 'Country': 'Germany', 'amount': 120000}, {'id': 'ust10087', 'name': 'neha', 'product': 'lays', 'brand-name': 'asus', 'Country': 'China', 'amount': 2000}, {'id': 'ust10088', 'name': 'vikram', 'product': 'headphones', 'brand-name': 'pepsico', 'Country': 'China', 'amount': 50}, {'id': 'ust10089', 'name': 'rohini', 'product': 'lays', 'brand-name': 'lg', 'Country': 'India', 'amount': 2000}, {'id': 'ust10090', 'name': 'ravi', 'product': 'printer', 'brand-name': 'bose', 'Country': 'France', 'amount': 50}, {'id': 'ust10091', 'name': 'krishna', 'product': 'speakers', 'brand-name': 'samsung', 'Country': 'Germany', 'amount': 5000}, {'id': 'ust10092', 'name': 'sandeep', 'product': 'smartphone', 'brand-name': 'pepsico', 'Country': 'United Kingdom', 'amount': 45000}, {'id': 'ust10093', 'name': 'ravi', 'product': 'lays', 'brand-name': 'sony', 'Country': 'Germany', 'amount': 120000}, {'id': 'ust10094', 'name': 'vikram', 'product': 'monitor', 'brand-name': 'sony', 'Country': 'India', 'amount': 50}, {'id': 'ust10095', 'name': 'devika', 'product': 'lays', 'brand-name': 'logitech', 'Country': 'China', 'amount': 25000}, {'id': 'ust10096', 'name': 'amit', 'product': 'tablet', 'brand-name': 'logitech', 'Country': 'Japan', 'amount': 2000}, {'id': 'ust10097', 'name': 'vikram', 'product': 'speakers', 'brand-name': 'asus', 'Country': 'Australia', 'amount': 120000}, {'id': 'ust10098', 'name': 'devika', 'product': 'smartphone', 'brand-name': 'sony', 'Country': 'Germany', 'amount': 30000}, {'id': 'ust10099', 'name': 'vikram', 'product': 'tablet', 'brand-name': 'hp', 'Country': 'Japan', 'amount': 30000}, {'id': 'ust100100', 'name': 'devika', 'product': 'lays', 'brand-name': 'hp', 'Country': 'Brazil', 'amount': 150000}]\n",
      "97\n"
     ]
    }
   ],
   "source": [
    "with open('customer.json', 'r') as file:\n",
    "    data = json.load(file)\n",
    "\n",
    "print(data)\n",
    "print(len(data))"
   ]
  },
  {
   "cell_type": "code",
   "execution_count": 10,
   "metadata": {},
   "outputs": [],
   "source": [
    "# Q1: insert records into Azure CosmosDB from JSON file\n",
    "for item in data:\n",
    "    try:\n",
    "        container.create_item(item)\n",
    "    \n",
    "    except exceptions.CosmosHttpResponseError as e:\n",
    "        print(f'An error has occurred: {e.message}')"
   ]
  },
  {
   "cell_type": "code",
   "execution_count": 28,
   "metadata": {},
   "outputs": [],
   "source": [
    "# Q2.1 update records\n",
    "unique_id = 'ust10007'\n",
    "new_brand_name = 'Sony-Ericsson'\n",
    "\n",
    "try:\n",
    "    items = container.query_items(query=f\"\"\"SELECT * FROM c WHERE c.id='{unique_id}'\"\"\", enable_cross_partition_query=True)\n",
    "\n",
    "    for item in items:\n",
    "        item['brand-name'] = new_brand_name\n",
    "        container.upsert_item(item) # alternative, replace_item only replaces and throuws error is its not already present\n",
    "        # [for same id, if we try changing partition key, it will be a new record - inorder to handle this properly, use replace_item()]\n",
    "\n",
    "\n",
    "\n",
    "except exceptions.CosmosHttpResponseError as e:\n",
    "    print(f'An error has occurred: {e.message}')"
   ]
  },
  {
   "cell_type": "code",
   "execution_count": 21,
   "metadata": {},
   "outputs": [],
   "source": [
    "# Q2.2 delete records\n",
    "unique_id = 'ust10004'\n",
    "product_partition_key_value = 'mouse'\n",
    "\n",
    "for item in container.query_items(query=f\"\"\"SELECT * FROM c WHERE c.id='{unique_id}'\"\"\", enable_cross_partition_query=True):\n",
    "    container.delete_item(item, partition_key=product_partition_key_value)\n",
    "    # print(item)"
   ]
  },
  {
   "cell_type": "code",
   "execution_count": 17,
   "metadata": {},
   "outputs": [],
   "source": [
    "# Q3: write data from customer_container to bank.json\n",
    "\n",
    "output_file = 'bank.json'\n",
    "try:\n",
    "    items = container.query_items(\n",
    "        query=\"\"\"SELECT * FROM c\"\"\",\n",
    "        enable_cross_partition_query=True # needed when data partitioned by multiple keys\n",
    "    )\n",
    "\n",
    "    itemlist = list(items)   \n",
    "    with open(output_file, 'w') as file:\n",
    "        json.dump(itemlist, file, indent=4)  \n",
    "\n",
    "except exceptions.CosmosHttpResponseError as e:\n",
    "    print(f'An error has occurred: {e.message}')"
   ]
  },
  {
   "cell_type": "code",
   "execution_count": null,
   "metadata": {},
   "outputs": [],
   "source": []
  }
 ],
 "metadata": {
  "kernelspec": {
   "display_name": "Python 3",
   "language": "python",
   "name": "python3"
  },
  "language_info": {
   "codemirror_mode": {
    "name": "ipython",
    "version": 3
   },
   "file_extension": ".py",
   "mimetype": "text/x-python",
   "name": "python",
   "nbconvert_exporter": "python",
   "pygments_lexer": "ipython3",
   "version": "3.12.3"
  }
 },
 "nbformat": 4,
 "nbformat_minor": 2
}
