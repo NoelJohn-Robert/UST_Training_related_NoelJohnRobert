{
 "cells": [
  {
   "cell_type": "code",
   "execution_count": 1,
   "metadata": {},
   "outputs": [],
   "source": [
    "from azure.storage.blob import ContainerClient, BlobClient, BlobServiceClient"
   ]
  },
  {
   "cell_type": "code",
   "execution_count": 2,
   "metadata": {},
   "outputs": [],
   "source": [
    "# from storageAccount>Security+Networking>Access Keys\n",
    "\n",
    "connection_string = \"\"\n",
    "account_key = \"\"\n",
    "account_name = \"azurestoragedemonoel\""
   ]
  },
  {
   "cell_type": "code",
   "execution_count": 3,
   "metadata": {},
   "outputs": [],
   "source": [
    "blob_storage_client = BlobServiceClient.from_connection_string(connection_string)\n",
    "blob_client = BlobServiceClient(account_url=f\"https://{account_name}.blob.core.windows.net/\", credential=account_key)"
   ]
  },
  {
   "cell_type": "code",
   "execution_count": 4,
   "metadata": {},
   "outputs": [],
   "source": [
    "container_name = r\"azureblobcontainer\"\n",
    "container_client = blob_storage_client.get_container_client(container_name)"
   ]
  },
  {
   "cell_type": "code",
   "execution_count": 5,
   "metadata": {},
   "outputs": [
    {
     "name": "stdout",
     "output_type": "stream",
     "text": [
      "Blob uploaded\n"
     ]
    }
   ],
   "source": [
    "local_file_path = r\"\"\"C:\\Users\\Administrator\\Downloads\\transformed_sales_data.json\"\"\"\n",
    "with open(local_file_path, 'rb') as fileObj:\n",
    "    container_client.upload_blob(\"sales_data.json\", fileObj)\n",
    "    print(f\"Blob uploaded\")"
   ]
  },
  {
   "cell_type": "code",
   "execution_count": 6,
   "metadata": {},
   "outputs": [
    {
     "name": "stdout",
     "output_type": "stream",
     "text": [
      "Customer/customer.json\n",
      "Images/HDFS_architecture1.PNG\n",
      "sales_data.json\n"
     ]
    }
   ],
   "source": [
    "blob_list = container_client.list_blob_names()\n",
    "\n",
    "for blob in blob_list:\n",
    "    print(blob)"
   ]
  },
  {
   "cell_type": "code",
   "execution_count": null,
   "metadata": {},
   "outputs": [],
   "source": []
  }
 ],
 "metadata": {
  "kernelspec": {
   "display_name": "Python 3",
   "language": "python",
   "name": "python3"
  },
  "language_info": {
   "codemirror_mode": {
    "name": "ipython",
    "version": 3
   },
   "file_extension": ".py",
   "mimetype": "text/x-python",
   "name": "python",
   "nbconvert_exporter": "python",
   "pygments_lexer": "ipython3",
   "version": "3.12.3"
  }
 },
 "nbformat": 4,
 "nbformat_minor": 2
}
