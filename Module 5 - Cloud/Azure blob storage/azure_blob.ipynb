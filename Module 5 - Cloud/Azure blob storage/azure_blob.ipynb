{
 "cells": [
  {
   "cell_type": "code",
   "execution_count": 6,
   "metadata": {},
   "outputs": [
    {
     "name": "stdout",
     "output_type": "stream",
     "text": [
      "Requirement already satisfied: azure-storage-blob in c:\\program files\\python312\\lib\\site-packages (12.22.0)\n",
      "Requirement already satisfied: azure-core>=1.28.0 in c:\\program files\\python312\\lib\\site-packages (from azure-storage-blob) (1.31.0)\n",
      "Requirement already satisfied: cryptography>=2.1.4 in c:\\program files\\python312\\lib\\site-packages (from azure-storage-blob) (43.0.1)\n",
      "Requirement already satisfied: typing-extensions>=4.6.0 in c:\\program files\\python312\\lib\\site-packages (from azure-storage-blob) (4.12.2)\n",
      "Requirement already satisfied: isodate>=0.6.1 in c:\\program files\\python312\\lib\\site-packages (from azure-storage-blob) (0.6.1)\n",
      "Requirement already satisfied: requests>=2.21.0 in c:\\program files\\python312\\lib\\site-packages (from azure-core>=1.28.0->azure-storage-blob) (2.32.3)\n",
      "Requirement already satisfied: six>=1.11.0 in c:\\program files\\python312\\lib\\site-packages (from azure-core>=1.28.0->azure-storage-blob) (1.16.0)\n",
      "Requirement already satisfied: cffi>=1.12 in c:\\program files\\python312\\lib\\site-packages (from cryptography>=2.1.4->azure-storage-blob) (1.16.0)\n",
      "Requirement already satisfied: pycparser in c:\\program files\\python312\\lib\\site-packages (from cffi>=1.12->cryptography>=2.1.4->azure-storage-blob) (2.22)\n",
      "Requirement already satisfied: charset-normalizer<4,>=2 in c:\\program files\\python312\\lib\\site-packages (from requests>=2.21.0->azure-core>=1.28.0->azure-storage-blob) (3.3.2)\n",
      "Requirement already satisfied: idna<4,>=2.5 in c:\\program files\\python312\\lib\\site-packages (from requests>=2.21.0->azure-core>=1.28.0->azure-storage-blob) (3.7)\n",
      "Requirement already satisfied: urllib3<3,>=1.21.1 in c:\\program files\\python312\\lib\\site-packages (from requests>=2.21.0->azure-core>=1.28.0->azure-storage-blob) (2.2.1)\n",
      "Requirement already satisfied: certifi>=2017.4.17 in c:\\program files\\python312\\lib\\site-packages (from requests>=2.21.0->azure-core>=1.28.0->azure-storage-blob) (2024.2.2)\n"
     ]
    },
    {
     "name": "stderr",
     "output_type": "stream",
     "text": [
      "\n",
      "[notice] A new release of pip is available: 24.0 -> 24.2\n",
      "[notice] To update, run: python.exe -m pip install --upgrade pip\n"
     ]
    }
   ],
   "source": [
    "!pip install azure-storage-blob"
   ]
  },
  {
   "cell_type": "code",
   "execution_count": 18,
   "metadata": {},
   "outputs": [],
   "source": [
    "from azure.storage.blob import ContainerClient, BlobClient, BlobServiceClient"
   ]
  },
  {
   "cell_type": "code",
   "execution_count": 24,
   "metadata": {},
   "outputs": [],
   "source": [
    "# from storageAccount>Security+Networking>Access Keys\n",
    "\n",
    "connection_string = \"\"\n",
    "account_key = \"\"\n",
    "account_name = \"azurestoragedemonoel\""
   ]
  },
  {
   "cell_type": "code",
   "execution_count": 25,
   "metadata": {},
   "outputs": [],
   "source": [
    "blob_storage_client = BlobServiceClient.from_connection_string(connection_string)"
   ]
  },
  {
   "cell_type": "code",
   "execution_count": 26,
   "metadata": {},
   "outputs": [],
   "source": [
    "blob_client = BlobServiceClient(account_url=f\"https://{account_name}.blob.core.windows.net/\", credential=account_key)"
   ]
  },
  {
   "cell_type": "code",
   "execution_count": 27,
   "metadata": {},
   "outputs": [],
   "source": [
    "# access container and list blobs\n",
    "container_name = r\"azureblobcontainer\""
   ]
  },
  {
   "cell_type": "code",
   "execution_count": 38,
   "metadata": {},
   "outputs": [
    {
     "name": "stdout",
     "output_type": "stream",
     "text": [
      "Customer/customer.json\n",
      "Images/HDFS_architecture1.PNG\n"
     ]
    }
   ],
   "source": [
    "container_client = blob_storage_client.get_container_client(container_name)\n",
    "\n",
    "# list all blobs in container\n",
    "blob_list = container_client.list_blob_names()\n",
    "\n",
    "for blob in blob_list:\n",
    "    print(blob)"
   ]
  },
  {
   "cell_type": "code",
   "execution_count": 47,
   "metadata": {},
   "outputs": [
    {
     "name": "stdout",
     "output_type": "stream",
     "text": [
      "Container creation failed The specified container already exists.\n",
      "RequestId:6f093dc9-e01e-000e-27e8-083c5c000000\n",
      "Time:2024-09-17T10:04:31.2965740Z\n",
      "ErrorCode:ContainerAlreadyExists\n",
      "\n",
      "Blob created and data uploaded to blob\n",
      "\n",
      "\"blobfile.txt\" has been successfully deleted\n",
      "\n"
     ]
    }
   ],
   "source": [
    "def create_container(container_name):\n",
    "    container_client = blob_storage_client.get_container_client(container_name)\n",
    "    try:\n",
    "        container_client.create_container()\n",
    "        print(f\"Container \\\"{container_name}\\\" created\\n\")\n",
    "    except Exception as e:\n",
    "        print(f\"Container creation failed {e.message}\\n\")\n",
    "\n",
    "# uploading to blob\n",
    "def upload_to_blob(container_name, blob_name, data):\n",
    "    blob_client = blob_storage_client.get_blob_client(container=container_name, blob=blob_name)\n",
    "    try:\n",
    "       blob_client.upload_blob(data=data, overwrite=True)\n",
    "       print(\"Blob created and data uploaded to blob\\n\")\n",
    "    except Exception as e:\n",
    "        print(f\"Blob upload failed {e.message}\\n\")\n",
    "\n",
    "def delete_blob(container_name, blob_name):\n",
    "    blob_client = blob_storage_client.get_blob_client(container=container_name, blob=blob_name)\n",
    "    try:\n",
    "        blob_client.delete_blob()\n",
    "        print(f\"\\\"{blob_name}\\\" has been successfully deleted\\n\")\n",
    "    except Exception as e:\n",
    "        print(f\"Blob deletion failed: {e.message}\\n\")\n",
    "\n",
    "def download_blob(container_name, blob_name, download_file_path):\n",
    "    blob_client = blob_storage_client.get_blob_client(container=container_name, blob=blob_name)\n",
    "    try:\n",
    "        with open(download_file_path, 'wb') as file:\n",
    "            file.write(blob_client.download_blob().readall())\n",
    "    except Exception as e:\n",
    "        print(f\"Blob download failed: {e.message}\")\n",
    "\n",
    "if __name__ == \"__main__\":\n",
    "    create_container(\"azurecontainer\")\n",
    "    upload_to_blob(\"azurecontainer\", \"blobfile.txt\", \"this is an example of blob upload\")\n",
    "    download_blob(\"azurecontainer\", \"blobfile.txt\", r\"blobfile.txt\")\n",
    "    delete_blob(\"azurecontainer\", \"blobfile.txt\")"
   ]
  },
  {
   "cell_type": "code",
   "execution_count": null,
   "metadata": {},
   "outputs": [],
   "source": []
  }
 ],
 "metadata": {
  "kernelspec": {
   "display_name": "Python 3",
   "language": "python",
   "name": "python3"
  },
  "language_info": {
   "codemirror_mode": {
    "name": "ipython",
    "version": 3
   },
   "file_extension": ".py",
   "mimetype": "text/x-python",
   "name": "python",
   "nbconvert_exporter": "python",
   "pygments_lexer": "ipython3",
   "version": "3.12.3"
  }
 },
 "nbformat": 4,
 "nbformat_minor": 2
}
